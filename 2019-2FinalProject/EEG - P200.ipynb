{
 "cells": [
  {
   "cell_type": "code",
   "execution_count": 1,
   "metadata": {},
   "outputs": [],
   "source": [
    "import numpy as np\n",
    "import pandas as pd\n",
    "import matplotlib.pyplot as plt\n",
    "import seaborn as sns"
   ]
  },
  {
   "cell_type": "markdown",
   "metadata": {},
   "source": [
    "Data csv파일 받아오기"
   ]
  },
  {
   "cell_type": "code",
   "execution_count": 4,
   "metadata": {
    "scrolled": true
   },
   "outputs": [
    {
     "data": {
      "text/html": [
       "<div>\n",
       "<style scoped>\n",
       "    .dataframe tbody tr th:only-of-type {\n",
       "        vertical-align: middle;\n",
       "    }\n",
       "\n",
       "    .dataframe tbody tr th {\n",
       "        vertical-align: top;\n",
       "    }\n",
       "\n",
       "    .dataframe thead th {\n",
       "        text-align: right;\n",
       "    }\n",
       "</style>\n",
       "<table border=\"1\" class=\"dataframe\">\n",
       "  <thead>\n",
       "    <tr style=\"text-align: right;\">\n",
       "      <th></th>\n",
       "      <th>subject</th>\n",
       "      <th>trial</th>\n",
       "      <th>condition</th>\n",
       "      <th>group</th>\n",
       "      <th>gender</th>\n",
       "      <th>age</th>\n",
       "      <th>education</th>\n",
       "      <th>Fz_P200</th>\n",
       "      <th>FCz_P200</th>\n",
       "      <th>Cz_P200</th>\n",
       "      <th>FC3_P200</th>\n",
       "      <th>FC4_P200</th>\n",
       "      <th>C3_P200</th>\n",
       "      <th>C4_P200</th>\n",
       "      <th>CP3_P200</th>\n",
       "      <th>CP4_P200</th>\n",
       "    </tr>\n",
       "  </thead>\n",
       "  <tbody>\n",
       "    <tr>\n",
       "      <th>0</th>\n",
       "      <td>1</td>\n",
       "      <td>1</td>\n",
       "      <td>1</td>\n",
       "      <td>0</td>\n",
       "      <td>M</td>\n",
       "      <td>44</td>\n",
       "      <td>16.0</td>\n",
       "      <td>-4.281366</td>\n",
       "      <td>-6.658456</td>\n",
       "      <td>-14.511602</td>\n",
       "      <td>0.534968</td>\n",
       "      <td>-10.151251</td>\n",
       "      <td>1.568010</td>\n",
       "      <td>-15.546915</td>\n",
       "      <td>-2.668376</td>\n",
       "      <td>-13.597885</td>\n",
       "    </tr>\n",
       "    <tr>\n",
       "      <th>1</th>\n",
       "      <td>1</td>\n",
       "      <td>2</td>\n",
       "      <td>1</td>\n",
       "      <td>0</td>\n",
       "      <td>M</td>\n",
       "      <td>44</td>\n",
       "      <td>16.0</td>\n",
       "      <td>6.607412</td>\n",
       "      <td>9.957393</td>\n",
       "      <td>9.541910</td>\n",
       "      <td>7.680902</td>\n",
       "      <td>8.607368</td>\n",
       "      <td>1.568734</td>\n",
       "      <td>10.505954</td>\n",
       "      <td>2.997705</td>\n",
       "      <td>6.923490</td>\n",
       "    </tr>\n",
       "    <tr>\n",
       "      <th>2</th>\n",
       "      <td>1</td>\n",
       "      <td>3</td>\n",
       "      <td>1</td>\n",
       "      <td>0</td>\n",
       "      <td>M</td>\n",
       "      <td>44</td>\n",
       "      <td>16.0</td>\n",
       "      <td>11.485566</td>\n",
       "      <td>13.757878</td>\n",
       "      <td>18.368876</td>\n",
       "      <td>12.485129</td>\n",
       "      <td>13.987434</td>\n",
       "      <td>14.659761</td>\n",
       "      <td>13.410249</td>\n",
       "      <td>18.663222</td>\n",
       "      <td>16.110812</td>\n",
       "    </tr>\n",
       "    <tr>\n",
       "      <th>3</th>\n",
       "      <td>1</td>\n",
       "      <td>4</td>\n",
       "      <td>1</td>\n",
       "      <td>0</td>\n",
       "      <td>M</td>\n",
       "      <td>44</td>\n",
       "      <td>16.0</td>\n",
       "      <td>11.772395</td>\n",
       "      <td>13.603622</td>\n",
       "      <td>17.705315</td>\n",
       "      <td>12.595341</td>\n",
       "      <td>8.055663</td>\n",
       "      <td>14.441024</td>\n",
       "      <td>13.026871</td>\n",
       "      <td>17.386539</td>\n",
       "      <td>15.207634</td>\n",
       "    </tr>\n",
       "    <tr>\n",
       "      <th>4</th>\n",
       "      <td>1</td>\n",
       "      <td>5</td>\n",
       "      <td>1</td>\n",
       "      <td>0</td>\n",
       "      <td>M</td>\n",
       "      <td>44</td>\n",
       "      <td>16.0</td>\n",
       "      <td>3.829656</td>\n",
       "      <td>2.245854</td>\n",
       "      <td>3.302861</td>\n",
       "      <td>8.796280</td>\n",
       "      <td>5.865524</td>\n",
       "      <td>6.957683</td>\n",
       "      <td>5.901222</td>\n",
       "      <td>3.791339</td>\n",
       "      <td>2.497285</td>\n",
       "    </tr>\n",
       "  </tbody>\n",
       "</table>\n",
       "</div>"
      ],
      "text/plain": [
       "   subject  trial  condition  group gender  age  education    Fz_P200  \\\n",
       "0        1      1          1      0      M   44       16.0  -4.281366   \n",
       "1        1      2          1      0      M   44       16.0   6.607412   \n",
       "2        1      3          1      0      M   44       16.0  11.485566   \n",
       "3        1      4          1      0      M   44       16.0  11.772395   \n",
       "4        1      5          1      0      M   44       16.0   3.829656   \n",
       "\n",
       "    FCz_P200    Cz_P200   FC3_P200   FC4_P200    C3_P200    C4_P200  \\\n",
       "0  -6.658456 -14.511602   0.534968 -10.151251   1.568010 -15.546915   \n",
       "1   9.957393   9.541910   7.680902   8.607368   1.568734  10.505954   \n",
       "2  13.757878  18.368876  12.485129  13.987434  14.659761  13.410249   \n",
       "3  13.603622  17.705315  12.595341   8.055663  14.441024  13.026871   \n",
       "4   2.245854   3.302861   8.796280   5.865524   6.957683   5.901222   \n",
       "\n",
       "    CP3_P200   CP4_P200  \n",
       "0  -2.668376 -13.597885  \n",
       "1   2.997705   6.923490  \n",
       "2  18.663222  16.110812  \n",
       "3  17.386539  15.207634  \n",
       "4   3.791339   2.497285  "
      ]
     },
     "execution_count": 4,
     "metadata": {},
     "output_type": "execute_result"
    }
   ],
   "source": [
    "P200_df = pd.read_csv('P200.csv')\n",
    "P200_df.head()"
   ]
  },
  {
   "cell_type": "markdown",
   "metadata": {},
   "source": [
    "<칼럼명 해석>"
   ]
  },
  {
   "cell_type": "markdown",
   "metadata": {},
   "source": [
    "1. Subject: 1~81명의 피험자 (49명의 환자, 32명의 건강인)"
   ]
  },
  {
   "cell_type": "markdown",
   "metadata": {},
   "source": [
    "2. Trial: 한 실험 조건 당 100번의 반복 실험"
   ]
  },
  {
   "cell_type": "markdown",
   "metadata": {},
   "source": [
    "3. Condition: 실험 조건"
   ]
  },
  {
   "cell_type": "markdown",
   "metadata": {},
   "source": [
    "     (1) pressed a button to immediately generated a tone"
   ]
  },
  {
   "cell_type": "markdown",
   "metadata": {},
   "source": [
    "     (2) passively listened to the same tone"
   ]
  },
  {
   "cell_type": "markdown",
   "metadata": {},
   "source": [
    "     (3) pressed a button without generating a tone"
   ]
  },
  {
   "cell_type": "markdown",
   "metadata": {},
   "source": [
    "4. Group: 1- patient / 0- Healthy"
   ]
  },
  {
   "cell_type": "markdown",
   "metadata": {},
   "source": [
    "5. Gender: Male / Female"
   ]
  },
  {
   "cell_type": "markdown",
   "metadata": {},
   "source": [
    "6. Age: 나이, Education: 12- highschool / 16- college or university"
   ]
  },
  {
   "cell_type": "markdown",
   "metadata": {},
   "source": [
    "7. Channel: Fz, FCz, Cz: center channel / FC3, C3, CP3: left channel / FC4, C4, CP4: right channel"
   ]
  },
  {
   "cell_type": "code",
   "execution_count": 8,
   "metadata": {},
   "outputs": [
    {
     "name": "stdout",
     "output_type": "stream",
     "text": [
      "<class 'pandas.core.frame.DataFrame'>\n",
      "RangeIndex: 23986 entries, 0 to 23985\n",
      "Data columns (total 16 columns):\n",
      "subject      23986 non-null int64\n",
      "trial        23986 non-null int64\n",
      "condition    23986 non-null int64\n",
      "group        23986 non-null int64\n",
      "gender       23986 non-null object\n",
      "age          23986 non-null int64\n",
      "education    23986 non-null float64\n",
      "Fz_P200      23201 non-null float64\n",
      "FCz_P200     23201 non-null float64\n",
      "Cz_P200      23201 non-null float64\n",
      "FC3_P200     23201 non-null float64\n",
      "FC4_P200     23201 non-null float64\n",
      "C3_P200      23201 non-null float64\n",
      "C4_P200      23201 non-null float64\n",
      "CP3_P200     23201 non-null float64\n",
      "CP4_P200     23201 non-null float64\n",
      "dtypes: float64(10), int64(5), object(1)\n",
      "memory usage: 2.9+ MB\n"
     ]
    }
   ],
   "source": [
    "P200_df.info()"
   ]
  },
  {
   "cell_type": "markdown",
   "metadata": {},
   "source": [
    "<나이 별 사람 수>"
   ]
  },
  {
   "cell_type": "code",
   "execution_count": 9,
   "metadata": {},
   "outputs": [
    {
     "name": "stdout",
     "output_type": "stream",
     "text": [
      "23    1788\n",
      "53    1193\n",
      "22    1192\n",
      "60    1192\n",
      "56    1190\n",
      "24    1190\n",
      "25    1188\n",
      "44     894\n",
      "26     893\n",
      "49     893\n",
      "32     893\n",
      "45     893\n",
      "47     890\n",
      "41     597\n",
      "63     596\n",
      "27     596\n",
      "28     596\n",
      "46     595\n",
      "29     595\n",
      "61     595\n",
      "37     547\n",
      "33     516\n",
      "54     299\n",
      "48     298\n",
      "21     298\n",
      "38     298\n",
      "30     298\n",
      "43     298\n",
      "39     298\n",
      "40     298\n",
      "57     298\n",
      "52     297\n",
      "51     297\n",
      "19     297\n",
      "31     297\n",
      "59     297\n",
      "50     296\n",
      "Name: age, dtype: int64\n"
     ]
    }
   ],
   "source": [
    "P200_age = P200_df.age.value_counts()\n",
    "print(P200_age)"
   ]
  },
  {
   "cell_type": "markdown",
   "metadata": {},
   "source": [
    "<학력 별 사람 수>"
   ]
  },
  {
   "cell_type": "code",
   "execution_count": 10,
   "metadata": {},
   "outputs": [
    {
     "name": "stdout",
     "output_type": "stream",
     "text": [
      "16.0    7363\n",
      "13.0    4171\n",
      "12.0    3224\n",
      "14.0    2383\n",
      "15.0    1487\n",
      "18.0    1190\n",
      "17.0    1190\n",
      "9.0      893\n",
      "19.0     893\n",
      "11.5     298\n",
      "13.5     298\n",
      "11.0     298\n",
      "12.5     298\n",
      "Name: education, dtype: int64\n"
     ]
    }
   ],
   "source": [
    "P200_education = P200_df.education.value_counts()\n",
    "print(P200_education)"
   ]
  },
  {
   "cell_type": "markdown",
   "metadata": {},
   "source": [
    "<성별 사람 수>"
   ]
  },
  {
   "cell_type": "code",
   "execution_count": 11,
   "metadata": {},
   "outputs": [
    {
     "name": "stdout",
     "output_type": "stream",
     "text": [
      " M    19820\n",
      " F     4166\n",
      "Name: gender, dtype: int64\n"
     ]
    }
   ],
   "source": [
    "P200_gender = P200_df.gender.value_counts()\n",
    "print(P200_gender)"
   ]
  },
  {
   "cell_type": "markdown",
   "metadata": {},
   "source": [
    "-> 문자열을 숫자로 치환"
   ]
  },
  {
   "cell_type": "code",
   "execution_count": 12,
   "metadata": {},
   "outputs": [],
   "source": [
    "P200_df['gender']=P200_df['gender'].replace([' M',' F'],[0,1])"
   ]
  },
  {
   "cell_type": "markdown",
   "metadata": {},
   "source": [
    "->환자와 건강인 막대그래프"
   ]
  },
  {
   "cell_type": "code",
   "execution_count": 13,
   "metadata": {
    "scrolled": true
   },
   "outputs": [
    {
     "data": {
      "text/plain": [
       "<matplotlib.axes._subplots.AxesSubplot at 0x1f874707d30>"
      ]
     },
     "execution_count": 13,
     "metadata": {},
     "output_type": "execute_result"
    },
    {
     "data": {
      "image/png": "[encoded data removed]",
      "text/plain": [
       "<Figure size 432x288 with 1 Axes>"
      ]
     },
     "metadata": {
      "needs_background": "light"
     },
     "output_type": "display_data"
    }
   ],
   "source": [
    "sns.countplot('group', data=P200_df)"
   ]
  },
  {
   "cell_type": "markdown",
   "metadata": {},
   "source": [
    "-> 조현병과 성별, 나이, 교육 수준의 상관관계 표시도"
   ]
  },
  {
   "cell_type": "code",
   "execution_count": 14,
   "metadata": {},
   "outputs": [
    {
     "data": {
      "text/plain": [
       "<matplotlib.axes._subplots.AxesSubplot at 0x1f8798835c0>"
      ]
     },
     "execution_count": 14,
     "metadata": {},
     "output_type": "execute_result"
    },
    {
     "data": {
      "image/png": "[encoded data removed]",
      "text/plain": [
       "<Figure size 432x288 with 2 Axes>"
      ]
     },
     "metadata": {
      "needs_background": "light"
     },
     "output_type": "display_data"
    }
   ],
   "source": [
    "sns.heatmap(\n",
    "    P200_df[[\"group\",\"gender\",\"age\",\"education\"]].corr(),\n",
    "    annot=True,\n",
    "    fmt=\".2f\",\n",
    "    cmap=\"coolwarm\"\n",
    ")"
   ]
  },
  {
   "cell_type": "markdown",
   "metadata": {},
   "source": [
    "-> 데이터에서 null값(이상값) 분석"
   ]
  },
  {
   "cell_type": "code",
   "execution_count": 17,
   "metadata": {},
   "outputs": [
    {
     "data": {
      "text/plain": [
       "subject        0\n",
       "trial          0\n",
       "condition      0\n",
       "group          0\n",
       "gender         0\n",
       "age            0\n",
       "education      0\n",
       "Fz_P200      785\n",
       "FCz_P200     785\n",
       "Cz_P200      785\n",
       "FC3_P200     785\n",
       "FC4_P200     785\n",
       "C3_P200      785\n",
       "C4_P200      785\n",
       "CP3_P200     785\n",
       "CP4_P200     785\n",
       "dtype: int64"
      ]
     },
     "execution_count": 17,
     "metadata": {},
     "output_type": "execute_result"
    }
   ],
   "source": [
    "P200_df.isnull().sum()"
   ]
  },
  {
   "cell_type": "markdown",
   "metadata": {},
   "source": [
    "-> 전체 데이터에서 결측값 퍼센티지"
   ]
  },
  {
   "cell_type": "code",
   "execution_count": 18,
   "metadata": {},
   "outputs": [
    {
     "data": {
      "text/plain": [
       "3.272742433085967"
      ]
     },
     "execution_count": 18,
     "metadata": {},
     "output_type": "execute_result"
    }
   ],
   "source": [
    "P200_df['Fz_P200'].isnull().sum() / len(P200_df['Fz_P200'])*100"
   ]
  },
  {
   "cell_type": "markdown",
   "metadata": {},
   "source": [
    "-> 결측값 제거"
   ]
  },
  {
   "cell_type": "code",
   "execution_count": 19,
   "metadata": {},
   "outputs": [],
   "source": [
    "P200_df = P200_df.dropna(how='any', axis=0)"
   ]
  },
  {
   "cell_type": "markdown",
   "metadata": {},
   "source": [
    "-> 결측값 제거 후 결과"
   ]
  },
  {
   "cell_type": "code",
   "execution_count": 20,
   "metadata": {},
   "outputs": [
    {
     "data": {
      "text/plain": [
       "subject      0\n",
       "trial        0\n",
       "condition    0\n",
       "group        0\n",
       "gender       0\n",
       "age          0\n",
       "education    0\n",
       "Fz_P200      0\n",
       "FCz_P200     0\n",
       "Cz_P200      0\n",
       "FC3_P200     0\n",
       "FC4_P200     0\n",
       "C3_P200      0\n",
       "C4_P200      0\n",
       "CP3_P200     0\n",
       "CP4_P200     0\n",
       "dtype: int64"
      ]
     },
     "execution_count": 20,
     "metadata": {},
     "output_type": "execute_result"
    }
   ],
   "source": [
    "P200_df.isnull().sum()"
   ]
  },
  {
   "cell_type": "markdown",
   "metadata": {},
   "source": [
    "->결측값 제거 후 재분석한 그래프"
   ]
  },
  {
   "cell_type": "code",
   "execution_count": 21,
   "metadata": {},
   "outputs": [
    {
     "data": {
      "text/plain": [
       "<matplotlib.axes._subplots.AxesSubplot at 0x1f879e2a320>"
      ]
     },
     "execution_count": 21,
     "metadata": {},
     "output_type": "execute_result"
    },
    {
     "data": {
      "image/png": "[encoded data removed]",
      "text/plain": [
       "<Figure size 432x288 with 1 Axes>"
      ]
     },
     "metadata": {
      "needs_background": "light"
     },
     "output_type": "display_data"
    }
   ],
   "source": [
    "sns.countplot('group', data=P200_df)"
   ]
  },
  {
   "cell_type": "code",
   "execution_count": 22,
   "metadata": {},
   "outputs": [
    {
     "data": {
      "text/plain": [
       "<matplotlib.axes._subplots.AxesSubplot at 0x1f879897470>"
      ]
     },
     "execution_count": 22,
     "metadata": {},
     "output_type": "execute_result"
    },
    {
     "data": {
      "image/png": "[encoded data removed]",
      "text/plain": [
       "<Figure size 432x288 with 2 Axes>"
      ]
     },
     "metadata": {
      "needs_background": "light"
     },
     "output_type": "display_data"
    }
   ],
   "source": [
    "sns.heatmap(\n",
    "    P200_df[[\"group\",\"gender\",\"age\",\"education\"]].corr(),\n",
    "    annot=True,\n",
    "    fmt=\".2f\",\n",
    "    cmap=\"coolwarm\"\n",
    ")"
   ]
  },
  {
   "cell_type": "markdown",
   "metadata": {},
   "source": [
    "-> 바이올린형 그래프로 본 성별-조현병, 나이-조현병의 상관관계"
   ]
  },
  {
   "cell_type": "code",
   "execution_count": 23,
   "metadata": {},
   "outputs": [
    {
     "data": {
      "text/plain": [
       "<matplotlib.axes._subplots.AxesSubplot at 0x1f87a21c390>"
      ]
     },
     "execution_count": 23,
     "metadata": {},
     "output_type": "execute_result"
    },
    {
     "data": {
      "image/png": "[encoded data removed]",
      "text/plain": [
       "<Figure size 432x288 with 1 Axes>"
      ]
     },
     "metadata": {
      "needs_background": "light"
     },
     "output_type": "display_data"
    }
   ],
   "source": [
    "sns.violinplot('gender', 'age', hue='group', data=P200_df, split=True, inner=\"quartile\")"
   ]
  },
  {
   "cell_type": "markdown",
   "metadata": {},
   "source": [
    "-> 바이올린형 그래프로 본 성별-조현병과 학력-조현병의 상관관계"
   ]
  },
  {
   "cell_type": "code",
   "execution_count": 24,
   "metadata": {},
   "outputs": [
    {
     "data": {
      "text/plain": [
       "<matplotlib.axes._subplots.AxesSubplot at 0x1f87a299828>"
      ]
     },
     "execution_count": 24,
     "metadata": {},
     "output_type": "execute_result"
    },
    {
     "data": {
      "image/png": "[encoded data removed]",
      "text/plain": [
       "<Figure size 432x288 with 1 Axes>"
      ]
     },
     "metadata": {
      "needs_background": "light"
     },
     "output_type": "display_data"
    }
   ],
   "source": [
    "sns.violinplot('gender', 'education', hue='group', data=P200_df, split=True, inner=\"quartile\")"
   ]
  },
  {
   "cell_type": "code",
   "execution_count": 25,
   "metadata": {},
   "outputs": [
    {
     "data": {
      "text/plain": [
       "<matplotlib.axes._subplots.AxesSubplot at 0x1f87a328518>"
      ]
     },
     "execution_count": 25,
     "metadata": {},
     "output_type": "execute_result"
    },
    {
     "data": {
      "image/png": "[encoded data removed]",
      "text/plain": [
       "<Figure size 432x288 with 1 Axes>"
      ]
     },
     "metadata": {
      "needs_background": "light"
     },
     "output_type": "display_data"
    }
   ],
   "source": [
    "##이 그래프는 필요 없을 것 같음..\n",
    "sns.violinplot('education','age', hue='group', data=P200_df, split=True, inner=\"quartile\")"
   ]
  },
  {
   "cell_type": "markdown",
   "metadata": {},
   "source": [
    "-> 나이와 학력에 따른 조현병 환자 및 건강인의 분포도"
   ]
  },
  {
   "cell_type": "code",
   "execution_count": 26,
   "metadata": {},
   "outputs": [
    {
     "data": {
      "image/png": "[encoded data removed]",
      "text/plain": [
       "<Figure size 432x288 with 1 Axes>"
      ]
     },
     "metadata": {
      "needs_background": "light"
     },
     "output_type": "display_data"
    }
   ],
   "source": [
    "sns.scatterplot(x='age', y='education', hue='group', style='group', s=100, data=P200_df)\n",
    "plt.show()"
   ]
  },
  {
   "cell_type": "code",
   "execution_count": 40,
   "metadata": {},
   "outputs": [],
   "source": [
    "from pprint import pprint\n",
    "import numpy as np\n",
    "import pandas as pd\n",
    "import matplotlib.pyplot as plt\n",
    "from sklearn.linear_model import LogisticRegression\n",
    "from sklearn.neighbors import KNeighborsClassifier\n",
    "from sklearn.naive_bayes import GaussianNB\n",
    "from sklearn.tree import DecisionTreeClassifier\n",
    "from sklearn.ensemble import RandomForestClassifier\n",
    "from sklearn.model_selection import train_test_split\n",
    "from sklearn.metrics import roc_curve, auc"
   ]
  },
  {
   "cell_type": "markdown",
   "metadata": {},
   "source": [
    "-> 데이터 분리: X-age, gender, education, channels / Y-group(조현병, 건강인)"
   ]
  },
  {
   "cell_type": "code",
   "execution_count": 41,
   "metadata": {},
   "outputs": [],
   "source": [
    "col_names = P200_df.columns.values\n",
    "X = P200_df[col_names[4:]]\n",
    "Y = P200_df[col_names[3]]"
   ]
  },
  {
   "cell_type": "code",
   "execution_count": 42,
   "metadata": {},
   "outputs": [
    {
     "data": {
      "text/html": [
       "<div>\n",
       "<style scoped>\n",
       "    .dataframe tbody tr th:only-of-type {\n",
       "        vertical-align: middle;\n",
       "    }\n",
       "\n",
       "    .dataframe tbody tr th {\n",
       "        vertical-align: top;\n",
       "    }\n",
       "\n",
       "    .dataframe thead th {\n",
       "        text-align: right;\n",
       "    }\n",
       "</style>\n",
       "<table border=\"1\" class=\"dataframe\">\n",
       "  <thead>\n",
       "    <tr style=\"text-align: right;\">\n",
       "      <th></th>\n",
       "      <th>gender</th>\n",
       "      <th>age</th>\n",
       "      <th>education</th>\n",
       "      <th>Fz_P200</th>\n",
       "      <th>FCz_P200</th>\n",
       "      <th>Cz_P200</th>\n",
       "      <th>FC3_P200</th>\n",
       "      <th>FC4_P200</th>\n",
       "      <th>C3_P200</th>\n",
       "      <th>C4_P200</th>\n",
       "      <th>CP3_P200</th>\n",
       "      <th>CP4_P200</th>\n",
       "    </tr>\n",
       "  </thead>\n",
       "  <tbody>\n",
       "    <tr>\n",
       "      <th>0</th>\n",
       "      <td>0</td>\n",
       "      <td>44</td>\n",
       "      <td>16.0</td>\n",
       "      <td>-4.281366</td>\n",
       "      <td>-6.658456</td>\n",
       "      <td>-14.511602</td>\n",
       "      <td>0.534968</td>\n",
       "      <td>-10.151251</td>\n",
       "      <td>1.568010</td>\n",
       "      <td>-15.546915</td>\n",
       "      <td>-2.668376</td>\n",
       "      <td>-13.597885</td>\n",
       "    </tr>\n",
       "    <tr>\n",
       "      <th>1</th>\n",
       "      <td>0</td>\n",
       "      <td>44</td>\n",
       "      <td>16.0</td>\n",
       "      <td>6.607412</td>\n",
       "      <td>9.957393</td>\n",
       "      <td>9.541910</td>\n",
       "      <td>7.680902</td>\n",
       "      <td>8.607368</td>\n",
       "      <td>1.568734</td>\n",
       "      <td>10.505954</td>\n",
       "      <td>2.997705</td>\n",
       "      <td>6.923490</td>\n",
       "    </tr>\n",
       "    <tr>\n",
       "      <th>2</th>\n",
       "      <td>0</td>\n",
       "      <td>44</td>\n",
       "      <td>16.0</td>\n",
       "      <td>11.485566</td>\n",
       "      <td>13.757878</td>\n",
       "      <td>18.368876</td>\n",
       "      <td>12.485129</td>\n",
       "      <td>13.987434</td>\n",
       "      <td>14.659761</td>\n",
       "      <td>13.410249</td>\n",
       "      <td>18.663222</td>\n",
       "      <td>16.110812</td>\n",
       "    </tr>\n",
       "    <tr>\n",
       "      <th>3</th>\n",
       "      <td>0</td>\n",
       "      <td>44</td>\n",
       "      <td>16.0</td>\n",
       "      <td>11.772395</td>\n",
       "      <td>13.603622</td>\n",
       "      <td>17.705315</td>\n",
       "      <td>12.595341</td>\n",
       "      <td>8.055663</td>\n",
       "      <td>14.441024</td>\n",
       "      <td>13.026871</td>\n",
       "      <td>17.386539</td>\n",
       "      <td>15.207634</td>\n",
       "    </tr>\n",
       "    <tr>\n",
       "      <th>4</th>\n",
       "      <td>0</td>\n",
       "      <td>44</td>\n",
       "      <td>16.0</td>\n",
       "      <td>3.829656</td>\n",
       "      <td>2.245854</td>\n",
       "      <td>3.302861</td>\n",
       "      <td>8.796280</td>\n",
       "      <td>5.865524</td>\n",
       "      <td>6.957683</td>\n",
       "      <td>5.901222</td>\n",
       "      <td>3.791339</td>\n",
       "      <td>2.497285</td>\n",
       "    </tr>\n",
       "  </tbody>\n",
       "</table>\n",
       "</div>"
      ],
      "text/plain": [
       "   gender  age  education    Fz_P200   FCz_P200    Cz_P200   FC3_P200  \\\n",
       "0       0   44       16.0  -4.281366  -6.658456 -14.511602   0.534968   \n",
       "1       0   44       16.0   6.607412   9.957393   9.541910   7.680902   \n",
       "2       0   44       16.0  11.485566  13.757878  18.368876  12.485129   \n",
       "3       0   44       16.0  11.772395  13.603622  17.705315  12.595341   \n",
       "4       0   44       16.0   3.829656   2.245854   3.302861   8.796280   \n",
       "\n",
       "    FC4_P200    C3_P200    C4_P200   CP3_P200   CP4_P200  \n",
       "0 -10.151251   1.568010 -15.546915  -2.668376 -13.597885  \n",
       "1   8.607368   1.568734  10.505954   2.997705   6.923490  \n",
       "2  13.987434  14.659761  13.410249  18.663222  16.110812  \n",
       "3   8.055663  14.441024  13.026871  17.386539  15.207634  \n",
       "4   5.865524   6.957683   5.901222   3.791339   2.497285  "
      ]
     },
     "execution_count": 42,
     "metadata": {},
     "output_type": "execute_result"
    }
   ],
   "source": [
    "X.head(5)"
   ]
  },
  {
   "cell_type": "code",
   "execution_count": 43,
   "metadata": {},
   "outputs": [
    {
     "data": {
      "text/plain": [
       "0    0\n",
       "1    0\n",
       "2    0\n",
       "3    0\n",
       "4    0\n",
       "Name: group, dtype: int64"
      ]
     },
     "execution_count": 43,
     "metadata": {},
     "output_type": "execute_result"
    }
   ],
   "source": [
    "Y.head(5)"
   ]
  },
  {
   "cell_type": "markdown",
   "metadata": {},
   "source": [
    "->train, validation, test data set 분리"
   ]
  },
  {
   "cell_type": "code",
   "execution_count": 44,
   "metadata": {},
   "outputs": [],
   "source": [
    "def train_val_test_split(X, Y, val_size=0.3, test_size=0.2, random_state=123):\n",
    "    X_train, X_test, Y_train, Y_test = train_test_split(X, Y, \n",
    "                                                        test_size=test_size, \n",
    "                                                        random_state=random_state)\n",
    "    val_size_rev = val_size / (1 - test_size)\n",
    "    X_train, X_val, Y_train, Y_val = train_test_split(X_train, Y_train,\n",
    "                                                      test_size=val_size_rev,\n",
    "                                                      random_state=random_state)\n",
    "    return X_train, X_val, X_test, Y_train, Y_val, Y_test"
   ]
  },
  {
   "cell_type": "code",
   "execution_count": 45,
   "metadata": {},
   "outputs": [],
   "source": [
    "X_train, X_val, X_test, Y_train, Y_val, Y_test = train_val_test_split(X, Y,\n",
    "                                                                      val_size=0.3,\n",
    "                                                                      test_size=0.2,\n",
    "                                                                      random_state=123)"
   ]
  },
  {
   "cell_type": "code",
   "execution_count": 46,
   "metadata": {},
   "outputs": [
    {
     "name": "stdout",
     "output_type": "stream",
     "text": [
      "(11600, 12)\n",
      "(6960, 12)\n",
      "(4641, 12)\n"
     ]
    }
   ],
   "source": [
    "print(X_train.shape)\n",
    "print(X_val.shape)\n",
    "print(X_test.shape)"
   ]
  },
  {
   "cell_type": "markdown",
   "metadata": {},
   "source": [
    "-> Logistic Regression을 위한 다양한 가중치"
   ]
  },
  {
   "cell_type": "code",
   "execution_count": 47,
   "metadata": {},
   "outputs": [],
   "source": [
    "penalty_set = ['l1', 'l2']\n",
    "C_set = [0.1, 1, 10, 1e2, 1e3, 1e4, 1e5, 1e6]"
   ]
  },
  {
   "cell_type": "code",
   "execution_count": 48,
   "metadata": {},
   "outputs": [
    {
     "name": "stderr",
     "output_type": "stream",
     "text": [
      "C:\\Python\\lib\\site-packages\\sklearn\\linear_model\\logistic.py:432: FutureWarning: Default solver will be changed to 'lbfgs' in 0.22. Specify a solver to silence this warning.\n",
      "  FutureWarning)\n",
      "C:\\Python\\lib\\site-packages\\sklearn\\linear_model\\logistic.py:432: FutureWarning: Default solver will be changed to 'lbfgs' in 0.22. Specify a solver to silence this warning.\n",
      "  FutureWarning)\n",
      "C:\\Python\\lib\\site-packages\\sklearn\\linear_model\\logistic.py:432: FutureWarning: Default solver will be changed to 'lbfgs' in 0.22. Specify a solver to silence this warning.\n",
      "  FutureWarning)\n",
      "C:\\Python\\lib\\site-packages\\sklearn\\linear_model\\logistic.py:432: FutureWarning: Default solver will be changed to 'lbfgs' in 0.22. Specify a solver to silence this warning.\n",
      "  FutureWarning)\n",
      "C:\\Python\\lib\\site-packages\\sklearn\\linear_model\\logistic.py:432: FutureWarning: Default solver will be changed to 'lbfgs' in 0.22. Specify a solver to silence this warning.\n",
      "  FutureWarning)\n",
      "C:\\Python\\lib\\site-packages\\sklearn\\linear_model\\logistic.py:432: FutureWarning: Default solver will be changed to 'lbfgs' in 0.22. Specify a solver to silence this warning.\n",
      "  FutureWarning)\n",
      "C:\\Python\\lib\\site-packages\\sklearn\\linear_model\\logistic.py:432: FutureWarning: Default solver will be changed to 'lbfgs' in 0.22. Specify a solver to silence this warning.\n",
      "  FutureWarning)\n",
      "C:\\Python\\lib\\site-packages\\sklearn\\linear_model\\logistic.py:432: FutureWarning: Default solver will be changed to 'lbfgs' in 0.22. Specify a solver to silence this warning.\n",
      "  FutureWarning)\n",
      "C:\\Python\\lib\\site-packages\\sklearn\\linear_model\\logistic.py:432: FutureWarning: Default solver will be changed to 'lbfgs' in 0.22. Specify a solver to silence this warning.\n",
      "  FutureWarning)\n",
      "C:\\Python\\lib\\site-packages\\sklearn\\linear_model\\logistic.py:432: FutureWarning: Default solver will be changed to 'lbfgs' in 0.22. Specify a solver to silence this warning.\n",
      "  FutureWarning)\n",
      "C:\\Python\\lib\\site-packages\\sklearn\\linear_model\\logistic.py:432: FutureWarning: Default solver will be changed to 'lbfgs' in 0.22. Specify a solver to silence this warning.\n",
      "  FutureWarning)\n",
      "C:\\Python\\lib\\site-packages\\sklearn\\linear_model\\logistic.py:432: FutureWarning: Default solver will be changed to 'lbfgs' in 0.22. Specify a solver to silence this warning.\n",
      "  FutureWarning)\n",
      "C:\\Python\\lib\\site-packages\\sklearn\\linear_model\\logistic.py:432: FutureWarning: Default solver will be changed to 'lbfgs' in 0.22. Specify a solver to silence this warning.\n",
      "  FutureWarning)\n",
      "C:\\Python\\lib\\site-packages\\sklearn\\linear_model\\logistic.py:432: FutureWarning: Default solver will be changed to 'lbfgs' in 0.22. Specify a solver to silence this warning.\n",
      "  FutureWarning)\n",
      "C:\\Python\\lib\\site-packages\\sklearn\\linear_model\\logistic.py:432: FutureWarning: Default solver will be changed to 'lbfgs' in 0.22. Specify a solver to silence this warning.\n",
      "  FutureWarning)\n",
      "C:\\Python\\lib\\site-packages\\sklearn\\linear_model\\logistic.py:432: FutureWarning: Default solver will be changed to 'lbfgs' in 0.22. Specify a solver to silence this warning.\n",
      "  FutureWarning)\n"
     ]
    }
   ],
   "source": [
    "result = []\n",
    "for penalty in penalty_set:\n",
    "    for C in C_set:\n",
    "        model = LogisticRegression(penalty=penalty, C=C, class_weight='balanced')\n",
    "        model = model.fit(X_train, Y_train)\n",
    "#         Y_val_score = model.decision_function(X_val)\n",
    "        Y_val_score = model.predict_proba(X_val)[:, 1]\n",
    "        fpr, tpr, _ = roc_curve(Y_val, Y_val_score)\n",
    "        result.append((model, penalty, C, auc(fpr, tpr)))"
   ]
  },
  {
   "cell_type": "code",
   "execution_count": 49,
   "metadata": {
    "scrolled": false
   },
   "outputs": [
    {
     "data": {
      "text/plain": [
       "[(LogisticRegression(C=0.1, class_weight='balanced', dual=False,\n",
       "                     fit_intercept=True, intercept_scaling=1, l1_ratio=None,\n",
       "                     max_iter=100, multi_class='warn', n_jobs=None, penalty='l1',\n",
       "                     random_state=None, solver='warn', tol=0.0001, verbose=0,\n",
       "                     warm_start=False), 'l1', 0.1, 0.8175943328567289),\n",
       " (LogisticRegression(C=1, class_weight='balanced', dual=False, fit_intercept=True,\n",
       "                     intercept_scaling=1, l1_ratio=None, max_iter=100,\n",
       "                     multi_class='warn', n_jobs=None, penalty='l1',\n",
       "                     random_state=None, solver='warn', tol=0.0001, verbose=0,\n",
       "                     warm_start=False),\n",
       "  'l1',\n",
       "  1,\n",
       "  0.8175498474891882),\n",
       " (LogisticRegression(C=10, class_weight='balanced', dual=False,\n",
       "                     fit_intercept=True, intercept_scaling=1, l1_ratio=None,\n",
       "                     max_iter=100, multi_class='warn', n_jobs=None, penalty='l1',\n",
       "                     random_state=None, solver='warn', tol=0.0001, verbose=0,\n",
       "                     warm_start=False), 'l1', 10, 0.8175478684496265),\n",
       " (LogisticRegression(C=100.0, class_weight='balanced', dual=False,\n",
       "                     fit_intercept=True, intercept_scaling=1, l1_ratio=None,\n",
       "                     max_iter=100, multi_class='warn', n_jobs=None, penalty='l1',\n",
       "                     random_state=None, solver='warn', tol=0.0001, verbose=0,\n",
       "                     warm_start=False), 'l1', 100.0, 0.8175453731388747),\n",
       " (LogisticRegression(C=1000.0, class_weight='balanced', dual=False,\n",
       "                     fit_intercept=True, intercept_scaling=1, l1_ratio=None,\n",
       "                     max_iter=100, multi_class='warn', n_jobs=None, penalty='l1',\n",
       "                     random_state=None, solver='warn', tol=0.0001, verbose=0,\n",
       "                     warm_start=False), 'l1', 1000.0, 0.8175441685060979),\n",
       " (LogisticRegression(C=10000.0, class_weight='balanced', dual=False,\n",
       "                     fit_intercept=True, intercept_scaling=1, l1_ratio=None,\n",
       "                     max_iter=100, multi_class='warn', n_jobs=None, penalty='l1',\n",
       "                     random_state=None, solver='warn', tol=0.0001, verbose=0,\n",
       "                     warm_start=False), 'l1', 10000.0, 0.8175451150032796),\n",
       " (LogisticRegression(C=100000.0, class_weight='balanced', dual=False,\n",
       "                     fit_intercept=True, intercept_scaling=1, l1_ratio=None,\n",
       "                     max_iter=100, multi_class='warn', n_jobs=None, penalty='l1',\n",
       "                     random_state=None, solver='warn', tol=0.0001, verbose=0,\n",
       "                     warm_start=False), 'l1', 100000.0, 0.8175446847772879),\n",
       " (LogisticRegression(C=1000000.0, class_weight='balanced', dual=False,\n",
       "                     fit_intercept=True, intercept_scaling=1, l1_ratio=None,\n",
       "                     max_iter=100, multi_class='warn', n_jobs=None, penalty='l1',\n",
       "                     random_state=None, solver='warn', tol=0.0001, verbose=0,\n",
       "                     warm_start=False), 'l1', 1000000.0, 0.8175448568676846),\n",
       " (LogisticRegression(C=0.1, class_weight='balanced', dual=False,\n",
       "                     fit_intercept=True, intercept_scaling=1, l1_ratio=None,\n",
       "                     max_iter=100, multi_class='warn', n_jobs=None, penalty='l2',\n",
       "                     random_state=None, solver='warn', tol=0.0001, verbose=0,\n",
       "                     warm_start=False), 'l2', 0.1, 0.8166063618894114),\n",
       " (LogisticRegression(C=1, class_weight='balanced', dual=False, fit_intercept=True,\n",
       "                     intercept_scaling=1, l1_ratio=None, max_iter=100,\n",
       "                     multi_class='warn', n_jobs=None, penalty='l2',\n",
       "                     random_state=None, solver='warn', tol=0.0001, verbose=0,\n",
       "                     warm_start=False), 'l2', 1, 0.8175851260205069),\n",
       " (LogisticRegression(C=10, class_weight='balanced', dual=False,\n",
       "                     fit_intercept=True, intercept_scaling=1, l1_ratio=None,\n",
       "                     max_iter=100, multi_class='warn', n_jobs=None, penalty='l2',\n",
       "                     random_state=None, solver='warn', tol=0.0001, verbose=0,\n",
       "                     warm_start=False), 'l2', 10, 0.8175478684496265),\n",
       " (LogisticRegression(C=100.0, class_weight='balanced', dual=False,\n",
       "                     fit_intercept=True, intercept_scaling=1, l1_ratio=None,\n",
       "                     max_iter=100, multi_class='warn', n_jobs=None, penalty='l2',\n",
       "                     random_state=None, solver='warn', tol=0.0001, verbose=0,\n",
       "                     warm_start=False), 'l2', 100.0, 0.8175448568676846),\n",
       " (LogisticRegression(C=1000.0, class_weight='balanced', dual=False,\n",
       "                     fit_intercept=True, intercept_scaling=1, l1_ratio=None,\n",
       "                     max_iter=100, multi_class='warn', n_jobs=None, penalty='l2',\n",
       "                     random_state=None, solver='warn', tol=0.0001, verbose=0,\n",
       "                     warm_start=False), 'l2', 1000.0, 0.8175449429128828),\n",
       " (LogisticRegression(C=10000.0, class_weight='balanced', dual=False,\n",
       "                     fit_intercept=True, intercept_scaling=1, l1_ratio=None,\n",
       "                     max_iter=100, multi_class='warn', n_jobs=None, penalty='l2',\n",
       "                     random_state=None, solver='warn', tol=0.0001, verbose=0,\n",
       "                     warm_start=False), 'l2', 10000.0, 0.8175446847772879),\n",
       " (LogisticRegression(C=100000.0, class_weight='balanced', dual=False,\n",
       "                     fit_intercept=True, intercept_scaling=1, l1_ratio=None,\n",
       "                     max_iter=100, multi_class='warn', n_jobs=None, penalty='l2',\n",
       "                     random_state=None, solver='warn', tol=0.0001, verbose=0,\n",
       "                     warm_start=False), 'l2', 100000.0, 0.8175447708224862),\n",
       " (LogisticRegression(C=1000000.0, class_weight='balanced', dual=False,\n",
       "                     fit_intercept=True, intercept_scaling=1, l1_ratio=None,\n",
       "                     max_iter=100, multi_class='warn', n_jobs=None, penalty='l2',\n",
       "                     random_state=None, solver='warn', tol=0.0001, verbose=0,\n",
       "                     warm_start=False), 'l2', 1000000.0, 0.8175447708224862)]"
      ]
     },
     "execution_count": 49,
     "metadata": {},
     "output_type": "execute_result"
    }
   ],
   "source": [
    "result"
   ]
  },
  {
   "cell_type": "markdown",
   "metadata": {},
   "source": [
    "-> 회귀 분석 결과를 정렬 후, 최상의 정확도를 갖는 모델 찾기"
   ]
  },
  {
   "cell_type": "code",
   "execution_count": 50,
   "metadata": {},
   "outputs": [],
   "source": [
    "logreg_result = sorted(result, key=lambda x: x[3], reverse=True)"
   ]
  },
  {
   "cell_type": "code",
   "execution_count": 51,
   "metadata": {
    "scrolled": false
   },
   "outputs": [
    {
     "data": {
      "text/plain": [
       "[(LogisticRegression(C=0.1, class_weight='balanced', dual=False,\n",
       "                     fit_intercept=True, intercept_scaling=1, l1_ratio=None,\n",
       "                     max_iter=100, multi_class='warn', n_jobs=None, penalty='l1',\n",
       "                     random_state=None, solver='warn', tol=0.0001, verbose=0,\n",
       "                     warm_start=False), 'l1', 0.1, 0.8175943328567289),\n",
       " (LogisticRegression(C=1, class_weight='balanced', dual=False, fit_intercept=True,\n",
       "                     intercept_scaling=1, l1_ratio=None, max_iter=100,\n",
       "                     multi_class='warn', n_jobs=None, penalty='l2',\n",
       "                     random_state=None, solver='warn', tol=0.0001, verbose=0,\n",
       "                     warm_start=False),\n",
       "  'l2',\n",
       "  1,\n",
       "  0.8175851260205069),\n",
       " (LogisticRegression(C=1, class_weight='balanced', dual=False, fit_intercept=True,\n",
       "                     intercept_scaling=1, l1_ratio=None, max_iter=100,\n",
       "                     multi_class='warn', n_jobs=None, penalty='l1',\n",
       "                     random_state=None, solver='warn', tol=0.0001, verbose=0,\n",
       "                     warm_start=False), 'l1', 1, 0.8175498474891882),\n",
       " (LogisticRegression(C=10, class_weight='balanced', dual=False,\n",
       "                     fit_intercept=True, intercept_scaling=1, l1_ratio=None,\n",
       "                     max_iter=100, multi_class='warn', n_jobs=None, penalty='l1',\n",
       "                     random_state=None, solver='warn', tol=0.0001, verbose=0,\n",
       "                     warm_start=False), 'l1', 10, 0.8175478684496265),\n",
       " (LogisticRegression(C=10, class_weight='balanced', dual=False,\n",
       "                     fit_intercept=True, intercept_scaling=1, l1_ratio=None,\n",
       "                     max_iter=100, multi_class='warn', n_jobs=None, penalty='l2',\n",
       "                     random_state=None, solver='warn', tol=0.0001, verbose=0,\n",
       "                     warm_start=False), 'l2', 10, 0.8175478684496265),\n",
       " (LogisticRegression(C=100.0, class_weight='balanced', dual=False,\n",
       "                     fit_intercept=True, intercept_scaling=1, l1_ratio=None,\n",
       "                     max_iter=100, multi_class='warn', n_jobs=None, penalty='l1',\n",
       "                     random_state=None, solver='warn', tol=0.0001, verbose=0,\n",
       "                     warm_start=False), 'l1', 100.0, 0.8175453731388747),\n",
       " (LogisticRegression(C=10000.0, class_weight='balanced', dual=False,\n",
       "                     fit_intercept=True, intercept_scaling=1, l1_ratio=None,\n",
       "                     max_iter=100, multi_class='warn', n_jobs=None, penalty='l1',\n",
       "                     random_state=None, solver='warn', tol=0.0001, verbose=0,\n",
       "                     warm_start=False), 'l1', 10000.0, 0.8175451150032796),\n",
       " (LogisticRegression(C=1000.0, class_weight='balanced', dual=False,\n",
       "                     fit_intercept=True, intercept_scaling=1, l1_ratio=None,\n",
       "                     max_iter=100, multi_class='warn', n_jobs=None, penalty='l2',\n",
       "                     random_state=None, solver='warn', tol=0.0001, verbose=0,\n",
       "                     warm_start=False), 'l2', 1000.0, 0.8175449429128828),\n",
       " (LogisticRegression(C=1000000.0, class_weight='balanced', dual=False,\n",
       "                     fit_intercept=True, intercept_scaling=1, l1_ratio=None,\n",
       "                     max_iter=100, multi_class='warn', n_jobs=None, penalty='l1',\n",
       "                     random_state=None, solver='warn', tol=0.0001, verbose=0,\n",
       "                     warm_start=False), 'l1', 1000000.0, 0.8175448568676846),\n",
       " (LogisticRegression(C=100.0, class_weight='balanced', dual=False,\n",
       "                     fit_intercept=True, intercept_scaling=1, l1_ratio=None,\n",
       "                     max_iter=100, multi_class='warn', n_jobs=None, penalty='l2',\n",
       "                     random_state=None, solver='warn', tol=0.0001, verbose=0,\n",
       "                     warm_start=False), 'l2', 100.0, 0.8175448568676846),\n",
       " (LogisticRegression(C=100000.0, class_weight='balanced', dual=False,\n",
       "                     fit_intercept=True, intercept_scaling=1, l1_ratio=None,\n",
       "                     max_iter=100, multi_class='warn', n_jobs=None, penalty='l2',\n",
       "                     random_state=None, solver='warn', tol=0.0001, verbose=0,\n",
       "                     warm_start=False), 'l2', 100000.0, 0.8175447708224862),\n",
       " (LogisticRegression(C=1000000.0, class_weight='balanced', dual=False,\n",
       "                     fit_intercept=True, intercept_scaling=1, l1_ratio=None,\n",
       "                     max_iter=100, multi_class='warn', n_jobs=None, penalty='l2',\n",
       "                     random_state=None, solver='warn', tol=0.0001, verbose=0,\n",
       "                     warm_start=False), 'l2', 1000000.0, 0.8175447708224862),\n",
       " (LogisticRegression(C=100000.0, class_weight='balanced', dual=False,\n",
       "                     fit_intercept=True, intercept_scaling=1, l1_ratio=None,\n",
       "                     max_iter=100, multi_class='warn', n_jobs=None, penalty='l1',\n",
       "                     random_state=None, solver='warn', tol=0.0001, verbose=0,\n",
       "                     warm_start=False), 'l1', 100000.0, 0.8175446847772879),\n",
       " (LogisticRegression(C=10000.0, class_weight='balanced', dual=False,\n",
       "                     fit_intercept=True, intercept_scaling=1, l1_ratio=None,\n",
       "                     max_iter=100, multi_class='warn', n_jobs=None, penalty='l2',\n",
       "                     random_state=None, solver='warn', tol=0.0001, verbose=0,\n",
       "                     warm_start=False), 'l2', 10000.0, 0.8175446847772879),\n",
       " (LogisticRegression(C=1000.0, class_weight='balanced', dual=False,\n",
       "                     fit_intercept=True, intercept_scaling=1, l1_ratio=None,\n",
       "                     max_iter=100, multi_class='warn', n_jobs=None, penalty='l1',\n",
       "                     random_state=None, solver='warn', tol=0.0001, verbose=0,\n",
       "                     warm_start=False), 'l1', 1000.0, 0.8175441685060979),\n",
       " (LogisticRegression(C=0.1, class_weight='balanced', dual=False,\n",
       "                     fit_intercept=True, intercept_scaling=1, l1_ratio=None,\n",
       "                     max_iter=100, multi_class='warn', n_jobs=None, penalty='l2',\n",
       "                     random_state=None, solver='warn', tol=0.0001, verbose=0,\n",
       "                     warm_start=False), 'l2', 0.1, 0.8166063618894114)]"
      ]
     },
     "execution_count": 51,
     "metadata": {},
     "output_type": "execute_result"
    }
   ],
   "source": [
    "logreg_result"
   ]
  },
  {
   "cell_type": "code",
   "execution_count": 52,
   "metadata": {},
   "outputs": [
    {
     "name": "stdout",
     "output_type": "stream",
     "text": [
      "(LogisticRegression(C=0.1, class_weight='balanced', dual=False,\n",
      "                   fit_intercept=True, intercept_scaling=1, l1_ratio=None,\n",
      "                   max_iter=100, multi_class='warn', n_jobs=None, penalty='l1',\n",
      "                   random_state=None, solver='warn', tol=0.0001, verbose=0,\n",
      "                   warm_start=False), 'l1', 0.1, 0.8175943328567289)\n"
     ]
    }
   ],
   "source": [
    "best_logreg_result = logreg_result[0]\n",
    "print(best_logreg_result)"
   ]
  }
 ],
 "metadata": {
  "kernelspec": {
   "display_name": "Python 3",
   "language": "python",
   "name": "python3"
  },
  "language_info": {
   "codemirror_mode": {
    "name": "ipython",
    "version": 3
   },
   "file_extension": ".py",
   "mimetype": "text/x-python",
   "name": "python",
   "nbconvert_exporter": "python",
   "pygments_lexer": "ipython3",
   "version": "3.7.3"
  }
 },
 "nbformat": 4,
 "nbformat_minor": 2
}
