{
  "nbformat": 4,
  "nbformat_minor": 0,
  "metadata": {
    "colab": {
      "name": "BrianCode-graph",
      "provenance": [],
      "collapsed_sections": [],
      "authorship_tag": "ABX9TyOQ2fl3g7Kixv1FcuMF1Dx5",
      "include_colab_link": true
    },
    "kernelspec": {
      "name": "python3",
      "display_name": "Python 3"
    },
    "accelerator": "TPU"
  },
  "cells": [
    {
      "cell_type": "markdown",
      "metadata": {
        "id": "view-in-github",
        "colab_type": "text"
      },
      "source": [
        "<a href=\"https://colab.research.google.com/github/EEG-Easy/EEG-Machinelearning/blob/master/BrianCode_graph.ipynb\" target=\"_parent\"><img src=\"https://colab.research.google.com/assets/colab-badge.svg\" alt=\"Open In Colab\"/></a>"
      ]
    },
    {
      "cell_type": "code",
      "metadata": {
        "id": "rL63PAxxSeBa",
        "colab_type": "code",
        "outputId": "717baa18-2c54-4ae9-c10d-c327c71471f4",
        "colab": {
          "base_uri": "https://localhost:8080/",
          "height": 1000
        }
      },
      "source": [
        "pip install PySurfer"
      ],
      "execution_count": 0,
      "outputs": [
        {
          "output_type": "stream",
          "text": [
            "Collecting PySurfer\n",
            "\u001b[?25l  Downloading https://files.pythonhosted.org/packages/d3/20/5a1dd98af8c36439ec43a3d0cdd033f54fbd1cf38b2b69a2b82c9e51f034/pysurfer-0.9.0.tar.gz (75kB)\n",
            "\u001b[K     |████████████████████████████████| 81kB 2.8MB/s \n",
            "\u001b[?25hRequirement already satisfied: numpy in /usr/local/lib/python3.6/dist-packages (from PySurfer) (1.17.5)\n",
            "Requirement already satisfied: scipy in /usr/local/lib/python3.6/dist-packages (from PySurfer) (1.4.1)\n",
            "Requirement already satisfied: matplotlib in /usr/local/lib/python3.6/dist-packages (from PySurfer) (3.1.3)\n",
            "Requirement already satisfied: nibabel>=1.2 in /usr/local/lib/python3.6/dist-packages (from PySurfer) (2.3.3)\n",
            "Collecting mayavi\n",
            "\u001b[?25l  Downloading https://files.pythonhosted.org/packages/08/ea/eb808cb4df8f92bc4d9f9a1ef14566b9b5d60370e6ecbaf9061cdae335fa/mayavi-4.7.1.tar.bz2 (7.0MB)\n",
            "\u001b[K     |████████████████████████████████| 7.0MB 8.7MB/s \n",
            "\u001b[?25hRequirement already satisfied: cycler>=0.10 in /usr/local/lib/python3.6/dist-packages (from matplotlib->PySurfer) (0.10.0)\n",
            "Requirement already satisfied: python-dateutil>=2.1 in /usr/local/lib/python3.6/dist-packages (from matplotlib->PySurfer) (2.6.1)\n",
            "Requirement already satisfied: kiwisolver>=1.0.1 in /usr/local/lib/python3.6/dist-packages (from matplotlib->PySurfer) (1.1.0)\n",
            "Requirement already satisfied: pyparsing!=2.0.4,!=2.1.2,!=2.1.6,>=2.0.1 in /usr/local/lib/python3.6/dist-packages (from matplotlib->PySurfer) (2.4.6)\n",
            "Requirement already satisfied: bz2file in /usr/local/lib/python3.6/dist-packages (from nibabel>=1.2->PySurfer) (0.98)\n",
            "Requirement already satisfied: six>=1.3 in /usr/local/lib/python3.6/dist-packages (from nibabel>=1.2->PySurfer) (1.12.0)\n",
            "Collecting apptools\n",
            "\u001b[?25l  Downloading https://files.pythonhosted.org/packages/aa/9e/a09c342e9dc07f68c12328ade30dd5d28347734091b8827ba53129e65eb3/apptools-4.5.0.tar.gz (297kB)\n",
            "\u001b[K     |████████████████████████████████| 307kB 45.1MB/s \n",
            "\u001b[?25hCollecting envisage\n",
            "\u001b[?25l  Downloading https://files.pythonhosted.org/packages/02/00/e54d8835ee8fd4924477281d3b93023505f816a8578a22744f256250b7be/envisage-4.9.2.tar.gz (518kB)\n",
            "\u001b[K     |████████████████████████████████| 522kB 46.0MB/s \n",
            "\u001b[?25hCollecting pyface>=6.1.1\n",
            "\u001b[?25l  Downloading https://files.pythonhosted.org/packages/71/0b/6410ff300b614d1f25f045a99cde27ff40e5ffa6ec5e95860c0fbce80faf/pyface-6.1.2.tar.gz (5.3MB)\n",
            "\u001b[K     |████████████████████████████████| 5.3MB 52.5MB/s \n",
            "\u001b[?25hRequirement already satisfied: pygments in /usr/local/lib/python3.6/dist-packages (from mayavi->PySurfer) (2.1.3)\n",
            "Collecting traits>=4.6.0\n",
            "\u001b[?25l  Downloading https://files.pythonhosted.org/packages/b9/af/c6dc88130106d69e4f9a192043c85ed4cb522f83b9041b8691f0b0678405/traits-6.0.0.tar.gz (441kB)\n",
            "\u001b[K     |████████████████████████████████| 450kB 43.0MB/s \n",
            "\u001b[?25hCollecting traitsui>=6.0.0\n",
            "\u001b[?25l  Downloading https://files.pythonhosted.org/packages/c1/75/8704b48d3368b746b6148dde8921826e5e029e29d035cec9bf9681dd89b7/traitsui-6.1.3.tar.gz (5.1MB)\n",
            "\u001b[K     |████████████████████████████████| 5.1MB 34.0MB/s \n",
            "\u001b[?25hCollecting vtk\n",
            "\u001b[?25l  Downloading https://files.pythonhosted.org/packages/22/f5/30e11e1ad21701e1cd185b046979107930419a74a5602c6b899dc8523fe4/vtk-8.1.2-cp36-cp36m-manylinux1_x86_64.whl (48.9MB)\n",
            "\u001b[K     |████████████████████████████████| 48.9MB 80kB/s \n",
            "\u001b[?25hRequirement already satisfied: setuptools in /usr/local/lib/python3.6/dist-packages (from kiwisolver>=1.0.1->matplotlib->PySurfer) (45.1.0)\n",
            "Collecting configobj\n",
            "  Downloading https://files.pythonhosted.org/packages/64/61/079eb60459c44929e684fa7d9e2fdca403f67d64dd9dbac27296be2e0fab/configobj-5.0.6.tar.gz\n",
            "Building wheels for collected packages: PySurfer, mayavi, apptools, envisage, pyface, traits, traitsui, configobj\n",
            "  Building wheel for PySurfer (setup.py) ... \u001b[?25l\u001b[?25hdone\n",
            "  Created wheel for PySurfer: filename=pysurfer-0.9.0-cp36-none-any.whl size=75185 sha256=167579e3e64e4d74b5d46d27cdba3201c9563637acb546e460dd460b273ce4e3\n",
            "  Stored in directory: /root/.cache/pip/wheels/50/cc/c3/6171ba3905583100a03fa5a5b36b9cd246a5ce05526f8a0469\n",
            "  Building wheel for mayavi (setup.py) ... \u001b[?25lerror\n",
            "\u001b[31m  ERROR: Failed building wheel for mayavi\u001b[0m\n",
            "\u001b[?25h  Running setup.py clean for mayavi\n",
            "  Building wheel for apptools (setup.py) ... \u001b[?25l\u001b[?25hdone\n",
            "  Created wheel for apptools: filename=apptools-4.5.0-cp36-none-any.whl size=396527 sha256=a077623e1a9eaad6c3e9e1ed39c5cf4d0932e160d738e9a63fab12ed37f8d231\n",
            "  Stored in directory: /root/.cache/pip/wheels/c2/bf/9c/3037e3c4bbd95652aa5844086ecf812f83501ba9e00a4779d8\n",
            "  Building wheel for envisage (setup.py) ... \u001b[?25l\u001b[?25hdone\n",
            "  Created wheel for envisage: filename=envisage-4.9.2-cp36-none-any.whl size=337248 sha256=59c296f1c10d5f855e21cf9c05b20ee16250974e9f29d995c92db99de1dd8720\n",
            "  Stored in directory: /root/.cache/pip/wheels/a0/79/83/04c0820be0bdefc82a4bab0745b0d903f26cf60db80fca0399\n",
            "  Building wheel for pyface (setup.py) ... \u001b[?25l\u001b[?25hdone\n",
            "  Created wheel for pyface: filename=pyface-6.1.2-cp36-none-any.whl size=1013172 sha256=d47b73b60d3663bf5716b2719ca45aa4200da9ab3212689225c37817b22e4d33\n",
            "  Stored in directory: /root/.cache/pip/wheels/99/7c/75/0ce4d816cbcf9da1a2887b5d17a8c7e283a11622e008c8455d\n",
            "  Building wheel for traits (setup.py) ... \u001b[?25l\u001b[?25hdone\n",
            "  Created wheel for traits: filename=traits-6.0.0-cp36-cp36m-linux_x86_64.whl size=385398 sha256=b307f6116fc1a065058ae09e80b701ef97c9f1f5f3848218949d0d23cde6f0a8\n",
            "  Stored in directory: /root/.cache/pip/wheels/41/a7/f0/d1dfae8d3a4e5638a40818830c741c1c0e9f8a590b9ea22935\n",
            "  Building wheel for traitsui (setup.py) ... \u001b[?25l\u001b[?25hdone\n",
            "  Created wheel for traitsui: filename=traitsui-6.1.3-cp36-none-any.whl size=791663 sha256=0c5699ee331b533745ad3f5530537cb561ed30fa384eb30ed81e80318efd84bb\n",
            "  Stored in directory: /root/.cache/pip/wheels/bb/e3/a6/982d407becc93e50a3732c9374c19741e4779257b753c2d71c\n",
            "  Building wheel for configobj (setup.py) ... \u001b[?25l\u001b[?25hdone\n",
            "  Created wheel for configobj: filename=configobj-5.0.6-cp36-none-any.whl size=34546 sha256=a1f3080335ef049e797f175313f596150feb0136a34e0e00eaadbb368d646124\n",
            "  Stored in directory: /root/.cache/pip/wheels/f1/e4/16/4981ca97c2d65106b49861e0b35e2660695be7219a2d351ee0\n",
            "Successfully built PySurfer apptools envisage pyface traits traitsui configobj\n",
            "Failed to build mayavi\n",
            "Installing collected packages: configobj, traits, pyface, traitsui, apptools, envisage, vtk, mayavi, PySurfer\n",
            "    Running setup.py install for mayavi ... \u001b[?25l\u001b[?25hdone\n",
            "Successfully installed PySurfer-0.9.0 apptools-4.5.0 configobj-5.0.6 envisage-4.9.2 mayavi-4.7.1 pyface-6.1.2 traits-6.0.0 traitsui-6.1.3 vtk-8.1.2\n"
          ],
          "name": "stdout"
        }
      ]
    },
    {
      "cell_type": "code",
      "metadata": {
        "id": "NyHznXNSReHf",
        "colab_type": "code",
        "outputId": "e6d30479-3754-45d7-af07-3fc693c330a6",
        "colab": {
          "base_uri": "https://localhost:8080/",
          "height": 148
        }
      },
      "source": [
        "pip install mne --upgrade"
      ],
      "execution_count": 0,
      "outputs": [
        {
          "output_type": "stream",
          "text": [
            "Collecting mne\n",
            "\u001b[?25l  Downloading https://files.pythonhosted.org/packages/a1/7c/ad1b52a3fdd4be8f55e183f1eff7d76f48cd1bee83c5630f9c26770e032e/mne-0.19.2-py3-none-any.whl (6.4MB)\n",
            "\u001b[K     |████████████████████████████████| 6.4MB 3.4MB/s \n",
            "\u001b[?25hRequirement already satisfied, skipping upgrade: scipy>=0.17.1 in /usr/local/lib/python3.6/dist-packages (from mne) (1.4.1)\n",
            "Requirement already satisfied, skipping upgrade: numpy>=1.11.3 in /usr/local/lib/python3.6/dist-packages (from mne) (1.17.5)\n",
            "Installing collected packages: mne\n",
            "Successfully installed mne-0.19.2\n"
          ],
          "name": "stdout"
        }
      ]
    },
    {
      "cell_type": "code",
      "metadata": {
        "id": "ZqHkNiU8R1g7",
        "colab_type": "code",
        "colab": {}
      },
      "source": [
        "import numpy as np\n",
        "import pandas as pd\n",
        "from mne import EpochsArray\n",
        "from mne.channels import read_montage\n",
        "from mne.epochs import concatenate_epochs\n",
        "from mne import create_info, find_events, Epochs\n",
        "from mne.viz.topomap import _prepare_topo_plot, plot_topomap\n",
        "from mne.decoding import CSP\n",
        "\n",
        "from sklearn.pipeline import make_pipeline\n",
        "from sklearn.linear_model import LogisticRegression\n",
        "from sklearn.metrics import roc_auc_score\n",
        "from sklearn.model_selection import cross_val_score, LeaveOneGroupOut\n",
        "from glob import glob\n",
        "\n",
        "import matplotlib.pyplot as plt\n",
        "from mpl_toolkits.axes_grid1 import make_axes_locatable\n",
        "\n",
        "from scipy.signal import welch\n",
        "from mne import pick_types\n",
        "\n",
        "from subprocess import check_output"
      ],
      "execution_count": 0,
      "outputs": []
    },
    {
      "cell_type": "code",
      "metadata": {
        "id": "nl_mW8EQTGMd",
        "colab_type": "code",
        "colab": {}
      },
      "source": [
        "# define the channel type, where the first 64 are EEG, next 4 are EOG, then Nose,\n",
        "#and finally right mastoid (EEG)\n",
        "col_names = pd.read_csv('../input/columnLabels.csv')\n",
        "ch_names = list(col_names.columns[4:])\n",
        "ch_type = ['eeg']*64 + ['eog']*4 + ['misc'] + ['eeg']"
      ],
      "execution_count": 0,
      "outputs": []
    },
    {
      "cell_type": "code",
      "metadata": {
        "id": "R6ND_44MUJD6",
        "colab_type": "code",
        "colab": {}
      },
      "source": [
        "# The sampling rate of the recording\n",
        "sfreq = 1024  # in Hertz (samples per second): 1초에 한 번씩 샘플링"
      ],
      "execution_count": 0,
      "outputs": []
    },
    {
      "cell_type": "code",
      "metadata": {
        "id": "YDy7vEZUH4eO",
        "colab_type": "code",
        "colab": {}
      },
      "source": [
        "#파일에서 몽타주 읽기: 사용자 지정 파일에서 전극  위치를 읽는데 사용. 내장 몽타주 중 하나를 로드하는 매개변수 - standard_1005(전극은 국제 10-05 시스템에 따라 이름이 지정되고 배치됩니다.)\n",
        "montage = read_montage('standard_1005',ch_names)"
      ],
      "execution_count": 0,
      "outputs": []
    },
    {
      "cell_type": "code",
      "metadata": {
        "id": "Z8OWEWpxIuQd",
        "colab_type": "code",
        "colab": {}
      },
      "source": [
        "# Initialize required fields\n",
        "info = create_info(ch_names, sfreq, ch_type, montage)"
      ],
      "execution_count": 0,
      "outputs": []
    },
    {
      "cell_type": "code",
      "metadata": {
        "id": "Zp3w4DG9I0rQ",
        "colab_type": "code",
        "colab": {}
      },
      "source": [
        "def creat_mne_epoch_object(fname, info):\n",
        "  info['description'] = 'dataset from ' + fname       #add information of file name\n",
        "  tmin = -1.5         #Trials were cut from -1.5 to 1.5 seconds\n",
        "  \n",
        "  data = pd.read_csv(fname, header=None)\n",
        "  npdata = np.array(data)   #convert data to numpy array\n",
        "\n",
        "  #sample 1537 is time 0, use that for the event \n",
        "  onsets = np.array(np.where(npdata[:,3]==1537))  #전체 배열의 전체 행의 3번째 열\n",
        "  conditions = npdata[npdata[:,3]==1537,2]  #onsets의 이벤트가 발생한 행의 2번째 열\n",
        "\n",
        "  #use these to make an events array for mne (middle column are zeros):\n",
        "  events = np.squeeze(np.dstack((onsets.flatten(), np.zeros(conditions.shape),conditions)))\n",
        "\n",
        "  #now we just need EEGdata in a 3D shape (n_epochs, n_samples ,n_channels)\n",
        "  EEGdata = npdata.reshape(len(conditions),3072,74)\n",
        "\n",
        "  #remove the first 4 columns (non-eeg, described above):\n",
        "  EEGdata = EEGdata[:,:,4:]\n",
        "  EEGdata = np.swapaxes(EEGdata,1,2)    #swap axes (1,2)\n",
        "\n",
        "  #create labels for the conditions, 1, 2, and 3:\n",
        "  event_id = dict(button_tone=1, playback_tone=2, button_alone=3)\n",
        "\n",
        "  # create raw object \n",
        "  custom_epochs = EpochsArray(EEGdata, info=info, events=events.astype('int'), tmin=tmin, event_id=event_id)\n",
        "  return custom_epochs"
      ],
      "execution_count": 0,
      "outputs": []
    },
    {
      "cell_type": "code",
      "metadata": {
        "id": "574lLFflPUma",
        "colab_type": "code",
        "colab": {}
      },
      "source": [
        "subjects = range(1,24)"
      ],
      "execution_count": 0,
      "outputs": []
    },
    {
      "cell_type": "code",
      "metadata": {
        "id": "TcM30QwnPiva",
        "colab_type": "code",
        "colab": {}
      },
      "source": [
        "auc = []  #enumerate for count iterate number\n",
        "for i,subject in enumerate(subjects):\n",
        "  epochs_tot = []\n",
        "\n",
        "  #check file is existing on folder\n",
        "  fnames = glob(\"../input/%d.csv/%d.csv\" % (subject, subject))\n",
        "\n",
        "  fname = fnames[0] \n",
        "  session = []\n",
        "  y = []\n",
        "\n",
        "  # read data \n",
        "  custom_epochs = creat_mne_epoch_object(fname, info)\n",
        "\n",
        "  # pick eeg signal (mne library)\n",
        "  picks = pick_types(custom_epochs.info,eeg=True)\n",
        "\n",
        "  # Filter data for alpha frequency and beta band\n",
        "  custom_epochs.filter(2,45, picks=picks, method='iir', n_jobs=-1, verbose=False)\n",
        "\n",
        "  #epoch with condition\n",
        "  epochs = custom_epochs['button_tone']\n",
        "  epochs_tot.append(epochs)\n",
        "  session.extend([1]*len(epochs))\n",
        "  y.extend([1]*len(epochs))\n",
        "    \n",
        "  epochs = custom_epochs['playback_tone']\n",
        "  epochs_tot.append(epochs)\n",
        "  session.extend([1]*len(epochs))\n",
        "  y.extend([-1]*len(epochs))\n",
        "        \n",
        "  #concatenate all epochs\n",
        "  epochs = concatenate_epochs(epochs_tot)\n",
        "\n",
        "  #get 1second around the tone onset:\n",
        "  #for debugging: subEpochs = epochs\n",
        "  X = epochs.crop(tmin=-0.7, tmax=0.299).get_data()\n",
        "  #but exclude non 'eeg' channels:\n",
        "  X = X[:,[ch=='eeg' for ch  in ch_type],:]\n",
        "    \n",
        "  y = np.array(y)\n",
        "\n",
        "  # run CSP(특징 추출을위한 공간 필터를 추정하기 위해 감독 분해 (supervised decomposition)로 사용)\n",
        "  csp = CSP(reg='ledoit_wolf')\n",
        "  csp.fit(X,y)\n",
        "\n",
        "  # compute spatial filtered spectrum\n",
        "  po = []\n",
        "  for x in X:\n",
        "    f,p = welch(np.dot(csp.filters_[0,:].T,x), sfreq, nperseg=X.shape[2])\n",
        "    po.append(p)\n",
        "  po = np.array(po)\n",
        "\n",
        "  # prepare topoplot\n",
        "  _,epos,_,_,_ = _prepare_topo_plot(epochs,'eeg',None)\n",
        "\n",
        "\n",
        "  #Drawing plot!!\n",
        "  pattern = csp.patterns_[0,:]\n",
        "  pattern -= pattern.mean()\n",
        "  ix = np.argmax(abs(pattern))\n",
        "\n",
        "  if pattern[ix]>0:\n",
        "    sign = 1.0\n",
        "  else:\n",
        "    sign = -1.0\n",
        "    \n",
        "  fig, ax_topo = plt.subplots(1, 1, figsize=(12, 4))\n",
        "  title = 'Spatial Pattern'\n",
        "  fig.suptitle(title, fontsize=14)\n",
        "  img, _ = plot_topomap(sign*pattern,epos,axes=ax_topo,show=False)\n",
        "  divider = make_axes_locatable(ax_topo)\n",
        "    # add axes for colorbar\n",
        "  ax_colorbar = divider.append_axes('right', size='5%', pad=0.05)\n",
        "  plt.colorbar(img, cax=ax_colorbar)\n",
        "    \n",
        "    # plot spectrum\n",
        "  fix = (f>7) & (f<35)\n",
        "  ax_spectrum = divider.append_axes('right', size='300%', pad=1.2)\n",
        "  ax_spectrum.plot(f[fix],np.log(po[y==1][:,fix].mean(axis=0).T),'-r',lw=2)\n",
        "  ax_spectrum.plot(f[fix],np.log(po[y==-1][:,fix].mean(axis=0).T),'-b',lw=2)\n",
        "  ax_spectrum.set_xlabel('Frequency (Hz)')\n",
        "  ax_spectrum.set_ylabel('Power (dB)')\n",
        "  plt.grid()\n",
        "  plt.legend(['button tone','playback'])\n",
        "  plt.title('Subject %d' % subject)\n",
        "\n",
        "  plt.savefig('spatial_pattern_subject_%02d.png' % subject ,bbox_inches='tight')"
      ],
      "execution_count": 0,
      "outputs": []
    }
  ]
}