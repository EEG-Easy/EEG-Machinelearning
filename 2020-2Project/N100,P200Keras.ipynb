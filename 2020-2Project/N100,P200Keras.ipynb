{
  "nbformat": 4,
  "nbformat_minor": 0,
  "metadata": {
    "colab": {
      "name": "N100,P200Keras",
      "provenance": [],
      "authorship_tag": "ABX9TyMFtB/BqJEm9UGf2OzuWvuJ",
      "include_colab_link": true
    },
    "kernelspec": {
      "name": "python3",
      "display_name": "Python 3"
    },
    "accelerator": "TPU"
  },
  "cells": [
    {
      "cell_type": "markdown",
      "metadata": {
        "id": "view-in-github",
        "colab_type": "text"
      },
      "source": [
        "<a href=\"https://colab.research.google.com/github/EEG-Easy/EEG-Machinelearning/blob/master/2020-2Project/N100%2CP200Keras.ipynb\" target=\"_parent\"><img src=\"https://colab.research.google.com/assets/colab-badge.svg\" alt=\"Open In Colab\"/></a>"
      ]
    },
    {
      "cell_type": "code",
      "metadata": {
        "id": "T8ZSbJer2g0s",
        "colab_type": "code",
        "colab": {
          "base_uri": "https://localhost:8080/",
          "height": 65
        },
        "outputId": "7676476f-806d-49d3-a85d-dbd4c20e958b"
      },
      "source": [
        "from __future__ import absolute_import, division, print_function, unicode_literals\n",
        "import tensorflow as tf\n",
        "from __future__ import absolute_import, division, print_function, unicode_literals\n",
        "import functools\n",
        "\n",
        "import tensorflow as tf\n",
        "tf.enable_eager_execution()\n",
        "from tensorflow import keras\n",
        "import os\n",
        "\n",
        "import numpy as np\n",
        "import pandas as pd\n",
        "\n",
        "import sklearn\n",
        "from sklearn.model_selection import train_test_split\n",
        "from sklearn.preprocessing import StandardScaler\n",
        "from sklearn.preprocessing import RobustScaler\n",
        "\n",
        "tf.keras.backend.clear_session()"
      ],
      "execution_count": 1,
      "outputs": [
        {
          "output_type": "display_data",
          "data": {
            "text/html": [
              "<p style=\"color: red;\">\n",
              "The default version of TensorFlow in Colab will soon switch to TensorFlow 2.x.<br>\n",
              "We recommend you <a href=\"https://www.tensorflow.org/guide/migrate\" target=\"_blank\">upgrade</a> now \n",
              "or ensure your notebook will continue to use TensorFlow 1.x via the <code>%tensorflow_version 1.x</code> magic:\n",
              "<a href=\"https://colab.research.google.com/notebooks/tensorflow_version.ipynb\" target=\"_blank\">more info</a>.</p>\n"
            ],
            "text/plain": [
              "<IPython.core.display.HTML object>"
            ]
          },
          "metadata": {
            "tags": []
          }
        }
      ]
    },
    {
      "cell_type": "code",
      "metadata": {
        "id": "XkVYsA_T20h6",
        "colab_type": "code",
        "colab": {
          "base_uri": "https://localhost:8080/",
          "height": 36
        },
        "outputId": "5aa22a41-d686-4c04-fc49-d14955dfa138"
      },
      "source": [
        "from google.colab import drive\n",
        "\n",
        "drive.mount('/content/gdrive')"
      ],
      "execution_count": 2,
      "outputs": [
        {
          "output_type": "stream",
          "text": [
            "Drive already mounted at /content/gdrive; to attempt to forcibly remount, call drive.mount(\"/content/gdrive\", force_remount=True).\n"
          ],
          "name": "stdout"
        }
      ]
    },
    {
      "cell_type": "code",
      "metadata": {
        "id": "Z2Mb8uVa3BUB",
        "colab_type": "code",
        "colab": {
          "base_uri": "https://localhost:8080/",
          "height": 36
        },
        "outputId": "e887c4f2-8f2f-4503-9656-44dc1c2b0be3"
      },
      "source": [
        "cd /content/gdrive/My Drive/eeg"
      ],
      "execution_count": 3,
      "outputs": [
        {
          "output_type": "stream",
          "text": [
            "/content/gdrive/My Drive/eeg\n"
          ],
          "name": "stdout"
        }
      ]
    },
    {
      "cell_type": "code",
      "metadata": {
        "id": "YofOt4013D_t",
        "colab_type": "code",
        "colab": {}
      },
      "source": [
        "EEG_df = pd.read_csv('mergedTrialData.csv')"
      ],
      "execution_count": 0,
      "outputs": []
    },
    {
      "cell_type": "code",
      "metadata": {
        "id": "q34YAD-j3cMe",
        "colab_type": "code",
        "colab": {
          "base_uri": "https://localhost:8080/",
          "height": 92
        },
        "outputId": "6f54b210-b251-4a5a-caeb-6fe4879bb1aa"
      },
      "source": [
        "EEG_df = EEG_df.drop(['subject', 'trial','Fz_P200', 'FCz_P200', 'Cz_P200',\n",
        "       'FC3_P200', 'FC4_P200', 'C3_P200', 'C4_P200', 'CP3_P200', 'CP4_P200',\n",
        "       'AFz_P200', 'F2_P200', 'F1_P200', 'FC1_P200'], axis=1)\n",
        "EEG_df.columns"
      ],
      "execution_count": 5,
      "outputs": [
        {
          "output_type": "execute_result",
          "data": {
            "text/plain": [
              "Index(['condition', 'group', 'Fz_N100', 'FCz_N100', 'Cz_N100', 'FC3_N100',\n",
              "       'FC4_N100', 'C3_N100', 'C4_N100', 'CP3_N100', 'CP4_N100', 'AFz_N100',\n",
              "       'F2_N100', 'F1_N100', 'FC1_N100'],\n",
              "      dtype='object')"
            ]
          },
          "metadata": {
            "tags": []
          },
          "execution_count": 5
        }
      ]
    },
    {
      "cell_type": "code",
      "metadata": {
        "id": "7u-DecZk3rX8",
        "colab_type": "code",
        "colab": {}
      },
      "source": [
        "train, test = train_test_split(EEG_df, test_size=0.1, random_state=123)"
      ],
      "execution_count": 0,
      "outputs": []
    },
    {
      "cell_type": "code",
      "metadata": {
        "id": "IaBGItj33uF2",
        "colab_type": "code",
        "colab": {}
      },
      "source": [
        "condition_train=np.array(train['condition'])\n",
        "group_train=np.array(train['group'])\n",
        "#trial_train=np.array(train['trial'])\n",
        "\n",
        "train_scaling = train.drop(['condition','group'], axis=1)"
      ],
      "execution_count": 0,
      "outputs": []
    },
    {
      "cell_type": "code",
      "metadata": {
        "id": "sAGHR5VX38Zq",
        "colab_type": "code",
        "colab": {}
      },
      "source": [
        "condition_test=np.array(test['condition'])\n",
        "group_test=np.array(test['group'])\n",
        "#trial_test=np.array(test['trial'])\n",
        "\n",
        "test_scaling = test.drop(['condition','group'], axis=1)"
      ],
      "execution_count": 0,
      "outputs": []
    },
    {
      "cell_type": "code",
      "metadata": {
        "id": "IcR9XrA94EqG",
        "colab_type": "code",
        "colab": {}
      },
      "source": [
        "scaler = RobustScaler()"
      ],
      "execution_count": 0,
      "outputs": []
    },
    {
      "cell_type": "code",
      "metadata": {
        "id": "OGRuMj6f4Gow",
        "colab_type": "code",
        "colab": {}
      },
      "source": [
        "scaler.fit(train_scaling) \n",
        "\n",
        "train_scaled = scaler.transform(train_scaling)\n",
        "test_scaled = scaler.transform(test_scaling)\n",
        "\n",
        "train_scaled_df = pd.DataFrame(train_scaled)\n",
        "test_scaled_df = pd.DataFrame(test_scaled)"
      ],
      "execution_count": 0,
      "outputs": []
    },
    {
      "cell_type": "code",
      "metadata": {
        "id": "ogt2f6yf4LBC",
        "colab_type": "code",
        "colab": {
          "base_uri": "https://localhost:8080/",
          "height": 222
        },
        "outputId": "30572940-e7a8-4d31-c77f-7041db4cb7ce"
      },
      "source": [
        "train_scaled_df.columns = ['Fz_N100', 'FCz_N100', 'Cz_N100', 'FC3_N100', 'FC4_N100', 'C3_N100', 'C4_N100', 'CP3_N100', 'CP4_N100', 'AFz_N100', 'F2_N100', 'F1_N100', 'FC1_N100']\n",
        "condition_train = condition_train.astype(int)\n",
        "group_train = group_train.astype(int)\n",
        "#trial_train = trial_train.astype(int)\n",
        "\n",
        "train_scaled_df['condition'] = condition_train\n",
        "train_scaled_df['group'] = group_train\n",
        "#train_scaled_df['trial'] = trial_train\n",
        "train_scaled_df.head(5)"
      ],
      "execution_count": 11,
      "outputs": [
        {
          "output_type": "execute_result",
          "data": {
            "text/html": [
              "<div>\n",
              "<style scoped>\n",
              "    .dataframe tbody tr th:only-of-type {\n",
              "        vertical-align: middle;\n",
              "    }\n",
              "\n",
              "    .dataframe tbody tr th {\n",
              "        vertical-align: top;\n",
              "    }\n",
              "\n",
              "    .dataframe thead th {\n",
              "        text-align: right;\n",
              "    }\n",
              "</style>\n",
              "<table border=\"1\" class=\"dataframe\">\n",
              "  <thead>\n",
              "    <tr style=\"text-align: right;\">\n",
              "      <th></th>\n",
              "      <th>Fz_N100</th>\n",
              "      <th>FCz_N100</th>\n",
              "      <th>Cz_N100</th>\n",
              "      <th>FC3_N100</th>\n",
              "      <th>FC4_N100</th>\n",
              "      <th>C3_N100</th>\n",
              "      <th>C4_N100</th>\n",
              "      <th>CP3_N100</th>\n",
              "      <th>CP4_N100</th>\n",
              "      <th>AFz_N100</th>\n",
              "      <th>F2_N100</th>\n",
              "      <th>F1_N100</th>\n",
              "      <th>FC1_N100</th>\n",
              "      <th>condition</th>\n",
              "      <th>group</th>\n",
              "    </tr>\n",
              "  </thead>\n",
              "  <tbody>\n",
              "    <tr>\n",
              "      <th>0</th>\n",
              "      <td>-1.908729</td>\n",
              "      <td>-1.943668</td>\n",
              "      <td>-0.929460</td>\n",
              "      <td>-1.271370</td>\n",
              "      <td>-1.743739</td>\n",
              "      <td>-0.611202</td>\n",
              "      <td>0.391713</td>\n",
              "      <td>0.258216</td>\n",
              "      <td>0.613002</td>\n",
              "      <td>-2.064743</td>\n",
              "      <td>-2.134181</td>\n",
              "      <td>-1.707939</td>\n",
              "      <td>-1.716523</td>\n",
              "      <td>2</td>\n",
              "      <td>1</td>\n",
              "    </tr>\n",
              "    <tr>\n",
              "      <th>1</th>\n",
              "      <td>0.347628</td>\n",
              "      <td>0.521196</td>\n",
              "      <td>0.259843</td>\n",
              "      <td>0.369615</td>\n",
              "      <td>-0.158861</td>\n",
              "      <td>0.257364</td>\n",
              "      <td>-0.280448</td>\n",
              "      <td>0.080719</td>\n",
              "      <td>-0.236345</td>\n",
              "      <td>1.588914</td>\n",
              "      <td>-0.210472</td>\n",
              "      <td>0.007524</td>\n",
              "      <td>0.386791</td>\n",
              "      <td>3</td>\n",
              "      <td>0</td>\n",
              "    </tr>\n",
              "    <tr>\n",
              "      <th>2</th>\n",
              "      <td>0.184458</td>\n",
              "      <td>0.114874</td>\n",
              "      <td>0.290263</td>\n",
              "      <td>0.169201</td>\n",
              "      <td>0.255214</td>\n",
              "      <td>0.337890</td>\n",
              "      <td>0.208438</td>\n",
              "      <td>0.286272</td>\n",
              "      <td>0.201832</td>\n",
              "      <td>0.349909</td>\n",
              "      <td>0.371388</td>\n",
              "      <td>0.243771</td>\n",
              "      <td>0.395103</td>\n",
              "      <td>3</td>\n",
              "      <td>1</td>\n",
              "    </tr>\n",
              "    <tr>\n",
              "      <th>3</th>\n",
              "      <td>-0.400977</td>\n",
              "      <td>-0.412909</td>\n",
              "      <td>-0.469208</td>\n",
              "      <td>-0.105697</td>\n",
              "      <td>-1.018351</td>\n",
              "      <td>-0.569663</td>\n",
              "      <td>-0.426318</td>\n",
              "      <td>-0.479960</td>\n",
              "      <td>-0.580529</td>\n",
              "      <td>0.198097</td>\n",
              "      <td>-0.322636</td>\n",
              "      <td>-0.547395</td>\n",
              "      <td>-0.522286</td>\n",
              "      <td>1</td>\n",
              "      <td>0</td>\n",
              "    </tr>\n",
              "    <tr>\n",
              "      <th>4</th>\n",
              "      <td>0.565459</td>\n",
              "      <td>0.363935</td>\n",
              "      <td>0.242151</td>\n",
              "      <td>0.390421</td>\n",
              "      <td>0.341408</td>\n",
              "      <td>0.101748</td>\n",
              "      <td>0.243033</td>\n",
              "      <td>-0.868456</td>\n",
              "      <td>0.230275</td>\n",
              "      <td>0.444669</td>\n",
              "      <td>0.420095</td>\n",
              "      <td>0.788671</td>\n",
              "      <td>-0.360881</td>\n",
              "      <td>1</td>\n",
              "      <td>0</td>\n",
              "    </tr>\n",
              "  </tbody>\n",
              "</table>\n",
              "</div>"
            ],
            "text/plain": [
              "    Fz_N100  FCz_N100   Cz_N100  FC3_N100  ...   F1_N100  FC1_N100  condition  group\n",
              "0 -1.908729 -1.943668 -0.929460 -1.271370  ... -1.707939 -1.716523          2      1\n",
              "1  0.347628  0.521196  0.259843  0.369615  ...  0.007524  0.386791          3      0\n",
              "2  0.184458  0.114874  0.290263  0.169201  ...  0.243771  0.395103          3      1\n",
              "3 -0.400977 -0.412909 -0.469208 -0.105697  ... -0.547395 -0.522286          1      0\n",
              "4  0.565459  0.363935  0.242151  0.390421  ...  0.788671 -0.360881          1      0\n",
              "\n",
              "[5 rows x 15 columns]"
            ]
          },
          "metadata": {
            "tags": []
          },
          "execution_count": 11
        }
      ]
    },
    {
      "cell_type": "code",
      "metadata": {
        "id": "kqIOwWKM4853",
        "colab_type": "code",
        "colab": {
          "base_uri": "https://localhost:8080/",
          "height": 222
        },
        "outputId": "649b238b-fcc5-44a5-d71d-ff02a04a630d"
      },
      "source": [
        "test_scaled_df.columns = ['Fz_N100', 'FCz_N100', 'Cz_N100', 'FC3_N100', 'FC4_N100', 'C3_N100', 'C4_N100', 'CP3_N100', 'CP4_N100', 'AFz_N100', 'F2_N100', 'F1_N100', 'FC1_N100']\n",
        "condition_test = condition_test.astype(int)\n",
        "group_test = group_test.astype(int)\n",
        "#trial_test = trial_test.astype(int)\n",
        "\n",
        "test_scaled_df['condition'] = condition_test\n",
        "test_scaled_df['group'] = group_test\n",
        "#test_scaled_df['trial'] = trial_test\n",
        "test_scaled_df.head(5)"
      ],
      "execution_count": 12,
      "outputs": [
        {
          "output_type": "execute_result",
          "data": {
            "text/html": [
              "<div>\n",
              "<style scoped>\n",
              "    .dataframe tbody tr th:only-of-type {\n",
              "        vertical-align: middle;\n",
              "    }\n",
              "\n",
              "    .dataframe tbody tr th {\n",
              "        vertical-align: top;\n",
              "    }\n",
              "\n",
              "    .dataframe thead th {\n",
              "        text-align: right;\n",
              "    }\n",
              "</style>\n",
              "<table border=\"1\" class=\"dataframe\">\n",
              "  <thead>\n",
              "    <tr style=\"text-align: right;\">\n",
              "      <th></th>\n",
              "      <th>Fz_N100</th>\n",
              "      <th>FCz_N100</th>\n",
              "      <th>Cz_N100</th>\n",
              "      <th>FC3_N100</th>\n",
              "      <th>FC4_N100</th>\n",
              "      <th>C3_N100</th>\n",
              "      <th>C4_N100</th>\n",
              "      <th>CP3_N100</th>\n",
              "      <th>CP4_N100</th>\n",
              "      <th>AFz_N100</th>\n",
              "      <th>F2_N100</th>\n",
              "      <th>F1_N100</th>\n",
              "      <th>FC1_N100</th>\n",
              "      <th>condition</th>\n",
              "      <th>group</th>\n",
              "    </tr>\n",
              "  </thead>\n",
              "  <tbody>\n",
              "    <tr>\n",
              "      <th>0</th>\n",
              "      <td>-1.113170</td>\n",
              "      <td>-0.445164</td>\n",
              "      <td>-0.546663</td>\n",
              "      <td>-0.296657</td>\n",
              "      <td>-0.189324</td>\n",
              "      <td>-0.202174</td>\n",
              "      <td>-0.355104</td>\n",
              "      <td>-0.991689</td>\n",
              "      <td>-0.675795</td>\n",
              "      <td>-0.889946</td>\n",
              "      <td>-1.307404</td>\n",
              "      <td>-0.743348</td>\n",
              "      <td>-0.213663</td>\n",
              "      <td>1</td>\n",
              "      <td>0</td>\n",
              "    </tr>\n",
              "    <tr>\n",
              "      <th>1</th>\n",
              "      <td>-0.390938</td>\n",
              "      <td>-0.433051</td>\n",
              "      <td>-0.640184</td>\n",
              "      <td>-0.297166</td>\n",
              "      <td>-0.554171</td>\n",
              "      <td>-0.336713</td>\n",
              "      <td>-0.900643</td>\n",
              "      <td>-0.414222</td>\n",
              "      <td>-0.930191</td>\n",
              "      <td>-0.407668</td>\n",
              "      <td>-0.356771</td>\n",
              "      <td>-0.222774</td>\n",
              "      <td>-0.269992</td>\n",
              "      <td>1</td>\n",
              "      <td>0</td>\n",
              "    </tr>\n",
              "    <tr>\n",
              "      <th>2</th>\n",
              "      <td>-0.314446</td>\n",
              "      <td>-0.093463</td>\n",
              "      <td>-0.329860</td>\n",
              "      <td>-0.901320</td>\n",
              "      <td>0.421864</td>\n",
              "      <td>-0.491504</td>\n",
              "      <td>0.000279</td>\n",
              "      <td>-0.408203</td>\n",
              "      <td>-0.313209</td>\n",
              "      <td>-0.315266</td>\n",
              "      <td>-0.153139</td>\n",
              "      <td>-0.941053</td>\n",
              "      <td>-0.047754</td>\n",
              "      <td>3</td>\n",
              "      <td>0</td>\n",
              "    </tr>\n",
              "    <tr>\n",
              "      <th>3</th>\n",
              "      <td>-0.475385</td>\n",
              "      <td>-0.686775</td>\n",
              "      <td>-1.419755</td>\n",
              "      <td>-1.279144</td>\n",
              "      <td>-0.620453</td>\n",
              "      <td>-1.277601</td>\n",
              "      <td>-1.371880</td>\n",
              "      <td>-1.736170</td>\n",
              "      <td>-1.970691</td>\n",
              "      <td>0.033358</td>\n",
              "      <td>-0.264970</td>\n",
              "      <td>-0.461537</td>\n",
              "      <td>-0.950308</td>\n",
              "      <td>2</td>\n",
              "      <td>1</td>\n",
              "    </tr>\n",
              "    <tr>\n",
              "      <th>4</th>\n",
              "      <td>-0.245906</td>\n",
              "      <td>-0.626354</td>\n",
              "      <td>-0.754979</td>\n",
              "      <td>-0.472125</td>\n",
              "      <td>-0.216677</td>\n",
              "      <td>-0.420495</td>\n",
              "      <td>-0.154642</td>\n",
              "      <td>-0.286900</td>\n",
              "      <td>-0.754872</td>\n",
              "      <td>-0.046324</td>\n",
              "      <td>-0.169822</td>\n",
              "      <td>-0.156313</td>\n",
              "      <td>-0.537985</td>\n",
              "      <td>3</td>\n",
              "      <td>1</td>\n",
              "    </tr>\n",
              "  </tbody>\n",
              "</table>\n",
              "</div>"
            ],
            "text/plain": [
              "    Fz_N100  FCz_N100   Cz_N100  FC3_N100  ...   F1_N100  FC1_N100  condition  group\n",
              "0 -1.113170 -0.445164 -0.546663 -0.296657  ... -0.743348 -0.213663          1      0\n",
              "1 -0.390938 -0.433051 -0.640184 -0.297166  ... -0.222774 -0.269992          1      0\n",
              "2 -0.314446 -0.093463 -0.329860 -0.901320  ... -0.941053 -0.047754          3      0\n",
              "3 -0.475385 -0.686775 -1.419755 -1.279144  ... -0.461537 -0.950308          2      1\n",
              "4 -0.245906 -0.626354 -0.754979 -0.472125  ... -0.156313 -0.537985          3      1\n",
              "\n",
              "[5 rows x 15 columns]"
            ]
          },
          "metadata": {
            "tags": []
          },
          "execution_count": 12
        }
      ]
    },
    {
      "cell_type": "code",
      "metadata": {
        "id": "zSHWypoo5Ij_",
        "colab_type": "code",
        "colab": {}
      },
      "source": [
        "train_scaled_df.to_csv('/content/gdrive/My Drive/eeg/train_mergedTrial.csv',sep=',', na_rep='NaN')\n",
        "test_scaled_df.to_csv('/content/gdrive/My Drive/eeg/test_mergedTrial.csv',sep=',', na_rep='NaN')"
      ],
      "execution_count": 0,
      "outputs": []
    },
    {
      "cell_type": "code",
      "metadata": {
        "id": "suTdIJxS7J4F",
        "colab_type": "code",
        "colab": {
          "base_uri": "https://localhost:8080/",
          "height": 93
        },
        "outputId": "de102f96-ac6b-426a-9a78-461218401215"
      },
      "source": [
        "LABEL_COLUMN = 'group'\n",
        "LABELS = [0, 1]\n",
        "\n",
        "CSV_COLUMNS = ['condition', 'group', 'Fz_N100', 'FCz_N100', 'Cz_N100', 'FC3_N100', 'FC4_N100', 'C3_N100', 'C4_N100', 'CP3_N100', 'CP4_N100', 'AFz_N100', 'F2_N100', 'F1_N100', 'FC1_N100']\n",
        "\n",
        "def get_dataset(file_path, **kwargs):\n",
        "  dataset = tf.data.experimental.make_csv_dataset(\n",
        "      file_path,\n",
        "      batch_size=32, \n",
        "      label_name=LABEL_COLUMN,\n",
        "      na_value=\"?\",\n",
        "      num_epochs=1,\n",
        "      ignore_errors=True, \n",
        "      **kwargs)\n",
        "  return dataset\n",
        "\n",
        "train_dataset = get_dataset('train_mergedTrial.csv', select_columns=CSV_COLUMNS)\n",
        "test_dataset = get_dataset('test_mergedTrial.csv', select_columns=CSV_COLUMNS)"
      ],
      "execution_count": 14,
      "outputs": [
        {
          "output_type": "stream",
          "text": [
            "WARNING:tensorflow:From /usr/local/lib/python3.6/dist-packages/tensorflow_core/python/data/experimental/ops/readers.py:540: parallel_interleave (from tensorflow.python.data.experimental.ops.interleave_ops) is deprecated and will be removed in a future version.\n",
            "Instructions for updating:\n",
            "Use `tf.data.Dataset.interleave(map_func, cycle_length, block_length, num_parallel_calls=tf.data.experimental.AUTOTUNE)` instead. If sloppy execution is desired, use `tf.data.Options.experimental_determinstic`.\n"
          ],
          "name": "stdout"
        }
      ]
    },
    {
      "cell_type": "code",
      "metadata": {
        "id": "izhR8SyV5Qyu",
        "colab_type": "code",
        "colab": {}
      },
      "source": [
        "class PackNumericFeatures(object):\n",
        "  def __init__(self, names):\n",
        "    self.names = names\n",
        "\n",
        "  def __call__(self, features, labels):\n",
        "    numeric_features = [features.pop(name) for name in self.names]\n",
        "    numeric_features = [tf.cast(feat, tf.float32) for feat in numeric_features]\n",
        "    numeric_features = tf.stack(numeric_features, axis=-1)\n",
        "    features['numeric'] = numeric_features\n",
        "\n",
        "    return features, labels"
      ],
      "execution_count": 0,
      "outputs": []
    },
    {
      "cell_type": "code",
      "metadata": {
        "id": "07xonGNc-tAA",
        "colab_type": "code",
        "colab": {}
      },
      "source": [
        "NUMERIC_FEATURES = ['Fz_N100', 'FCz_N100', 'Cz_N100', 'FC3_N100', 'FC4_N100', 'C3_N100', 'C4_N100', 'CP3_N100', 'CP4_N100', 'AFz_N100', 'F2_N100', 'F1_N100', 'FC1_N100']\n",
        "\n",
        "train_data = train_dataset.map(\n",
        "    PackNumericFeatures(NUMERIC_FEATURES))\n",
        "test_data = test_dataset.map(\n",
        "    PackNumericFeatures(NUMERIC_FEATURES))"
      ],
      "execution_count": 0,
      "outputs": []
    },
    {
      "cell_type": "code",
      "metadata": {
        "id": "KA4zDrFM61NP",
        "colab_type": "code",
        "colab": {
          "base_uri": "https://localhost:8080/",
          "height": 314
        },
        "outputId": "92cef44d-df83-414d-e6f8-063cf4a7bc65"
      },
      "source": [
        "import pandas as pd\n",
        "desc = pd.read_csv('train_mergedTrial.csv')[NUMERIC_FEATURES].describe()\n",
        "desc"
      ],
      "execution_count": 17,
      "outputs": [
        {
          "output_type": "execute_result",
          "data": {
            "text/html": [
              "<div>\n",
              "<style scoped>\n",
              "    .dataframe tbody tr th:only-of-type {\n",
              "        vertical-align: middle;\n",
              "    }\n",
              "\n",
              "    .dataframe tbody tr th {\n",
              "        vertical-align: top;\n",
              "    }\n",
              "\n",
              "    .dataframe thead th {\n",
              "        text-align: right;\n",
              "    }\n",
              "</style>\n",
              "<table border=\"1\" class=\"dataframe\">\n",
              "  <thead>\n",
              "    <tr style=\"text-align: right;\">\n",
              "      <th></th>\n",
              "      <th>Fz_N100</th>\n",
              "      <th>FCz_N100</th>\n",
              "      <th>Cz_N100</th>\n",
              "      <th>FC3_N100</th>\n",
              "      <th>FC4_N100</th>\n",
              "      <th>C3_N100</th>\n",
              "      <th>C4_N100</th>\n",
              "      <th>CP3_N100</th>\n",
              "      <th>CP4_N100</th>\n",
              "      <th>AFz_N100</th>\n",
              "      <th>F2_N100</th>\n",
              "      <th>F1_N100</th>\n",
              "      <th>FC1_N100</th>\n",
              "    </tr>\n",
              "  </thead>\n",
              "  <tbody>\n",
              "    <tr>\n",
              "      <th>count</th>\n",
              "      <td>2.088000e+04</td>\n",
              "      <td>2.088000e+04</td>\n",
              "      <td>20880.000000</td>\n",
              "      <td>2.088000e+04</td>\n",
              "      <td>2.088000e+04</td>\n",
              "      <td>20880.000000</td>\n",
              "      <td>2.088000e+04</td>\n",
              "      <td>20880.000000</td>\n",
              "      <td>20880.000000</td>\n",
              "      <td>2.088000e+04</td>\n",
              "      <td>2.088000e+04</td>\n",
              "      <td>20880.000000</td>\n",
              "      <td>2.088000e+04</td>\n",
              "    </tr>\n",
              "    <tr>\n",
              "      <th>mean</th>\n",
              "      <td>-7.822770e-04</td>\n",
              "      <td>-2.478773e-03</td>\n",
              "      <td>-0.010972</td>\n",
              "      <td>7.730227e-04</td>\n",
              "      <td>7.082304e-03</td>\n",
              "      <td>-0.004372</td>\n",
              "      <td>4.661683e-03</td>\n",
              "      <td>-0.002541</td>\n",
              "      <td>0.003509</td>\n",
              "      <td>1.473456e-02</td>\n",
              "      <td>1.408067e-03</td>\n",
              "      <td>-0.002048</td>\n",
              "      <td>-2.213974e-03</td>\n",
              "    </tr>\n",
              "    <tr>\n",
              "      <th>std</th>\n",
              "      <td>9.303461e-01</td>\n",
              "      <td>8.737721e-01</td>\n",
              "      <td>0.861491</td>\n",
              "      <td>9.002744e-01</td>\n",
              "      <td>9.032784e-01</td>\n",
              "      <td>0.879932</td>\n",
              "      <td>8.774937e-01</td>\n",
              "      <td>0.878770</td>\n",
              "      <td>0.877921</td>\n",
              "      <td>1.054618e+00</td>\n",
              "      <td>9.373293e-01</td>\n",
              "      <td>0.960848</td>\n",
              "      <td>9.009437e-01</td>\n",
              "    </tr>\n",
              "    <tr>\n",
              "      <th>min</th>\n",
              "      <td>-1.595465e+01</td>\n",
              "      <td>-1.360312e+01</td>\n",
              "      <td>-10.710464</td>\n",
              "      <td>-1.432177e+01</td>\n",
              "      <td>-1.388155e+01</td>\n",
              "      <td>-12.615774</td>\n",
              "      <td>-1.324899e+01</td>\n",
              "      <td>-10.365569</td>\n",
              "      <td>-10.351497</td>\n",
              "      <td>-1.995685e+01</td>\n",
              "      <td>-1.661223e+01</td>\n",
              "      <td>-18.418743</td>\n",
              "      <td>-2.023526e+01</td>\n",
              "    </tr>\n",
              "    <tr>\n",
              "      <th>25%</th>\n",
              "      <td>-5.098435e-01</td>\n",
              "      <td>-5.092074e-01</td>\n",
              "      <td>-0.509078</td>\n",
              "      <td>-4.957379e-01</td>\n",
              "      <td>-4.973867e-01</td>\n",
              "      <td>-0.506255</td>\n",
              "      <td>-5.007309e-01</td>\n",
              "      <td>-0.498152</td>\n",
              "      <td>-0.498496</td>\n",
              "      <td>-5.053183e-01</td>\n",
              "      <td>-5.065945e-01</td>\n",
              "      <td>-0.507522</td>\n",
              "      <td>-5.029683e-01</td>\n",
              "    </tr>\n",
              "    <tr>\n",
              "      <th>50%</th>\n",
              "      <td>-1.813752e-17</td>\n",
              "      <td>-1.707618e-17</td>\n",
              "      <td>0.000000</td>\n",
              "      <td>-9.798477e-18</td>\n",
              "      <td>1.937418e-17</td>\n",
              "      <td>0.000000</td>\n",
              "      <td>-9.819229e-18</td>\n",
              "      <td>0.000000</td>\n",
              "      <td>0.000000</td>\n",
              "      <td>-2.020004e-17</td>\n",
              "      <td>1.868385e-17</td>\n",
              "      <td>0.000000</td>\n",
              "      <td>1.799098e-17</td>\n",
              "    </tr>\n",
              "    <tr>\n",
              "      <th>75%</th>\n",
              "      <td>4.901565e-01</td>\n",
              "      <td>4.907926e-01</td>\n",
              "      <td>0.490922</td>\n",
              "      <td>5.042621e-01</td>\n",
              "      <td>5.026133e-01</td>\n",
              "      <td>0.493745</td>\n",
              "      <td>4.992691e-01</td>\n",
              "      <td>0.501848</td>\n",
              "      <td>0.501504</td>\n",
              "      <td>4.946817e-01</td>\n",
              "      <td>4.934055e-01</td>\n",
              "      <td>0.492478</td>\n",
              "      <td>4.970317e-01</td>\n",
              "    </tr>\n",
              "    <tr>\n",
              "      <th>max</th>\n",
              "      <td>1.831839e+01</td>\n",
              "      <td>1.060453e+01</td>\n",
              "      <td>8.164751</td>\n",
              "      <td>1.373160e+01</td>\n",
              "      <td>1.778229e+01</td>\n",
              "      <td>10.574900</td>\n",
              "      <td>1.121623e+01</td>\n",
              "      <td>9.410619</td>\n",
              "      <td>9.035364</td>\n",
              "      <td>2.519133e+01</td>\n",
              "      <td>1.633935e+01</td>\n",
              "      <td>16.104661</td>\n",
              "      <td>1.141266e+01</td>\n",
              "    </tr>\n",
              "  </tbody>\n",
              "</table>\n",
              "</div>"
            ],
            "text/plain": [
              "            Fz_N100      FCz_N100  ...       F1_N100      FC1_N100\n",
              "count  2.088000e+04  2.088000e+04  ...  20880.000000  2.088000e+04\n",
              "mean  -7.822770e-04 -2.478773e-03  ...     -0.002048 -2.213974e-03\n",
              "std    9.303461e-01  8.737721e-01  ...      0.960848  9.009437e-01\n",
              "min   -1.595465e+01 -1.360312e+01  ...    -18.418743 -2.023526e+01\n",
              "25%   -5.098435e-01 -5.092074e-01  ...     -0.507522 -5.029683e-01\n",
              "50%   -1.813752e-17 -1.707618e-17  ...      0.000000  1.799098e-17\n",
              "75%    4.901565e-01  4.907926e-01  ...      0.492478  4.970317e-01\n",
              "max    1.831839e+01  1.060453e+01  ...     16.104661  1.141266e+01\n",
              "\n",
              "[8 rows x 13 columns]"
            ]
          },
          "metadata": {
            "tags": []
          },
          "execution_count": 17
        }
      ]
    },
    {
      "cell_type": "code",
      "metadata": {
        "id": "Gk4UKxcR63HB",
        "colab_type": "code",
        "colab": {}
      },
      "source": [
        "MEAN = np.array(desc.T['mean'])\n",
        "STD = np.array(desc.T['std'])"
      ],
      "execution_count": 0,
      "outputs": []
    },
    {
      "cell_type": "code",
      "metadata": {
        "id": "3Mptq_Rv-8n8",
        "colab_type": "code",
        "colab": {}
      },
      "source": [
        "def normalize_numeric_data(data, mean, std):\n",
        "  # Center the data\n",
        "  return (data-mean)/std"
      ],
      "execution_count": 0,
      "outputs": []
    },
    {
      "cell_type": "code",
      "metadata": {
        "id": "CJFXDl21--R9",
        "colab_type": "code",
        "colab": {
          "base_uri": "https://localhost:8080/",
          "height": 131
        },
        "outputId": "1893c420-5213-433b-8bf3-073097f63a77"
      },
      "source": [
        "normalizer = functools.partial(normalize_numeric_data, mean=MEAN, std=STD)\n",
        "\n",
        "numeric_column = tf.feature_column.numeric_column('numeric', normalizer_fn=normalizer, shape=[len(NUMERIC_FEATURES)])\n",
        "numeric_columns = [numeric_column]\n",
        "numeric_column"
      ],
      "execution_count": 20,
      "outputs": [
        {
          "output_type": "execute_result",
          "data": {
            "text/plain": [
              "NumericColumn(key='numeric', shape=(13,), default_value=None, dtype=tf.float32, normalizer_fn=functools.partial(<function normalize_numeric_data at 0x7f648ba83e18>, mean=array([-0.00078228, -0.00247877, -0.01097214,  0.00077302,  0.0070823 ,\n",
              "       -0.00437241,  0.00466168, -0.00254084,  0.00350858,  0.01473456,\n",
              "        0.00140807, -0.00204818, -0.00221397]), std=array([0.9303461 , 0.87377213, 0.86149076, 0.90027443, 0.90327843,\n",
              "       0.87993166, 0.87749373, 0.87877018, 0.87792124, 1.05461781,\n",
              "       0.93732932, 0.96084788, 0.90094367])))"
            ]
          },
          "metadata": {
            "tags": []
          },
          "execution_count": 20
        }
      ]
    },
    {
      "cell_type": "code",
      "metadata": {
        "id": "ecmCU8jk_AGV",
        "colab_type": "code",
        "colab": {
          "base_uri": "https://localhost:8080/",
          "height": 1000
        },
        "outputId": "8849ff39-c6f8-4226-e03e-7bbac6abd85e"
      },
      "source": [
        "example_batch, labels_batch = next(iter(train_data)) \n",
        "example_batch['numeric']"
      ],
      "execution_count": 21,
      "outputs": [
        {
          "output_type": "execute_result",
          "data": {
            "text/plain": [
              "<tf.Tensor: id=248, shape=(32, 13), dtype=float32, numpy=\n",
              "array([[-2.28631210e+00, -1.75679481e+00, -1.30675030e+00,\n",
              "        -1.62165844e+00, -1.33035731e+00, -9.46616471e-01,\n",
              "        -7.95863092e-01, -4.86307859e-01, -3.47871870e-01,\n",
              "        -2.25631094e+00, -1.93460798e+00, -2.15763330e+00,\n",
              "        -1.98787582e+00],\n",
              "       [ 5.14298797e-01,  3.78493965e-01,  6.11680210e-01,\n",
              "        -1.57147095e-01,  2.52337009e-01,  6.29275560e-01,\n",
              "         3.31153274e-01,  1.92887798e-01, -1.05674826e-01,\n",
              "         2.22424462e-01,  2.48710379e-01,  2.41548762e-01,\n",
              "         1.28705785e-01],\n",
              "       [-8.34523499e-01, -9.81073380e-01, -9.89702523e-01,\n",
              "        -6.79381013e-01, -7.61388898e-01, -6.38895988e-01,\n",
              "        -7.95370698e-01, -3.14146489e-01, -9.56233859e-01,\n",
              "        -3.31531703e-01, -7.62208939e-01, -5.85048497e-01,\n",
              "        -8.95972669e-01],\n",
              "       [ 8.91623318e-01,  8.65138233e-01,  8.56508076e-01,\n",
              "         1.09665203e+00,  6.71957135e-01,  1.15307522e+00,\n",
              "         7.29044497e-01,  1.26772821e+00,  9.66500759e-01,\n",
              "         8.77068818e-01,  8.16008389e-01,  9.57985401e-01,\n",
              "         9.79618073e-01],\n",
              "       [-2.15472639e-01,  1.04067765e-01,  3.01339597e-01,\n",
              "        -3.18972915e-02,  3.42463523e-01, -1.92163214e-01,\n",
              "         3.15353215e-01, -4.51869905e-01,  9.99477580e-02,\n",
              "        -2.88508505e-01, -8.17474574e-02, -1.66226029e-01,\n",
              "         1.49171934e-01],\n",
              "       [ 1.56434941e+00,  1.47748387e+00,  1.03368902e+00,\n",
              "         1.68891609e+00,  1.30992055e+00,  1.23131299e+00,\n",
              "         7.99111187e-01,  9.30923343e-01,  5.19284010e-01,\n",
              "         1.26617026e+00,  1.39245260e+00,  1.83106232e+00,\n",
              "         1.60604084e+00],\n",
              "       [ 1.29958618e+00,  2.15346098e+00,  9.91320193e-01,\n",
              "         1.13126528e+00,  1.11696863e+00,  6.40313476e-02,\n",
              "         7.77076423e-01,  3.04920733e-01,  5.37012100e-01,\n",
              "         1.42646599e+00,  1.51534331e+00,  1.35899901e+00,\n",
              "         1.23715889e+00],\n",
              "       [ 9.89919484e-01,  8.22470665e-01,  4.48769897e-01,\n",
              "         9.26486194e-01,  6.47594631e-01,  1.00819778e+00,\n",
              "         1.11300564e+00,  7.42137432e-01,  9.55299675e-01,\n",
              "         5.48073769e-01,  7.36038864e-01,  6.61829054e-01,\n",
              "         6.74761713e-01],\n",
              "       [-5.18994987e-01, -3.30152214e-01,  2.64385790e-01,\n",
              "         5.10772407e-01,  5.15342355e-01,  7.27476120e-01,\n",
              "         5.23583055e-01,  6.26913190e-01, -1.26460060e-01,\n",
              "        -3.11072290e-01, -2.94433296e-01, -1.11199282e-01,\n",
              "         1.02724783e-01],\n",
              "       [ 4.05168414e-01,  3.09155107e-01,  3.62697214e-01,\n",
              "         7.80800641e-01,  2.83825576e-01,  8.48441780e-01,\n",
              "         1.22168280e-01,  6.45601153e-01,  5.60529649e-01,\n",
              "         7.38929749e-01,  2.09578454e-01,  5.71433306e-01,\n",
              "         4.00113434e-01],\n",
              "       [ 2.78549492e-01,  1.47305399e-01,  3.24513763e-02,\n",
              "         1.94010973e-01,  3.81229430e-01, -1.41012922e-01,\n",
              "         3.21894526e-01, -9.86600220e-02,  7.61815161e-02,\n",
              "         3.97872895e-01,  1.35426268e-01,  1.87743679e-01,\n",
              "         1.22047059e-01],\n",
              "       [-2.22336557e-02, -1.49124056e-01, -6.04608096e-02,\n",
              "        -6.01774603e-02, -3.39091212e-01, -1.00705750e-01,\n",
              "         2.10434482e-01,  6.65544495e-02,  2.41563525e-02,\n",
              "         2.25042760e-01, -1.35109335e-01, -1.30402634e-03,\n",
              "        -1.07386664e-01],\n",
              "       [ 4.65576872e-02,  1.27492055e-01, -1.41236886e-01,\n",
              "        -3.24316293e-01,  4.82392423e-02,  2.55108565e-01,\n",
              "         3.60126108e-01, -2.77898908e-01, -1.73632279e-01,\n",
              "        -1.45401299e-01, -4.30176109e-02, -1.69929549e-01,\n",
              "         2.44995892e-01],\n",
              "       [ 4.12348956e-01,  3.32674593e-01,  3.54413778e-01,\n",
              "         2.02333122e-01,  4.94185179e-01,  1.80567220e-01,\n",
              "         4.51128691e-01,  5.72167993e-01,  3.89534652e-01,\n",
              "         3.19563866e-01,  6.30073965e-01,  3.54252100e-01,\n",
              "         2.72195995e-01],\n",
              "       [-7.79968023e-01, -5.34404755e-01, -4.47008878e-01,\n",
              "        -5.49746037e-01, -1.73179400e+00, -2.91384459e-01,\n",
              "        -6.38654709e-01, -8.87154415e-02, -4.34381515e-01,\n",
              "        -5.20560920e-01, -5.61666965e-01, -6.79141700e-01,\n",
              "        -8.23768675e-01],\n",
              "       [-6.08082056e-01, -4.53488320e-01, -7.20981479e-01,\n",
              "        -6.88582063e-01, -5.12723386e-01, -8.24357688e-01,\n",
              "        -3.45397502e-01, -9.11351383e-01, -6.70457363e-01,\n",
              "        -7.06417143e-01, -6.16713285e-01, -5.88722408e-01,\n",
              "        -6.64582610e-01],\n",
              "       [-2.92319745e-01,  5.87172667e-03,  5.48709445e-02,\n",
              "         5.24849355e-01, -2.16629714e-01,  8.69684994e-01,\n",
              "         6.92894161e-02,  1.06899738e+00,  4.33725446e-01,\n",
              "        -6.44620433e-02, -2.05795735e-01, -3.95001471e-02,\n",
              "         3.84936064e-01],\n",
              "       [-2.30421484e-01, -1.19317442e-01, -9.00629982e-02,\n",
              "        -3.82640302e-01,  2.44604275e-01, -2.87585735e-01,\n",
              "        -8.94103423e-02, -2.54804045e-01, -2.04914510e-01,\n",
              "        -5.40813729e-02, -2.06955269e-01, -3.45698833e-01,\n",
              "        -2.06327438e-01],\n",
              "       [ 1.63778484e-01,  1.01982184e-01, -2.41567388e-01,\n",
              "         2.33375281e-01,  6.67658225e-02,  6.19089790e-02,\n",
              "        -2.86421902e-03, -5.75514138e-01, -2.38930717e-01,\n",
              "         2.30470479e-01,  1.01254426e-01,  3.98519188e-02,\n",
              "         3.90965194e-01],\n",
              "       [-1.02525902e+00, -9.83001530e-01, -8.71821642e-01,\n",
              "        -7.29101539e-01, -4.60039377e-01, -9.98073578e-01,\n",
              "        -6.41633689e-01, -6.28332734e-01, -2.26392508e-01,\n",
              "        -8.82588804e-01, -7.78434813e-01, -7.33907938e-01,\n",
              "        -1.14022231e+00],\n",
              "       [ 3.28927726e-01,  1.14804313e-01, -1.05718575e-01,\n",
              "        -3.54040116e-01,  1.45692110e-01, -6.03186250e-01,\n",
              "         2.43590232e-02, -6.88401878e-01, -8.90582427e-02,\n",
              "         4.69934583e-01,  4.23310429e-01, -9.57165062e-02,\n",
              "        -1.55329123e-01],\n",
              "       [-1.27592534e-01, -2.43054479e-01, -4.92234021e-01,\n",
              "        -8.53465945e-02, -4.20466542e-01, -2.40000740e-01,\n",
              "        -4.07565027e-01, -3.82943116e-02, -3.55035633e-01,\n",
              "        -6.73881620e-02, -2.96261549e-01, -2.83909738e-01,\n",
              "        -1.68238804e-01],\n",
              "       [ 2.99118310e-01, -4.70176578e-01,  4.61841881e-01,\n",
              "        -1.42049059e-01, -2.87351251e-01, -3.48351002e-01,\n",
              "        -4.60315645e-02, -5.51730514e-01, -8.74139890e-02,\n",
              "        -7.58092225e-01, -2.49211803e-01, -1.54644772e-01,\n",
              "        -1.63596600e-01],\n",
              "       [-8.37190390e-01, -7.75924861e-01, -1.00995195e+00,\n",
              "        -4.70884532e-01, -6.44049883e-01, -1.85540631e-01,\n",
              "        -1.06656992e+00, -5.85076660e-02, -6.06737077e-01,\n",
              "        -5.65866113e-01, -7.82137394e-01, -5.79825938e-01,\n",
              "        -3.77800882e-01],\n",
              "       [ 1.45169950e+00,  7.70349920e-01,  6.56680226e-01,\n",
              "         1.56922686e+00,  1.29944539e+00,  1.44205630e+00,\n",
              "         1.22700799e+00,  1.34619617e+00,  1.05293906e+00,\n",
              "         1.23710704e+00,  1.43303156e+00,  1.29833102e+00,\n",
              "         1.05502224e+00],\n",
              "       [ 6.59508228e-01,  1.63727492e-01,  2.99915463e-01,\n",
              "        -1.05706632e-01,  2.23480314e-01, -8.30787644e-02,\n",
              "         5.36025882e-01,  1.69237658e-01,  7.32174754e-01,\n",
              "        -6.43754065e-01, -2.18598899e-02, -9.97194648e-02,\n",
              "         1.22150639e-02],\n",
              "       [ 5.17291613e-02, -2.13938225e-02, -6.89284503e-03,\n",
              "        -3.80670995e-01, -1.67411100e-03, -2.68964410e-01,\n",
              "        -3.85288507e-01, -1.38624534e-01, -4.96259689e-01,\n",
              "        -1.73503280e-01, -1.18876444e-02, -2.70419925e-01,\n",
              "        -3.70023370e-01],\n",
              "       [ 5.47949016e-01,  1.16166383e-01,  5.33645332e-01,\n",
              "         3.83595735e-01, -9.12578702e-01,  1.53695777e-01,\n",
              "        -7.42691934e-01,  2.62289762e-01, -6.22551680e-01,\n",
              "         9.42848563e-01,  1.34398952e-01,  1.09567010e+00,\n",
              "         7.66362011e-01],\n",
              "       [-1.56701672e+00, -2.48464537e+00, -2.82932472e+00,\n",
              "        -2.00033593e+00, -2.24738359e+00, -2.30845356e+00,\n",
              "        -2.88475370e+00, -2.73883557e+00, -3.20405102e+00,\n",
              "        -5.04059494e-01, -1.32973194e+00, -1.63614893e+00,\n",
              "        -2.19210887e+00],\n",
              "       [ 6.23331219e-02,  2.70834833e-01,  5.32248318e-01,\n",
              "         6.73958421e-01, -2.02081695e-01,  1.30235136e+00,\n",
              "        -5.86221457e-01,  9.88869786e-01, -3.99673358e-02,\n",
              "         2.17883632e-01,  8.99659768e-02,  3.69753540e-01,\n",
              "         5.57016373e-01],\n",
              "       [-2.34570339e-01, -1.53242126e-01, -5.65689094e-02,\n",
              "        -1.65717565e-02, -4.65127788e-02, -3.76712903e-02,\n",
              "        -9.08794105e-02,  9.18667614e-02,  2.30384246e-02,\n",
              "        -1.78669780e-01, -2.77126819e-01, -3.89968365e-01,\n",
              "        -1.79015845e-01],\n",
              "       [ 4.33791429e-01,  5.77197134e-01,  4.08335865e-01,\n",
              "         2.86457062e-01,  1.19922690e-01,  4.60258901e-01,\n",
              "         7.04706728e-01,  4.72359687e-01,  6.79213405e-01,\n",
              "         2.79444247e-01,  2.65229344e-01,  3.14626962e-01,\n",
              "         4.33834910e-01]], dtype=float32)>"
            ]
          },
          "metadata": {
            "tags": []
          },
          "execution_count": 21
        }
      ]
    },
    {
      "cell_type": "code",
      "metadata": {
        "id": "xRov_nW0_BtX",
        "colab_type": "code",
        "colab": {}
      },
      "source": [
        "numeric_layer = tf.keras.layers.DenseFeatures(numeric_columns)"
      ],
      "execution_count": 0,
      "outputs": []
    },
    {
      "cell_type": "code",
      "metadata": {
        "id": "-oXV8Ces_Did",
        "colab_type": "code",
        "colab": {}
      },
      "source": [
        "CATEGORIES = {'condition': [1, 2, 3]}"
      ],
      "execution_count": 0,
      "outputs": []
    },
    {
      "cell_type": "code",
      "metadata": {
        "id": "Nj0Vx4ZY_Ijo",
        "colab_type": "code",
        "colab": {}
      },
      "source": [
        "categorical_columns = []\n",
        "for feature, vocab in CATEGORIES.items():\n",
        "  cat_col = tf.feature_column.categorical_column_with_vocabulary_list(\n",
        "        key=feature, vocabulary_list=vocab)\n",
        "  categorical_columns.append(tf.feature_column.indicator_column(cat_col))"
      ],
      "execution_count": 0,
      "outputs": []
    },
    {
      "cell_type": "code",
      "metadata": {
        "id": "SGveL92S_JD8",
        "colab_type": "code",
        "colab": {}
      },
      "source": [
        "categorical_layer = tf.keras.layers.DenseFeatures(categorical_columns)"
      ],
      "execution_count": 0,
      "outputs": []
    },
    {
      "cell_type": "code",
      "metadata": {
        "id": "Ryia6HlP_KrN",
        "colab_type": "code",
        "colab": {}
      },
      "source": [
        "preprocessing_layer = tf.keras.layers.DenseFeatures(categorical_columns+numeric_columns) #+numeric_columns"
      ],
      "execution_count": 0,
      "outputs": []
    },
    {
      "cell_type": "code",
      "metadata": {
        "id": "I4UzEuPn_MMR",
        "colab_type": "code",
        "colab": {}
      },
      "source": [
        "model = tf.keras.Sequential([\n",
        "  preprocessing_layer,\n",
        "  tf.keras.layers.Dense(128, activation='relu'),\n",
        "  tf.keras.layers.Dense(128, activation='relu'),\n",
        "  tf.keras.layers.Dense(128, activation='relu'),\n",
        "  tf.keras.layers.Dense(1, activation='softmax'),\n",
        "])\n",
        "\n",
        "model.compile(\n",
        "    loss='binary_crossentropy',\n",
        "    optimizer='adam',\n",
        "    metrics=['accuracy'])"
      ],
      "execution_count": 0,
      "outputs": []
    },
    {
      "cell_type": "code",
      "metadata": {
        "id": "QY1za6xV_OGZ",
        "colab_type": "code",
        "colab": {
          "base_uri": "https://localhost:8080/",
          "height": 36
        },
        "outputId": "c9e3fe09-afaa-4696-d3d6-cf537b09c8e1"
      },
      "source": [
        "checkpoint_path = \"model4/cp.ckpt\"\n",
        "checkpoint_dir = os.path.dirname(checkpoint_path)\n",
        "\n",
        "# 체크포인트 콜백 만들기\n",
        "cp_callback = tf.keras.callbacks.ModelCheckpoint(\n",
        "    checkpoint_path, verbose=1, save_weights_only=True,\n",
        "\n",
        "    period=20)"
      ],
      "execution_count": 28,
      "outputs": [
        {
          "output_type": "stream",
          "text": [
            "WARNING:tensorflow:`period` argument is deprecated. Please use `save_freq` to specify the frequency in number of samples seen.\n"
          ],
          "name": "stdout"
        }
      ]
    },
    {
      "cell_type": "code",
      "metadata": {
        "id": "_HT0kZXD_Qv7",
        "colab_type": "code",
        "colab": {
          "base_uri": "https://localhost:8080/",
          "height": 517
        },
        "outputId": "2857eb9f-85df-41c7-ba56-2c7bffcb2765"
      },
      "source": [
        "model.fit(train_data, epochs=20, callbacks = [cp_callback])"
      ],
      "execution_count": 31,
      "outputs": [
        {
          "output_type": "stream",
          "text": [
            "Epoch 1/20\n",
            "653/653 [==============================] - 6s 8ms/step - loss: 6.0220 - acc: 0.6051\n",
            "Epoch 2/20\n",
            "653/653 [==============================] - 3s 4ms/step - loss: 6.0225 - acc: 0.6051\n",
            "Epoch 3/20\n",
            "653/653 [==============================] - 3s 4ms/step - loss: 6.0225 - acc: 0.6051\n",
            "Epoch 4/20\n",
            "653/653 [==============================] - 3s 4ms/step - loss: 6.0225 - acc: 0.6051\n",
            "Epoch 5/20\n",
            "453/653 [===================>..........] - ETA: 0s - loss: 6.0646 - acc: 0.6023"
          ],
          "name": "stdout"
        },
        {
          "output_type": "error",
          "ename": "KeyboardInterrupt",
          "evalue": "ignored",
          "traceback": [
            "\u001b[0;31m---------------------------------------------------------------------------\u001b[0m",
            "\u001b[0;31mKeyboardInterrupt\u001b[0m                         Traceback (most recent call last)",
            "\u001b[0;32m<ipython-input-31-99273caf48e9>\u001b[0m in \u001b[0;36m<module>\u001b[0;34m()\u001b[0m\n\u001b[0;32m----> 1\u001b[0;31m \u001b[0mmodel\u001b[0m\u001b[0;34m.\u001b[0m\u001b[0mfit\u001b[0m\u001b[0;34m(\u001b[0m\u001b[0mtrain_data\u001b[0m\u001b[0;34m,\u001b[0m \u001b[0mepochs\u001b[0m\u001b[0;34m=\u001b[0m\u001b[0;36m20\u001b[0m\u001b[0;34m,\u001b[0m \u001b[0mcallbacks\u001b[0m \u001b[0;34m=\u001b[0m \u001b[0;34m[\u001b[0m\u001b[0mcp_callback\u001b[0m\u001b[0;34m]\u001b[0m\u001b[0;34m)\u001b[0m\u001b[0;34m\u001b[0m\u001b[0;34m\u001b[0m\u001b[0m\n\u001b[0m",
            "\u001b[0;32m/usr/local/lib/python3.6/dist-packages/tensorflow_core/python/keras/engine/training.py\u001b[0m in \u001b[0;36mfit\u001b[0;34m(self, x, y, batch_size, epochs, verbose, callbacks, validation_split, validation_data, shuffle, class_weight, sample_weight, initial_epoch, steps_per_epoch, validation_steps, validation_freq, max_queue_size, workers, use_multiprocessing, **kwargs)\u001b[0m\n\u001b[1;32m    725\u001b[0m         \u001b[0mmax_queue_size\u001b[0m\u001b[0;34m=\u001b[0m\u001b[0mmax_queue_size\u001b[0m\u001b[0;34m,\u001b[0m\u001b[0;34m\u001b[0m\u001b[0;34m\u001b[0m\u001b[0m\n\u001b[1;32m    726\u001b[0m         \u001b[0mworkers\u001b[0m\u001b[0;34m=\u001b[0m\u001b[0mworkers\u001b[0m\u001b[0;34m,\u001b[0m\u001b[0;34m\u001b[0m\u001b[0;34m\u001b[0m\u001b[0m\n\u001b[0;32m--> 727\u001b[0;31m         use_multiprocessing=use_multiprocessing)\n\u001b[0m\u001b[1;32m    728\u001b[0m \u001b[0;34m\u001b[0m\u001b[0m\n\u001b[1;32m    729\u001b[0m   def evaluate(self,\n",
            "\u001b[0;32m/usr/local/lib/python3.6/dist-packages/tensorflow_core/python/keras/engine/training_v2.py\u001b[0m in \u001b[0;36mfit\u001b[0;34m(self, model, x, y, batch_size, epochs, verbose, callbacks, validation_split, validation_data, shuffle, class_weight, sample_weight, initial_epoch, steps_per_epoch, validation_steps, validation_freq, max_queue_size, workers, use_multiprocessing, **kwargs)\u001b[0m\n\u001b[1;32m    329\u001b[0m                 \u001b[0mmode\u001b[0m\u001b[0;34m=\u001b[0m\u001b[0mModeKeys\u001b[0m\u001b[0;34m.\u001b[0m\u001b[0mTRAIN\u001b[0m\u001b[0;34m,\u001b[0m\u001b[0;34m\u001b[0m\u001b[0;34m\u001b[0m\u001b[0m\n\u001b[1;32m    330\u001b[0m                 \u001b[0mtraining_context\u001b[0m\u001b[0;34m=\u001b[0m\u001b[0mtraining_context\u001b[0m\u001b[0;34m,\u001b[0m\u001b[0;34m\u001b[0m\u001b[0;34m\u001b[0m\u001b[0m\n\u001b[0;32m--> 331\u001b[0;31m                 total_epochs=epochs)\n\u001b[0m\u001b[1;32m    332\u001b[0m             \u001b[0mcbks\u001b[0m\u001b[0;34m.\u001b[0m\u001b[0mmake_logs\u001b[0m\u001b[0;34m(\u001b[0m\u001b[0mmodel\u001b[0m\u001b[0;34m,\u001b[0m \u001b[0mepoch_logs\u001b[0m\u001b[0;34m,\u001b[0m \u001b[0mtraining_result\u001b[0m\u001b[0;34m,\u001b[0m \u001b[0mModeKeys\u001b[0m\u001b[0;34m.\u001b[0m\u001b[0mTRAIN\u001b[0m\u001b[0;34m)\u001b[0m\u001b[0;34m\u001b[0m\u001b[0;34m\u001b[0m\u001b[0m\n\u001b[1;32m    333\u001b[0m \u001b[0;34m\u001b[0m\u001b[0m\n",
            "\u001b[0;32m/usr/local/lib/python3.6/dist-packages/tensorflow_core/python/keras/engine/training_v2.py\u001b[0m in \u001b[0;36mrun_one_epoch\u001b[0;34m(model, iterator, execution_function, dataset_size, batch_size, strategy, steps_per_epoch, num_samples, mode, training_context, total_epochs)\u001b[0m\n\u001b[1;32m    121\u001b[0m         step=step, mode=mode, size=current_batch_size) as batch_logs:\n\u001b[1;32m    122\u001b[0m       \u001b[0;32mtry\u001b[0m\u001b[0;34m:\u001b[0m\u001b[0;34m\u001b[0m\u001b[0;34m\u001b[0m\u001b[0m\n\u001b[0;32m--> 123\u001b[0;31m         \u001b[0mbatch_outs\u001b[0m \u001b[0;34m=\u001b[0m \u001b[0mexecution_function\u001b[0m\u001b[0;34m(\u001b[0m\u001b[0miterator\u001b[0m\u001b[0;34m)\u001b[0m\u001b[0;34m\u001b[0m\u001b[0;34m\u001b[0m\u001b[0m\n\u001b[0m\u001b[1;32m    124\u001b[0m       \u001b[0;32mexcept\u001b[0m \u001b[0;34m(\u001b[0m\u001b[0mStopIteration\u001b[0m\u001b[0;34m,\u001b[0m \u001b[0merrors\u001b[0m\u001b[0;34m.\u001b[0m\u001b[0mOutOfRangeError\u001b[0m\u001b[0;34m)\u001b[0m\u001b[0;34m:\u001b[0m\u001b[0;34m\u001b[0m\u001b[0;34m\u001b[0m\u001b[0m\n\u001b[1;32m    125\u001b[0m         \u001b[0;31m# TODO(kaftan): File bug about tf function and errors.OutOfRangeError?\u001b[0m\u001b[0;34m\u001b[0m\u001b[0;34m\u001b[0m\u001b[0;34m\u001b[0m\u001b[0m\n",
            "\u001b[0;32m/usr/local/lib/python3.6/dist-packages/tensorflow_core/python/keras/engine/training_v2_utils.py\u001b[0m in \u001b[0;36mexecution_function\u001b[0;34m(input_fn)\u001b[0m\n\u001b[1;32m     84\u001b[0m     \u001b[0;31m# `numpy` translates Tensors to values in Eager mode.\u001b[0m\u001b[0;34m\u001b[0m\u001b[0;34m\u001b[0m\u001b[0;34m\u001b[0m\u001b[0m\n\u001b[1;32m     85\u001b[0m     return nest.map_structure(_non_none_constant_value,\n\u001b[0;32m---> 86\u001b[0;31m                               distributed_function(input_fn))\n\u001b[0m\u001b[1;32m     87\u001b[0m \u001b[0;34m\u001b[0m\u001b[0m\n\u001b[1;32m     88\u001b[0m   \u001b[0;32mreturn\u001b[0m \u001b[0mexecution_function\u001b[0m\u001b[0;34m\u001b[0m\u001b[0;34m\u001b[0m\u001b[0m\n",
            "\u001b[0;32m/usr/local/lib/python3.6/dist-packages/tensorflow_core/python/eager/def_function.py\u001b[0m in \u001b[0;36m__call__\u001b[0;34m(self, *args, **kwds)\u001b[0m\n\u001b[1;32m    435\u001b[0m       \u001b[0;31m# In this case we have created variables on the first call, so we run the\u001b[0m\u001b[0;34m\u001b[0m\u001b[0;34m\u001b[0m\u001b[0;34m\u001b[0m\u001b[0m\n\u001b[1;32m    436\u001b[0m       \u001b[0;31m# defunned version which is guaranteed to never create variables.\u001b[0m\u001b[0;34m\u001b[0m\u001b[0;34m\u001b[0m\u001b[0;34m\u001b[0m\u001b[0m\n\u001b[0;32m--> 437\u001b[0;31m       \u001b[0;32mreturn\u001b[0m \u001b[0mself\u001b[0m\u001b[0;34m.\u001b[0m\u001b[0m_stateless_fn\u001b[0m\u001b[0;34m(\u001b[0m\u001b[0;34m*\u001b[0m\u001b[0margs\u001b[0m\u001b[0;34m,\u001b[0m \u001b[0;34m**\u001b[0m\u001b[0mkwds\u001b[0m\u001b[0;34m)\u001b[0m  \u001b[0;31m# pylint: disable=not-callable\u001b[0m\u001b[0;34m\u001b[0m\u001b[0;34m\u001b[0m\u001b[0m\n\u001b[0m\u001b[1;32m    438\u001b[0m     \u001b[0;32melif\u001b[0m \u001b[0mself\u001b[0m\u001b[0;34m.\u001b[0m\u001b[0m_stateful_fn\u001b[0m \u001b[0;32mis\u001b[0m \u001b[0;32mnot\u001b[0m \u001b[0;32mNone\u001b[0m\u001b[0;34m:\u001b[0m\u001b[0;34m\u001b[0m\u001b[0;34m\u001b[0m\u001b[0m\n\u001b[1;32m    439\u001b[0m       \u001b[0;31m# In this case we have not created variables on the first call. So we can\u001b[0m\u001b[0;34m\u001b[0m\u001b[0;34m\u001b[0m\u001b[0;34m\u001b[0m\u001b[0m\n",
            "\u001b[0;32m/usr/local/lib/python3.6/dist-packages/tensorflow_core/python/eager/function.py\u001b[0m in \u001b[0;36m__call__\u001b[0;34m(self, *args, **kwargs)\u001b[0m\n\u001b[1;32m   1820\u001b[0m     \u001b[0;34m\"\"\"Calls a graph function specialized to the inputs.\"\"\"\u001b[0m\u001b[0;34m\u001b[0m\u001b[0;34m\u001b[0m\u001b[0m\n\u001b[1;32m   1821\u001b[0m     \u001b[0mgraph_function\u001b[0m\u001b[0;34m,\u001b[0m \u001b[0margs\u001b[0m\u001b[0;34m,\u001b[0m \u001b[0mkwargs\u001b[0m \u001b[0;34m=\u001b[0m \u001b[0mself\u001b[0m\u001b[0;34m.\u001b[0m\u001b[0m_maybe_define_function\u001b[0m\u001b[0;34m(\u001b[0m\u001b[0margs\u001b[0m\u001b[0;34m,\u001b[0m \u001b[0mkwargs\u001b[0m\u001b[0;34m)\u001b[0m\u001b[0;34m\u001b[0m\u001b[0;34m\u001b[0m\u001b[0m\n\u001b[0;32m-> 1822\u001b[0;31m     \u001b[0;32mreturn\u001b[0m \u001b[0mgraph_function\u001b[0m\u001b[0;34m.\u001b[0m\u001b[0m_filtered_call\u001b[0m\u001b[0;34m(\u001b[0m\u001b[0margs\u001b[0m\u001b[0;34m,\u001b[0m \u001b[0mkwargs\u001b[0m\u001b[0;34m)\u001b[0m  \u001b[0;31m# pylint: disable=protected-access\u001b[0m\u001b[0;34m\u001b[0m\u001b[0;34m\u001b[0m\u001b[0m\n\u001b[0m\u001b[1;32m   1823\u001b[0m \u001b[0;34m\u001b[0m\u001b[0m\n\u001b[1;32m   1824\u001b[0m   \u001b[0;34m@\u001b[0m\u001b[0mproperty\u001b[0m\u001b[0;34m\u001b[0m\u001b[0;34m\u001b[0m\u001b[0m\n",
            "\u001b[0;32m/usr/local/lib/python3.6/dist-packages/tensorflow_core/python/eager/function.py\u001b[0m in \u001b[0;36m_filtered_call\u001b[0;34m(self, args, kwargs)\u001b[0m\n\u001b[1;32m   1139\u001b[0m          if isinstance(t, (ops.Tensor,\n\u001b[1;32m   1140\u001b[0m                            resource_variable_ops.BaseResourceVariable))),\n\u001b[0;32m-> 1141\u001b[0;31m         self.captured_inputs)\n\u001b[0m\u001b[1;32m   1142\u001b[0m \u001b[0;34m\u001b[0m\u001b[0m\n\u001b[1;32m   1143\u001b[0m   \u001b[0;32mdef\u001b[0m \u001b[0m_call_flat\u001b[0m\u001b[0;34m(\u001b[0m\u001b[0mself\u001b[0m\u001b[0;34m,\u001b[0m \u001b[0margs\u001b[0m\u001b[0;34m,\u001b[0m \u001b[0mcaptured_inputs\u001b[0m\u001b[0;34m,\u001b[0m \u001b[0mcancellation_manager\u001b[0m\u001b[0;34m=\u001b[0m\u001b[0;32mNone\u001b[0m\u001b[0;34m)\u001b[0m\u001b[0;34m:\u001b[0m\u001b[0;34m\u001b[0m\u001b[0;34m\u001b[0m\u001b[0m\n",
            "\u001b[0;32m/usr/local/lib/python3.6/dist-packages/tensorflow_core/python/eager/function.py\u001b[0m in \u001b[0;36m_call_flat\u001b[0;34m(self, args, captured_inputs, cancellation_manager)\u001b[0m\n\u001b[1;32m   1222\u001b[0m     \u001b[0;32mif\u001b[0m \u001b[0mexecuting_eagerly\u001b[0m\u001b[0;34m:\u001b[0m\u001b[0;34m\u001b[0m\u001b[0;34m\u001b[0m\u001b[0m\n\u001b[1;32m   1223\u001b[0m       flat_outputs = forward_function.call(\n\u001b[0;32m-> 1224\u001b[0;31m           ctx, args, cancellation_manager=cancellation_manager)\n\u001b[0m\u001b[1;32m   1225\u001b[0m     \u001b[0;32melse\u001b[0m\u001b[0;34m:\u001b[0m\u001b[0;34m\u001b[0m\u001b[0;34m\u001b[0m\u001b[0m\n\u001b[1;32m   1226\u001b[0m       \u001b[0mgradient_name\u001b[0m \u001b[0;34m=\u001b[0m \u001b[0mself\u001b[0m\u001b[0;34m.\u001b[0m\u001b[0m_delayed_rewrite_functions\u001b[0m\u001b[0;34m.\u001b[0m\u001b[0mregister\u001b[0m\u001b[0;34m(\u001b[0m\u001b[0;34m)\u001b[0m\u001b[0;34m\u001b[0m\u001b[0;34m\u001b[0m\u001b[0m\n",
            "\u001b[0;32m/usr/local/lib/python3.6/dist-packages/tensorflow_core/python/eager/function.py\u001b[0m in \u001b[0;36mcall\u001b[0;34m(self, ctx, args, cancellation_manager)\u001b[0m\n\u001b[1;32m    509\u001b[0m               \u001b[0minputs\u001b[0m\u001b[0;34m=\u001b[0m\u001b[0margs\u001b[0m\u001b[0;34m,\u001b[0m\u001b[0;34m\u001b[0m\u001b[0;34m\u001b[0m\u001b[0m\n\u001b[1;32m    510\u001b[0m               \u001b[0mattrs\u001b[0m\u001b[0;34m=\u001b[0m\u001b[0;34m(\u001b[0m\u001b[0;34m\"executor_type\"\u001b[0m\u001b[0;34m,\u001b[0m \u001b[0mexecutor_type\u001b[0m\u001b[0;34m,\u001b[0m \u001b[0;34m\"config_proto\"\u001b[0m\u001b[0;34m,\u001b[0m \u001b[0mconfig\u001b[0m\u001b[0;34m)\u001b[0m\u001b[0;34m,\u001b[0m\u001b[0;34m\u001b[0m\u001b[0;34m\u001b[0m\u001b[0m\n\u001b[0;32m--> 511\u001b[0;31m               ctx=ctx)\n\u001b[0m\u001b[1;32m    512\u001b[0m         \u001b[0;32melse\u001b[0m\u001b[0;34m:\u001b[0m\u001b[0;34m\u001b[0m\u001b[0;34m\u001b[0m\u001b[0m\n\u001b[1;32m    513\u001b[0m           outputs = execute.execute_with_cancellation(\n",
            "\u001b[0;32m/usr/local/lib/python3.6/dist-packages/tensorflow_core/python/eager/execute.py\u001b[0m in \u001b[0;36mquick_execute\u001b[0;34m(op_name, num_outputs, inputs, attrs, ctx, name)\u001b[0m\n\u001b[1;32m     59\u001b[0m     tensors = pywrap_tensorflow.TFE_Py_Execute(ctx._handle, device_name,\n\u001b[1;32m     60\u001b[0m                                                \u001b[0mop_name\u001b[0m\u001b[0;34m,\u001b[0m \u001b[0minputs\u001b[0m\u001b[0;34m,\u001b[0m \u001b[0mattrs\u001b[0m\u001b[0;34m,\u001b[0m\u001b[0;34m\u001b[0m\u001b[0;34m\u001b[0m\u001b[0m\n\u001b[0;32m---> 61\u001b[0;31m                                                num_outputs)\n\u001b[0m\u001b[1;32m     62\u001b[0m   \u001b[0;32mexcept\u001b[0m \u001b[0mcore\u001b[0m\u001b[0;34m.\u001b[0m\u001b[0m_NotOkStatusException\u001b[0m \u001b[0;32mas\u001b[0m \u001b[0me\u001b[0m\u001b[0;34m:\u001b[0m\u001b[0;34m\u001b[0m\u001b[0;34m\u001b[0m\u001b[0m\n\u001b[1;32m     63\u001b[0m     \u001b[0;32mif\u001b[0m \u001b[0mname\u001b[0m \u001b[0;32mis\u001b[0m \u001b[0;32mnot\u001b[0m \u001b[0;32mNone\u001b[0m\u001b[0;34m:\u001b[0m\u001b[0;34m\u001b[0m\u001b[0;34m\u001b[0m\u001b[0m\n",
            "\u001b[0;31mKeyboardInterrupt\u001b[0m: "
          ]
        }
      ]
    },
    {
      "cell_type": "code",
      "metadata": {
        "id": "3fEWIXMn_SaN",
        "colab_type": "code",
        "colab": {}
      },
      "source": [
        "test_loss, test_accuracy = model.evaluate(test_data)\n",
        "\n",
        "print('\\n\\nTest Loss {}, Test Accuracy {}'.format(test_loss, test_accuracy))"
      ],
      "execution_count": 0,
      "outputs": []
    },
    {
      "cell_type": "code",
      "metadata": {
        "id": "QvXoyA2u_Ufc",
        "colab_type": "code",
        "colab": {}
      },
      "source": [
        "model.add(tf.keras.layers.Dropout(0.3))"
      ],
      "execution_count": 0,
      "outputs": []
    }
  ]
}