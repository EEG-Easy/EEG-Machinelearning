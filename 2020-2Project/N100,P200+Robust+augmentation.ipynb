{
  "nbformat": 4,
  "nbformat_minor": 0,
  "metadata": {
    "colab": {
      "name": "N100,P200+Robust+augmentation",
      "provenance": [],
      "authorship_tag": "ABX9TyMB50nvxJhtw830+mH9SqY+",
      "include_colab_link": true
    },
    "kernelspec": {
      "name": "python3",
      "display_name": "Python 3"
    },
    "accelerator": "TPU"
  },
  "cells": [
    {
      "cell_type": "markdown",
      "metadata": {
        "id": "view-in-github",
        "colab_type": "text"
      },
      "source": [
        "<a href=\"https://colab.research.google.com/github/EEG-Easy/EEG-Machinelearning/blob/master/2020-2Project/N100%2CP200%2BRobust%2Baugmentation.ipynb\" target=\"_parent\"><img src=\"https://colab.research.google.com/assets/colab-badge.svg\" alt=\"Open In Colab\"/></a>"
      ]
    },
    {
      "cell_type": "code",
      "metadata": {
        "id": "234qT8s5Cl2z",
        "colab_type": "code",
        "colab": {}
      },
      "source": [
        "from __future__ import absolute_import, division, print_function, unicode_literals\n",
        "import tensorflow as tf\n",
        "from __future__ import absolute_import, division, print_function, unicode_literals\n",
        "import functools\n",
        "\n",
        "import tensorflow as tf\n",
        "tf.enable_eager_execution()\n",
        "from tensorflow import keras\n",
        "import os\n",
        "\n",
        "import numpy as np\n",
        "import pandas as pd\n",
        "\n",
        "import sklearn\n",
        "from sklearn.model_selection import train_test_split\n",
        "from sklearn.preprocessing import StandardScaler\n",
        "from sklearn.preprocessing import RobustScaler\n",
        "\n",
        "tf.keras.backend.clear_session()"
      ],
      "execution_count": 0,
      "outputs": []
    },
    {
      "cell_type": "code",
      "metadata": {
        "id": "rXzMRQwcCtNo",
        "colab_type": "code",
        "outputId": "468e593d-da3d-4f77-ca05-6b9125ee647b",
        "colab": {
          "base_uri": "https://localhost:8080/",
          "height": 36
        }
      },
      "source": [
        "from google.colab import drive\n",
        "\n",
        "drive.mount('/content/gdrive')"
      ],
      "execution_count": 49,
      "outputs": [
        {
          "output_type": "stream",
          "text": [
            "Drive already mounted at /content/gdrive; to attempt to forcibly remount, call drive.mount(\"/content/gdrive\", force_remount=True).\n"
          ],
          "name": "stdout"
        }
      ]
    },
    {
      "cell_type": "code",
      "metadata": {
        "id": "hy_iMlvgC0tC",
        "colab_type": "code",
        "outputId": "d551ec85-dd91-40b2-b375-b4b7bff5616d",
        "colab": {
          "base_uri": "https://localhost:8080/",
          "height": 36
        }
      },
      "source": [
        "cd /content/gdrive/My Drive/eeg"
      ],
      "execution_count": 50,
      "outputs": [
        {
          "output_type": "stream",
          "text": [
            "/content/gdrive/My Drive/eeg\n"
          ],
          "name": "stdout"
        }
      ]
    },
    {
      "cell_type": "code",
      "metadata": {
        "id": "zq20dc0oSagq",
        "colab_type": "code",
        "colab": {}
      },
      "source": [
        "EEG_df = pd.read_csv('mergedTrialData.csv')"
      ],
      "execution_count": 0,
      "outputs": []
    },
    {
      "cell_type": "code",
      "metadata": {
        "id": "1upIGockWD0A",
        "colab_type": "code",
        "colab": {}
      },
      "source": [
        "EEG_df = EEG_df.dropna()"
      ],
      "execution_count": 0,
      "outputs": []
    },
    {
      "cell_type": "code",
      "metadata": {
        "id": "2zYNCuXWSilR",
        "colab_type": "code",
        "colab": {}
      },
      "source": [
        "train, test = train_test_split(EEG_df, test_size=0.2, random_state=123)"
      ],
      "execution_count": 0,
      "outputs": []
    },
    {
      "cell_type": "code",
      "metadata": {
        "id": "GgjznkLOSoEP",
        "colab_type": "code",
        "colab": {}
      },
      "source": [
        "train, val = train_test_split(train, test_size=0.1, random_state=123)"
      ],
      "execution_count": 0,
      "outputs": []
    },
    {
      "cell_type": "code",
      "metadata": {
        "id": "PE_Py3_RTCCA",
        "colab_type": "code",
        "colab": {}
      },
      "source": [
        "train.to_csv('/content/gdrive/My Drive/eeg/train_mergedTrial_origin.csv',sep=',', na_rep='NaN')\n",
        "val.to_csv('/content/gdrive/My Drive/eeg/val_mergedTrial_origin.csv',sep=',', na_rep='NaN')\n",
        "test.to_csv('/content/gdrive/My Drive/eeg/test_mergedTrial_origin.csv',sep=',', na_rep='NaN')"
      ],
      "execution_count": 0,
      "outputs": []
    },
    {
      "cell_type": "code",
      "metadata": {
        "id": "FHaF_48dS7w9",
        "colab_type": "code",
        "outputId": "359a7f40-1339-449b-fcc6-e96e4cb9fffd",
        "colab": {
          "base_uri": "https://localhost:8080/",
          "height": 314
        }
      },
      "source": [
        "desc = pd.read_csv('train_mergedTrial_origin.csv').describe()\n",
        "desc"
      ],
      "execution_count": 0,
      "outputs": [
        {
          "output_type": "execute_result",
          "data": {
            "text/html": [
              "<div>\n",
              "<style scoped>\n",
              "    .dataframe tbody tr th:only-of-type {\n",
              "        vertical-align: middle;\n",
              "    }\n",
              "\n",
              "    .dataframe tbody tr th {\n",
              "        vertical-align: top;\n",
              "    }\n",
              "\n",
              "    .dataframe thead th {\n",
              "        text-align: right;\n",
              "    }\n",
              "</style>\n",
              "<table border=\"1\" class=\"dataframe\">\n",
              "  <thead>\n",
              "    <tr style=\"text-align: right;\">\n",
              "      <th></th>\n",
              "      <th>group</th>\n",
              "      <th>Fz_N100</th>\n",
              "      <th>FCz_N100</th>\n",
              "      <th>Cz_N100</th>\n",
              "      <th>FC3_N100</th>\n",
              "      <th>FC4_N100</th>\n",
              "      <th>C3_N100</th>\n",
              "      <th>C4_N100</th>\n",
              "      <th>CP3_N100</th>\n",
              "      <th>CP4_N100</th>\n",
              "      <th>AFz_N100</th>\n",
              "      <th>F2_N100</th>\n",
              "      <th>F1_N100</th>\n",
              "      <th>FC1_N100</th>\n",
              "      <th>Fz_P200</th>\n",
              "      <th>FCz_P200</th>\n",
              "      <th>Cz_P200</th>\n",
              "      <th>FC3_P200</th>\n",
              "      <th>FC4_P200</th>\n",
              "      <th>C3_P200</th>\n",
              "      <th>C4_P200</th>\n",
              "      <th>CP3_P200</th>\n",
              "      <th>CP4_P200</th>\n",
              "      <th>AFz_P200</th>\n",
              "      <th>F2_P200</th>\n",
              "      <th>F1_P200</th>\n",
              "      <th>FC1_P200</th>\n",
              "    </tr>\n",
              "  </thead>\n",
              "  <tbody>\n",
              "    <tr>\n",
              "      <th>count</th>\n",
              "      <td>66816.000000</td>\n",
              "      <td>66816.000000</td>\n",
              "      <td>66816.000000</td>\n",
              "      <td>66816.000000</td>\n",
              "      <td>66816.000000</td>\n",
              "      <td>66816.000000</td>\n",
              "      <td>66816.000000</td>\n",
              "      <td>66816.000000</td>\n",
              "      <td>66816.000000</td>\n",
              "      <td>66816.000000</td>\n",
              "      <td>66816.000000</td>\n",
              "      <td>66816.000000</td>\n",
              "      <td>66816.000000</td>\n",
              "      <td>66816.000000</td>\n",
              "      <td>66816.000000</td>\n",
              "      <td>66816.000000</td>\n",
              "      <td>66816.000000</td>\n",
              "      <td>66816.000000</td>\n",
              "      <td>66816.000000</td>\n",
              "      <td>66816.000000</td>\n",
              "      <td>66816.000000</td>\n",
              "      <td>66816.000000</td>\n",
              "      <td>66816.000000</td>\n",
              "      <td>66816.000000</td>\n",
              "      <td>66816.000000</td>\n",
              "      <td>66816.000000</td>\n",
              "      <td>66816.000000</td>\n",
              "    </tr>\n",
              "    <tr>\n",
              "      <th>mean</th>\n",
              "      <td>0.605843</td>\n",
              "      <td>-2.513496</td>\n",
              "      <td>-2.604317</td>\n",
              "      <td>-2.132220</td>\n",
              "      <td>-1.980190</td>\n",
              "      <td>-2.274804</td>\n",
              "      <td>-1.426135</td>\n",
              "      <td>-1.981175</td>\n",
              "      <td>-1.082189</td>\n",
              "      <td>-1.535171</td>\n",
              "      <td>-1.946934</td>\n",
              "      <td>-2.435015</td>\n",
              "      <td>-2.390507</td>\n",
              "      <td>-2.335459</td>\n",
              "      <td>3.001686</td>\n",
              "      <td>3.609884</td>\n",
              "      <td>3.753958</td>\n",
              "      <td>3.246499</td>\n",
              "      <td>2.727980</td>\n",
              "      <td>3.467029</td>\n",
              "      <td>2.618576</td>\n",
              "      <td>2.775628</td>\n",
              "      <td>2.139187</td>\n",
              "      <td>2.562193</td>\n",
              "      <td>2.869129</td>\n",
              "      <td>3.020472</td>\n",
              "      <td>3.632557</td>\n",
              "    </tr>\n",
              "    <tr>\n",
              "      <th>std</th>\n",
              "      <td>0.488673</td>\n",
              "      <td>11.500742</td>\n",
              "      <td>11.495119</td>\n",
              "      <td>11.323416</td>\n",
              "      <td>10.396010</td>\n",
              "      <td>10.544813</td>\n",
              "      <td>10.075888</td>\n",
              "      <td>10.117429</td>\n",
              "      <td>10.353423</td>\n",
              "      <td>10.572908</td>\n",
              "      <td>11.727751</td>\n",
              "      <td>11.255678</td>\n",
              "      <td>11.267142</td>\n",
              "      <td>11.147220</td>\n",
              "      <td>12.396236</td>\n",
              "      <td>12.014706</td>\n",
              "      <td>11.629881</td>\n",
              "      <td>11.139120</td>\n",
              "      <td>11.177584</td>\n",
              "      <td>10.479586</td>\n",
              "      <td>10.421589</td>\n",
              "      <td>10.546520</td>\n",
              "      <td>10.760845</td>\n",
              "      <td>13.319850</td>\n",
              "      <td>12.164165</td>\n",
              "      <td>12.103451</td>\n",
              "      <td>11.772162</td>\n",
              "    </tr>\n",
              "    <tr>\n",
              "      <th>min</th>\n",
              "      <td>0.000000</td>\n",
              "      <td>-114.965676</td>\n",
              "      <td>-90.447505</td>\n",
              "      <td>-84.788645</td>\n",
              "      <td>-99.530981</td>\n",
              "      <td>-82.351354</td>\n",
              "      <td>-104.570159</td>\n",
              "      <td>-71.230340</td>\n",
              "      <td>-108.153544</td>\n",
              "      <td>-77.631659</td>\n",
              "      <td>-113.459695</td>\n",
              "      <td>-93.162074</td>\n",
              "      <td>-112.769482</td>\n",
              "      <td>-98.977454</td>\n",
              "      <td>-196.861511</td>\n",
              "      <td>-147.391570</td>\n",
              "      <td>-96.432194</td>\n",
              "      <td>-161.612097</td>\n",
              "      <td>-122.722568</td>\n",
              "      <td>-123.053236</td>\n",
              "      <td>-79.336455</td>\n",
              "      <td>-99.110744</td>\n",
              "      <td>-77.960391</td>\n",
              "      <td>-187.465009</td>\n",
              "      <td>-166.096159</td>\n",
              "      <td>-208.713454</td>\n",
              "      <td>-159.522043</td>\n",
              "    </tr>\n",
              "    <tr>\n",
              "      <th>25%</th>\n",
              "      <td>0.000000</td>\n",
              "      <td>-8.983047</td>\n",
              "      <td>-9.441876</td>\n",
              "      <td>-8.910412</td>\n",
              "      <td>-7.930879</td>\n",
              "      <td>-8.372873</td>\n",
              "      <td>-7.382523</td>\n",
              "      <td>-7.919112</td>\n",
              "      <td>-7.141113</td>\n",
              "      <td>-7.780108</td>\n",
              "      <td>-7.930409</td>\n",
              "      <td>-8.722811</td>\n",
              "      <td>-8.670684</td>\n",
              "      <td>-8.870767</td>\n",
              "      <td>-3.942775</td>\n",
              "      <td>-3.542942</td>\n",
              "      <td>-3.212555</td>\n",
              "      <td>-3.145878</td>\n",
              "      <td>-3.703634</td>\n",
              "      <td>-2.700740</td>\n",
              "      <td>-3.627737</td>\n",
              "      <td>-3.485531</td>\n",
              "      <td>-4.208455</td>\n",
              "      <td>-4.044919</td>\n",
              "      <td>-3.915612</td>\n",
              "      <td>-3.750625</td>\n",
              "      <td>-3.344151</td>\n",
              "    </tr>\n",
              "    <tr>\n",
              "      <th>50%</th>\n",
              "      <td>1.000000</td>\n",
              "      <td>-2.596279</td>\n",
              "      <td>-2.611375</td>\n",
              "      <td>-2.058726</td>\n",
              "      <td>-1.987989</td>\n",
              "      <td>-2.351414</td>\n",
              "      <td>-1.434534</td>\n",
              "      <td>-2.014143</td>\n",
              "      <td>-1.060811</td>\n",
              "      <td>-1.596808</td>\n",
              "      <td>-2.140442</td>\n",
              "      <td>-2.486222</td>\n",
              "      <td>-2.432238</td>\n",
              "      <td>-2.346753</td>\n",
              "      <td>2.520672</td>\n",
              "      <td>3.157300</td>\n",
              "      <td>3.400203</td>\n",
              "      <td>2.846298</td>\n",
              "      <td>2.359647</td>\n",
              "      <td>3.170664</td>\n",
              "      <td>2.411822</td>\n",
              "      <td>2.556060</td>\n",
              "      <td>1.984067</td>\n",
              "      <td>1.868994</td>\n",
              "      <td>2.422131</td>\n",
              "      <td>2.571684</td>\n",
              "      <td>3.196711</td>\n",
              "    </tr>\n",
              "    <tr>\n",
              "      <th>75%</th>\n",
              "      <td>1.000000</td>\n",
              "      <td>3.745210</td>\n",
              "      <td>4.115142</td>\n",
              "      <td>4.657186</td>\n",
              "      <td>3.942336</td>\n",
              "      <td>3.672645</td>\n",
              "      <td>4.487369</td>\n",
              "      <td>3.974746</td>\n",
              "      <td>4.997946</td>\n",
              "      <td>4.613720</td>\n",
              "      <td>3.577900</td>\n",
              "      <td>3.618712</td>\n",
              "      <td>3.720395</td>\n",
              "      <td>4.059907</td>\n",
              "      <td>9.352603</td>\n",
              "      <td>10.368109</td>\n",
              "      <td>10.371575</td>\n",
              "      <td>9.188575</td>\n",
              "      <td>8.743914</td>\n",
              "      <td>9.361805</td>\n",
              "      <td>8.556492</td>\n",
              "      <td>8.739438</td>\n",
              "      <td>8.160331</td>\n",
              "      <td>8.166070</td>\n",
              "      <td>8.993728</td>\n",
              "      <td>9.225256</td>\n",
              "      <td>10.110202</td>\n",
              "    </tr>\n",
              "    <tr>\n",
              "      <th>max</th>\n",
              "      <td>1.000000</td>\n",
              "      <td>221.988607</td>\n",
              "      <td>135.361219</td>\n",
              "      <td>104.313825</td>\n",
              "      <td>156.821896</td>\n",
              "      <td>204.368116</td>\n",
              "      <td>117.891576</td>\n",
              "      <td>127.575856</td>\n",
              "      <td>111.851545</td>\n",
              "      <td>105.240986</td>\n",
              "      <td>276.985825</td>\n",
              "      <td>194.098528</td>\n",
              "      <td>187.617442</td>\n",
              "      <td>142.183409</td>\n",
              "      <td>185.913387</td>\n",
              "      <td>111.476219</td>\n",
              "      <td>96.135565</td>\n",
              "      <td>148.148031</td>\n",
              "      <td>200.666011</td>\n",
              "      <td>111.619470</td>\n",
              "      <td>98.906574</td>\n",
              "      <td>101.695767</td>\n",
              "      <td>109.561583</td>\n",
              "      <td>233.014082</td>\n",
              "      <td>156.250395</td>\n",
              "      <td>167.900780</td>\n",
              "      <td>190.254881</td>\n",
              "    </tr>\n",
              "  </tbody>\n",
              "</table>\n",
              "</div>"
            ],
            "text/plain": [
              "              group       Fz_N100  ...       F1_P200      FC1_P200\n",
              "count  66816.000000  66816.000000  ...  66816.000000  66816.000000\n",
              "mean       0.605843     -2.513496  ...      3.020472      3.632557\n",
              "std        0.488673     11.500742  ...     12.103451     11.772162\n",
              "min        0.000000   -114.965676  ...   -208.713454   -159.522043\n",
              "25%        0.000000     -8.983047  ...     -3.750625     -3.344151\n",
              "50%        1.000000     -2.596279  ...      2.571684      3.196711\n",
              "75%        1.000000      3.745210  ...      9.225256     10.110202\n",
              "max        1.000000    221.988607  ...    167.900780    190.254881\n",
              "\n",
              "[8 rows x 27 columns]"
            ]
          },
          "metadata": {
            "tags": []
          },
          "execution_count": 10
        }
      ]
    },
    {
      "cell_type": "code",
      "metadata": {
        "id": "-KmO4FqFaMPp",
        "colab_type": "code",
        "colab": {}
      },
      "source": [
        "train = pd.read_csv('train_mergedTrial_origin.csv')\n",
        "val = pd.read_csv('val_mergedTrial_origin.csv')\n",
        "test = pd.read_csv('test_mergedTrial_origin.csv')"
      ],
      "execution_count": 0,
      "outputs": []
    },
    {
      "cell_type": "code",
      "metadata": {
        "id": "9R6mCZjOTu4c",
        "colab_type": "code",
        "colab": {}
      },
      "source": [
        "group_train=np.array(train['group'])\n",
        "\n",
        "train_scaling = train.drop(['group'], axis=1)"
      ],
      "execution_count": 0,
      "outputs": []
    },
    {
      "cell_type": "code",
      "metadata": {
        "id": "pzrVJ7qNUDrd",
        "colab_type": "code",
        "colab": {}
      },
      "source": [
        "group_val=np.array(val['group'])\n",
        "\n",
        "val_scaling = val.drop(['group'], axis=1)"
      ],
      "execution_count": 0,
      "outputs": []
    },
    {
      "cell_type": "code",
      "metadata": {
        "id": "X61uEfVzUOxq",
        "colab_type": "code",
        "colab": {}
      },
      "source": [
        "group_test=np.array(test['group'])\n",
        "\n",
        "test_scaling = test.drop(['group'], axis=1)"
      ],
      "execution_count": 0,
      "outputs": []
    },
    {
      "cell_type": "code",
      "metadata": {
        "id": "fRMumfROUVHH",
        "colab_type": "code",
        "colab": {}
      },
      "source": [
        "scaler = RobustScaler()"
      ],
      "execution_count": 0,
      "outputs": []
    },
    {
      "cell_type": "code",
      "metadata": {
        "id": "zcePCxj4UXJD",
        "colab_type": "code",
        "colab": {}
      },
      "source": [
        "scaler.fit(train_scaling) \n",
        "\n",
        "train_scaled = scaler.transform(train_scaling)\n",
        "val_scaled = scaler.transform(val_scaling)\n",
        "test_scaled = scaler.transform(test_scaling)\n",
        "\n",
        "train_scaled_df = pd.DataFrame(train_scaled)\n",
        "val_scaled_df = pd.DataFrame(val_scaled)\n",
        "test_scaled_df = pd.DataFrame(test_scaled)"
      ],
      "execution_count": 0,
      "outputs": []
    },
    {
      "cell_type": "code",
      "metadata": {
        "id": "sbA2P-F_Uf-M",
        "colab_type": "code",
        "outputId": "25b7c4d6-900b-4925-cee7-3e3e7dd63645",
        "colab": {
          "base_uri": "https://localhost:8080/",
          "height": 540
        }
      },
      "source": [
        "train_scaled_df.columns = ['Fz_N100', 'FCz_N100', 'Cz_N100', 'FC3_N100', 'FC4_N100', 'C3_N100', 'C4_N100', 'CP3_N100', 'CP4_N100', 'AFz_N100', 'F2_N100', 'F1_N100', 'FC1_N100', 'Fz_P200', 'FCz_P200',\n",
        "       'Cz_P200', 'FC3_P200', 'FC4_P200', 'C3_P200', 'C4_P200', 'CP3_P200',\n",
        "       'CP4_P200', 'AFz_P200', 'F2_P200', 'F1_P200', 'FC1_P200']\n",
        "\n",
        "group_train = group_train.astype(int)\n",
        "train_scaled_df['group'] = group_train\n",
        "\n",
        "train_scaled_df.dtypes"
      ],
      "execution_count": 0,
      "outputs": [
        {
          "output_type": "execute_result",
          "data": {
            "text/plain": [
              "Fz_N100     float64\n",
              "FCz_N100    float64\n",
              "Cz_N100     float64\n",
              "FC3_N100    float64\n",
              "FC4_N100    float64\n",
              "C3_N100     float64\n",
              "C4_N100     float64\n",
              "CP3_N100    float64\n",
              "CP4_N100    float64\n",
              "AFz_N100    float64\n",
              "F2_N100     float64\n",
              "F1_N100     float64\n",
              "FC1_N100    float64\n",
              "Fz_P200     float64\n",
              "FCz_P200    float64\n",
              "Cz_P200     float64\n",
              "FC3_P200    float64\n",
              "FC4_P200    float64\n",
              "C3_P200     float64\n",
              "C4_P200     float64\n",
              "CP3_P200    float64\n",
              "CP4_P200    float64\n",
              "AFz_P200    float64\n",
              "F2_P200     float64\n",
              "F1_P200     float64\n",
              "FC1_P200    float64\n",
              "group         int64\n",
              "dtype: object"
            ]
          },
          "metadata": {
            "tags": []
          },
          "execution_count": 17
        }
      ]
    },
    {
      "cell_type": "code",
      "metadata": {
        "id": "ZcAb9Fs4Uscr",
        "colab_type": "code",
        "outputId": "3e8c75f4-c2d4-43b7-f653-4be3a50073d3",
        "colab": {
          "base_uri": "https://localhost:8080/",
          "height": 540
        }
      },
      "source": [
        "val_scaled_df.columns = ['Fz_N100', 'FCz_N100', 'Cz_N100', 'FC3_N100', 'FC4_N100', 'C3_N100', 'C4_N100', 'CP3_N100', 'CP4_N100', 'AFz_N100', 'F2_N100', 'F1_N100', 'FC1_N100', 'Fz_P200', 'FCz_P200',\n",
        "       'Cz_P200', 'FC3_P200', 'FC4_P200', 'C3_P200', 'C4_P200', 'CP3_P200',\n",
        "       'CP4_P200', 'AFz_P200', 'F2_P200', 'F1_P200', 'FC1_P200']\n",
        "\n",
        "group_val = group_val.astype(int)\n",
        "val_scaled_df['group'] = group_val\n",
        "\n",
        "val_scaled_df.dtypes"
      ],
      "execution_count": 0,
      "outputs": [
        {
          "output_type": "execute_result",
          "data": {
            "text/plain": [
              "Fz_N100     float64\n",
              "FCz_N100    float64\n",
              "Cz_N100     float64\n",
              "FC3_N100    float64\n",
              "FC4_N100    float64\n",
              "C3_N100     float64\n",
              "C4_N100     float64\n",
              "CP3_N100    float64\n",
              "CP4_N100    float64\n",
              "AFz_N100    float64\n",
              "F2_N100     float64\n",
              "F1_N100     float64\n",
              "FC1_N100    float64\n",
              "Fz_P200     float64\n",
              "FCz_P200    float64\n",
              "Cz_P200     float64\n",
              "FC3_P200    float64\n",
              "FC4_P200    float64\n",
              "C3_P200     float64\n",
              "C4_P200     float64\n",
              "CP3_P200    float64\n",
              "CP4_P200    float64\n",
              "AFz_P200    float64\n",
              "F2_P200     float64\n",
              "F1_P200     float64\n",
              "FC1_P200    float64\n",
              "group         int64\n",
              "dtype: object"
            ]
          },
          "metadata": {
            "tags": []
          },
          "execution_count": 18
        }
      ]
    },
    {
      "cell_type": "code",
      "metadata": {
        "id": "Epr5wYtlU3s9",
        "colab_type": "code",
        "outputId": "33a77ca0-8aa6-4cf7-88a2-39cf2cca7fb5",
        "colab": {
          "base_uri": "https://localhost:8080/",
          "height": 540
        }
      },
      "source": [
        "test_scaled_df.columns = ['Fz_N100', 'FCz_N100', 'Cz_N100', 'FC3_N100', 'FC4_N100', 'C3_N100', 'C4_N100', 'CP3_N100', 'CP4_N100', 'AFz_N100', 'F2_N100', 'F1_N100', 'FC1_N100', 'Fz_P200', 'FCz_P200',\n",
        "       'Cz_P200', 'FC3_P200', 'FC4_P200', 'C3_P200', 'C4_P200', 'CP3_P200',\n",
        "       'CP4_P200', 'AFz_P200', 'F2_P200', 'F1_P200', 'FC1_P200']\n",
        "\n",
        "group_test = group_test.astype(int)\n",
        "test_scaled_df['group'] = group_test\n",
        "\n",
        "test_scaled_df.dtypes"
      ],
      "execution_count": 0,
      "outputs": [
        {
          "output_type": "execute_result",
          "data": {
            "text/plain": [
              "Fz_N100     float64\n",
              "FCz_N100    float64\n",
              "Cz_N100     float64\n",
              "FC3_N100    float64\n",
              "FC4_N100    float64\n",
              "C3_N100     float64\n",
              "C4_N100     float64\n",
              "CP3_N100    float64\n",
              "CP4_N100    float64\n",
              "AFz_N100    float64\n",
              "F2_N100     float64\n",
              "F1_N100     float64\n",
              "FC1_N100    float64\n",
              "Fz_P200     float64\n",
              "FCz_P200    float64\n",
              "Cz_P200     float64\n",
              "FC3_P200    float64\n",
              "FC4_P200    float64\n",
              "C3_P200     float64\n",
              "C4_P200     float64\n",
              "CP3_P200    float64\n",
              "CP4_P200    float64\n",
              "AFz_P200    float64\n",
              "F2_P200     float64\n",
              "F1_P200     float64\n",
              "FC1_P200    float64\n",
              "group         int64\n",
              "dtype: object"
            ]
          },
          "metadata": {
            "tags": []
          },
          "execution_count": 19
        }
      ]
    },
    {
      "cell_type": "code",
      "metadata": {
        "id": "JO4nt-ZNU9L0",
        "colab_type": "code",
        "outputId": "dc1ca544-5009-4296-efa0-ee4751f8504a",
        "colab": {
          "base_uri": "https://localhost:8080/",
          "height": 540
        }
      },
      "source": [
        "train_scaled_df.quantile(q=0.975, interpolation='midpoint')"
      ],
      "execution_count": 0,
      "outputs": [
        {
          "output_type": "execute_result",
          "data": {
            "text/plain": [
              "Fz_N100     1.727089\n",
              "FCz_N100    1.671138\n",
              "Cz_N100     1.637378\n",
              "FC3_N100    1.686068\n",
              "FC4_N100    1.688686\n",
              "C3_N100     1.644986\n",
              "C4_N100     1.677140\n",
              "CP3_N100    1.652630\n",
              "CP4_N100    1.692735\n",
              "AFz_N100    1.882630\n",
              "F2_N100     1.771521\n",
              "F1_N100     1.729279\n",
              "FC1_N100    1.672065\n",
              "Fz_P200     1.850753\n",
              "FCz_P200    1.790270\n",
              "Cz_P200     1.788092\n",
              "FC3_P200    1.798810\n",
              "FC4_P200    1.797124\n",
              "C3_P200     1.764952\n",
              "C4_P200     1.742289\n",
              "CP3_P200    1.755672\n",
              "CP4_P200    1.760724\n",
              "AFz_P200    2.064329\n",
              "F2_P200     1.890729\n",
              "F1_P200     1.852738\n",
              "FC1_P200    1.792213\n",
              "group       1.000000\n",
              "Name: 0.975, dtype: float64"
            ]
          },
          "metadata": {
            "tags": []
          },
          "execution_count": 20
        }
      ]
    },
    {
      "cell_type": "code",
      "metadata": {
        "id": "aQrqHAT7VCcm",
        "colab_type": "code",
        "colab": {}
      },
      "source": [
        "train_scaled_df = train_scaled_df.drop(train_scaled_df[train_scaled_df.Fz_N100 > 1.727089].index)\n",
        "train_scaled_df = train_scaled_df.drop(train_scaled_df[train_scaled_df.FCz_N100 > 1.671138].index)\n",
        "train_scaled_df = train_scaled_df.drop(train_scaled_df[train_scaled_df.Cz_N100 > 1.637378].index)\n",
        "train_scaled_df = train_scaled_df.drop(train_scaled_df[train_scaled_df.FC3_N100 > 1.686068].index)\n",
        "train_scaled_df = train_scaled_df.drop(train_scaled_df[train_scaled_df.FC4_N100 > 1.688686].index)\n",
        "train_scaled_df = train_scaled_df.drop(train_scaled_df[train_scaled_df.C3_N100 > 1.644986].index)\n",
        "train_scaled_df = train_scaled_df.drop(train_scaled_df[train_scaled_df.C4_N100 > 1.677140].index)\n",
        "train_scaled_df = train_scaled_df.drop(train_scaled_df[train_scaled_df.CP3_N100 > 1.652630].index)\n",
        "train_scaled_df = train_scaled_df.drop(train_scaled_df[train_scaled_df.CP4_N100 > 1.692735].index)\n",
        "train_scaled_df = train_scaled_df.drop(train_scaled_df[train_scaled_df.AFz_N100 > 1.882630].index)\n",
        "train_scaled_df = train_scaled_df.drop(train_scaled_df[train_scaled_df.F2_N100 > 1.771521].index)\n",
        "train_scaled_df = train_scaled_df.drop(train_scaled_df[train_scaled_df.F1_N100 > 1.729279].index)\n",
        "train_scaled_df = train_scaled_df.drop(train_scaled_df[train_scaled_df.FC1_N100 > 1.672065].index)\n",
        "train_scaled_df = train_scaled_df.drop(train_scaled_df[train_scaled_df.Fz_P200 > 1.850753].index)\n",
        "train_scaled_df = train_scaled_df.drop(train_scaled_df[train_scaled_df.FCz_P200 > 1.790270].index)\n",
        "train_scaled_df = train_scaled_df.drop(train_scaled_df[train_scaled_df.Cz_P200 > 1.788092].index)\n",
        "train_scaled_df = train_scaled_df.drop(train_scaled_df[train_scaled_df.FC3_P200 > 1.798810].index)\n",
        "train_scaled_df = train_scaled_df.drop(train_scaled_df[train_scaled_df.FC4_P200 > 1.797124].index)\n",
        "train_scaled_df = train_scaled_df.drop(train_scaled_df[train_scaled_df.C3_P200 > 1.764952].index)\n",
        "train_scaled_df = train_scaled_df.drop(train_scaled_df[train_scaled_df.C4_P200 > 1.742289].index)\n",
        "train_scaled_df = train_scaled_df.drop(train_scaled_df[train_scaled_df.CP3_P200 > 1.755672].index)\n",
        "train_scaled_df = train_scaled_df.drop(train_scaled_df[train_scaled_df.CP4_P200 > 1.760724].index)\n",
        "train_scaled_df = train_scaled_df.drop(train_scaled_df[train_scaled_df.AFz_P200 > 2.064329].index)\n",
        "train_scaled_df = train_scaled_df.drop(train_scaled_df[train_scaled_df.F2_P200 > 1.890729].index)\n",
        "train_scaled_df = train_scaled_df.drop(train_scaled_df[train_scaled_df.F1_P200 > 1.852738].index)\n",
        "train_scaled_df = train_scaled_df.drop(train_scaled_df[train_scaled_df.FC1_P200 > 1.792213].index)"
      ],
      "execution_count": 0,
      "outputs": []
    },
    {
      "cell_type": "code",
      "metadata": {
        "id": "wNMrpRosVABx",
        "colab_type": "code",
        "outputId": "e18fabe7-25ba-4deb-a87b-eab328d69182",
        "colab": {
          "base_uri": "https://localhost:8080/",
          "height": 540
        }
      },
      "source": [
        "train_scaled_df.quantile(q=0.025, interpolation='midpoint')"
      ],
      "execution_count": 0,
      "outputs": [
        {
          "output_type": "execute_result",
          "data": {
            "text/plain": [
              "Fz_N100    -1.688963\n",
              "FCz_N100   -1.645996\n",
              "Cz_N100    -1.658749\n",
              "FC3_N100   -1.666157\n",
              "FC4_N100   -1.674026\n",
              "C3_N100    -1.626001\n",
              "C4_N100    -1.681496\n",
              "CP3_N100   -1.664747\n",
              "CP4_N100   -1.660118\n",
              "AFz_N100   -1.774114\n",
              "F2_N100    -1.723908\n",
              "F1_N100    -1.712119\n",
              "FC1_N100   -1.651983\n",
              "Fz_P200    -1.625837\n",
              "FCz_P200   -1.568237\n",
              "Cz_P200    -1.584347\n",
              "FC3_P200   -1.580021\n",
              "FC4_P200   -1.604447\n",
              "C3_P200    -1.585072\n",
              "C4_P200    -1.583269\n",
              "CP3_P200   -1.593929\n",
              "CP4_P200   -1.632398\n",
              "AFz_P200   -1.674044\n",
              "F2_P200    -1.607349\n",
              "F1_P200    -1.600723\n",
              "FC1_P200   -1.549411\n",
              "group       0.000000\n",
              "Name: 0.025, dtype: float64"
            ]
          },
          "metadata": {
            "tags": []
          },
          "execution_count": 21
        }
      ]
    },
    {
      "cell_type": "code",
      "metadata": {
        "id": "e79Fp076VFcT",
        "colab_type": "code",
        "colab": {}
      },
      "source": [
        "train_scaled_df = train_scaled_df.drop(train_scaled_df[train_scaled_df.Fz_N100 < -1.688963].index)\n",
        "train_scaled_df = train_scaled_df.drop(train_scaled_df[train_scaled_df.FCz_N100 < -1.645996].index)\n",
        "train_scaled_df = train_scaled_df.drop(train_scaled_df[train_scaled_df.Cz_N100 < -1.658749].index)\n",
        "train_scaled_df = train_scaled_df.drop(train_scaled_df[train_scaled_df.FC3_N100 < -1.666157].index)\n",
        "train_scaled_df = train_scaled_df.drop(train_scaled_df[train_scaled_df.FC4_N100 < -1.674026].index)\n",
        "train_scaled_df = train_scaled_df.drop(train_scaled_df[train_scaled_df.C3_N100 < -1.626001].index)\n",
        "train_scaled_df = train_scaled_df.drop(train_scaled_df[train_scaled_df.C4_N100 < -1.681496].index)\n",
        "train_scaled_df = train_scaled_df.drop(train_scaled_df[train_scaled_df.CP3_N100 < -1.664747].index)\n",
        "train_scaled_df = train_scaled_df.drop(train_scaled_df[train_scaled_df.CP4_N100 < -1.660118].index)\n",
        "train_scaled_df = train_scaled_df.drop(train_scaled_df[train_scaled_df.AFz_N100 < -1.774114].index)\n",
        "train_scaled_df = train_scaled_df.drop(train_scaled_df[train_scaled_df.F2_N100 < -1.723908].index)\n",
        "train_scaled_df = train_scaled_df.drop(train_scaled_df[train_scaled_df.F1_N100 < -1.712119].index)\n",
        "train_scaled_df = train_scaled_df.drop(train_scaled_df[train_scaled_df.FC1_N100 < -1.651983].index)\n",
        "train_scaled_df = train_scaled_df.drop(train_scaled_df[train_scaled_df.Fz_P200 < -1.625837].index)\n",
        "train_scaled_df = train_scaled_df.drop(train_scaled_df[train_scaled_df.FCz_P200 < -1.568237].index)\n",
        "train_scaled_df = train_scaled_df.drop(train_scaled_df[train_scaled_df.Cz_P200 < -1.584347].index)\n",
        "train_scaled_df = train_scaled_df.drop(train_scaled_df[train_scaled_df.FC3_P200 < -1.580021].index)\n",
        "train_scaled_df = train_scaled_df.drop(train_scaled_df[train_scaled_df.FC4_P200 < -1.604447].index)\n",
        "train_scaled_df = train_scaled_df.drop(train_scaled_df[train_scaled_df.C3_P200 < -1.585072].index)\n",
        "train_scaled_df = train_scaled_df.drop(train_scaled_df[train_scaled_df.C4_P200 < -1.583269].index)\n",
        "train_scaled_df = train_scaled_df.drop(train_scaled_df[train_scaled_df.CP3_P200 < -1.593929].index)\n",
        "train_scaled_df = train_scaled_df.drop(train_scaled_df[train_scaled_df.CP4_P200 < -1.632398].index)\n",
        "train_scaled_df = train_scaled_df.drop(train_scaled_df[train_scaled_df.AFz_P200 < -1.674044].index)\n",
        "train_scaled_df = train_scaled_df.drop(train_scaled_df[train_scaled_df.F2_P200 < -1.607349].index)\n",
        "train_scaled_df = train_scaled_df.drop(train_scaled_df[train_scaled_df.F1_P200 < -1.600723].index)\n",
        "train_scaled_df = train_scaled_df.drop(train_scaled_df[train_scaled_df.FC1_P200 < -1.549411].index)"
      ],
      "execution_count": 0,
      "outputs": []
    },
    {
      "cell_type": "code",
      "metadata": {
        "id": "jKcbyk0EVHfb",
        "colab_type": "code",
        "colab": {}
      },
      "source": [
        "val_scaled_df = val_scaled_df.drop(val_scaled_df[val_scaled_df.Fz_N100 > 1.727089].index)\n",
        "val_scaled_df = val_scaled_df.drop(val_scaled_df[val_scaled_df.FCz_N100 > 1.671138].index)\n",
        "val_scaled_df = val_scaled_df.drop(val_scaled_df[val_scaled_df.Cz_N100 > 1.637378].index)\n",
        "val_scaled_df = val_scaled_df.drop(val_scaled_df[val_scaled_df.FC3_N100 > 1.686068].index)\n",
        "val_scaled_df = val_scaled_df.drop(val_scaled_df[val_scaled_df.FC4_N100 > 1.688686].index)\n",
        "val_scaled_df = val_scaled_df.drop(val_scaled_df[val_scaled_df.C3_N100 > 1.644986].index)\n",
        "val_scaled_df = val_scaled_df.drop(val_scaled_df[val_scaled_df.C4_N100 > 1.677140].index)\n",
        "val_scaled_df = val_scaled_df.drop(val_scaled_df[val_scaled_df.CP3_N100 > 1.652630].index)\n",
        "val_scaled_df = val_scaled_df.drop(val_scaled_df[val_scaled_df.CP4_N100 > 1.692735].index)\n",
        "val_scaled_df = val_scaled_df.drop(val_scaled_df[val_scaled_df.AFz_N100 > 1.882630].index)\n",
        "val_scaled_df = val_scaled_df.drop(val_scaled_df[val_scaled_df.F2_N100 > 1.771521].index)\n",
        "val_scaled_df = val_scaled_df.drop(val_scaled_df[val_scaled_df.F1_N100 > 1.729279].index)\n",
        "val_scaled_df = val_scaled_df.drop(val_scaled_df[val_scaled_df.FC1_N100 > 1.672065].index)\n",
        "val_scaled_df = val_scaled_df.drop(val_scaled_df[val_scaled_df.Fz_P200 > 1.850753].index)\n",
        "val_scaled_df = val_scaled_df.drop(val_scaled_df[val_scaled_df.FCz_P200 > 1.790270].index)\n",
        "val_scaled_df = val_scaled_df.drop(val_scaled_df[val_scaled_df.Cz_P200 > 1.788092].index)\n",
        "val_scaled_df = val_scaled_df.drop(val_scaled_df[val_scaled_df.FC3_P200 > 1.798810].index)\n",
        "val_scaled_df = val_scaled_df.drop(val_scaled_df[val_scaled_df.FC4_P200 > 1.797124].index)\n",
        "val_scaled_df = val_scaled_df.drop(val_scaled_df[val_scaled_df.C3_P200 > 1.764952].index)\n",
        "val_scaled_df = val_scaled_df.drop(val_scaled_df[val_scaled_df.C4_P200 > 1.742289].index)\n",
        "val_scaled_df = val_scaled_df.drop(val_scaled_df[val_scaled_df.CP3_P200 > 1.755672].index)\n",
        "val_scaled_df = val_scaled_df.drop(val_scaled_df[val_scaled_df.CP4_P200 > 1.760724].index)\n",
        "val_scaled_df = val_scaled_df.drop(val_scaled_df[val_scaled_df.AFz_P200 > 2.064329].index)\n",
        "val_scaled_df = val_scaled_df.drop(val_scaled_df[val_scaled_df.F2_P200 > 1.890729].index)\n",
        "val_scaled_df = val_scaled_df.drop(val_scaled_df[val_scaled_df.F1_P200 > 1.852738].index)\n",
        "val_scaled_df = val_scaled_df.drop(val_scaled_df[val_scaled_df.FC1_P200 > 1.792213].index)"
      ],
      "execution_count": 0,
      "outputs": []
    },
    {
      "cell_type": "code",
      "metadata": {
        "id": "UhGg0pCcVMSL",
        "colab_type": "code",
        "colab": {}
      },
      "source": [
        "val_scaled_df = val_scaled_df.drop(val_scaled_df[val_scaled_df.Fz_N100 < -1.688963].index)\n",
        "val_scaled_df = val_scaled_df.drop(val_scaled_df[val_scaled_df.FCz_N100 < -1.645996].index)\n",
        "val_scaled_df = val_scaled_df.drop(val_scaled_df[val_scaled_df.Cz_N100 < -1.658749].index)\n",
        "val_scaled_df = val_scaled_df.drop(val_scaled_df[val_scaled_df.FC3_N100 < -1.666157].index)\n",
        "val_scaled_df = val_scaled_df.drop(val_scaled_df[val_scaled_df.FC4_N100 < -1.674026].index)\n",
        "val_scaled_df = val_scaled_df.drop(val_scaled_df[val_scaled_df.C3_N100 < -1.626001].index)\n",
        "val_scaled_df = val_scaled_df.drop(val_scaled_df[val_scaled_df.C4_N100 < -1.681496].index)\n",
        "val_scaled_df = val_scaled_df.drop(val_scaled_df[val_scaled_df.CP3_N100 < -1.664747].index)\n",
        "val_scaled_df = val_scaled_df.drop(val_scaled_df[val_scaled_df.CP4_N100 < -1.660118].index)\n",
        "val_scaled_df = val_scaled_df.drop(val_scaled_df[val_scaled_df.AFz_N100 < -1.774114].index)\n",
        "val_scaled_df = val_scaled_df.drop(val_scaled_df[val_scaled_df.F2_N100 < -1.723908].index)\n",
        "val_scaled_df = val_scaled_df.drop(val_scaled_df[val_scaled_df.F1_N100 < -1.712119].index)\n",
        "val_scaled_df = val_scaled_df.drop(val_scaled_df[val_scaled_df.FC1_N100 < -1.651983].index)\n",
        "val_scaled_df = val_scaled_df.drop(val_scaled_df[val_scaled_df.Fz_P200 < -1.625837].index)\n",
        "val_scaled_df = val_scaled_df.drop(val_scaled_df[val_scaled_df.FCz_P200 < -1.568237].index)\n",
        "val_scaled_df = val_scaled_df.drop(val_scaled_df[val_scaled_df.Cz_P200 < -1.584347].index)\n",
        "val_scaled_df = val_scaled_df.drop(val_scaled_df[val_scaled_df.FC3_P200 < -1.580021].index)\n",
        "val_scaled_df = val_scaled_df.drop(val_scaled_df[val_scaled_df.FC4_P200 < -1.604447].index)\n",
        "val_scaled_df = val_scaled_df.drop(val_scaled_df[val_scaled_df.C3_P200 < -1.585072].index)\n",
        "val_scaled_df = val_scaled_df.drop(val_scaled_df[val_scaled_df.C4_P200 < -1.583269].index)\n",
        "val_scaled_df = val_scaled_df.drop(val_scaled_df[val_scaled_df.CP3_P200 < -1.593929].index)\n",
        "val_scaled_df = val_scaled_df.drop(val_scaled_df[val_scaled_df.CP4_P200 < -1.632398].index)\n",
        "val_scaled_df = val_scaled_df.drop(val_scaled_df[val_scaled_df.AFz_P200 < -1.674044].index)\n",
        "val_scaled_df = val_scaled_df.drop(val_scaled_df[val_scaled_df.F2_P200 < -1.607349].index)\n",
        "val_scaled_df = val_scaled_df.drop(val_scaled_df[val_scaled_df.F1_P200 < -1.600723].index)\n",
        "val_scaled_df = val_scaled_df.drop(val_scaled_df[val_scaled_df.FC1_P200 < -1.549411].index)"
      ],
      "execution_count": 0,
      "outputs": []
    },
    {
      "cell_type": "code",
      "metadata": {
        "id": "kRCI05DNfNWE",
        "colab_type": "code",
        "colab": {}
      },
      "source": [
        "test_scaled_df = test_scaled_df.drop(test_scaled_df[test_scaled_df.Fz_N100 > 1.727089].index)\n",
        "test_scaled_df = test_scaled_df.drop(test_scaled_df[test_scaled_df.FCz_N100 > 1.671138].index)\n",
        "test_scaled_df = test_scaled_df.drop(test_scaled_df[test_scaled_df.Cz_N100 > 1.637378].index)\n",
        "test_scaled_df = test_scaled_df.drop(test_scaled_df[test_scaled_df.FC3_N100 > 1.686068].index)\n",
        "test_scaled_df = test_scaled_df.drop(test_scaled_df[test_scaled_df.FC4_N100 > 1.688686].index)\n",
        "test_scaled_df = test_scaled_df.drop(test_scaled_df[test_scaled_df.C3_N100 > 1.644986].index)\n",
        "test_scaled_df = test_scaled_df.drop(test_scaled_df[test_scaled_df.C4_N100 > 1.677140].index)\n",
        "test_scaled_df = test_scaled_df.drop(test_scaled_df[test_scaled_df.CP3_N100 > 1.652630].index)\n",
        "test_scaled_df = test_scaled_df.drop(test_scaled_df[test_scaled_df.CP4_N100 > 1.692735].index)\n",
        "test_scaled_df = test_scaled_df.drop(test_scaled_df[test_scaled_df.AFz_N100 > 1.882630].index)\n",
        "test_scaled_df = test_scaled_df.drop(test_scaled_df[test_scaled_df.F2_N100 > 1.771521].index)\n",
        "test_scaled_df = test_scaled_df.drop(test_scaled_df[test_scaled_df.F1_N100 > 1.729279].index)\n",
        "test_scaled_df = test_scaled_df.drop(test_scaled_df[test_scaled_df.FC1_N100 > 1.672065].index)\n",
        "test_scaled_df = test_scaled_df.drop(test_scaled_df[test_scaled_df.Fz_P200 > 1.850753].index)\n",
        "test_scaled_df = test_scaled_df.drop(test_scaled_df[test_scaled_df.FCz_P200 > 1.790270].index)\n",
        "test_scaled_df = test_scaled_df.drop(test_scaled_df[test_scaled_df.Cz_P200 > 1.788092].index)\n",
        "test_scaled_df = test_scaled_df.drop(test_scaled_df[test_scaled_df.FC3_P200 > 1.798810].index)\n",
        "test_scaled_df = test_scaled_df.drop(test_scaled_df[test_scaled_df.FC4_P200 > 1.797124].index)\n",
        "test_scaled_df = test_scaled_df.drop(test_scaled_df[test_scaled_df.C3_P200 > 1.764952].index)\n",
        "test_scaled_df = test_scaled_df.drop(test_scaled_df[test_scaled_df.C4_P200 > 1.742289].index)\n",
        "test_scaled_df = test_scaled_df.drop(test_scaled_df[test_scaled_df.CP3_P200 > 1.755672].index)\n",
        "test_scaled_df = test_scaled_df.drop(test_scaled_df[test_scaled_df.CP4_P200 > 1.760724].index)\n",
        "test_scaled_df = test_scaled_df.drop(test_scaled_df[test_scaled_df.AFz_P200 > 2.064329].index)\n",
        "test_scaled_df = test_scaled_df.drop(test_scaled_df[test_scaled_df.F2_P200 > 1.890729].index)\n",
        "test_scaled_df = test_scaled_df.drop(test_scaled_df[test_scaled_df.F1_P200 > 1.852738].index)\n",
        "test_scaled_df = test_scaled_df.drop(test_scaled_df[test_scaled_df.FC1_P200 > 1.792213].index)"
      ],
      "execution_count": 0,
      "outputs": []
    },
    {
      "cell_type": "code",
      "metadata": {
        "id": "1x3pu_4KfPBO",
        "colab_type": "code",
        "colab": {}
      },
      "source": [
        "test_scaled_df = test_scaled_df.drop(test_scaled_df[test_scaled_df.Fz_N100 < -1.688963].index)\n",
        "test_scaled_df = test_scaled_df.drop(test_scaled_df[test_scaled_df.FCz_N100 < -1.645996].index)\n",
        "test_scaled_df = test_scaled_df.drop(test_scaled_df[test_scaled_df.Cz_N100 < -1.658749].index)\n",
        "test_scaled_df = test_scaled_df.drop(test_scaled_df[test_scaled_df.FC3_N100 < -1.666157].index)\n",
        "test_scaled_df = test_scaled_df.drop(test_scaled_df[test_scaled_df.FC4_N100 < -1.674026].index)\n",
        "test_scaled_df = test_scaled_df.drop(test_scaled_df[test_scaled_df.C3_N100 < -1.626001].index)\n",
        "test_scaled_df = test_scaled_df.drop(test_scaled_df[test_scaled_df.C4_N100 < -1.681496].index)\n",
        "test_scaled_df = test_scaled_df.drop(test_scaled_df[test_scaled_df.CP3_N100 < -1.664747].index)\n",
        "test_scaled_df = test_scaled_df.drop(test_scaled_df[test_scaled_df.CP4_N100 < -1.660118].index)\n",
        "test_scaled_df = test_scaled_df.drop(test_scaled_df[test_scaled_df.AFz_N100 < -1.774114].index)\n",
        "test_scaled_df = test_scaled_df.drop(test_scaled_df[test_scaled_df.F2_N100 < -1.723908].index)\n",
        "test_scaled_df = test_scaled_df.drop(test_scaled_df[test_scaled_df.F1_N100 < -1.712119].index)\n",
        "test_scaled_df = test_scaled_df.drop(test_scaled_df[test_scaled_df.FC1_N100 < -1.651983].index)\n",
        "test_scaled_df = test_scaled_df.drop(test_scaled_df[test_scaled_df.Fz_P200 < -1.625837].index)\n",
        "test_scaled_df = test_scaled_df.drop(test_scaled_df[test_scaled_df.FCz_P200 < -1.568237].index)\n",
        "test_scaled_df = test_scaled_df.drop(test_scaled_df[test_scaled_df.Cz_P200 < -1.584347].index)\n",
        "test_scaled_df = test_scaled_df.drop(test_scaled_df[test_scaled_df.FC3_P200 < -1.580021].index)\n",
        "test_scaled_df = test_scaled_df.drop(test_scaled_df[test_scaled_df.FC4_P200 < -1.604447].index)\n",
        "test_scaled_df = test_scaled_df.drop(test_scaled_df[test_scaled_df.C3_P200 < -1.585072].index)\n",
        "test_scaled_df = test_scaled_df.drop(test_scaled_df[test_scaled_df.C4_P200 < -1.583269].index)\n",
        "test_scaled_df = test_scaled_df.drop(test_scaled_df[test_scaled_df.CP3_P200 < -1.593929].index)\n",
        "test_scaled_df = test_scaled_df.drop(test_scaled_df[test_scaled_df.CP4_P200 < -1.632398].index)\n",
        "test_scaled_df = test_scaled_df.drop(test_scaled_df[test_scaled_df.AFz_P200 < -1.674044].index)\n",
        "test_scaled_df = test_scaled_df.drop(test_scaled_df[test_scaled_df.F2_P200 < -1.607349].index)\n",
        "test_scaled_df = test_scaled_df.drop(test_scaled_df[test_scaled_df.F1_P200 < -1.600723].index)\n",
        "test_scaled_df = test_scaled_df.drop(test_scaled_df[test_scaled_df.FC1_P200 < -1.549411].index)"
      ],
      "execution_count": 0,
      "outputs": []
    },
    {
      "cell_type": "code",
      "metadata": {
        "id": "HLrtYRF5VN2m",
        "colab_type": "code",
        "colab": {}
      },
      "source": [
        "train_scaled_df.to_csv('/content/gdrive/My Drive/eeg/train_mergedTrial.csv',sep=',', na_rep='NaN')\n",
        "val_scaled_df.to_csv('/content/gdrive/My Drive/eeg/val_mergedTrial.csv',sep=',', na_rep='NaN')\n",
        "test_scaled_df.to_csv('/content/gdrive/My Drive/eeg/test_mergedTrial.csv',sep=',', na_rep='NaN')"
      ],
      "execution_count": 0,
      "outputs": []
    },
    {
      "cell_type": "code",
      "metadata": {
        "id": "l5QC1wkVC1gO",
        "colab_type": "code",
        "colab": {}
      },
      "source": [
        "train_scaled_df = pd.read_csv('train_mergedTrial.csv')\n",
        "val_scaled_df = pd.read_csv('val_mergedTrial.csv')\n",
        "test_scaled_df = pd.read_csv('test_mergedTrial.csv')"
      ],
      "execution_count": 0,
      "outputs": []
    },
    {
      "cell_type": "code",
      "metadata": {
        "id": "V93yFo60Dzz7",
        "colab_type": "code",
        "colab": {}
      },
      "source": [
        "LABEL_COLUMN = 'group'\n",
        "LABELS = [0, 1]\n",
        "\n",
        "CSV_COLUMNS = ['Fz_N100', 'FCz_N100', 'Cz_N100', 'FC3_N100', 'FC4_N100', 'C3_N100', 'C4_N100', 'CP3_N100', 'CP4_N100', 'AFz_N100', 'F2_N100', 'F1_N100', 'FC1_N100', 'Fz_P200', 'FCz_P200',\n",
        "       'Cz_P200', 'FC3_P200', 'FC4_P200', 'C3_P200', 'C4_P200', 'CP3_P200',\n",
        "       'CP4_P200', 'AFz_P200', 'F2_P200', 'F1_P200', 'FC1_P200', 'group']\n",
        "\n",
        "def get_dataset(file_path, **kwargs):\n",
        "  dataset = tf.data.experimental.make_csv_dataset(\n",
        "      file_path,\n",
        "      batch_size=8, \n",
        "      label_name=LABEL_COLUMN,\n",
        "      na_value=\"?\",\n",
        "      num_epochs=1,\n",
        "      ignore_errors=True, \n",
        "      **kwargs)\n",
        "  return dataset\n",
        "\n",
        "val_dataset = get_dataset('val_mergedTrial.csv', select_columns=CSV_COLUMNS)\n",
        "test_dataset = get_dataset('test_mergedTrial.csv', select_columns=CSV_COLUMNS)"
      ],
      "execution_count": 0,
      "outputs": []
    },
    {
      "cell_type": "code",
      "metadata": {
        "id": "dKuKi100HvCb",
        "colab_type": "code",
        "colab": {}
      },
      "source": [
        "LABEL_COLUMN = 'group'\n",
        "LABELS = [0, 1]\n",
        "\n",
        "CSV_COLUMNS = ['Fz_N100', 'FCz_N100', 'Cz_N100', 'FC3_N100', 'FC4_N100', 'C3_N100', 'C4_N100', 'CP3_N100', 'CP4_N100', 'AFz_N100', 'F2_N100', 'F1_N100', 'FC1_N100', 'Fz_P200', 'FCz_P200',\n",
        "       'Cz_P200', 'FC3_P200', 'FC4_P200', 'C3_P200', 'C4_P200', 'CP3_P200',\n",
        "       'CP4_P200', 'AFz_P200', 'F2_P200', 'F1_P200', 'FC1_P200', 'group']\n",
        "\n",
        "def get_dataset(file_path, **kwargs):\n",
        "  dataset = tf.data.experimental.make_csv_dataset(\n",
        "      file_path,\n",
        "      batch_size=8, \n",
        "      label_name=LABEL_COLUMN,\n",
        "      na_value=\"?\",\n",
        "      num_epochs=1,\n",
        "      ignore_errors=True, \n",
        "      **kwargs)\n",
        "  return dataset\n",
        "\n",
        "train_dataset = get_dataset('train_mergedTrial.csv', select_columns=CSV_COLUMNS)"
      ],
      "execution_count": 0,
      "outputs": []
    },
    {
      "cell_type": "code",
      "metadata": {
        "id": "Gc3BUFMAH_L9",
        "colab_type": "code",
        "colab": {}
      },
      "source": [
        "class PackNumericFeatures(object):\n",
        "  def __init__(self, names):\n",
        "    self.names = names\n",
        "\n",
        "  def __call__(self, features, labels):\n",
        "    numeric_features = [features.pop(name) for name in self.names]\n",
        "    numeric_features = [tf.cast(feat, tf.float32) for feat in numeric_features]\n",
        "    numeric_features = tf.stack(numeric_features, axis=-1)\n",
        "    features['numeric'] = numeric_features\n",
        "\n",
        "    return features, labels"
      ],
      "execution_count": 0,
      "outputs": []
    },
    {
      "cell_type": "code",
      "metadata": {
        "id": "kT9cE2qMIHfJ",
        "colab_type": "code",
        "colab": {}
      },
      "source": [
        "NUMERIC_FEATURES = ['Fz_N100', 'FCz_N100', 'Cz_N100', 'FC3_N100', 'FC4_N100', 'C3_N100', 'C4_N100', 'CP3_N100', 'CP4_N100', 'AFz_N100', 'F2_N100', 'F1_N100', 'FC1_N100', 'Fz_P200', 'FCz_P200',\n",
        "       'Cz_P200', 'FC3_P200', 'FC4_P200', 'C3_P200', 'C4_P200', 'CP3_P200',\n",
        "       'CP4_P200', 'AFz_P200', 'F2_P200', 'F1_P200', 'FC1_P200']\n",
        "\n",
        "train_data = train_dataset.map(\n",
        "    PackNumericFeatures(NUMERIC_FEATURES))\n",
        "val_data = val_dataset.map(\n",
        "    PackNumericFeatures(NUMERIC_FEATURES))\n",
        "test_data = test_dataset.map(\n",
        "    PackNumericFeatures(NUMERIC_FEATURES))"
      ],
      "execution_count": 0,
      "outputs": []
    },
    {
      "cell_type": "code",
      "metadata": {
        "id": "LqFEcbFJIKST",
        "colab_type": "code",
        "outputId": "e67bdebb-53a6-4d74-b087-7b55e5f2c231",
        "colab": {
          "base_uri": "https://localhost:8080/",
          "height": 314
        }
      },
      "source": [
        "import pandas as pd\n",
        "desc = pd.read_csv('train_mergedTrial.csv')[NUMERIC_FEATURES].describe()\n",
        "desc"
      ],
      "execution_count": 71,
      "outputs": [
        {
          "output_type": "execute_result",
          "data": {
            "text/html": [
              "<div>\n",
              "<style scoped>\n",
              "    .dataframe tbody tr th:only-of-type {\n",
              "        vertical-align: middle;\n",
              "    }\n",
              "\n",
              "    .dataframe tbody tr th {\n",
              "        vertical-align: top;\n",
              "    }\n",
              "\n",
              "    .dataframe thead th {\n",
              "        text-align: right;\n",
              "    }\n",
              "</style>\n",
              "<table border=\"1\" class=\"dataframe\">\n",
              "  <thead>\n",
              "    <tr style=\"text-align: right;\">\n",
              "      <th></th>\n",
              "      <th>Fz_N100</th>\n",
              "      <th>FCz_N100</th>\n",
              "      <th>Cz_N100</th>\n",
              "      <th>FC3_N100</th>\n",
              "      <th>FC4_N100</th>\n",
              "      <th>C3_N100</th>\n",
              "      <th>C4_N100</th>\n",
              "      <th>CP3_N100</th>\n",
              "      <th>CP4_N100</th>\n",
              "      <th>AFz_N100</th>\n",
              "      <th>F2_N100</th>\n",
              "      <th>F1_N100</th>\n",
              "      <th>FC1_N100</th>\n",
              "      <th>Fz_P200</th>\n",
              "      <th>FCz_P200</th>\n",
              "      <th>Cz_P200</th>\n",
              "      <th>FC3_P200</th>\n",
              "      <th>FC4_P200</th>\n",
              "      <th>C3_P200</th>\n",
              "      <th>C4_P200</th>\n",
              "      <th>CP3_P200</th>\n",
              "      <th>CP4_P200</th>\n",
              "      <th>AFz_P200</th>\n",
              "      <th>F2_P200</th>\n",
              "      <th>F1_P200</th>\n",
              "      <th>FC1_P200</th>\n",
              "    </tr>\n",
              "  </thead>\n",
              "  <tbody>\n",
              "    <tr>\n",
              "      <th>count</th>\n",
              "      <td>48285.000000</td>\n",
              "      <td>48285.000000</td>\n",
              "      <td>48285.000000</td>\n",
              "      <td>48285.000000</td>\n",
              "      <td>48285.000000</td>\n",
              "      <td>48285.000000</td>\n",
              "      <td>48285.000000</td>\n",
              "      <td>48285.000000</td>\n",
              "      <td>48285.000000</td>\n",
              "      <td>48285.000000</td>\n",
              "      <td>48285.000000</td>\n",
              "      <td>48285.000000</td>\n",
              "      <td>48285.000000</td>\n",
              "      <td>48285.000000</td>\n",
              "      <td>48285.000000</td>\n",
              "      <td>48285.000000</td>\n",
              "      <td>48285.000000</td>\n",
              "      <td>48285.000000</td>\n",
              "      <td>48285.000000</td>\n",
              "      <td>48285.000000</td>\n",
              "      <td>48285.000000</td>\n",
              "      <td>48285.000000</td>\n",
              "      <td>48285.000000</td>\n",
              "      <td>48285.000000</td>\n",
              "      <td>48285.000000</td>\n",
              "      <td>48285.000000</td>\n",
              "    </tr>\n",
              "    <tr>\n",
              "      <th>mean</th>\n",
              "      <td>0.005653</td>\n",
              "      <td>0.004674</td>\n",
              "      <td>0.001215</td>\n",
              "      <td>0.001264</td>\n",
              "      <td>0.007657</td>\n",
              "      <td>0.003969</td>\n",
              "      <td>0.004894</td>\n",
              "      <td>0.000991</td>\n",
              "      <td>0.003214</td>\n",
              "      <td>0.005363</td>\n",
              "      <td>0.001891</td>\n",
              "      <td>0.003909</td>\n",
              "      <td>0.003384</td>\n",
              "      <td>0.017754</td>\n",
              "      <td>0.023752</td>\n",
              "      <td>0.020088</td>\n",
              "      <td>0.017029</td>\n",
              "      <td>0.017146</td>\n",
              "      <td>0.015910</td>\n",
              "      <td>0.007620</td>\n",
              "      <td>0.011738</td>\n",
              "      <td>0.002072</td>\n",
              "      <td>0.020732</td>\n",
              "      <td>0.013484</td>\n",
              "      <td>0.016246</td>\n",
              "      <td>0.018409</td>\n",
              "    </tr>\n",
              "    <tr>\n",
              "      <th>std</th>\n",
              "      <td>0.594231</td>\n",
              "      <td>0.588602</td>\n",
              "      <td>0.590146</td>\n",
              "      <td>0.597586</td>\n",
              "      <td>0.594395</td>\n",
              "      <td>0.597333</td>\n",
              "      <td>0.598121</td>\n",
              "      <td>0.606889</td>\n",
              "      <td>0.606739</td>\n",
              "      <td>0.612565</td>\n",
              "      <td>0.596445</td>\n",
              "      <td>0.596462</td>\n",
              "      <td>0.592375</td>\n",
              "      <td>0.597207</td>\n",
              "      <td>0.592834</td>\n",
              "      <td>0.600275</td>\n",
              "      <td>0.596882</td>\n",
              "      <td>0.598918</td>\n",
              "      <td>0.596342</td>\n",
              "      <td>0.595100</td>\n",
              "      <td>0.607307</td>\n",
              "      <td>0.610826</td>\n",
              "      <td>0.620048</td>\n",
              "      <td>0.600059</td>\n",
              "      <td>0.599422</td>\n",
              "      <td>0.590743</td>\n",
              "    </tr>\n",
              "    <tr>\n",
              "      <th>min</th>\n",
              "      <td>-1.686021</td>\n",
              "      <td>-1.645803</td>\n",
              "      <td>-1.655008</td>\n",
              "      <td>-1.661699</td>\n",
              "      <td>-1.672671</td>\n",
              "      <td>-1.624744</td>\n",
              "      <td>-1.681079</td>\n",
              "      <td>-1.664197</td>\n",
              "      <td>-1.660010</td>\n",
              "      <td>-1.770729</td>\n",
              "      <td>-1.717391</td>\n",
              "      <td>-1.705808</td>\n",
              "      <td>-1.651754</td>\n",
              "      <td>-1.624614</td>\n",
              "      <td>-1.567199</td>\n",
              "      <td>-1.583689</td>\n",
              "      <td>-1.579923</td>\n",
              "      <td>-1.602316</td>\n",
              "      <td>-1.583768</td>\n",
              "      <td>-1.582519</td>\n",
              "      <td>-1.593454</td>\n",
              "      <td>-1.632092</td>\n",
              "      <td>-1.667546</td>\n",
              "      <td>-1.605486</td>\n",
              "      <td>-1.599442</td>\n",
              "      <td>-1.548728</td>\n",
              "    </tr>\n",
              "    <tr>\n",
              "      <th>25%</th>\n",
              "      <td>-0.405648</td>\n",
              "      <td>-0.405234</td>\n",
              "      <td>-0.411653</td>\n",
              "      <td>-0.412568</td>\n",
              "      <td>-0.400686</td>\n",
              "      <td>-0.411693</td>\n",
              "      <td>-0.407406</td>\n",
              "      <td>-0.418685</td>\n",
              "      <td>-0.413350</td>\n",
              "      <td>-0.408796</td>\n",
              "      <td>-0.406856</td>\n",
              "      <td>-0.411669</td>\n",
              "      <td>-0.409649</td>\n",
              "      <td>-0.401063</td>\n",
              "      <td>-0.394613</td>\n",
              "      <td>-0.398611</td>\n",
              "      <td>-0.404676</td>\n",
              "      <td>-0.402178</td>\n",
              "      <td>-0.402973</td>\n",
              "      <td>-0.406957</td>\n",
              "      <td>-0.407514</td>\n",
              "      <td>-0.419243</td>\n",
              "      <td>-0.402067</td>\n",
              "      <td>-0.403319</td>\n",
              "      <td>-0.405553</td>\n",
              "      <td>-0.405365</td>\n",
              "    </tr>\n",
              "    <tr>\n",
              "      <th>50%</th>\n",
              "      <td>0.005043</td>\n",
              "      <td>0.005230</td>\n",
              "      <td>0.005117</td>\n",
              "      <td>0.003869</td>\n",
              "      <td>0.006591</td>\n",
              "      <td>0.006525</td>\n",
              "      <td>0.003609</td>\n",
              "      <td>0.003151</td>\n",
              "      <td>0.003281</td>\n",
              "      <td>0.004816</td>\n",
              "      <td>0.007932</td>\n",
              "      <td>0.004831</td>\n",
              "      <td>0.005488</td>\n",
              "      <td>0.002423</td>\n",
              "      <td>0.001040</td>\n",
              "      <td>0.000962</td>\n",
              "      <td>0.001033</td>\n",
              "      <td>0.000127</td>\n",
              "      <td>-0.000338</td>\n",
              "      <td>0.000137</td>\n",
              "      <td>0.001462</td>\n",
              "      <td>-0.002399</td>\n",
              "      <td>0.001330</td>\n",
              "      <td>-0.000223</td>\n",
              "      <td>0.001228</td>\n",
              "      <td>0.001234</td>\n",
              "    </tr>\n",
              "    <tr>\n",
              "      <th>75%</th>\n",
              "      <td>0.413701</td>\n",
              "      <td>0.413275</td>\n",
              "      <td>0.411800</td>\n",
              "      <td>0.414999</td>\n",
              "      <td>0.417892</td>\n",
              "      <td>0.421103</td>\n",
              "      <td>0.418663</td>\n",
              "      <td>0.418368</td>\n",
              "      <td>0.419859</td>\n",
              "      <td>0.415592</td>\n",
              "      <td>0.409172</td>\n",
              "      <td>0.418079</td>\n",
              "      <td>0.415352</td>\n",
              "      <td>0.423462</td>\n",
              "      <td>0.426168</td>\n",
              "      <td>0.425529</td>\n",
              "      <td>0.422684</td>\n",
              "      <td>0.423942</td>\n",
              "      <td>0.424441</td>\n",
              "      <td>0.414819</td>\n",
              "      <td>0.418505</td>\n",
              "      <td>0.415594</td>\n",
              "      <td>0.424973</td>\n",
              "      <td>0.417110</td>\n",
              "      <td>0.419619</td>\n",
              "      <td>0.421043</td>\n",
              "    </tr>\n",
              "    <tr>\n",
              "      <th>max</th>\n",
              "      <td>1.724725</td>\n",
              "      <td>1.670591</td>\n",
              "      <td>1.636036</td>\n",
              "      <td>1.684421</td>\n",
              "      <td>1.688498</td>\n",
              "      <td>1.643882</td>\n",
              "      <td>1.675277</td>\n",
              "      <td>1.650736</td>\n",
              "      <td>1.692456</td>\n",
              "      <td>1.879632</td>\n",
              "      <td>1.765379</td>\n",
              "      <td>1.729053</td>\n",
              "      <td>1.669517</td>\n",
              "      <td>1.850301</td>\n",
              "      <td>1.789164</td>\n",
              "      <td>1.784157</td>\n",
              "      <td>1.798061</td>\n",
              "      <td>1.794644</td>\n",
              "      <td>1.764616</td>\n",
              "      <td>1.741293</td>\n",
              "      <td>1.754833</td>\n",
              "      <td>1.760182</td>\n",
              "      <td>2.062080</td>\n",
              "      <td>1.889769</td>\n",
              "      <td>1.852451</td>\n",
              "      <td>1.789814</td>\n",
              "    </tr>\n",
              "  </tbody>\n",
              "</table>\n",
              "</div>"
            ],
            "text/plain": [
              "            Fz_N100      FCz_N100  ...       F1_P200      FC1_P200\n",
              "count  48285.000000  48285.000000  ...  48285.000000  48285.000000\n",
              "mean       0.005653      0.004674  ...      0.016246      0.018409\n",
              "std        0.594231      0.588602  ...      0.599422      0.590743\n",
              "min       -1.686021     -1.645803  ...     -1.599442     -1.548728\n",
              "25%       -0.405648     -0.405234  ...     -0.405553     -0.405365\n",
              "50%        0.005043      0.005230  ...      0.001228      0.001234\n",
              "75%        0.413701      0.413275  ...      0.419619      0.421043\n",
              "max        1.724725      1.670591  ...      1.852451      1.789814\n",
              "\n",
              "[8 rows x 26 columns]"
            ]
          },
          "metadata": {
            "tags": []
          },
          "execution_count": 71
        }
      ]
    },
    {
      "cell_type": "code",
      "metadata": {
        "id": "Yd7CWx4DIU0I",
        "colab_type": "code",
        "colab": {}
      },
      "source": [
        "MEAN = np.array(desc.T['mean'])\n",
        "STD = np.array(desc.T['std'])"
      ],
      "execution_count": 0,
      "outputs": []
    },
    {
      "cell_type": "code",
      "metadata": {
        "id": "1UDsomSZIXSJ",
        "colab_type": "code",
        "colab": {}
      },
      "source": [
        "def normalize_numeric_data(data, mean, std):\n",
        "  # Center the data\n",
        "  return (data-mean)/std"
      ],
      "execution_count": 0,
      "outputs": []
    },
    {
      "cell_type": "code",
      "metadata": {
        "id": "ZVe4vzncIZdp",
        "colab_type": "code",
        "outputId": "d5bbfbee-3ed3-44bb-b720-c55a80849584",
        "colab": {
          "base_uri": "https://localhost:8080/",
          "height": 243
        }
      },
      "source": [
        "normalizer = functools.partial(normalize_numeric_data, mean=MEAN, std=STD)\n",
        "\n",
        "numeric_column = tf.feature_column.numeric_column('numeric', normalizer_fn=normalizer, shape=[len(NUMERIC_FEATURES)])\n",
        "numeric_columns = [numeric_column]\n",
        "numeric_column"
      ],
      "execution_count": 74,
      "outputs": [
        {
          "output_type": "execute_result",
          "data": {
            "text/plain": [
              "NumericColumn(key='numeric', shape=(26,), default_value=None, dtype=tf.float32, normalizer_fn=functools.partial(<function normalize_numeric_data at 0x7fb322b31400>, mean=array([0.00565343, 0.00467355, 0.0012151 , 0.00126385, 0.00765667,\n",
              "       0.00396926, 0.00489392, 0.00099077, 0.00321387, 0.00536256,\n",
              "       0.00189051, 0.00390943, 0.00338411, 0.01775448, 0.02375241,\n",
              "       0.02008777, 0.01702891, 0.01714618, 0.01591046, 0.00761961,\n",
              "       0.01173841, 0.00207194, 0.02073198, 0.0134841 , 0.01624554,\n",
              "       0.01840861]), std=array([0.59423135, 0.58860234, 0.59014559, 0.59758584, 0.59439484,\n",
              "       0.59733317, 0.59812118, 0.60688924, 0.60673891, 0.61256537,\n",
              "       0.59644485, 0.59646221, 0.59237516, 0.59720681, 0.59283362,\n",
              "       0.60027512, 0.59688242, 0.5989179 , 0.59634237, 0.59509959,\n",
              "       0.60730733, 0.6108257 , 0.62004843, 0.60005929, 0.59942234,\n",
              "       0.5907432 ])))"
            ]
          },
          "metadata": {
            "tags": []
          },
          "execution_count": 74
        }
      ]
    },
    {
      "cell_type": "code",
      "metadata": {
        "id": "Sd-WCNa5IbZz",
        "colab_type": "code",
        "outputId": "a5a91073-6671-4026-e117-0bc7e28e945f",
        "colab": {
          "base_uri": "https://localhost:8080/",
          "height": 932
        }
      },
      "source": [
        "example_batch, labels_batch = next(iter(train_data)) \n",
        "example_batch['numeric']"
      ],
      "execution_count": 75,
      "outputs": [
        {
          "output_type": "execute_result",
          "data": {
            "text/plain": [
              "<tf.Tensor: id=110001, shape=(8, 26), dtype=float32, numpy=\n",
              "array([[ 1.1346194 ,  1.0507563 ,  1.0860639 ,  1.1434973 ,  0.41597134,\n",
              "         1.0538565 ,  0.6040085 ,  1.2136527 ,  1.0918783 ,  1.1645925 ,\n",
              "         0.9530744 ,  1.1927356 ,  1.5401083 ,  0.75236434,  0.27820852,\n",
              "         0.264259  ,  0.36115867,  0.7507829 ,  0.30357543,  1.1473018 ,\n",
              "         0.35814837,  0.8382729 ,  0.8000626 , -0.08124212,  0.5872534 ,\n",
              "         0.76120555],\n",
              "       [-1.1228846 , -1.4521377 , -1.4435512 , -1.4498037 , -1.1233529 ,\n",
              "        -1.4774182 , -0.5731237 , -1.5623478 , -0.77690065, -1.2356713 ,\n",
              "        -1.0798526 , -1.2390165 , -1.5442376 , -0.95009077, -1.29136   ,\n",
              "        -1.2086742 , -1.1468786 , -1.0118265 , -1.3021574 , -0.54234445,\n",
              "        -1.0711405 , -0.7055862 , -0.7218891 , -1.1123077 , -1.0537565 ,\n",
              "        -1.3147025 ],\n",
              "       [-1.0254337 , -1.0247408 , -1.1364383 , -0.3960886 , -0.9163602 ,\n",
              "        -0.5899684 , -1.3037145 , -0.57896805, -1.2625418 , -0.6494236 ,\n",
              "        -1.2009227 , -0.84056014, -0.24717006, -0.50889   , -0.46238568,\n",
              "        -0.77324146, -0.3551664 , -0.19794367, -0.5390585 , -0.4595629 ,\n",
              "        -0.91662174, -0.8809249 , -0.05025231, -0.47504377, -0.43980592,\n",
              "        -0.5173579 ],\n",
              "       [-0.52530456, -0.43150455, -0.12031031, -0.16748197,  0.5631338 ,\n",
              "        -0.192923  ,  0.8473854 , -0.11143867,  0.61339164,  0.07854114,\n",
              "        -0.1634086 , -0.17898858, -0.39552125, -0.5667245 , -0.5482039 ,\n",
              "        -0.6372126 , -0.4558208 ,  0.27239227, -0.56890154,  0.03580138,\n",
              "        -0.71586645, -0.6404255 ,  0.22676368, -0.0840274 , -0.2543835 ,\n",
              "        -0.6637647 ],\n",
              "       [ 0.30869097,  0.39493367,  0.38189462,  1.0527312 ,  0.34355792,\n",
              "         0.71698415, -0.03294773,  0.01586743,  0.31295982,  0.16865367,\n",
              "         0.3211164 ,  0.30625877,  0.7475334 ,  0.36048254,  0.6065823 ,\n",
              "         0.8484387 ,  0.27217114,  0.7453335 ,  0.18676373,  0.7089218 ,\n",
              "         0.01793521,  0.79010975,  0.07512537,  0.3540487 ,  0.14956988,\n",
              "         0.9119387 ],\n",
              "       [ 0.6224911 ,  0.53416854,  0.60520464,  0.48787713,  0.70459795,\n",
              "         0.13978913,  0.75133985,  0.1010831 ,  0.9699024 ,  0.44351017,\n",
              "         0.76447916,  0.59095246,  0.38098082,  0.08107206, -0.01056048,\n",
              "         0.27075404,  0.04926094,  0.32584664, -0.2510323 ,  0.3096788 ,\n",
              "        -0.27074465,  0.7775591 ,  0.15348321,  0.23518278,  0.07337411,\n",
              "        -0.10459401],\n",
              "       [ 0.20465773, -0.13509543,  0.0818285 , -0.07501293, -0.37828457,\n",
              "        -0.1127281 ,  0.00838373, -0.19049242, -0.2086923 , -0.16104105,\n",
              "        -0.6462934 ,  0.2640944 , -0.02224568, -0.80309963, -0.9742391 ,\n",
              "        -0.84884226, -0.9015139 , -1.093293  , -0.6735573 , -1.1068336 ,\n",
              "        -0.63059735, -1.3977321 , -0.8751059 , -1.0366052 , -0.80717325,\n",
              "        -0.41762444],\n",
              "       [ 0.76320803,  0.5905944 ,  0.9556464 ,  0.45862442,  1.0485169 ,\n",
              "         0.66894144,  0.95330364,  0.36202276,  0.55506533,  0.6908011 ,\n",
              "         0.81263787,  0.4709671 ,  0.834185  ,  0.987393  ,  1.0651815 ,\n",
              "         1.174849  ,  1.1716212 ,  1.3712456 ,  1.2397351 ,  1.573197  ,\n",
              "         0.94483846,  1.1186975 ,  1.1960058 ,  1.1554823 ,  1.081518  ,\n",
              "         1.1655054 ]], dtype=float32)>"
            ]
          },
          "metadata": {
            "tags": []
          },
          "execution_count": 75
        }
      ]
    },
    {
      "cell_type": "code",
      "metadata": {
        "id": "ehFjGVLiId3u",
        "colab_type": "code",
        "colab": {}
      },
      "source": [
        "numeric_layer = tf.keras.layers.DenseFeatures(numeric_columns)"
      ],
      "execution_count": 0,
      "outputs": []
    },
    {
      "cell_type": "code",
      "metadata": {
        "id": "4AAwCLseImD5",
        "colab_type": "code",
        "colab": {}
      },
      "source": [
        "preprocessing_layer = tf.keras.layers.DenseFeatures(numeric_columns)"
      ],
      "execution_count": 0,
      "outputs": []
    },
    {
      "cell_type": "code",
      "metadata": {
        "id": "N5IKD6TuInt_",
        "colab_type": "code",
        "colab": {}
      },
      "source": [
        "model = tf.keras.Sequential([\n",
        "  preprocessing_layer,\n",
        "  tf.keras.layers.Dense(16, activation='relu'),\n",
        "  tf.keras.layers.Dense(16, activation='relu'),\n",
        "  tf.keras.layers.Dense(16, activation='relu'),\n",
        "  tf.keras.layers.Dense(1, activation='sigmoid'),\n",
        "])\n",
        "\n",
        "model.compile(\n",
        "    loss='binary_crossentropy',\n",
        "    optimizer='rmsprop',\n",
        "    metrics=['accuracy'])"
      ],
      "execution_count": 0,
      "outputs": []
    },
    {
      "cell_type": "code",
      "metadata": {
        "id": "IgqrIGq-IpvJ",
        "colab_type": "code",
        "outputId": "9b853442-9498-4b6f-e8c9-4b8c79a7cf0b",
        "colab": {
          "base_uri": "https://localhost:8080/",
          "height": 36
        }
      },
      "source": [
        "checkpoint_path = \"model5/cp.ckpt\"\n",
        "checkpoint_dir = os.path.dirname(checkpoint_path)\n",
        "\n",
        "# 체크포인트 콜백 만들기\n",
        "cp_callback = tf.keras.callbacks.ModelCheckpoint(\n",
        "    checkpoint_path, verbose=1, save_weights_only=True,\n",
        "\n",
        "    period=1)"
      ],
      "execution_count": 79,
      "outputs": [
        {
          "output_type": "stream",
          "text": [
            "WARNING:tensorflow:`period` argument is deprecated. Please use `save_freq` to specify the frequency in number of samples seen.\n"
          ],
          "name": "stdout"
        }
      ]
    },
    {
      "cell_type": "code",
      "metadata": {
        "id": "yeNvo54aIsAk",
        "colab_type": "code",
        "outputId": "dc3a983a-6e1c-455a-ee2b-ad9c8991a0c5",
        "colab": {
          "base_uri": "https://localhost:8080/",
          "height": 559
        }
      },
      "source": [
        "model.fit(train_data, epochs=7, callbacks = [cp_callback], validation_data=val_data)"
      ],
      "execution_count": 86,
      "outputs": [
        {
          "output_type": "stream",
          "text": [
            "Epoch 1/7\n",
            "   6036/Unknown - 30s 5ms/step - loss: 0.6695 - acc: 0.6008\n",
            "Epoch 00001: saving model to model5/cp.ckpt\n",
            "6036/6036 [==============================] - 30s 5ms/step - loss: 0.6695 - acc: 0.6008 - val_loss: 0.0000e+00 - val_acc: 0.0000e+00\n",
            "Epoch 2/7\n",
            "154/178 [========================>.....] - ETA: 0s - loss: 0.6593 - acc: 0.6201\n",
            "Epoch 00002: saving model to model5/cp.ckpt\n",
            "6036/6036 [==============================] - 11s 2ms/step - loss: 0.6645 - acc: 0.6045 - val_loss: 0.6679 - val_acc: 0.6069\n",
            "Epoch 3/7\n",
            "170/178 [===========================>..] - ETA: 0s - loss: 0.6556 - acc: 0.6221\n",
            "Epoch 00003: saving model to model5/cp.ckpt\n",
            "6036/6036 [==============================] - 11s 2ms/step - loss: 0.6623 - acc: 0.6074 - val_loss: 0.6667 - val_acc: 0.6097\n",
            "Epoch 4/7\n",
            "176/178 [============================>.] - ETA: 0s - loss: 0.6532 - acc: 0.6229\n",
            "Epoch 00004: saving model to model5/cp.ckpt\n",
            "6036/6036 [==============================] - 11s 2ms/step - loss: 0.6605 - acc: 0.6087 - val_loss: 0.6660 - val_acc: 0.6069\n",
            "Epoch 5/7\n",
            "162/178 [==========================>...] - ETA: 0s - loss: 0.6516 - acc: 0.6289\n",
            "Epoch 00005: saving model to model5/cp.ckpt\n",
            "6036/6036 [==============================] - 12s 2ms/step - loss: 0.6592 - acc: 0.6089 - val_loss: 0.6652 - val_acc: 0.6126\n",
            "Epoch 6/7\n",
            "170/178 [===========================>..] - ETA: 0s - loss: 0.6516 - acc: 0.6279\n",
            "Epoch 00006: saving model to model5/cp.ckpt\n",
            "6036/6036 [==============================] - 11s 2ms/step - loss: 0.6577 - acc: 0.6110 - val_loss: 0.6633 - val_acc: 0.6069\n",
            "Epoch 7/7\n",
            "153/178 [========================>.....] - ETA: 0s - loss: 0.6508 - acc: 0.6258\n",
            "Epoch 00007: saving model to model5/cp.ckpt\n",
            "6036/6036 [==============================] - 11s 2ms/step - loss: 0.6567 - acc: 0.6128 - val_loss: 0.6629 - val_acc: 0.6062\n"
          ],
          "name": "stdout"
        },
        {
          "output_type": "execute_result",
          "data": {
            "text/plain": [
              "<tensorflow.python.keras.callbacks.History at 0x7fb322b4e358>"
            ]
          },
          "metadata": {
            "tags": []
          },
          "execution_count": 86
        }
      ]
    },
    {
      "cell_type": "code",
      "metadata": {
        "id": "OW7sKfyJSCV5",
        "colab_type": "code",
        "outputId": "20311db3-93ec-4aef-a436-3d2395080216",
        "colab": {
          "base_uri": "https://localhost:8080/",
          "height": 92
        }
      },
      "source": [
        "test_loss, test_accuracy = model.evaluate(test_data)\n",
        "\n",
        "print('\\n\\nTest Loss {}, Test Accuracy {}'.format(test_loss, test_accuracy))"
      ],
      "execution_count": 87,
      "outputs": [
        {
          "output_type": "stream",
          "text": [
            "443/443 [==============================] - 2s 5ms/step - loss: 0.6778 - acc: 0.5924\n",
            "\n",
            "\n",
            "Test Loss 0.6778011986687275, Test Accuracy 0.5924357771873474\n"
          ],
          "name": "stdout"
        }
      ]
    },
    {
      "cell_type": "code",
      "metadata": {
        "id": "r7UuI3RlSIyk",
        "colab_type": "code",
        "colab": {}
      },
      "source": [
        "model.add(tf.keras.layers.Dropout(0.3))\n",
        "train_data.shuffle(30000)"
      ],
      "execution_count": 0,
      "outputs": []
    }
  ]
}