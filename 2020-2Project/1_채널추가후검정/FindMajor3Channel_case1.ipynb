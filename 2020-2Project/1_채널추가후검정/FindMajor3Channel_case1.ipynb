{
 "cells": [
  {
   "cell_type": "code",
   "execution_count": 12,
   "metadata": {},
   "outputs": [],
   "source": [
    "import numpy as np\n",
    "import pandas as pd\n",
    "import matplotlib.pyplot as plt\n",
    "import seaborn as sns\n",
    "from pprint import pprint\n",
    "import numpy as np\n",
    "import pandas as pd\n",
    "import matplotlib.pyplot as plt\n",
    "from sklearn.linear_model import LogisticRegression\n",
    "from sklearn.neighbors import KNeighborsClassifier\n",
    "from sklearn.naive_bayes import GaussianNB\n",
    "from sklearn.tree import DecisionTreeClassifier\n",
    "from sklearn.ensemble import RandomForestClassifier\n",
    "from sklearn.model_selection import train_test_split\n",
    "from sklearn.metrics import roc_curve, auc"
   ]
  },
  {
   "cell_type": "code",
   "execution_count": 13,
   "metadata": {},
   "outputs": [
    {
     "data": {
      "text/html": [
       "<div>\n",
       "<style scoped>\n",
       "    .dataframe tbody tr th:only-of-type {\n",
       "        vertical-align: middle;\n",
       "    }\n",
       "\n",
       "    .dataframe tbody tr th {\n",
       "        vertical-align: top;\n",
       "    }\n",
       "\n",
       "    .dataframe thead th {\n",
       "        text-align: right;\n",
       "    }\n",
       "</style>\n",
       "<table border=\"1\" class=\"dataframe\">\n",
       "  <thead>\n",
       "    <tr style=\"text-align: right;\">\n",
       "      <th></th>\n",
       "      <th>subject</th>\n",
       "      <th>trial</th>\n",
       "      <th>condition</th>\n",
       "      <th>group</th>\n",
       "      <th>F1_P300</th>\n",
       "      <th>FC3_P300</th>\n",
       "      <th>FC1_P300</th>\n",
       "      <th>AFz_P300</th>\n",
       "      <th>Fz_P300</th>\n",
       "      <th>F2_P300</th>\n",
       "      <th>FCz_P300</th>\n",
       "    </tr>\n",
       "  </thead>\n",
       "  <tbody>\n",
       "    <tr>\n",
       "      <th>0</th>\n",
       "      <td>1</td>\n",
       "      <td>1</td>\n",
       "      <td>1</td>\n",
       "      <td>0</td>\n",
       "      <td>13.9836</td>\n",
       "      <td>15.0689</td>\n",
       "      <td>15.5019</td>\n",
       "      <td>15.9091</td>\n",
       "      <td>9.5313</td>\n",
       "      <td>7.4203</td>\n",
       "      <td>11.3167</td>\n",
       "    </tr>\n",
       "    <tr>\n",
       "      <th>1</th>\n",
       "      <td>1</td>\n",
       "      <td>2</td>\n",
       "      <td>1</td>\n",
       "      <td>0</td>\n",
       "      <td>31.0895</td>\n",
       "      <td>39.5852</td>\n",
       "      <td>33.1532</td>\n",
       "      <td>20.3352</td>\n",
       "      <td>28.2222</td>\n",
       "      <td>32.9192</td>\n",
       "      <td>34.6021</td>\n",
       "    </tr>\n",
       "    <tr>\n",
       "      <th>2</th>\n",
       "      <td>1</td>\n",
       "      <td>3</td>\n",
       "      <td>1</td>\n",
       "      <td>0</td>\n",
       "      <td>21.0610</td>\n",
       "      <td>22.0997</td>\n",
       "      <td>20.7909</td>\n",
       "      <td>15.9415</td>\n",
       "      <td>27.4982</td>\n",
       "      <td>27.6248</td>\n",
       "      <td>23.9452</td>\n",
       "    </tr>\n",
       "    <tr>\n",
       "      <th>3</th>\n",
       "      <td>1</td>\n",
       "      <td>4</td>\n",
       "      <td>1</td>\n",
       "      <td>0</td>\n",
       "      <td>23.6089</td>\n",
       "      <td>25.5625</td>\n",
       "      <td>34.2806</td>\n",
       "      <td>24.7410</td>\n",
       "      <td>27.8989</td>\n",
       "      <td>23.7729</td>\n",
       "      <td>30.4638</td>\n",
       "    </tr>\n",
       "    <tr>\n",
       "      <th>4</th>\n",
       "      <td>1</td>\n",
       "      <td>5</td>\n",
       "      <td>1</td>\n",
       "      <td>0</td>\n",
       "      <td>7.4142</td>\n",
       "      <td>13.6209</td>\n",
       "      <td>5.7112</td>\n",
       "      <td>10.4210</td>\n",
       "      <td>6.1201</td>\n",
       "      <td>8.9196</td>\n",
       "      <td>5.1835</td>\n",
       "    </tr>\n",
       "  </tbody>\n",
       "</table>\n",
       "</div>"
      ],
      "text/plain": [
       "   subject  trial  condition  group  F1_P300  FC3_P300  FC1_P300  AFz_P300  \\\n",
       "0        1      1          1      0  13.9836   15.0689   15.5019   15.9091   \n",
       "1        1      2          1      0  31.0895   39.5852   33.1532   20.3352   \n",
       "2        1      3          1      0  21.0610   22.0997   20.7909   15.9415   \n",
       "3        1      4          1      0  23.6089   25.5625   34.2806   24.7410   \n",
       "4        1      5          1      0   7.4142   13.6209    5.7112   10.4210   \n",
       "\n",
       "   Fz_P300  F2_P300  FCz_P300  \n",
       "0   9.5313   7.4203   11.3167  \n",
       "1  28.2222  32.9192   34.6021  \n",
       "2  27.4982  27.6248   23.9452  \n",
       "3  27.8989  23.7729   30.4638  \n",
       "4   6.1201   8.9196    5.1835  "
      ]
     },
     "execution_count": 13,
     "metadata": {},
     "output_type": "execute_result"
    }
   ],
   "source": [
    "EEG_df = pd.read_csv('P300.csv')\n",
    "EEG_df.head()"
   ]
  },
  {
   "cell_type": "code",
   "execution_count": 14,
   "metadata": {},
   "outputs": [],
   "source": [
    "col_names = EEG_df.columns.values\n",
    "X = EEG_df[col_names[0:]]\n",
    "Y = EEG_df[col_names[2:4]]"
   ]
  },
  {
   "cell_type": "code",
   "execution_count": 15,
   "metadata": {},
   "outputs": [
    {
     "data": {
      "text/html": [
       "<div>\n",
       "<style scoped>\n",
       "    .dataframe tbody tr th:only-of-type {\n",
       "        vertical-align: middle;\n",
       "    }\n",
       "\n",
       "    .dataframe tbody tr th {\n",
       "        vertical-align: top;\n",
       "    }\n",
       "\n",
       "    .dataframe thead th {\n",
       "        text-align: right;\n",
       "    }\n",
       "</style>\n",
       "<table border=\"1\" class=\"dataframe\">\n",
       "  <thead>\n",
       "    <tr style=\"text-align: right;\">\n",
       "      <th></th>\n",
       "      <th>condition</th>\n",
       "      <th>group</th>\n",
       "      <th>F1_P300</th>\n",
       "      <th>FC3_P300</th>\n",
       "      <th>FC1_P300</th>\n",
       "      <th>AFz_P300</th>\n",
       "      <th>Fz_P300</th>\n",
       "      <th>F2_P300</th>\n",
       "      <th>FCz_P300</th>\n",
       "    </tr>\n",
       "  </thead>\n",
       "  <tbody>\n",
       "    <tr>\n",
       "      <th>0</th>\n",
       "      <td>1</td>\n",
       "      <td>0</td>\n",
       "      <td>13.9836</td>\n",
       "      <td>15.0689</td>\n",
       "      <td>15.5019</td>\n",
       "      <td>15.9091</td>\n",
       "      <td>9.5313</td>\n",
       "      <td>7.4203</td>\n",
       "      <td>11.3167</td>\n",
       "    </tr>\n",
       "    <tr>\n",
       "      <th>1</th>\n",
       "      <td>1</td>\n",
       "      <td>0</td>\n",
       "      <td>31.0895</td>\n",
       "      <td>39.5852</td>\n",
       "      <td>33.1532</td>\n",
       "      <td>20.3352</td>\n",
       "      <td>28.2222</td>\n",
       "      <td>32.9192</td>\n",
       "      <td>34.6021</td>\n",
       "    </tr>\n",
       "    <tr>\n",
       "      <th>2</th>\n",
       "      <td>1</td>\n",
       "      <td>0</td>\n",
       "      <td>21.0610</td>\n",
       "      <td>22.0997</td>\n",
       "      <td>20.7909</td>\n",
       "      <td>15.9415</td>\n",
       "      <td>27.4982</td>\n",
       "      <td>27.6248</td>\n",
       "      <td>23.9452</td>\n",
       "    </tr>\n",
       "    <tr>\n",
       "      <th>3</th>\n",
       "      <td>1</td>\n",
       "      <td>0</td>\n",
       "      <td>23.6089</td>\n",
       "      <td>25.5625</td>\n",
       "      <td>34.2806</td>\n",
       "      <td>24.7410</td>\n",
       "      <td>27.8989</td>\n",
       "      <td>23.7729</td>\n",
       "      <td>30.4638</td>\n",
       "    </tr>\n",
       "    <tr>\n",
       "      <th>4</th>\n",
       "      <td>1</td>\n",
       "      <td>0</td>\n",
       "      <td>7.4142</td>\n",
       "      <td>13.6209</td>\n",
       "      <td>5.7112</td>\n",
       "      <td>10.4210</td>\n",
       "      <td>6.1201</td>\n",
       "      <td>8.9196</td>\n",
       "      <td>5.1835</td>\n",
       "    </tr>\n",
       "  </tbody>\n",
       "</table>\n",
       "</div>"
      ],
      "text/plain": [
       "   condition  group  F1_P300  FC3_P300  FC1_P300  AFz_P300  Fz_P300  F2_P300  \\\n",
       "0          1      0  13.9836   15.0689   15.5019   15.9091   9.5313   7.4203   \n",
       "1          1      0  31.0895   39.5852   33.1532   20.3352  28.2222  32.9192   \n",
       "2          1      0  21.0610   22.0997   20.7909   15.9415  27.4982  27.6248   \n",
       "3          1      0  23.6089   25.5625   34.2806   24.7410  27.8989  23.7729   \n",
       "4          1      0   7.4142   13.6209    5.7112   10.4210   6.1201   8.9196   \n",
       "\n",
       "   FCz_P300  \n",
       "0   11.3167  \n",
       "1   34.6021  \n",
       "2   23.9452  \n",
       "3   30.4638  \n",
       "4    5.1835  "
      ]
     },
     "execution_count": 15,
     "metadata": {},
     "output_type": "execute_result"
    }
   ],
   "source": [
    "X = X.drop(['subject','trial'], axis=1)\n",
    "X.head(5)"
   ]
  },
  {
   "cell_type": "code",
   "execution_count": 17,
   "metadata": {},
   "outputs": [
    {
     "data": {
      "text/html": [
       "<div>\n",
       "<style scoped>\n",
       "    .dataframe tbody tr th:only-of-type {\n",
       "        vertical-align: middle;\n",
       "    }\n",
       "\n",
       "    .dataframe tbody tr th {\n",
       "        vertical-align: top;\n",
       "    }\n",
       "\n",
       "    .dataframe thead th {\n",
       "        text-align: right;\n",
       "    }\n",
       "</style>\n",
       "<table border=\"1\" class=\"dataframe\">\n",
       "  <thead>\n",
       "    <tr style=\"text-align: right;\">\n",
       "      <th></th>\n",
       "      <th>F1_P300</th>\n",
       "      <th>FC3_P300</th>\n",
       "      <th>FC1_P300</th>\n",
       "      <th>AFz_P300</th>\n",
       "      <th>Fz_P300</th>\n",
       "      <th>F2_P300</th>\n",
       "      <th>FCz_P300</th>\n",
       "    </tr>\n",
       "  </thead>\n",
       "  <tbody>\n",
       "    <tr>\n",
       "      <th>0</th>\n",
       "      <td>13.9836</td>\n",
       "      <td>15.0689</td>\n",
       "      <td>15.5019</td>\n",
       "      <td>15.9091</td>\n",
       "      <td>9.5313</td>\n",
       "      <td>7.4203</td>\n",
       "      <td>11.3167</td>\n",
       "    </tr>\n",
       "    <tr>\n",
       "      <th>1</th>\n",
       "      <td>31.0895</td>\n",
       "      <td>39.5852</td>\n",
       "      <td>33.1532</td>\n",
       "      <td>20.3352</td>\n",
       "      <td>28.2222</td>\n",
       "      <td>32.9192</td>\n",
       "      <td>34.6021</td>\n",
       "    </tr>\n",
       "    <tr>\n",
       "      <th>2</th>\n",
       "      <td>21.0610</td>\n",
       "      <td>22.0997</td>\n",
       "      <td>20.7909</td>\n",
       "      <td>15.9415</td>\n",
       "      <td>27.4982</td>\n",
       "      <td>27.6248</td>\n",
       "      <td>23.9452</td>\n",
       "    </tr>\n",
       "    <tr>\n",
       "      <th>3</th>\n",
       "      <td>23.6089</td>\n",
       "      <td>25.5625</td>\n",
       "      <td>34.2806</td>\n",
       "      <td>24.7410</td>\n",
       "      <td>27.8989</td>\n",
       "      <td>23.7729</td>\n",
       "      <td>30.4638</td>\n",
       "    </tr>\n",
       "    <tr>\n",
       "      <th>4</th>\n",
       "      <td>7.4142</td>\n",
       "      <td>13.6209</td>\n",
       "      <td>5.7112</td>\n",
       "      <td>10.4210</td>\n",
       "      <td>6.1201</td>\n",
       "      <td>8.9196</td>\n",
       "      <td>5.1835</td>\n",
       "    </tr>\n",
       "  </tbody>\n",
       "</table>\n",
       "</div>"
      ],
      "text/plain": [
       "   F1_P300  FC3_P300  FC1_P300  AFz_P300  Fz_P300  F2_P300  FCz_P300\n",
       "0  13.9836   15.0689   15.5019   15.9091   9.5313   7.4203   11.3167\n",
       "1  31.0895   39.5852   33.1532   20.3352  28.2222  32.9192   34.6021\n",
       "2  21.0610   22.0997   20.7909   15.9415  27.4982  27.6248   23.9452\n",
       "3  23.6089   25.5625   34.2806   24.7410  27.8989  23.7729   30.4638\n",
       "4   7.4142   13.6209    5.7112   10.4210   6.1201   8.9196    5.1835"
      ]
     },
     "execution_count": 17,
     "metadata": {},
     "output_type": "execute_result"
    }
   ],
   "source": [
    "X_condition1=X[X['condition']==1]\n",
    "X_condition1=X_condition1.drop(['condition','group'],axis=1)\n",
    "X_condition2=X[X['condition']==2]\n",
    "X_condition2=X_condition2.drop(['condition','group'],axis=1)\n",
    "X_condition3=X[X['condition']==3]\n",
    "X_condition3=X_condition3.drop(['condition','group'],axis=1)\n",
    "\n",
    "X_condition1.head(5)"
   ]
  },
  {
   "cell_type": "code",
   "execution_count": 18,
   "metadata": {},
   "outputs": [
    {
     "data": {
      "text/html": [
       "<div>\n",
       "<style scoped>\n",
       "    .dataframe tbody tr th:only-of-type {\n",
       "        vertical-align: middle;\n",
       "    }\n",
       "\n",
       "    .dataframe tbody tr th {\n",
       "        vertical-align: top;\n",
       "    }\n",
       "\n",
       "    .dataframe thead th {\n",
       "        text-align: right;\n",
       "    }\n",
       "</style>\n",
       "<table border=\"1\" class=\"dataframe\">\n",
       "  <thead>\n",
       "    <tr style=\"text-align: right;\">\n",
       "      <th></th>\n",
       "      <th>group</th>\n",
       "    </tr>\n",
       "  </thead>\n",
       "  <tbody>\n",
       "    <tr>\n",
       "      <th>0</th>\n",
       "      <td>0</td>\n",
       "    </tr>\n",
       "    <tr>\n",
       "      <th>1</th>\n",
       "      <td>0</td>\n",
       "    </tr>\n",
       "    <tr>\n",
       "      <th>2</th>\n",
       "      <td>0</td>\n",
       "    </tr>\n",
       "    <tr>\n",
       "      <th>3</th>\n",
       "      <td>0</td>\n",
       "    </tr>\n",
       "    <tr>\n",
       "      <th>4</th>\n",
       "      <td>0</td>\n",
       "    </tr>\n",
       "  </tbody>\n",
       "</table>\n",
       "</div>"
      ],
      "text/plain": [
       "   group\n",
       "0      0\n",
       "1      0\n",
       "2      0\n",
       "3      0\n",
       "4      0"
      ]
     },
     "execution_count": 18,
     "metadata": {},
     "output_type": "execute_result"
    }
   ],
   "source": [
    "Y_condition1=Y[Y['condition']==1]\n",
    "Y_condition1=Y_condition1.drop('condition',axis=1)\n",
    "Y_condition2=Y[Y['condition']==2]\n",
    "Y_condition2=Y_condition2.drop('condition',axis=1)\n",
    "Y_condition3=Y[Y['condition']==3]\n",
    "Y_condition3=Y_condition3.drop('condition',axis=1)\n",
    "\n",
    "Y_condition1.head(5)"
   ]
  },
  {
   "cell_type": "code",
   "execution_count": 19,
   "metadata": {},
   "outputs": [
    {
     "data": {
      "text/html": [
       "<div>\n",
       "<style scoped>\n",
       "    .dataframe tbody tr th:only-of-type {\n",
       "        vertical-align: middle;\n",
       "    }\n",
       "\n",
       "    .dataframe tbody tr th {\n",
       "        vertical-align: top;\n",
       "    }\n",
       "\n",
       "    .dataframe thead th {\n",
       "        text-align: right;\n",
       "    }\n",
       "</style>\n",
       "<table border=\"1\" class=\"dataframe\">\n",
       "  <thead>\n",
       "    <tr style=\"text-align: right;\">\n",
       "      <th></th>\n",
       "      <th>F1_P300</th>\n",
       "      <th>FC3_P300</th>\n",
       "      <th>FC1_P300</th>\n",
       "    </tr>\n",
       "  </thead>\n",
       "  <tbody>\n",
       "    <tr>\n",
       "      <th>0</th>\n",
       "      <td>13.9836</td>\n",
       "      <td>15.0689</td>\n",
       "      <td>15.5019</td>\n",
       "    </tr>\n",
       "    <tr>\n",
       "      <th>1</th>\n",
       "      <td>31.0895</td>\n",
       "      <td>39.5852</td>\n",
       "      <td>33.1532</td>\n",
       "    </tr>\n",
       "    <tr>\n",
       "      <th>2</th>\n",
       "      <td>21.0610</td>\n",
       "      <td>22.0997</td>\n",
       "      <td>20.7909</td>\n",
       "    </tr>\n",
       "    <tr>\n",
       "      <th>3</th>\n",
       "      <td>23.6089</td>\n",
       "      <td>25.5625</td>\n",
       "      <td>34.2806</td>\n",
       "    </tr>\n",
       "    <tr>\n",
       "      <th>4</th>\n",
       "      <td>7.4142</td>\n",
       "      <td>13.6209</td>\n",
       "      <td>5.7112</td>\n",
       "    </tr>\n",
       "  </tbody>\n",
       "</table>\n",
       "</div>"
      ],
      "text/plain": [
       "   F1_P300  FC3_P300  FC1_P300\n",
       "0  13.9836   15.0689   15.5019\n",
       "1  31.0895   39.5852   33.1532\n",
       "2  21.0610   22.0997   20.7909\n",
       "3  23.6089   25.5625   34.2806\n",
       "4   7.4142   13.6209    5.7112"
      ]
     },
     "execution_count": 19,
     "metadata": {},
     "output_type": "execute_result"
    }
   ],
   "source": [
    "X_condition1_123 = X_condition1[['F1_P300','FC3_P300','FC1_P300']]\n",
    "X_condition1_123.head(5)"
   ]
  },
  {
   "cell_type": "code",
   "execution_count": 23,
   "metadata": {},
   "outputs": [
    {
     "data": {
      "text/html": [
       "<div>\n",
       "<style scoped>\n",
       "    .dataframe tbody tr th:only-of-type {\n",
       "        vertical-align: middle;\n",
       "    }\n",
       "\n",
       "    .dataframe tbody tr th {\n",
       "        vertical-align: top;\n",
       "    }\n",
       "\n",
       "    .dataframe thead th {\n",
       "        text-align: right;\n",
       "    }\n",
       "</style>\n",
       "<table border=\"1\" class=\"dataframe\">\n",
       "  <thead>\n",
       "    <tr style=\"text-align: right;\">\n",
       "      <th></th>\n",
       "      <th>F1_P300</th>\n",
       "      <th>FC3_P300</th>\n",
       "      <th>AFz_P300</th>\n",
       "    </tr>\n",
       "  </thead>\n",
       "  <tbody>\n",
       "    <tr>\n",
       "      <th>0</th>\n",
       "      <td>13.9836</td>\n",
       "      <td>15.0689</td>\n",
       "      <td>15.9091</td>\n",
       "    </tr>\n",
       "    <tr>\n",
       "      <th>1</th>\n",
       "      <td>31.0895</td>\n",
       "      <td>39.5852</td>\n",
       "      <td>20.3352</td>\n",
       "    </tr>\n",
       "    <tr>\n",
       "      <th>2</th>\n",
       "      <td>21.0610</td>\n",
       "      <td>22.0997</td>\n",
       "      <td>15.9415</td>\n",
       "    </tr>\n",
       "    <tr>\n",
       "      <th>3</th>\n",
       "      <td>23.6089</td>\n",
       "      <td>25.5625</td>\n",
       "      <td>24.7410</td>\n",
       "    </tr>\n",
       "    <tr>\n",
       "      <th>4</th>\n",
       "      <td>7.4142</td>\n",
       "      <td>13.6209</td>\n",
       "      <td>10.4210</td>\n",
       "    </tr>\n",
       "  </tbody>\n",
       "</table>\n",
       "</div>"
      ],
      "text/plain": [
       "   F1_P300  FC3_P300  AFz_P300\n",
       "0  13.9836   15.0689   15.9091\n",
       "1  31.0895   39.5852   20.3352\n",
       "2  21.0610   22.0997   15.9415\n",
       "3  23.6089   25.5625   24.7410\n",
       "4   7.4142   13.6209   10.4210"
      ]
     },
     "execution_count": 23,
     "metadata": {},
     "output_type": "execute_result"
    }
   ],
   "source": [
    "X_condition1_124 = X_condition1[['F1_P300','FC3_P300','AFz_P300']]\n",
    "X_condition1_124.head(5)"
   ]
  },
  {
   "cell_type": "code",
   "execution_count": 24,
   "metadata": {},
   "outputs": [
    {
     "data": {
      "text/html": [
       "<div>\n",
       "<style scoped>\n",
       "    .dataframe tbody tr th:only-of-type {\n",
       "        vertical-align: middle;\n",
       "    }\n",
       "\n",
       "    .dataframe tbody tr th {\n",
       "        vertical-align: top;\n",
       "    }\n",
       "\n",
       "    .dataframe thead th {\n",
       "        text-align: right;\n",
       "    }\n",
       "</style>\n",
       "<table border=\"1\" class=\"dataframe\">\n",
       "  <thead>\n",
       "    <tr style=\"text-align: right;\">\n",
       "      <th></th>\n",
       "      <th>F1_P300</th>\n",
       "      <th>FC3_P300</th>\n",
       "      <th>Fz_P300</th>\n",
       "    </tr>\n",
       "  </thead>\n",
       "  <tbody>\n",
       "    <tr>\n",
       "      <th>0</th>\n",
       "      <td>13.9836</td>\n",
       "      <td>15.0689</td>\n",
       "      <td>9.5313</td>\n",
       "    </tr>\n",
       "    <tr>\n",
       "      <th>1</th>\n",
       "      <td>31.0895</td>\n",
       "      <td>39.5852</td>\n",
       "      <td>28.2222</td>\n",
       "    </tr>\n",
       "    <tr>\n",
       "      <th>2</th>\n",
       "      <td>21.0610</td>\n",
       "      <td>22.0997</td>\n",
       "      <td>27.4982</td>\n",
       "    </tr>\n",
       "    <tr>\n",
       "      <th>3</th>\n",
       "      <td>23.6089</td>\n",
       "      <td>25.5625</td>\n",
       "      <td>27.8989</td>\n",
       "    </tr>\n",
       "    <tr>\n",
       "      <th>4</th>\n",
       "      <td>7.4142</td>\n",
       "      <td>13.6209</td>\n",
       "      <td>6.1201</td>\n",
       "    </tr>\n",
       "  </tbody>\n",
       "</table>\n",
       "</div>"
      ],
      "text/plain": [
       "   F1_P300  FC3_P300  Fz_P300\n",
       "0  13.9836   15.0689   9.5313\n",
       "1  31.0895   39.5852  28.2222\n",
       "2  21.0610   22.0997  27.4982\n",
       "3  23.6089   25.5625  27.8989\n",
       "4   7.4142   13.6209   6.1201"
      ]
     },
     "execution_count": 24,
     "metadata": {},
     "output_type": "execute_result"
    }
   ],
   "source": [
    "X_condition1_125 = X_condition1[['F1_P300','FC3_P300','Fz_P300']]\n",
    "X_condition1_125.head(5)"
   ]
  },
  {
   "cell_type": "code",
   "execution_count": 25,
   "metadata": {},
   "outputs": [
    {
     "data": {
      "text/html": [
       "<div>\n",
       "<style scoped>\n",
       "    .dataframe tbody tr th:only-of-type {\n",
       "        vertical-align: middle;\n",
       "    }\n",
       "\n",
       "    .dataframe tbody tr th {\n",
       "        vertical-align: top;\n",
       "    }\n",
       "\n",
       "    .dataframe thead th {\n",
       "        text-align: right;\n",
       "    }\n",
       "</style>\n",
       "<table border=\"1\" class=\"dataframe\">\n",
       "  <thead>\n",
       "    <tr style=\"text-align: right;\">\n",
       "      <th></th>\n",
       "      <th>F1_P300</th>\n",
       "      <th>FC3_P300</th>\n",
       "      <th>F2_P300</th>\n",
       "    </tr>\n",
       "  </thead>\n",
       "  <tbody>\n",
       "    <tr>\n",
       "      <th>0</th>\n",
       "      <td>13.9836</td>\n",
       "      <td>15.0689</td>\n",
       "      <td>7.4203</td>\n",
       "    </tr>\n",
       "    <tr>\n",
       "      <th>1</th>\n",
       "      <td>31.0895</td>\n",
       "      <td>39.5852</td>\n",
       "      <td>32.9192</td>\n",
       "    </tr>\n",
       "    <tr>\n",
       "      <th>2</th>\n",
       "      <td>21.0610</td>\n",
       "      <td>22.0997</td>\n",
       "      <td>27.6248</td>\n",
       "    </tr>\n",
       "    <tr>\n",
       "      <th>3</th>\n",
       "      <td>23.6089</td>\n",
       "      <td>25.5625</td>\n",
       "      <td>23.7729</td>\n",
       "    </tr>\n",
       "    <tr>\n",
       "      <th>4</th>\n",
       "      <td>7.4142</td>\n",
       "      <td>13.6209</td>\n",
       "      <td>8.9196</td>\n",
       "    </tr>\n",
       "  </tbody>\n",
       "</table>\n",
       "</div>"
      ],
      "text/plain": [
       "   F1_P300  FC3_P300  F2_P300\n",
       "0  13.9836   15.0689   7.4203\n",
       "1  31.0895   39.5852  32.9192\n",
       "2  21.0610   22.0997  27.6248\n",
       "3  23.6089   25.5625  23.7729\n",
       "4   7.4142   13.6209   8.9196"
      ]
     },
     "execution_count": 25,
     "metadata": {},
     "output_type": "execute_result"
    }
   ],
   "source": [
    "X_condition1_126 = X_condition1[['F1_P300','FC3_P300','F2_P300']]\n",
    "X_condition1_126.head(5)"
   ]
  },
  {
   "cell_type": "code",
   "execution_count": 26,
   "metadata": {},
   "outputs": [
    {
     "data": {
      "text/html": [
       "<div>\n",
       "<style scoped>\n",
       "    .dataframe tbody tr th:only-of-type {\n",
       "        vertical-align: middle;\n",
       "    }\n",
       "\n",
       "    .dataframe tbody tr th {\n",
       "        vertical-align: top;\n",
       "    }\n",
       "\n",
       "    .dataframe thead th {\n",
       "        text-align: right;\n",
       "    }\n",
       "</style>\n",
       "<table border=\"1\" class=\"dataframe\">\n",
       "  <thead>\n",
       "    <tr style=\"text-align: right;\">\n",
       "      <th></th>\n",
       "      <th>F1_P300</th>\n",
       "      <th>FC3_P300</th>\n",
       "      <th>FCz_P300</th>\n",
       "    </tr>\n",
       "  </thead>\n",
       "  <tbody>\n",
       "    <tr>\n",
       "      <th>0</th>\n",
       "      <td>13.9836</td>\n",
       "      <td>15.0689</td>\n",
       "      <td>11.3167</td>\n",
       "    </tr>\n",
       "    <tr>\n",
       "      <th>1</th>\n",
       "      <td>31.0895</td>\n",
       "      <td>39.5852</td>\n",
       "      <td>34.6021</td>\n",
       "    </tr>\n",
       "    <tr>\n",
       "      <th>2</th>\n",
       "      <td>21.0610</td>\n",
       "      <td>22.0997</td>\n",
       "      <td>23.9452</td>\n",
       "    </tr>\n",
       "    <tr>\n",
       "      <th>3</th>\n",
       "      <td>23.6089</td>\n",
       "      <td>25.5625</td>\n",
       "      <td>30.4638</td>\n",
       "    </tr>\n",
       "    <tr>\n",
       "      <th>4</th>\n",
       "      <td>7.4142</td>\n",
       "      <td>13.6209</td>\n",
       "      <td>5.1835</td>\n",
       "    </tr>\n",
       "  </tbody>\n",
       "</table>\n",
       "</div>"
      ],
      "text/plain": [
       "   F1_P300  FC3_P300  FCz_P300\n",
       "0  13.9836   15.0689   11.3167\n",
       "1  31.0895   39.5852   34.6021\n",
       "2  21.0610   22.0997   23.9452\n",
       "3  23.6089   25.5625   30.4638\n",
       "4   7.4142   13.6209    5.1835"
      ]
     },
     "execution_count": 26,
     "metadata": {},
     "output_type": "execute_result"
    }
   ],
   "source": [
    "X_condition1_127 = X_condition1[['F1_P300','FC3_P300','FCz_P300']]\n",
    "X_condition1_127.head(5)"
   ]
  },
  {
   "cell_type": "code",
   "execution_count": 27,
   "metadata": {},
   "outputs": [
    {
     "data": {
      "text/html": [
       "<div>\n",
       "<style scoped>\n",
       "    .dataframe tbody tr th:only-of-type {\n",
       "        vertical-align: middle;\n",
       "    }\n",
       "\n",
       "    .dataframe tbody tr th {\n",
       "        vertical-align: top;\n",
       "    }\n",
       "\n",
       "    .dataframe thead th {\n",
       "        text-align: right;\n",
       "    }\n",
       "</style>\n",
       "<table border=\"1\" class=\"dataframe\">\n",
       "  <thead>\n",
       "    <tr style=\"text-align: right;\">\n",
       "      <th></th>\n",
       "      <th>F1_P300</th>\n",
       "      <th>FC1_P300</th>\n",
       "      <th>AFz_P300</th>\n",
       "    </tr>\n",
       "  </thead>\n",
       "  <tbody>\n",
       "    <tr>\n",
       "      <th>0</th>\n",
       "      <td>13.9836</td>\n",
       "      <td>15.5019</td>\n",
       "      <td>15.9091</td>\n",
       "    </tr>\n",
       "    <tr>\n",
       "      <th>1</th>\n",
       "      <td>31.0895</td>\n",
       "      <td>33.1532</td>\n",
       "      <td>20.3352</td>\n",
       "    </tr>\n",
       "    <tr>\n",
       "      <th>2</th>\n",
       "      <td>21.0610</td>\n",
       "      <td>20.7909</td>\n",
       "      <td>15.9415</td>\n",
       "    </tr>\n",
       "    <tr>\n",
       "      <th>3</th>\n",
       "      <td>23.6089</td>\n",
       "      <td>34.2806</td>\n",
       "      <td>24.7410</td>\n",
       "    </tr>\n",
       "    <tr>\n",
       "      <th>4</th>\n",
       "      <td>7.4142</td>\n",
       "      <td>5.7112</td>\n",
       "      <td>10.4210</td>\n",
       "    </tr>\n",
       "  </tbody>\n",
       "</table>\n",
       "</div>"
      ],
      "text/plain": [
       "   F1_P300  FC1_P300  AFz_P300\n",
       "0  13.9836   15.5019   15.9091\n",
       "1  31.0895   33.1532   20.3352\n",
       "2  21.0610   20.7909   15.9415\n",
       "3  23.6089   34.2806   24.7410\n",
       "4   7.4142    5.7112   10.4210"
      ]
     },
     "execution_count": 27,
     "metadata": {},
     "output_type": "execute_result"
    }
   ],
   "source": [
    "X_condition1_134 = X_condition1[['F1_P300','FC1_P300','AFz_P300']]\n",
    "X_condition1_134.head(5)"
   ]
  },
  {
   "cell_type": "code",
   "execution_count": 28,
   "metadata": {},
   "outputs": [
    {
     "data": {
      "text/html": [
       "<div>\n",
       "<style scoped>\n",
       "    .dataframe tbody tr th:only-of-type {\n",
       "        vertical-align: middle;\n",
       "    }\n",
       "\n",
       "    .dataframe tbody tr th {\n",
       "        vertical-align: top;\n",
       "    }\n",
       "\n",
       "    .dataframe thead th {\n",
       "        text-align: right;\n",
       "    }\n",
       "</style>\n",
       "<table border=\"1\" class=\"dataframe\">\n",
       "  <thead>\n",
       "    <tr style=\"text-align: right;\">\n",
       "      <th></th>\n",
       "      <th>F1_P300</th>\n",
       "      <th>FC1_P300</th>\n",
       "      <th>Fz_P300</th>\n",
       "    </tr>\n",
       "  </thead>\n",
       "  <tbody>\n",
       "    <tr>\n",
       "      <th>0</th>\n",
       "      <td>13.9836</td>\n",
       "      <td>15.5019</td>\n",
       "      <td>9.5313</td>\n",
       "    </tr>\n",
       "    <tr>\n",
       "      <th>1</th>\n",
       "      <td>31.0895</td>\n",
       "      <td>33.1532</td>\n",
       "      <td>28.2222</td>\n",
       "    </tr>\n",
       "    <tr>\n",
       "      <th>2</th>\n",
       "      <td>21.0610</td>\n",
       "      <td>20.7909</td>\n",
       "      <td>27.4982</td>\n",
       "    </tr>\n",
       "    <tr>\n",
       "      <th>3</th>\n",
       "      <td>23.6089</td>\n",
       "      <td>34.2806</td>\n",
       "      <td>27.8989</td>\n",
       "    </tr>\n",
       "    <tr>\n",
       "      <th>4</th>\n",
       "      <td>7.4142</td>\n",
       "      <td>5.7112</td>\n",
       "      <td>6.1201</td>\n",
       "    </tr>\n",
       "  </tbody>\n",
       "</table>\n",
       "</div>"
      ],
      "text/plain": [
       "   F1_P300  FC1_P300  Fz_P300\n",
       "0  13.9836   15.5019   9.5313\n",
       "1  31.0895   33.1532  28.2222\n",
       "2  21.0610   20.7909  27.4982\n",
       "3  23.6089   34.2806  27.8989\n",
       "4   7.4142    5.7112   6.1201"
      ]
     },
     "execution_count": 28,
     "metadata": {},
     "output_type": "execute_result"
    }
   ],
   "source": [
    "X_condition1_135 = X_condition1[['F1_P300','FC1_P300','Fz_P300']]\n",
    "X_condition1_135.head(5)"
   ]
  },
  {
   "cell_type": "code",
   "execution_count": 29,
   "metadata": {},
   "outputs": [
    {
     "data": {
      "text/html": [
       "<div>\n",
       "<style scoped>\n",
       "    .dataframe tbody tr th:only-of-type {\n",
       "        vertical-align: middle;\n",
       "    }\n",
       "\n",
       "    .dataframe tbody tr th {\n",
       "        vertical-align: top;\n",
       "    }\n",
       "\n",
       "    .dataframe thead th {\n",
       "        text-align: right;\n",
       "    }\n",
       "</style>\n",
       "<table border=\"1\" class=\"dataframe\">\n",
       "  <thead>\n",
       "    <tr style=\"text-align: right;\">\n",
       "      <th></th>\n",
       "      <th>F1_P300</th>\n",
       "      <th>FC1_P300</th>\n",
       "      <th>F2_P300</th>\n",
       "    </tr>\n",
       "  </thead>\n",
       "  <tbody>\n",
       "    <tr>\n",
       "      <th>0</th>\n",
       "      <td>13.9836</td>\n",
       "      <td>15.5019</td>\n",
       "      <td>7.4203</td>\n",
       "    </tr>\n",
       "    <tr>\n",
       "      <th>1</th>\n",
       "      <td>31.0895</td>\n",
       "      <td>33.1532</td>\n",
       "      <td>32.9192</td>\n",
       "    </tr>\n",
       "    <tr>\n",
       "      <th>2</th>\n",
       "      <td>21.0610</td>\n",
       "      <td>20.7909</td>\n",
       "      <td>27.6248</td>\n",
       "    </tr>\n",
       "    <tr>\n",
       "      <th>3</th>\n",
       "      <td>23.6089</td>\n",
       "      <td>34.2806</td>\n",
       "      <td>23.7729</td>\n",
       "    </tr>\n",
       "    <tr>\n",
       "      <th>4</th>\n",
       "      <td>7.4142</td>\n",
       "      <td>5.7112</td>\n",
       "      <td>8.9196</td>\n",
       "    </tr>\n",
       "  </tbody>\n",
       "</table>\n",
       "</div>"
      ],
      "text/plain": [
       "   F1_P300  FC1_P300  F2_P300\n",
       "0  13.9836   15.5019   7.4203\n",
       "1  31.0895   33.1532  32.9192\n",
       "2  21.0610   20.7909  27.6248\n",
       "3  23.6089   34.2806  23.7729\n",
       "4   7.4142    5.7112   8.9196"
      ]
     },
     "execution_count": 29,
     "metadata": {},
     "output_type": "execute_result"
    }
   ],
   "source": [
    "X_condition1_136 = X_condition1[['F1_P300','FC1_P300','F2_P300']]\n",
    "X_condition1_136.head(5)"
   ]
  },
  {
   "cell_type": "code",
   "execution_count": 30,
   "metadata": {},
   "outputs": [
    {
     "data": {
      "text/html": [
       "<div>\n",
       "<style scoped>\n",
       "    .dataframe tbody tr th:only-of-type {\n",
       "        vertical-align: middle;\n",
       "    }\n",
       "\n",
       "    .dataframe tbody tr th {\n",
       "        vertical-align: top;\n",
       "    }\n",
       "\n",
       "    .dataframe thead th {\n",
       "        text-align: right;\n",
       "    }\n",
       "</style>\n",
       "<table border=\"1\" class=\"dataframe\">\n",
       "  <thead>\n",
       "    <tr style=\"text-align: right;\">\n",
       "      <th></th>\n",
       "      <th>F1_P300</th>\n",
       "      <th>FC1_P300</th>\n",
       "      <th>FCz_P300</th>\n",
       "    </tr>\n",
       "  </thead>\n",
       "  <tbody>\n",
       "    <tr>\n",
       "      <th>0</th>\n",
       "      <td>13.9836</td>\n",
       "      <td>15.5019</td>\n",
       "      <td>11.3167</td>\n",
       "    </tr>\n",
       "    <tr>\n",
       "      <th>1</th>\n",
       "      <td>31.0895</td>\n",
       "      <td>33.1532</td>\n",
       "      <td>34.6021</td>\n",
       "    </tr>\n",
       "    <tr>\n",
       "      <th>2</th>\n",
       "      <td>21.0610</td>\n",
       "      <td>20.7909</td>\n",
       "      <td>23.9452</td>\n",
       "    </tr>\n",
       "    <tr>\n",
       "      <th>3</th>\n",
       "      <td>23.6089</td>\n",
       "      <td>34.2806</td>\n",
       "      <td>30.4638</td>\n",
       "    </tr>\n",
       "    <tr>\n",
       "      <th>4</th>\n",
       "      <td>7.4142</td>\n",
       "      <td>5.7112</td>\n",
       "      <td>5.1835</td>\n",
       "    </tr>\n",
       "  </tbody>\n",
       "</table>\n",
       "</div>"
      ],
      "text/plain": [
       "   F1_P300  FC1_P300  FCz_P300\n",
       "0  13.9836   15.5019   11.3167\n",
       "1  31.0895   33.1532   34.6021\n",
       "2  21.0610   20.7909   23.9452\n",
       "3  23.6089   34.2806   30.4638\n",
       "4   7.4142    5.7112    5.1835"
      ]
     },
     "execution_count": 30,
     "metadata": {},
     "output_type": "execute_result"
    }
   ],
   "source": [
    "X_condition1_137 = X_condition1[['F1_P300','FC1_P300','FCz_P300']]\n",
    "X_condition1_137.head(5)"
   ]
  },
  {
   "cell_type": "code",
   "execution_count": 31,
   "metadata": {},
   "outputs": [
    {
     "data": {
      "text/html": [
       "<div>\n",
       "<style scoped>\n",
       "    .dataframe tbody tr th:only-of-type {\n",
       "        vertical-align: middle;\n",
       "    }\n",
       "\n",
       "    .dataframe tbody tr th {\n",
       "        vertical-align: top;\n",
       "    }\n",
       "\n",
       "    .dataframe thead th {\n",
       "        text-align: right;\n",
       "    }\n",
       "</style>\n",
       "<table border=\"1\" class=\"dataframe\">\n",
       "  <thead>\n",
       "    <tr style=\"text-align: right;\">\n",
       "      <th></th>\n",
       "      <th>F1_P300</th>\n",
       "      <th>AFz_P300</th>\n",
       "      <th>Fz_P300</th>\n",
       "    </tr>\n",
       "  </thead>\n",
       "  <tbody>\n",
       "    <tr>\n",
       "      <th>0</th>\n",
       "      <td>13.9836</td>\n",
       "      <td>15.9091</td>\n",
       "      <td>9.5313</td>\n",
       "    </tr>\n",
       "    <tr>\n",
       "      <th>1</th>\n",
       "      <td>31.0895</td>\n",
       "      <td>20.3352</td>\n",
       "      <td>28.2222</td>\n",
       "    </tr>\n",
       "    <tr>\n",
       "      <th>2</th>\n",
       "      <td>21.0610</td>\n",
       "      <td>15.9415</td>\n",
       "      <td>27.4982</td>\n",
       "    </tr>\n",
       "    <tr>\n",
       "      <th>3</th>\n",
       "      <td>23.6089</td>\n",
       "      <td>24.7410</td>\n",
       "      <td>27.8989</td>\n",
       "    </tr>\n",
       "    <tr>\n",
       "      <th>4</th>\n",
       "      <td>7.4142</td>\n",
       "      <td>10.4210</td>\n",
       "      <td>6.1201</td>\n",
       "    </tr>\n",
       "  </tbody>\n",
       "</table>\n",
       "</div>"
      ],
      "text/plain": [
       "   F1_P300  AFz_P300  Fz_P300\n",
       "0  13.9836   15.9091   9.5313\n",
       "1  31.0895   20.3352  28.2222\n",
       "2  21.0610   15.9415  27.4982\n",
       "3  23.6089   24.7410  27.8989\n",
       "4   7.4142   10.4210   6.1201"
      ]
     },
     "execution_count": 31,
     "metadata": {},
     "output_type": "execute_result"
    }
   ],
   "source": [
    "X_condition1_145 = X_condition1[['F1_P300','AFz_P300','Fz_P300']]\n",
    "X_condition1_145.head(5)"
   ]
  },
  {
   "cell_type": "code",
   "execution_count": 78,
   "metadata": {},
   "outputs": [
    {
     "data": {
      "text/html": [
       "<div>\n",
       "<style scoped>\n",
       "    .dataframe tbody tr th:only-of-type {\n",
       "        vertical-align: middle;\n",
       "    }\n",
       "\n",
       "    .dataframe tbody tr th {\n",
       "        vertical-align: top;\n",
       "    }\n",
       "\n",
       "    .dataframe thead th {\n",
       "        text-align: right;\n",
       "    }\n",
       "</style>\n",
       "<table border=\"1\" class=\"dataframe\">\n",
       "  <thead>\n",
       "    <tr style=\"text-align: right;\">\n",
       "      <th></th>\n",
       "      <th>F1_P300</th>\n",
       "      <th>AFz_P300</th>\n",
       "      <th>F2_P300</th>\n",
       "    </tr>\n",
       "  </thead>\n",
       "  <tbody>\n",
       "    <tr>\n",
       "      <th>0</th>\n",
       "      <td>13.9836</td>\n",
       "      <td>15.9091</td>\n",
       "      <td>7.4203</td>\n",
       "    </tr>\n",
       "    <tr>\n",
       "      <th>1</th>\n",
       "      <td>31.0895</td>\n",
       "      <td>20.3352</td>\n",
       "      <td>32.9192</td>\n",
       "    </tr>\n",
       "    <tr>\n",
       "      <th>2</th>\n",
       "      <td>21.0610</td>\n",
       "      <td>15.9415</td>\n",
       "      <td>27.6248</td>\n",
       "    </tr>\n",
       "    <tr>\n",
       "      <th>3</th>\n",
       "      <td>23.6089</td>\n",
       "      <td>24.7410</td>\n",
       "      <td>23.7729</td>\n",
       "    </tr>\n",
       "    <tr>\n",
       "      <th>4</th>\n",
       "      <td>7.4142</td>\n",
       "      <td>10.4210</td>\n",
       "      <td>8.9196</td>\n",
       "    </tr>\n",
       "  </tbody>\n",
       "</table>\n",
       "</div>"
      ],
      "text/plain": [
       "   F1_P300  AFz_P300  F2_P300\n",
       "0  13.9836   15.9091   7.4203\n",
       "1  31.0895   20.3352  32.9192\n",
       "2  21.0610   15.9415  27.6248\n",
       "3  23.6089   24.7410  23.7729\n",
       "4   7.4142   10.4210   8.9196"
      ]
     },
     "execution_count": 78,
     "metadata": {},
     "output_type": "execute_result"
    }
   ],
   "source": [
    "X_condition1_146 = X_condition1[['F1_P300','AFz_P300','F2_P300']]\n",
    "X_condition1_146.head(5)"
   ]
  },
  {
   "cell_type": "code",
   "execution_count": 79,
   "metadata": {},
   "outputs": [
    {
     "data": {
      "text/html": [
       "<div>\n",
       "<style scoped>\n",
       "    .dataframe tbody tr th:only-of-type {\n",
       "        vertical-align: middle;\n",
       "    }\n",
       "\n",
       "    .dataframe tbody tr th {\n",
       "        vertical-align: top;\n",
       "    }\n",
       "\n",
       "    .dataframe thead th {\n",
       "        text-align: right;\n",
       "    }\n",
       "</style>\n",
       "<table border=\"1\" class=\"dataframe\">\n",
       "  <thead>\n",
       "    <tr style=\"text-align: right;\">\n",
       "      <th></th>\n",
       "      <th>F1_P300</th>\n",
       "      <th>AFz_P300</th>\n",
       "      <th>FCz_P300</th>\n",
       "    </tr>\n",
       "  </thead>\n",
       "  <tbody>\n",
       "    <tr>\n",
       "      <th>0</th>\n",
       "      <td>13.9836</td>\n",
       "      <td>15.9091</td>\n",
       "      <td>11.3167</td>\n",
       "    </tr>\n",
       "    <tr>\n",
       "      <th>1</th>\n",
       "      <td>31.0895</td>\n",
       "      <td>20.3352</td>\n",
       "      <td>34.6021</td>\n",
       "    </tr>\n",
       "    <tr>\n",
       "      <th>2</th>\n",
       "      <td>21.0610</td>\n",
       "      <td>15.9415</td>\n",
       "      <td>23.9452</td>\n",
       "    </tr>\n",
       "    <tr>\n",
       "      <th>3</th>\n",
       "      <td>23.6089</td>\n",
       "      <td>24.7410</td>\n",
       "      <td>30.4638</td>\n",
       "    </tr>\n",
       "    <tr>\n",
       "      <th>4</th>\n",
       "      <td>7.4142</td>\n",
       "      <td>10.4210</td>\n",
       "      <td>5.1835</td>\n",
       "    </tr>\n",
       "  </tbody>\n",
       "</table>\n",
       "</div>"
      ],
      "text/plain": [
       "   F1_P300  AFz_P300  FCz_P300\n",
       "0  13.9836   15.9091   11.3167\n",
       "1  31.0895   20.3352   34.6021\n",
       "2  21.0610   15.9415   23.9452\n",
       "3  23.6089   24.7410   30.4638\n",
       "4   7.4142   10.4210    5.1835"
      ]
     },
     "execution_count": 79,
     "metadata": {},
     "output_type": "execute_result"
    }
   ],
   "source": [
    "X_condition1_147 = X_condition1[['F1_P300','AFz_P300','FCz_P300']]\n",
    "X_condition1_147.head(5)"
   ]
  },
  {
   "cell_type": "code",
   "execution_count": 80,
   "metadata": {},
   "outputs": [],
   "source": [
    "from sklearn.model_selection import cross_val_score\n",
    "from sklearn.model_selection import RepeatedKFold\n",
    "from sklearn.model_selection import cross_val_score\n",
    "from sklearn.model_selection import GridSearchCV"
   ]
  },
  {
   "cell_type": "code",
   "execution_count": 81,
   "metadata": {},
   "outputs": [],
   "source": [
    "def train_val_test_split(X, Y, test_size=0.3, random_state=123):\n",
    "    X_train, X_test, Y_train, Y_test = train_test_split(X, Y, \n",
    "                                                        test_size=test_size, \n",
    "                                                        random_state=random_state)\n",
    "   \n",
    "    return X_train, X_test, Y_train, Y_test"
   ]
  },
  {
   "cell_type": "code",
   "execution_count": 84,
   "metadata": {},
   "outputs": [],
   "source": [
    "X_condition1_train, X_condition1_test, Y_condition1_train, Y_condition1_test = train_val_test_split(X_condition1_147, Y_condition1,\n",
    "                                                                      \n",
    "                                                                      test_size=0.3,\n",
    "                                                                      random_state=123)"
   ]
  },
  {
   "cell_type": "code",
   "execution_count": 85,
   "metadata": {},
   "outputs": [
    {
     "name": "stderr",
     "output_type": "stream",
     "text": [
      "C:\\Python\\lib\\site-packages\\sklearn\\model_selection\\_search.py:825: FutureWarning: The parameter 'iid' is deprecated in 0.22 and will be removed in 0.24.\n",
      "  \"removed in 0.24.\", FutureWarning\n"
     ]
    },
    {
     "data": {
      "text/plain": [
       "(0.6035729476818376, {'C': 0.1, 'penalty': 'l2'}, 0.6035253820557598)"
      ]
     },
     "execution_count": 85,
     "metadata": {},
     "output_type": "execute_result"
    }
   ],
   "source": [
    "rkfold = RepeatedKFold(n_splits=7, n_repeats=3, random_state=42) #tol,intercept_scaling, class_weight, random_state\n",
    "param_grid = {'penalty': ['l2'],\n",
    "'C': [0.1, 1, 10, 1e2, 1e3, 1e4, 1e5, 1e6]}\n",
    "grid = GridSearchCV(LogisticRegression(), param_grid, cv=rkfold, return_train_score=True, scoring='accuracy', iid=False)\n",
    "grid.fit(X_condition1_train, Y_condition1_train.values.ravel())\n",
    "grid.score(X_condition1_test, Y_condition1_test), grid.best_params_, grid.best_score_\n",
    "#147"
   ]
  },
  {
   "cell_type": "code",
   "execution_count": 83,
   "metadata": {},
   "outputs": [
    {
     "name": "stderr",
     "output_type": "stream",
     "text": [
      "C:\\Python\\lib\\site-packages\\sklearn\\model_selection\\_search.py:825: FutureWarning: The parameter 'iid' is deprecated in 0.22 and will be removed in 0.24.\n",
      "  \"removed in 0.24.\", FutureWarning\n"
     ]
    },
    {
     "data": {
      "text/plain": [
       "(0.603998298596342, {'C': 0.1, 'penalty': 'l2'}, 0.6032215340067791)"
      ]
     },
     "execution_count": 83,
     "metadata": {},
     "output_type": "execute_result"
    }
   ],
   "source": [
    "rkfold = RepeatedKFold(n_splits=7, n_repeats=3, random_state=42) #tol,intercept_scaling, class_weight, random_state\n",
    "param_grid = {'penalty': ['l2'],\n",
    "'C': [0.1, 1, 10, 1e2, 1e3, 1e4, 1e5, 1e6]}\n",
    "grid = GridSearchCV(LogisticRegression(), param_grid, cv=rkfold, return_train_score=True, scoring='accuracy', iid=False)\n",
    "grid.fit(X_condition1_train, Y_condition1_train.values.ravel())\n",
    "grid.score(X_condition1_test, Y_condition1_test), grid.best_params_, grid.best_score_\n",
    "#146"
   ]
  },
  {
   "cell_type": "code",
   "execution_count": 68,
   "metadata": {},
   "outputs": [
    {
     "name": "stderr",
     "output_type": "stream",
     "text": [
      "C:\\Python\\lib\\site-packages\\sklearn\\model_selection\\_search.py:825: FutureWarning: The parameter 'iid' is deprecated in 0.22 and will be removed in 0.24.\n",
      "  \"removed in 0.24.\", FutureWarning\n"
     ]
    },
    {
     "data": {
      "text/plain": [
       "(0.603998298596342, {'C': 0.1, 'penalty': 'l2'}, 0.6035252269125129)"
      ]
     },
     "execution_count": 68,
     "metadata": {},
     "output_type": "execute_result"
    }
   ],
   "source": [
    "rkfold = RepeatedKFold(n_splits=7, n_repeats=3, random_state=42) #tol,intercept_scaling, class_weight, random_state\n",
    "param_grid = {'penalty': ['l2'],\n",
    "'C': [0.1, 1, 10, 1e2, 1e3, 1e4, 1e5, 1e6]}\n",
    "grid = GridSearchCV(LogisticRegression(), param_grid, cv=rkfold, return_train_score=True, scoring='accuracy', iid=False)\n",
    "grid.fit(X_condition1_train, Y_condition1_train.values.ravel())\n",
    "grid.score(X_condition1_test, Y_condition1_test), grid.best_params_, grid.best_score_\n",
    "#145"
   ]
  },
  {
   "cell_type": "code",
   "execution_count": 66,
   "metadata": {},
   "outputs": [
    {
     "name": "stderr",
     "output_type": "stream",
     "text": [
      "C:\\Python\\lib\\site-packages\\sklearn\\model_selection\\_search.py:825: FutureWarning: The parameter 'iid' is deprecated in 0.22 and will be removed in 0.24.\n",
      "  \"removed in 0.24.\", FutureWarning\n"
     ]
    },
    {
     "data": {
      "text/plain": [
       "(0.603998298596342, {'C': 0.1, 'penalty': 'l2'}, 0.6041325351523568)"
      ]
     },
     "execution_count": 66,
     "metadata": {},
     "output_type": "execute_result"
    }
   ],
   "source": [
    "rkfold = RepeatedKFold(n_splits=7, n_repeats=3, random_state=42) #tol,intercept_scaling, class_weight, random_state\n",
    "param_grid = {'penalty': ['l2'],\n",
    "'C': [0.1, 1, 10, 1e2, 1e3, 1e4, 1e5, 1e6]}\n",
    "grid = GridSearchCV(LogisticRegression(), param_grid, cv=rkfold, return_train_score=True, scoring='accuracy', iid=False)\n",
    "grid.fit(X_condition1_train, Y_condition1_train.values.ravel())\n",
    "grid.score(X_condition1_test, Y_condition1_test), grid.best_params_, grid.best_score_\n",
    "#137"
   ]
  },
  {
   "cell_type": "code",
   "execution_count": 64,
   "metadata": {},
   "outputs": [
    {
     "name": "stderr",
     "output_type": "stream",
     "text": [
      "C:\\Python\\lib\\site-packages\\sklearn\\model_selection\\_search.py:825: FutureWarning: The parameter 'iid' is deprecated in 0.22 and will be removed in 0.24.\n",
      "  \"removed in 0.24.\", FutureWarning\n"
     ]
    },
    {
     "data": {
      "text/plain": [
       "(0.6044236495108465, {'C': 0.1, 'penalty': 'l2'}, 0.6048618635558584)"
      ]
     },
     "execution_count": 64,
     "metadata": {},
     "output_type": "execute_result"
    }
   ],
   "source": [
    "rkfold = RepeatedKFold(n_splits=7, n_repeats=3, random_state=42) #tol,intercept_scaling, class_weight, random_state\n",
    "param_grid = {'penalty': ['l2'],\n",
    "'C': [0.1, 1, 10, 1e2, 1e3, 1e4, 1e5, 1e6]}\n",
    "grid = GridSearchCV(LogisticRegression(), param_grid, cv=rkfold, return_train_score=True, scoring='accuracy', iid=False)\n",
    "grid.fit(X_condition1_train, Y_condition1_train.values.ravel())\n",
    "grid.score(X_condition1_test, Y_condition1_test), grid.best_params_, grid.best_score_\n",
    "#136"
   ]
  },
  {
   "cell_type": "code",
   "execution_count": 62,
   "metadata": {},
   "outputs": [
    {
     "name": "stderr",
     "output_type": "stream",
     "text": [
      "C:\\Python\\lib\\site-packages\\sklearn\\model_selection\\_search.py:825: FutureWarning: The parameter 'iid' is deprecated in 0.22 and will be removed in 0.24.\n",
      "  \"removed in 0.24.\", FutureWarning\n"
     ]
    },
    {
     "data": {
      "text/plain": [
       "(0.604849000425351, {'C': 0.1, 'penalty': 'l2'}, 0.6040717965712101)"
      ]
     },
     "execution_count": 62,
     "metadata": {},
     "output_type": "execute_result"
    }
   ],
   "source": [
    "rkfold = RepeatedKFold(n_splits=7, n_repeats=3, random_state=42) #tol,intercept_scaling, class_weight, random_state\n",
    "param_grid = {'penalty': ['l2'],\n",
    "'C': [0.1, 1, 10, 1e2, 1e3, 1e4, 1e5, 1e6]}\n",
    "grid = GridSearchCV(LogisticRegression(), param_grid, cv=rkfold, return_train_score=True, scoring='accuracy', iid=False)\n",
    "grid.fit(X_condition1_train, Y_condition1_train.values.ravel())\n",
    "grid.score(X_condition1_test, Y_condition1_test), grid.best_params_, grid.best_score_\n",
    "#135"
   ]
  },
  {
   "cell_type": "code",
   "execution_count": 60,
   "metadata": {},
   "outputs": [
    {
     "name": "stderr",
     "output_type": "stream",
     "text": [
      "C:\\Python\\lib\\site-packages\\sklearn\\model_selection\\_search.py:825: FutureWarning: The parameter 'iid' is deprecated in 0.22 and will be removed in 0.24.\n",
      "  \"removed in 0.24.\", FutureWarning\n"
     ]
    },
    {
     "data": {
      "text/plain": [
       "(0.604849000425351, {'C': 0.1, 'penalty': 'l2'}, 0.6036463937883126)"
      ]
     },
     "execution_count": 60,
     "metadata": {},
     "output_type": "execute_result"
    }
   ],
   "source": [
    "rkfold = RepeatedKFold(n_splits=7, n_repeats=3, random_state=42) #tol,intercept_scaling, class_weight, random_state\n",
    "param_grid = {'penalty': ['l2'],\n",
    "'C': [0.1, 1, 10, 1e2, 1e3, 1e4, 1e5, 1e6]}\n",
    "grid = GridSearchCV(LogisticRegression(), param_grid, cv=rkfold, return_train_score=True, scoring='accuracy', iid=False)\n",
    "grid.fit(X_condition1_train, Y_condition1_train.values.ravel())\n",
    "grid.score(X_condition1_test, Y_condition1_test), grid.best_params_, grid.best_score_\n",
    "#134"
   ]
  },
  {
   "cell_type": "code",
   "execution_count": 58,
   "metadata": {},
   "outputs": [
    {
     "name": "stderr",
     "output_type": "stream",
     "text": [
      "C:\\Python\\lib\\site-packages\\sklearn\\model_selection\\_search.py:825: FutureWarning: The parameter 'iid' is deprecated in 0.22 and will be removed in 0.24.\n",
      "  \"removed in 0.24.\", FutureWarning\n"
     ]
    },
    {
     "data": {
      "text/plain": [
       "(0.6052743513398554, {'C': 0.1, 'penalty': 'l2'}, 0.6049223694221348)"
      ]
     },
     "execution_count": 58,
     "metadata": {},
     "output_type": "execute_result"
    }
   ],
   "source": [
    "rkfold = RepeatedKFold(n_splits=7, n_repeats=3, random_state=42) #tol,intercept_scaling, class_weight, random_state\n",
    "param_grid = {'penalty': ['l2'],\n",
    "'C': [0.1, 1, 10, 1e2, 1e3, 1e4, 1e5, 1e6]}\n",
    "grid = GridSearchCV(LogisticRegression(), param_grid, cv=rkfold, return_train_score=True, scoring='accuracy', iid=False)\n",
    "grid.fit(X_condition1_train, Y_condition1_train.values.ravel())\n",
    "grid.score(X_condition1_test, Y_condition1_test), grid.best_params_, grid.best_score_\n",
    "#127"
   ]
  },
  {
   "cell_type": "code",
   "execution_count": 56,
   "metadata": {},
   "outputs": [
    {
     "name": "stderr",
     "output_type": "stream",
     "text": [
      "C:\\Python\\lib\\site-packages\\sklearn\\model_selection\\_search.py:825: FutureWarning: The parameter 'iid' is deprecated in 0.22 and will be removed in 0.24.\n",
      "  \"removed in 0.24.\", FutureWarning\n"
     ]
    },
    {
     "data": {
      "text/plain": [
       "(0.6061250531688643, {'C': 0.1, 'penalty': 'l2'}, 0.6055904162431256)"
      ]
     },
     "execution_count": 56,
     "metadata": {},
     "output_type": "execute_result"
    }
   ],
   "source": [
    "rkfold = RepeatedKFold(n_splits=7, n_repeats=3, random_state=42) #tol,intercept_scaling, class_weight, random_state\n",
    "param_grid = {'penalty': ['l2'],\n",
    "'C': [0.1, 1, 10, 1e2, 1e3, 1e4, 1e5, 1e6]}\n",
    "grid = GridSearchCV(LogisticRegression(), param_grid, cv=rkfold, return_train_score=True, scoring='accuracy', iid=False)\n",
    "grid.fit(X_condition1_train, Y_condition1_train.values.ravel())\n",
    "grid.score(X_condition1_test, Y_condition1_test), grid.best_params_, grid.best_score_\n",
    "#126"
   ]
  },
  {
   "cell_type": "code",
   "execution_count": 54,
   "metadata": {},
   "outputs": [
    {
     "name": "stderr",
     "output_type": "stream",
     "text": [
      "C:\\Python\\lib\\site-packages\\sklearn\\model_selection\\_search.py:825: FutureWarning: The parameter 'iid' is deprecated in 0.22 and will be removed in 0.24.\n",
      "  \"removed in 0.24.\", FutureWarning\n"
     ]
    },
    {
     "data": {
      "text/plain": [
       "(0.6065504040833688, {'C': 0.1, 'penalty': 'l2'}, 0.6052258296129983)"
      ]
     },
     "execution_count": 54,
     "metadata": {},
     "output_type": "execute_result"
    }
   ],
   "source": [
    "rkfold = RepeatedKFold(n_splits=7, n_repeats=3, random_state=42) #tol,intercept_scaling, class_weight, random_state\n",
    "param_grid = {'penalty': ['l2'],\n",
    "'C': [0.1, 1, 10, 1e2, 1e3, 1e4, 1e5, 1e6]}\n",
    "grid = GridSearchCV(LogisticRegression(), param_grid, cv=rkfold, return_train_score=True, scoring='accuracy', iid=False)\n",
    "grid.fit(X_condition1_train, Y_condition1_train.values.ravel())\n",
    "grid.score(X_condition1_test, Y_condition1_test), grid.best_params_, grid.best_score_\n",
    "#125"
   ]
  },
  {
   "cell_type": "code",
   "execution_count": 51,
   "metadata": {},
   "outputs": [
    {
     "name": "stderr",
     "output_type": "stream",
     "text": [
      "C:\\Python\\lib\\site-packages\\sklearn\\model_selection\\_search.py:825: FutureWarning: The parameter 'iid' is deprecated in 0.22 and will be removed in 0.24.\n",
      "  \"removed in 0.24.\", FutureWarning\n"
     ]
    },
    {
     "data": {
      "text/plain": [
       "(0.6065504040833688, {'C': 0.1, 'penalty': 'l2'}, 0.6032209910054152)"
      ]
     },
     "execution_count": 51,
     "metadata": {},
     "output_type": "execute_result"
    }
   ],
   "source": [
    "rkfold = RepeatedKFold(n_splits=7, n_repeats=3, random_state=42) #tol,intercept_scaling, class_weight, random_state\n",
    "param_grid = {'penalty': ['l2'],\n",
    "'C': [0.1, 1, 10, 1e2, 1e3, 1e4, 1e5, 1e6]}\n",
    "grid = GridSearchCV(LogisticRegression(), param_grid, cv=rkfold, return_train_score=True, scoring='accuracy', iid=False)\n",
    "grid.fit(X_condition1_train, Y_condition1_train.values.ravel())\n",
    "grid.score(X_condition1_test, Y_condition1_test), grid.best_params_, grid.best_score_\n",
    "#124"
   ]
  },
  {
   "cell_type": "code",
   "execution_count": 49,
   "metadata": {},
   "outputs": [
    {
     "name": "stderr",
     "output_type": "stream",
     "text": [
      "C:\\Python\\lib\\site-packages\\sklearn\\model_selection\\_search.py:825: FutureWarning: The parameter 'iid' is deprecated in 0.22 and will be removed in 0.24.\n",
      "  \"removed in 0.24.\", FutureWarning\n"
     ]
    },
    {
     "data": {
      "text/plain": [
       "(0.6061250531688643, {'C': 0.1, 'penalty': 'l2'}, 0.6052256744697514)"
      ]
     },
     "execution_count": 49,
     "metadata": {},
     "output_type": "execute_result"
    }
   ],
   "source": [
    "rkfold = RepeatedKFold(n_splits=7, n_repeats=3, random_state=42) #tol,intercept_scaling, class_weight, random_state\n",
    "param_grid = {'penalty': ['l2'],\n",
    "'C': [0.1, 1, 10, 1e2, 1e3, 1e4, 1e5, 1e6]}\n",
    "grid = GridSearchCV(LogisticRegression(), param_grid, cv=rkfold, return_train_score=True, scoring='accuracy', iid=False)\n",
    "grid.fit(X_condition1_train, Y_condition1_train.values.ravel())\n",
    "grid.score(X_condition1_test, Y_condition1_test), grid.best_params_, grid.best_score_\n",
    "#123"
   ]
  }
 ],
 "metadata": {
  "kernelspec": {
   "display_name": "Python 3",
   "language": "python",
   "name": "python3"
  },
  "language_info": {
   "codemirror_mode": {
    "name": "ipython",
    "version": 3
   },
   "file_extension": ".py",
   "mimetype": "text/x-python",
   "name": "python",
   "nbconvert_exporter": "python",
   "pygments_lexer": "ipython3",
   "version": "3.7.3"
  }
 },
 "nbformat": 4,
 "nbformat_minor": 2
}
