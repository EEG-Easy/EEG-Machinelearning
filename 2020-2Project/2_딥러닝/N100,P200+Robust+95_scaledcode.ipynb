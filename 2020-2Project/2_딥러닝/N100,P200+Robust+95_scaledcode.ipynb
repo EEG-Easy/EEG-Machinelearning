{
  "nbformat": 4,
  "nbformat_minor": 0,
  "metadata": {
    "colab": {
      "name": "N100,P200+Robust+95%scaledcode",
      "provenance": [],
      "authorship_tag": "ABX9TyMUbvFxqHsmBysi1yzodWOr",
      "include_colab_link": true
    },
    "kernelspec": {
      "name": "python3",
      "display_name": "Python 3"
    },
    "accelerator": "TPU"
  },
  "cells": [
    {
      "cell_type": "markdown",
      "metadata": {
        "id": "view-in-github",
        "colab_type": "text"
      },
      "source": [
        "<a href=\"https://colab.research.google.com/github/EEG-Easy/EEG-Machinelearning/blob/master/2020-2Project/2_%EB%94%A5%EB%9F%AC%EB%8B%9D/N100%2CP200%2BRobust%2B95_scaledcode.ipynb\" target=\"_parent\"><img src=\"https://colab.research.google.com/assets/colab-badge.svg\" alt=\"Open In Colab\"/></a>"
      ]
    },
    {
      "cell_type": "code",
      "metadata": {
        "id": "T8ZSbJer2g0s",
        "colab_type": "code",
        "outputId": "fdfba440-e2dc-469e-be96-a2297aaa3144",
        "colab": {
          "base_uri": "https://localhost:8080/",
          "height": 65
        }
      },
      "source": [
        "from __future__ import absolute_import, division, print_function, unicode_literals\n",
        "import tensorflow as tf\n",
        "from __future__ import absolute_import, division, print_function, unicode_literals\n",
        "import functools\n",
        "\n",
        "import tensorflow as tf\n",
        "tf.enable_eager_execution()\n",
        "from tensorflow import keras\n",
        "import os\n",
        "\n",
        "import numpy as np\n",
        "import pandas as pd\n",
        "\n",
        "import sklearn\n",
        "from sklearn.model_selection import train_test_split\n",
        "from sklearn.preprocessing import StandardScaler\n",
        "from sklearn.preprocessing import RobustScaler\n",
        "\n",
        "tf.keras.backend.clear_session()"
      ],
      "execution_count": 0,
      "outputs": [
        {
          "output_type": "display_data",
          "data": {
            "text/html": [
              "<p style=\"color: red;\">\n",
              "The default version of TensorFlow in Colab will soon switch to TensorFlow 2.x.<br>\n",
              "We recommend you <a href=\"https://www.tensorflow.org/guide/migrate\" target=\"_blank\">upgrade</a> now \n",
              "or ensure your notebook will continue to use TensorFlow 1.x via the <code>%tensorflow_version 1.x</code> magic:\n",
              "<a href=\"https://colab.research.google.com/notebooks/tensorflow_version.ipynb\" target=\"_blank\">more info</a>.</p>\n"
            ],
            "text/plain": [
              "<IPython.core.display.HTML object>"
            ]
          },
          "metadata": {
            "tags": []
          }
        }
      ]
    },
    {
      "cell_type": "code",
      "metadata": {
        "id": "XkVYsA_T20h6",
        "colab_type": "code",
        "outputId": "5c1df34c-81fc-4e5a-b20c-490b9a65cc20",
        "colab": {
          "base_uri": "https://localhost:8080/",
          "height": 131
        }
      },
      "source": [
        "from google.colab import drive\n",
        "\n",
        "drive.mount('/content/gdrive')"
      ],
      "execution_count": 0,
      "outputs": [
        {
          "output_type": "stream",
          "text": [
            "Go to this URL in a browser: https://accounts.google.com/o/oauth2/auth?client_id=947318989803-6bn6qk8qdgf4n4g3pfee6491hc0brc4i.apps.googleusercontent.com&redirect_uri=urn%3aietf%3awg%3aoauth%3a2.0%3aoob&response_type=code&scope=email%20https%3a%2f%2fwww.googleapis.com%2fauth%2fdocs.test%20https%3a%2f%2fwww.googleapis.com%2fauth%2fdrive%20https%3a%2f%2fwww.googleapis.com%2fauth%2fdrive.photos.readonly%20https%3a%2f%2fwww.googleapis.com%2fauth%2fpeopleapi.readonly\n",
            "\n",
            "Enter your authorization code:\n",
            "··········\n",
            "Mounted at /content/gdrive\n"
          ],
          "name": "stdout"
        }
      ]
    },
    {
      "cell_type": "code",
      "metadata": {
        "id": "Z2Mb8uVa3BUB",
        "colab_type": "code",
        "outputId": "367ed215-97b9-423b-c61f-899485312767",
        "colab": {
          "base_uri": "https://localhost:8080/",
          "height": 36
        }
      },
      "source": [
        "cd /content/gdrive/My Drive/eeg"
      ],
      "execution_count": 0,
      "outputs": [
        {
          "output_type": "stream",
          "text": [
            "/content/gdrive/My Drive/eeg\n"
          ],
          "name": "stdout"
        }
      ]
    },
    {
      "cell_type": "code",
      "metadata": {
        "id": "YofOt4013D_t",
        "colab_type": "code",
        "colab": {}
      },
      "source": [
        "EEG_df = pd.read_csv('mergedTrialData.csv')"
      ],
      "execution_count": 0,
      "outputs": []
    },
    {
      "cell_type": "code",
      "metadata": {
        "id": "7u-DecZk3rX8",
        "colab_type": "code",
        "colab": {}
      },
      "source": [
        "train, test = train_test_split(EEG_df, test_size=0.2, random_state=123)"
      ],
      "execution_count": 0,
      "outputs": []
    },
    {
      "cell_type": "code",
      "metadata": {
        "id": "q34YAD-j3cMe",
        "colab_type": "code",
        "outputId": "54859ef4-02bb-4336-fdac-562938a4ef78",
        "colab": {
          "base_uri": "https://localhost:8080/",
          "height": 129
        }
      },
      "source": [
        "train = train.drop(['subject', 'trial', 'condition'], axis=1)\n",
        "train.columns"
      ],
      "execution_count": 0,
      "outputs": [
        {
          "output_type": "execute_result",
          "data": {
            "text/plain": [
              "Index(['condition', 'group', 'Fz_N100', 'FCz_N100', 'Cz_N100', 'FC3_N100',\n",
              "       'FC4_N100', 'C3_N100', 'C4_N100', 'CP3_N100', 'CP4_N100', 'AFz_N100',\n",
              "       'F2_N100', 'F1_N100', 'FC1_N100', 'Fz_P200', 'FCz_P200', 'Cz_P200',\n",
              "       'FC3_P200', 'FC4_P200', 'C3_P200', 'C4_P200', 'CP3_P200', 'CP4_P200',\n",
              "       'AFz_P200', 'F2_P200', 'F1_P200', 'FC1_P200'],\n",
              "      dtype='object')"
            ]
          },
          "metadata": {
            "tags": []
          },
          "execution_count": 6
        }
      ]
    },
    {
      "cell_type": "code",
      "metadata": {
        "id": "RSOqnUbmGIGF",
        "colab_type": "code",
        "outputId": "3c15597f-8064-4755-fe29-115c9f980a13",
        "colab": {
          "base_uri": "https://localhost:8080/",
          "height": 129
        }
      },
      "source": [
        "test = test.drop(['subject', 'trial', 'condition'], axis=1)\n",
        "test.columns"
      ],
      "execution_count": 0,
      "outputs": [
        {
          "output_type": "execute_result",
          "data": {
            "text/plain": [
              "Index(['condition', 'group', 'Fz_N100', 'FCz_N100', 'Cz_N100', 'FC3_N100',\n",
              "       'FC4_N100', 'C3_N100', 'C4_N100', 'CP3_N100', 'CP4_N100', 'AFz_N100',\n",
              "       'F2_N100', 'F1_N100', 'FC1_N100', 'Fz_P200', 'FCz_P200', 'Cz_P200',\n",
              "       'FC3_P200', 'FC4_P200', 'C3_P200', 'C4_P200', 'CP3_P200', 'CP4_P200',\n",
              "       'AFz_P200', 'F2_P200', 'F1_P200', 'FC1_P200'],\n",
              "      dtype='object')"
            ]
          },
          "metadata": {
            "tags": []
          },
          "execution_count": 7
        }
      ]
    },
    {
      "cell_type": "code",
      "metadata": {
        "id": "IaBGItj33uF2",
        "colab_type": "code",
        "colab": {}
      },
      "source": [
        "#condition_train=np.array(train['condition'])\n",
        "group_train=np.array(train['group'])\n",
        "#trial_train=np.array(train['trial'])\n",
        "\n",
        "train_scaling = train.drop(['condition','group'], axis=1)"
      ],
      "execution_count": 0,
      "outputs": []
    },
    {
      "cell_type": "code",
      "metadata": {
        "id": "sAGHR5VX38Zq",
        "colab_type": "code",
        "colab": {}
      },
      "source": [
        "#condition_test=np.array(test['condition'])\n",
        "group_test=np.array(test['group'])\n",
        "#trial_test=np.array(test['trial'])\n",
        "\n",
        "test_scaling = test.drop(['condition','group'], axis=1)"
      ],
      "execution_count": 0,
      "outputs": []
    },
    {
      "cell_type": "code",
      "metadata": {
        "id": "IcR9XrA94EqG",
        "colab_type": "code",
        "colab": {}
      },
      "source": [
        "scaler = RobustScaler()"
      ],
      "execution_count": 0,
      "outputs": []
    },
    {
      "cell_type": "code",
      "metadata": {
        "id": "OGRuMj6f4Gow",
        "colab_type": "code",
        "colab": {}
      },
      "source": [
        "scaler.fit(train_scaling) \n",
        "\n",
        "train_scaled = scaler.transform(train_scaling)\n",
        "test_scaled = scaler.transform(test_scaling)\n",
        "\n",
        "train_scaled_df = pd.DataFrame(train_scaled)\n",
        "test_scaled_df = pd.DataFrame(test_scaled)"
      ],
      "execution_count": 0,
      "outputs": []
    },
    {
      "cell_type": "code",
      "metadata": {
        "id": "ogt2f6yf4LBC",
        "colab_type": "code",
        "outputId": "0381adef-e998-40e2-d57e-abd45e9238cb",
        "colab": {
          "base_uri": "https://localhost:8080/",
          "height": 222
        }
      },
      "source": [
        "train_scaled_df.columns = ['Fz_N100', 'FCz_N100', 'Cz_N100', 'FC3_N100', 'FC4_N100', 'C3_N100', 'C4_N100', 'CP3_N100', 'CP4_N100', 'AFz_N100', 'F2_N100', 'F1_N100', 'FC1_N100', 'Fz_P200', 'FCz_P200',\n",
        "       'Cz_P200', 'FC3_P200', 'FC4_P200', 'C3_P200', 'C4_P200', 'CP3_P200',\n",
        "       'CP4_P200', 'AFz_P200', 'F2_P200', 'F1_P200', 'FC1_P200']\n",
        "#condition_train = condition_train.astype(int)\n",
        "group_train = group_train.astype(int)\n",
        "#trial_train = trial_train.astype(int)\n",
        "\n",
        "#train_scaled_df['condition'] = condition_train\n",
        "train_scaled_df['group'] = group_train\n",
        "#train_scaled_df['trial'] = trial_train\n",
        "train_scaled_df.head(5)"
      ],
      "execution_count": 0,
      "outputs": [
        {
          "output_type": "execute_result",
          "data": {
            "text/html": [
              "<div>\n",
              "<style scoped>\n",
              "    .dataframe tbody tr th:only-of-type {\n",
              "        vertical-align: middle;\n",
              "    }\n",
              "\n",
              "    .dataframe tbody tr th {\n",
              "        vertical-align: top;\n",
              "    }\n",
              "\n",
              "    .dataframe thead th {\n",
              "        text-align: right;\n",
              "    }\n",
              "</style>\n",
              "<table border=\"1\" class=\"dataframe\">\n",
              "  <thead>\n",
              "    <tr style=\"text-align: right;\">\n",
              "      <th></th>\n",
              "      <th>Fz_N100</th>\n",
              "      <th>FCz_N100</th>\n",
              "      <th>Cz_N100</th>\n",
              "      <th>FC3_N100</th>\n",
              "      <th>FC4_N100</th>\n",
              "      <th>C3_N100</th>\n",
              "      <th>C4_N100</th>\n",
              "      <th>CP3_N100</th>\n",
              "      <th>CP4_N100</th>\n",
              "      <th>AFz_N100</th>\n",
              "      <th>F2_N100</th>\n",
              "      <th>F1_N100</th>\n",
              "      <th>FC1_N100</th>\n",
              "      <th>Fz_P200</th>\n",
              "      <th>FCz_P200</th>\n",
              "      <th>Cz_P200</th>\n",
              "      <th>FC3_P200</th>\n",
              "      <th>FC4_P200</th>\n",
              "      <th>C3_P200</th>\n",
              "      <th>C4_P200</th>\n",
              "      <th>CP3_P200</th>\n",
              "      <th>CP4_P200</th>\n",
              "      <th>AFz_P200</th>\n",
              "      <th>F2_P200</th>\n",
              "      <th>F1_P200</th>\n",
              "      <th>FC1_P200</th>\n",
              "      <th>condition</th>\n",
              "      <th>group</th>\n",
              "    </tr>\n",
              "  </thead>\n",
              "  <tbody>\n",
              "    <tr>\n",
              "      <th>0</th>\n",
              "      <td>0.173167</td>\n",
              "      <td>-0.118534</td>\n",
              "      <td>-0.338886</td>\n",
              "      <td>-0.259436</td>\n",
              "      <td>0.057057</td>\n",
              "      <td>-0.181662</td>\n",
              "      <td>0.108240</td>\n",
              "      <td>-0.426154</td>\n",
              "      <td>-0.019089</td>\n",
              "      <td>0.334316</td>\n",
              "      <td>0.241423</td>\n",
              "      <td>0.076543</td>\n",
              "      <td>-0.145323</td>\n",
              "      <td>-1.323957</td>\n",
              "      <td>-1.080415</td>\n",
              "      <td>-1.032536</td>\n",
              "      <td>-1.280769</td>\n",
              "      <td>-1.230602</td>\n",
              "      <td>-0.738153</td>\n",
              "      <td>-0.787172</td>\n",
              "      <td>-1.051231</td>\n",
              "      <td>-0.771871</td>\n",
              "      <td>-1.886053</td>\n",
              "      <td>-1.193383</td>\n",
              "      <td>-1.334435</td>\n",
              "      <td>-1.014633</td>\n",
              "      <td>1</td>\n",
              "      <td>0</td>\n",
              "    </tr>\n",
              "    <tr>\n",
              "      <th>1</th>\n",
              "      <td>-0.825475</td>\n",
              "      <td>-1.649515</td>\n",
              "      <td>-1.218236</td>\n",
              "      <td>-1.498842</td>\n",
              "      <td>-0.913411</td>\n",
              "      <td>-1.464028</td>\n",
              "      <td>-0.579741</td>\n",
              "      <td>-1.259407</td>\n",
              "      <td>-1.123541</td>\n",
              "      <td>-1.104128</td>\n",
              "      <td>-1.032858</td>\n",
              "      <td>-1.145065</td>\n",
              "      <td>-1.044381</td>\n",
              "      <td>-0.248829</td>\n",
              "      <td>-1.051751</td>\n",
              "      <td>-1.017171</td>\n",
              "      <td>-0.505113</td>\n",
              "      <td>-0.349891</td>\n",
              "      <td>-0.604575</td>\n",
              "      <td>0.093818</td>\n",
              "      <td>-0.294253</td>\n",
              "      <td>-0.416139</td>\n",
              "      <td>-0.177560</td>\n",
              "      <td>-0.735954</td>\n",
              "      <td>-0.274203</td>\n",
              "      <td>-0.146880</td>\n",
              "      <td>1</td>\n",
              "      <td>1</td>\n",
              "    </tr>\n",
              "    <tr>\n",
              "      <th>2</th>\n",
              "      <td>-0.830725</td>\n",
              "      <td>-0.786790</td>\n",
              "      <td>-0.628532</td>\n",
              "      <td>-1.352248</td>\n",
              "      <td>-0.380148</td>\n",
              "      <td>-1.308594</td>\n",
              "      <td>-0.075307</td>\n",
              "      <td>-1.185834</td>\n",
              "      <td>-0.430208</td>\n",
              "      <td>-1.042280</td>\n",
              "      <td>-0.986438</td>\n",
              "      <td>-1.011421</td>\n",
              "      <td>-1.034237</td>\n",
              "      <td>-0.534181</td>\n",
              "      <td>-0.557525</td>\n",
              "      <td>-0.401791</td>\n",
              "      <td>-0.428099</td>\n",
              "      <td>-0.258243</td>\n",
              "      <td>-0.362875</td>\n",
              "      <td>-0.043933</td>\n",
              "      <td>-0.380095</td>\n",
              "      <td>-0.429933</td>\n",
              "      <td>-0.406084</td>\n",
              "      <td>-0.416962</td>\n",
              "      <td>-0.477193</td>\n",
              "      <td>-0.481157</td>\n",
              "      <td>1</td>\n",
              "      <td>0</td>\n",
              "    </tr>\n",
              "    <tr>\n",
              "      <th>3</th>\n",
              "      <td>-0.285275</td>\n",
              "      <td>-0.348058</td>\n",
              "      <td>-0.313716</td>\n",
              "      <td>-0.279027</td>\n",
              "      <td>-0.116630</td>\n",
              "      <td>-0.397868</td>\n",
              "      <td>-0.347841</td>\n",
              "      <td>-0.434677</td>\n",
              "      <td>-0.540404</td>\n",
              "      <td>-0.044739</td>\n",
              "      <td>-0.122917</td>\n",
              "      <td>-0.001954</td>\n",
              "      <td>-0.281313</td>\n",
              "      <td>-1.463395</td>\n",
              "      <td>-1.478569</td>\n",
              "      <td>-1.273761</td>\n",
              "      <td>-1.277617</td>\n",
              "      <td>-0.937454</td>\n",
              "      <td>-1.246434</td>\n",
              "      <td>-1.270667</td>\n",
              "      <td>-1.089812</td>\n",
              "      <td>-1.492133</td>\n",
              "      <td>-1.470312</td>\n",
              "      <td>-1.355058</td>\n",
              "      <td>-1.245549</td>\n",
              "      <td>-1.313266</td>\n",
              "      <td>3</td>\n",
              "      <td>1</td>\n",
              "    </tr>\n",
              "    <tr>\n",
              "      <th>4</th>\n",
              "      <td>-0.248099</td>\n",
              "      <td>-0.036671</td>\n",
              "      <td>0.111671</td>\n",
              "      <td>0.355792</td>\n",
              "      <td>0.093406</td>\n",
              "      <td>0.436572</td>\n",
              "      <td>0.106835</td>\n",
              "      <td>0.546846</td>\n",
              "      <td>0.130081</td>\n",
              "      <td>0.053972</td>\n",
              "      <td>-0.178582</td>\n",
              "      <td>-0.179096</td>\n",
              "      <td>-0.046611</td>\n",
              "      <td>0.733631</td>\n",
              "      <td>0.584545</td>\n",
              "      <td>0.520769</td>\n",
              "      <td>0.703327</td>\n",
              "      <td>0.722025</td>\n",
              "      <td>1.139594</td>\n",
              "      <td>0.703724</td>\n",
              "      <td>1.215894</td>\n",
              "      <td>1.309471</td>\n",
              "      <td>0.962907</td>\n",
              "      <td>0.691303</td>\n",
              "      <td>0.944528</td>\n",
              "      <td>0.639293</td>\n",
              "      <td>3</td>\n",
              "      <td>1</td>\n",
              "    </tr>\n",
              "  </tbody>\n",
              "</table>\n",
              "</div>"
            ],
            "text/plain": [
              "    Fz_N100  FCz_N100   Cz_N100  FC3_N100  ...   F1_P200  FC1_P200  condition  group\n",
              "0  0.173167 -0.118534 -0.338886 -0.259436  ... -1.334435 -1.014633          1      0\n",
              "1 -0.825475 -1.649515 -1.218236 -1.498842  ... -0.274203 -0.146880          1      1\n",
              "2 -0.830725 -0.786790 -0.628532 -1.352248  ... -0.477193 -0.481157          1      0\n",
              "3 -0.285275 -0.348058 -0.313716 -0.279027  ... -1.245549 -1.313266          3      1\n",
              "4 -0.248099 -0.036671  0.111671  0.355792  ...  0.944528  0.639293          3      1\n",
              "\n",
              "[5 rows x 28 columns]"
            ]
          },
          "metadata": {
            "tags": []
          },
          "execution_count": 12
        }
      ]
    },
    {
      "cell_type": "code",
      "metadata": {
        "id": "OW5NlK8rSj-c",
        "colab_type": "code",
        "outputId": "ba8512c9-eb79-40c6-ad56-216a2299177e",
        "colab": {
          "base_uri": "https://localhost:8080/",
          "height": 559
        }
      },
      "source": [
        "train_scaled_df.quantile(q=0.975, interpolation='midpoint')"
      ],
      "execution_count": 0,
      "outputs": [
        {
          "output_type": "execute_result",
          "data": {
            "text/plain": [
              "Fz_N100      1.738905\n",
              "FCz_N100     1.682831\n",
              "Cz_N100      1.672962\n",
              "FC3_N100     1.727141\n",
              "FC4_N100     1.728994\n",
              "C3_N100      1.698318\n",
              "C4_N100      1.724151\n",
              "CP3_N100     1.712273\n",
              "CP4_N100     1.726895\n",
              "AFz_N100     1.932874\n",
              "F2_N100      1.791012\n",
              "F1_N100      1.782810\n",
              "FC1_N100     1.720915\n",
              "Fz_P200      1.879900\n",
              "FCz_P200     1.835093\n",
              "Cz_P200      1.843230\n",
              "FC3_P200     1.829106\n",
              "FC4_P200     1.867019\n",
              "C3_P200      1.800913\n",
              "C4_P200      1.786141\n",
              "CP3_P200     1.798191\n",
              "CP4_P200     1.815482\n",
              "AFz_P200     2.140132\n",
              "F2_P200      1.942905\n",
              "F1_P200      1.891808\n",
              "FC1_P200     1.816170\n",
              "condition    3.000000\n",
              "group        1.000000\n",
              "Name: 0.975, dtype: float64"
            ]
          },
          "metadata": {
            "tags": []
          },
          "execution_count": 13
        }
      ]
    },
    {
      "cell_type": "code",
      "metadata": {
        "id": "2qqVU_vMgxwk",
        "colab_type": "code",
        "outputId": "7a24c3a3-f6a3-4c32-a710-105775e0af5e",
        "colab": {
          "base_uri": "https://localhost:8080/",
          "height": 559
        }
      },
      "source": [
        "train_scaled_df.quantile(q=0.025, interpolation='midpoint')"
      ],
      "execution_count": 0,
      "outputs": [
        {
          "output_type": "execute_result",
          "data": {
            "text/plain": [
              "Fz_N100     -1.730072\n",
              "FCz_N100    -1.691553\n",
              "Cz_N100     -1.697983\n",
              "FC3_N100    -1.700903\n",
              "FC4_N100    -1.698100\n",
              "C3_N100     -1.686699\n",
              "C4_N100     -1.735395\n",
              "CP3_N100    -1.714209\n",
              "CP4_N100    -1.711044\n",
              "AFz_N100    -1.817189\n",
              "F2_N100     -1.763625\n",
              "F1_N100     -1.764395\n",
              "FC1_N100    -1.682147\n",
              "Fz_P200     -1.666162\n",
              "FCz_P200    -1.602992\n",
              "Cz_P200     -1.614339\n",
              "FC3_P200    -1.624722\n",
              "FC4_P200    -1.620344\n",
              "C3_P200     -1.616514\n",
              "C4_P200     -1.601731\n",
              "CP3_P200    -1.633369\n",
              "CP4_P200    -1.660843\n",
              "AFz_P200    -1.744281\n",
              "F2_P200     -1.649251\n",
              "F1_P200     -1.645718\n",
              "FC1_P200    -1.590525\n",
              "condition    1.000000\n",
              "group        0.000000\n",
              "Name: 0.025, dtype: float64"
            ]
          },
          "metadata": {
            "tags": []
          },
          "execution_count": 14
        }
      ]
    },
    {
      "cell_type": "code",
      "metadata": {
        "id": "vnR1HhQaWS8c",
        "colab_type": "code",
        "colab": {}
      },
      "source": [
        "train_scaled_df = train_scaled_df.drop(train_scaled_df[train_scaled_df.Fz_N100 > 1.6].index)\n",
        "train_scaled_df = train_scaled_df.drop(train_scaled_df[train_scaled_df.FCz_N100 > 1.6].index)\n",
        "train_scaled_df = train_scaled_df.drop(train_scaled_df[train_scaled_df.Cz_N100 > 1.6].index)\n",
        "train_scaled_df = train_scaled_df.drop(train_scaled_df[train_scaled_df.FC3_N100 > 1.6].index)\n",
        "train_scaled_df = train_scaled_df.drop(train_scaled_df[train_scaled_df.FC4_N100 > 1.6].index)\n",
        "train_scaled_df = train_scaled_df.drop(train_scaled_df[train_scaled_df.C3_N100 > 1.6].index)\n",
        "train_scaled_df = train_scaled_df.drop(train_scaled_df[train_scaled_df.C4_N100 > 1.6].index)\n",
        "train_scaled_df = train_scaled_df.drop(train_scaled_df[train_scaled_df.CP3_N100 > 1.6].index)\n",
        "train_scaled_df = train_scaled_df.drop(train_scaled_df[train_scaled_df.CP4_N100 > 1.6].index)\n",
        "train_scaled_df = train_scaled_df.drop(train_scaled_df[train_scaled_df.AFz_N100 > 1.6].index)\n",
        "train_scaled_df = train_scaled_df.drop(train_scaled_df[train_scaled_df.F2_N100 > 1.6].index)\n",
        "train_scaled_df = train_scaled_df.drop(train_scaled_df[train_scaled_df.F1_N100 > 1.6].index)\n",
        "train_scaled_df = train_scaled_df.drop(train_scaled_df[train_scaled_df.FC1_N100 > 1.6].index)\n",
        "train_scaled_df = train_scaled_df.drop(train_scaled_df[train_scaled_df.Fz_P200 > 1.6].index)\n",
        "train_scaled_df = train_scaled_df.drop(train_scaled_df[train_scaled_df.FCz_P200 > 1.6].index)\n",
        "train_scaled_df = train_scaled_df.drop(train_scaled_df[train_scaled_df.Cz_P200 > 1.6].index)\n",
        "train_scaled_df = train_scaled_df.drop(train_scaled_df[train_scaled_df.FC3_P200 > 1.6].index)\n",
        "train_scaled_df = train_scaled_df.drop(train_scaled_df[train_scaled_df.FC4_P200 > 1.6].index)\n",
        "train_scaled_df = train_scaled_df.drop(train_scaled_df[train_scaled_df.C3_P200 > 1.6].index)\n",
        "train_scaled_df = train_scaled_df.drop(train_scaled_df[train_scaled_df.C4_P200 > 1.6].index)\n",
        "train_scaled_df = train_scaled_df.drop(train_scaled_df[train_scaled_df.CP3_P200 > 1.6].index)\n",
        "train_scaled_df = train_scaled_df.drop(train_scaled_df[train_scaled_df.CP4_P200 > 1.6].index)\n",
        "train_scaled_df = train_scaled_df.drop(train_scaled_df[train_scaled_df.AFz_P200 > 1.6].index)\n",
        "train_scaled_df = train_scaled_df.drop(train_scaled_df[train_scaled_df.F2_P200 > 1.6].index)\n",
        "train_scaled_df = train_scaled_df.drop(train_scaled_df[train_scaled_df.F1_P200 > 1.6].index)\n",
        "train_scaled_df = train_scaled_df.drop(train_scaled_df[train_scaled_df.FC1_P200 > 1.6].index)"
      ],
      "execution_count": 0,
      "outputs": []
    },
    {
      "cell_type": "code",
      "metadata": {
        "id": "CpmmAIb5hEDf",
        "colab_type": "code",
        "colab": {}
      },
      "source": [
        "train_scaled_df = train_scaled_df.drop(train_scaled_df[train_scaled_df.Fz_N100 < -1.6].index)\n",
        "train_scaled_df = train_scaled_df.drop(train_scaled_df[train_scaled_df.FCz_N100 < -1.6].index)\n",
        "train_scaled_df = train_scaled_df.drop(train_scaled_df[train_scaled_df.Cz_N100 < -1.6].index)\n",
        "train_scaled_df = train_scaled_df.drop(train_scaled_df[train_scaled_df.FC3_N100 < -1.6].index)\n",
        "train_scaled_df = train_scaled_df.drop(train_scaled_df[train_scaled_df.FC4_N100 < -1.6].index)\n",
        "train_scaled_df = train_scaled_df.drop(train_scaled_df[train_scaled_df.C3_N100 < -1.6].index)\n",
        "train_scaled_df = train_scaled_df.drop(train_scaled_df[train_scaled_df.C4_N100 < -1.6].index)\n",
        "train_scaled_df = train_scaled_df.drop(train_scaled_df[train_scaled_df.CP3_N100 < -1.6].index)\n",
        "train_scaled_df = train_scaled_df.drop(train_scaled_df[train_scaled_df.CP4_N100 < -1.6].index)\n",
        "train_scaled_df = train_scaled_df.drop(train_scaled_df[train_scaled_df.AFz_N100 < -1.6].index)\n",
        "train_scaled_df = train_scaled_df.drop(train_scaled_df[train_scaled_df.F2_N100 < -1.6].index)\n",
        "train_scaled_df = train_scaled_df.drop(train_scaled_df[train_scaled_df.F1_N100 < -1.6].index)\n",
        "train_scaled_df = train_scaled_df.drop(train_scaled_df[train_scaled_df.FC1_N100 < -1.6].index)\n",
        "train_scaled_df = train_scaled_df.drop(train_scaled_df[train_scaled_df.Fz_P200 < -1.6].index)\n",
        "train_scaled_df = train_scaled_df.drop(train_scaled_df[train_scaled_df.FCz_P200 < -1.6].index)\n",
        "train_scaled_df = train_scaled_df.drop(train_scaled_df[train_scaled_df.Cz_P200 < -1.6].index)\n",
        "train_scaled_df = train_scaled_df.drop(train_scaled_df[train_scaled_df.FC3_P200 < -1.6].index)\n",
        "train_scaled_df = train_scaled_df.drop(train_scaled_df[train_scaled_df.FC4_P200 < -1.6].index)\n",
        "train_scaled_df = train_scaled_df.drop(train_scaled_df[train_scaled_df.C3_P200 < -1.6].index)\n",
        "train_scaled_df = train_scaled_df.drop(train_scaled_df[train_scaled_df.C4_P200 < -1.6].index)\n",
        "train_scaled_df = train_scaled_df.drop(train_scaled_df[train_scaled_df.CP3_P200 < -1.6].index)\n",
        "train_scaled_df = train_scaled_df.drop(train_scaled_df[train_scaled_df.CP4_P200 < -1.6].index)\n",
        "train_scaled_df = train_scaled_df.drop(train_scaled_df[train_scaled_df.AFz_P200 < -1.6].index)\n",
        "train_scaled_df = train_scaled_df.drop(train_scaled_df[train_scaled_df.F2_P200 < -1.6].index)\n",
        "train_scaled_df = train_scaled_df.drop(train_scaled_df[train_scaled_df.F1_P200 < -1.6].index)\n",
        "train_scaled_df = train_scaled_df.drop(train_scaled_df[train_scaled_df.FC1_P200 < -1.6].index)"
      ],
      "execution_count": 0,
      "outputs": []
    },
    {
      "cell_type": "code",
      "metadata": {
        "id": "fyvIwVI-fhSD",
        "colab_type": "code",
        "colab": {}
      },
      "source": [
        "train7, val2 = train_test_split(train_scaled_df, test_size=0.1, random_state=123)"
      ],
      "execution_count": 0,
      "outputs": []
    },
    {
      "cell_type": "code",
      "metadata": {
        "id": "kqIOwWKM4853",
        "colab_type": "code",
        "outputId": "0e8814ed-444b-49bd-f5b8-bbb4f976dce4",
        "colab": {
          "base_uri": "https://localhost:8080/",
          "height": 222
        }
      },
      "source": [
        "test_scaled_df.columns = ['Fz_N100', 'FCz_N100', 'Cz_N100', 'FC3_N100', 'FC4_N100', 'C3_N100', 'C4_N100', 'CP3_N100', 'CP4_N100', 'AFz_N100', 'F2_N100', 'F1_N100', 'FC1_N100', 'Fz_P200', 'FCz_P200',\n",
        "       'Cz_P200', 'FC3_P200', 'FC4_P200', 'C3_P200', 'C4_P200', 'CP3_P200',\n",
        "       'CP4_P200', 'AFz_P200', 'F2_P200', 'F1_P200', 'FC1_P200']\n",
        "#condition_test = condition_test.astype(int)\n",
        "group_test = group_test.astype(int)\n",
        "#trial_test = trial_test.astype(int)\n",
        "\n",
        "#test_scaled_df['condition'] = condition_test\n",
        "test_scaled_df['group'] = group_test\n",
        "#test_scaled_df['trial'] = trial_test\n",
        "test_scaled_df.head(5)"
      ],
      "execution_count": 0,
      "outputs": [
        {
          "output_type": "execute_result",
          "data": {
            "text/html": [
              "<div>\n",
              "<style scoped>\n",
              "    .dataframe tbody tr th:only-of-type {\n",
              "        vertical-align: middle;\n",
              "    }\n",
              "\n",
              "    .dataframe tbody tr th {\n",
              "        vertical-align: top;\n",
              "    }\n",
              "\n",
              "    .dataframe thead th {\n",
              "        text-align: right;\n",
              "    }\n",
              "</style>\n",
              "<table border=\"1\" class=\"dataframe\">\n",
              "  <thead>\n",
              "    <tr style=\"text-align: right;\">\n",
              "      <th></th>\n",
              "      <th>Fz_N100</th>\n",
              "      <th>FCz_N100</th>\n",
              "      <th>Cz_N100</th>\n",
              "      <th>FC3_N100</th>\n",
              "      <th>FC4_N100</th>\n",
              "      <th>C3_N100</th>\n",
              "      <th>C4_N100</th>\n",
              "      <th>CP3_N100</th>\n",
              "      <th>CP4_N100</th>\n",
              "      <th>AFz_N100</th>\n",
              "      <th>F2_N100</th>\n",
              "      <th>F1_N100</th>\n",
              "      <th>FC1_N100</th>\n",
              "      <th>Fz_P200</th>\n",
              "      <th>FCz_P200</th>\n",
              "      <th>Cz_P200</th>\n",
              "      <th>FC3_P200</th>\n",
              "      <th>FC4_P200</th>\n",
              "      <th>C3_P200</th>\n",
              "      <th>C4_P200</th>\n",
              "      <th>CP3_P200</th>\n",
              "      <th>CP4_P200</th>\n",
              "      <th>AFz_P200</th>\n",
              "      <th>F2_P200</th>\n",
              "      <th>F1_P200</th>\n",
              "      <th>FC1_P200</th>\n",
              "      <th>condition</th>\n",
              "      <th>group</th>\n",
              "    </tr>\n",
              "  </thead>\n",
              "  <tbody>\n",
              "    <tr>\n",
              "      <th>0</th>\n",
              "      <td>-1.116728</td>\n",
              "      <td>-0.445297</td>\n",
              "      <td>-0.542422</td>\n",
              "      <td>-0.296484</td>\n",
              "      <td>-0.187829</td>\n",
              "      <td>-0.201692</td>\n",
              "      <td>-0.355782</td>\n",
              "      <td>-0.991371</td>\n",
              "      <td>-0.673637</td>\n",
              "      <td>-0.897684</td>\n",
              "      <td>-1.309843</td>\n",
              "      <td>-0.746053</td>\n",
              "      <td>-0.211166</td>\n",
              "      <td>0.316987</td>\n",
              "      <td>0.266556</td>\n",
              "      <td>0.647663</td>\n",
              "      <td>0.083681</td>\n",
              "      <td>1.046462</td>\n",
              "      <td>0.577096</td>\n",
              "      <td>0.825508</td>\n",
              "      <td>0.344289</td>\n",
              "      <td>0.307420</td>\n",
              "      <td>0.359690</td>\n",
              "      <td>0.443998</td>\n",
              "      <td>-0.048407</td>\n",
              "      <td>0.178714</td>\n",
              "      <td>1</td>\n",
              "      <td>0</td>\n",
              "    </tr>\n",
              "    <tr>\n",
              "      <th>1</th>\n",
              "      <td>-0.393074</td>\n",
              "      <td>-0.433197</td>\n",
              "      <td>-0.635768</td>\n",
              "      <td>-0.296993</td>\n",
              "      <td>-0.552003</td>\n",
              "      <td>-0.336652</td>\n",
              "      <td>-0.902382</td>\n",
              "      <td>-0.413346</td>\n",
              "      <td>-0.927808</td>\n",
              "      <td>-0.412458</td>\n",
              "      <td>-0.358036</td>\n",
              "      <td>-0.224277</td>\n",
              "      <td>-0.267608</td>\n",
              "      <td>0.035332</td>\n",
              "      <td>0.128676</td>\n",
              "      <td>-0.240660</td>\n",
              "      <td>-0.207696</td>\n",
              "      <td>-0.045191</td>\n",
              "      <td>-0.335009</td>\n",
              "      <td>-0.266564</td>\n",
              "      <td>-0.566106</td>\n",
              "      <td>-0.212157</td>\n",
              "      <td>-0.146220</td>\n",
              "      <td>0.144470</td>\n",
              "      <td>0.082894</td>\n",
              "      <td>-0.060537</td>\n",
              "      <td>1</td>\n",
              "      <td>0</td>\n",
              "    </tr>\n",
              "    <tr>\n",
              "      <th>2</th>\n",
              "      <td>-0.316432</td>\n",
              "      <td>-0.093959</td>\n",
              "      <td>-0.326029</td>\n",
              "      <td>-0.901555</td>\n",
              "      <td>0.422229</td>\n",
              "      <td>-0.491929</td>\n",
              "      <td>0.000294</td>\n",
              "      <td>-0.407321</td>\n",
              "      <td>-0.311370</td>\n",
              "      <td>-0.319491</td>\n",
              "      <td>-0.154154</td>\n",
              "      <td>-0.944214</td>\n",
              "      <td>-0.044925</td>\n",
              "      <td>-0.594409</td>\n",
              "      <td>-0.333544</td>\n",
              "      <td>-0.984210</td>\n",
              "      <td>-1.428156</td>\n",
              "      <td>-0.560064</td>\n",
              "      <td>-1.017124</td>\n",
              "      <td>-0.940858</td>\n",
              "      <td>-1.121115</td>\n",
              "      <td>-1.121649</td>\n",
              "      <td>-0.893929</td>\n",
              "      <td>-0.707436</td>\n",
              "      <td>-0.866047</td>\n",
              "      <td>-0.705847</td>\n",
              "      <td>3</td>\n",
              "      <td>0</td>\n",
              "    </tr>\n",
              "    <tr>\n",
              "      <th>3</th>\n",
              "      <td>-0.477688</td>\n",
              "      <td>-0.686659</td>\n",
              "      <td>-1.413868</td>\n",
              "      <td>-1.279635</td>\n",
              "      <td>-0.618162</td>\n",
              "      <td>-1.280491</td>\n",
              "      <td>-1.374537</td>\n",
              "      <td>-1.736571</td>\n",
              "      <td>-1.967393</td>\n",
              "      <td>0.031263</td>\n",
              "      <td>-0.266123</td>\n",
              "      <td>-0.463591</td>\n",
              "      <td>-0.949283</td>\n",
              "      <td>-0.945130</td>\n",
              "      <td>-0.663640</td>\n",
              "      <td>-0.916587</td>\n",
              "      <td>-1.497207</td>\n",
              "      <td>-0.802672</td>\n",
              "      <td>-1.665474</td>\n",
              "      <td>-1.006511</td>\n",
              "      <td>-1.545028</td>\n",
              "      <td>-0.830192</td>\n",
              "      <td>-0.839053</td>\n",
              "      <td>-0.830564</td>\n",
              "      <td>-0.799078</td>\n",
              "      <td>-1.396118</td>\n",
              "      <td>2</td>\n",
              "      <td>1</td>\n",
              "    </tr>\n",
              "    <tr>\n",
              "      <th>4</th>\n",
              "      <td>-0.247756</td>\n",
              "      <td>-0.626300</td>\n",
              "      <td>-0.750345</td>\n",
              "      <td>-0.472070</td>\n",
              "      <td>-0.215132</td>\n",
              "      <td>-0.420698</td>\n",
              "      <td>-0.154929</td>\n",
              "      <td>-0.285900</td>\n",
              "      <td>-0.752644</td>\n",
              "      <td>-0.048906</td>\n",
              "      <td>-0.170858</td>\n",
              "      <td>-0.157663</td>\n",
              "      <td>-0.536136</td>\n",
              "      <td>0.853512</td>\n",
              "      <td>0.599707</td>\n",
              "      <td>0.685483</td>\n",
              "      <td>0.523182</td>\n",
              "      <td>0.621091</td>\n",
              "      <td>0.261842</td>\n",
              "      <td>0.622681</td>\n",
              "      <td>0.412140</td>\n",
              "      <td>0.537694</td>\n",
              "      <td>1.377550</td>\n",
              "      <td>0.978348</td>\n",
              "      <td>1.085143</td>\n",
              "      <td>0.430421</td>\n",
              "      <td>3</td>\n",
              "      <td>1</td>\n",
              "    </tr>\n",
              "  </tbody>\n",
              "</table>\n",
              "</div>"
            ],
            "text/plain": [
              "    Fz_N100  FCz_N100   Cz_N100  FC3_N100  ...   F1_P200  FC1_P200  condition  group\n",
              "0 -1.116728 -0.445297 -0.542422 -0.296484  ... -0.048407  0.178714          1      0\n",
              "1 -0.393074 -0.433197 -0.635768 -0.296993  ...  0.082894 -0.060537          1      0\n",
              "2 -0.316432 -0.093959 -0.326029 -0.901555  ... -0.866047 -0.705847          3      0\n",
              "3 -0.477688 -0.686659 -1.413868 -1.279635  ... -0.799078 -1.396118          2      1\n",
              "4 -0.247756 -0.626300 -0.750345 -0.472070  ...  1.085143  0.430421          3      1\n",
              "\n",
              "[5 rows x 28 columns]"
            ]
          },
          "metadata": {
            "tags": []
          },
          "execution_count": 18
        }
      ]
    },
    {
      "cell_type": "code",
      "metadata": {
        "id": "0-gY8dAfUkDF",
        "colab_type": "code",
        "outputId": "0a363d13-a9b3-47d8-bba3-14c7b0786e06",
        "colab": {
          "base_uri": "https://localhost:8080/",
          "height": 559
        }
      },
      "source": [
        "test_scaled_df.quantile(q=0.975, interpolation='midpoint')"
      ],
      "execution_count": 0,
      "outputs": [
        {
          "output_type": "execute_result",
          "data": {
            "text/plain": [
              "Fz_N100      1.702429\n",
              "FCz_N100     1.615599\n",
              "Cz_N100      1.605584\n",
              "FC3_N100     1.646564\n",
              "FC4_N100     1.627851\n",
              "C3_N100      1.644971\n",
              "C4_N100      1.681555\n",
              "CP3_N100     1.628497\n",
              "CP4_N100     1.675852\n",
              "AFz_N100     1.824626\n",
              "F2_N100      1.709669\n",
              "F1_N100      1.714885\n",
              "FC1_N100     1.686225\n",
              "Fz_P200      1.884981\n",
              "FCz_P200     1.793026\n",
              "Cz_P200      1.840008\n",
              "FC3_P200     1.826894\n",
              "FC4_P200     1.865290\n",
              "C3_P200      1.689356\n",
              "C4_P200      1.766530\n",
              "CP3_P200     1.700366\n",
              "CP4_P200     1.772127\n",
              "AFz_P200     2.023308\n",
              "F2_P200      1.896473\n",
              "F1_P200      1.868381\n",
              "FC1_P200     1.807759\n",
              "condition    3.000000\n",
              "group        1.000000\n",
              "Name: 0.975, dtype: float64"
            ]
          },
          "metadata": {
            "tags": []
          },
          "execution_count": 19
        }
      ]
    },
    {
      "cell_type": "code",
      "metadata": {
        "id": "MF97rCbIhpXa",
        "colab_type": "code",
        "outputId": "dca42d02-af38-43df-f210-d5cac751e47b",
        "colab": {
          "base_uri": "https://localhost:8080/",
          "height": 559
        }
      },
      "source": [
        "test_scaled_df.quantile(q=0.025, interpolation='midpoint')"
      ],
      "execution_count": 0,
      "outputs": [
        {
          "output_type": "execute_result",
          "data": {
            "text/plain": [
              "Fz_N100     -1.761288\n",
              "FCz_N100    -1.747627\n",
              "Cz_N100     -1.759141\n",
              "FC3_N100    -1.769624\n",
              "FC4_N100    -1.711369\n",
              "C3_N100     -1.785905\n",
              "C4_N100     -1.684837\n",
              "CP3_N100    -1.804595\n",
              "CP4_N100    -1.748107\n",
              "AFz_N100    -1.809050\n",
              "F2_N100     -1.748892\n",
              "F1_N100     -1.848388\n",
              "FC1_N100    -1.801147\n",
              "Fz_P200     -1.723473\n",
              "FCz_P200    -1.660673\n",
              "Cz_P200     -1.688228\n",
              "FC3_P200    -1.614301\n",
              "FC4_P200    -1.733012\n",
              "C3_P200     -1.670771\n",
              "C4_P200     -1.685796\n",
              "CP3_P200    -1.704934\n",
              "CP4_P200    -1.732333\n",
              "AFz_P200    -1.821605\n",
              "F2_P200     -1.728600\n",
              "F1_P200     -1.749504\n",
              "FC1_P200    -1.649310\n",
              "condition    1.000000\n",
              "group        0.000000\n",
              "Name: 0.025, dtype: float64"
            ]
          },
          "metadata": {
            "tags": []
          },
          "execution_count": 20
        }
      ]
    },
    {
      "cell_type": "code",
      "metadata": {
        "id": "2DDHLoTwcUQ8",
        "colab_type": "code",
        "colab": {}
      },
      "source": [
        "test_scaled_df = test_scaled_df.drop(test_scaled_df[test_scaled_df.Fz_N100 > 1.6].index)\n",
        "test_scaled_df = test_scaled_df.drop(test_scaled_df[test_scaled_df.FCz_N100 > 1.6].index)\n",
        "test_scaled_df = test_scaled_df.drop(test_scaled_df[test_scaled_df.Cz_N100 > 1.6].index)\n",
        "test_scaled_df = test_scaled_df.drop(test_scaled_df[test_scaled_df.FC3_N100 > 1.6].index)\n",
        "test_scaled_df = test_scaled_df.drop(test_scaled_df[test_scaled_df.FC4_N100 > 1.6].index)\n",
        "test_scaled_df = test_scaled_df.drop(test_scaled_df[test_scaled_df.C3_N100 > 1.6].index)\n",
        "test_scaled_df = test_scaled_df.drop(test_scaled_df[test_scaled_df.C4_N100 > 1.6].index)\n",
        "test_scaled_df = test_scaled_df.drop(test_scaled_df[test_scaled_df.CP3_N100 > 1.6].index)\n",
        "test_scaled_df = test_scaled_df.drop(test_scaled_df[test_scaled_df.CP4_N100 > 1.6].index)\n",
        "test_scaled_df = test_scaled_df.drop(test_scaled_df[test_scaled_df.AFz_N100 > 1.6].index)\n",
        "test_scaled_df = test_scaled_df.drop(test_scaled_df[test_scaled_df.F2_N100 > 1.6].index)\n",
        "test_scaled_df = test_scaled_df.drop(test_scaled_df[test_scaled_df.F1_N100 > 1.6].index)\n",
        "test_scaled_df = test_scaled_df.drop(test_scaled_df[test_scaled_df.FC1_N100 > 1.6].index)\n",
        "test_scaled_df = test_scaled_df.drop(test_scaled_df[test_scaled_df.Fz_P200 > 1.6].index)\n",
        "test_scaled_df = test_scaled_df.drop(test_scaled_df[test_scaled_df.FCz_P200 > 1.6].index)\n",
        "test_scaled_df = test_scaled_df.drop(test_scaled_df[test_scaled_df.Cz_P200 > 1.6].index)\n",
        "test_scaled_df = test_scaled_df.drop(test_scaled_df[test_scaled_df.FC3_P200 > 1.6].index)\n",
        "test_scaled_df = test_scaled_df.drop(test_scaled_df[test_scaled_df.FC4_P200 > 1.6].index)\n",
        "test_scaled_df = test_scaled_df.drop(test_scaled_df[test_scaled_df.C3_P200 > 1.6].index)\n",
        "test_scaled_df = test_scaled_df.drop(test_scaled_df[test_scaled_df.C4_P200 > 1.6].index)\n",
        "test_scaled_df = test_scaled_df.drop(test_scaled_df[test_scaled_df.CP3_P200 > 1.6].index)\n",
        "test_scaled_df = test_scaled_df.drop(test_scaled_df[test_scaled_df.CP4_P200 > 1.6].index)\n",
        "test_scaled_df = test_scaled_df.drop(test_scaled_df[test_scaled_df.AFz_P200 > 1.6].index)\n",
        "test_scaled_df = test_scaled_df.drop(test_scaled_df[test_scaled_df.F2_P200 > 1.6].index)\n",
        "test_scaled_df = test_scaled_df.drop(test_scaled_df[test_scaled_df.F1_P200 > 1.6].index)\n",
        "test_scaled_df = test_scaled_df.drop(test_scaled_df[test_scaled_df.FC1_P200 > 1.6].index)"
      ],
      "execution_count": 0,
      "outputs": []
    },
    {
      "cell_type": "code",
      "metadata": {
        "id": "pQT3g7EohvDe",
        "colab_type": "code",
        "colab": {}
      },
      "source": [
        "test_scaled_df = test_scaled_df.drop(test_scaled_df[test_scaled_df.Fz_N100 < -1.6].index)\n",
        "test_scaled_df = test_scaled_df.drop(test_scaled_df[test_scaled_df.FCz_N100 < -1.6].index)\n",
        "test_scaled_df = test_scaled_df.drop(test_scaled_df[test_scaled_df.Cz_N100 < -1.6].index)\n",
        "test_scaled_df = test_scaled_df.drop(test_scaled_df[test_scaled_df.FC3_N100 < -1.6].index)\n",
        "test_scaled_df = test_scaled_df.drop(test_scaled_df[test_scaled_df.FC4_N100 < -1.6].index)\n",
        "test_scaled_df = test_scaled_df.drop(test_scaled_df[test_scaled_df.C3_N100 < -1.6].index)\n",
        "test_scaled_df = test_scaled_df.drop(test_scaled_df[test_scaled_df.C4_N100 < -1.6].index)\n",
        "test_scaled_df = test_scaled_df.drop(test_scaled_df[test_scaled_df.CP3_N100 < -1.6].index)\n",
        "test_scaled_df = test_scaled_df.drop(test_scaled_df[test_scaled_df.CP4_N100 < -1.6].index)\n",
        "test_scaled_df = test_scaled_df.drop(test_scaled_df[test_scaled_df.AFz_N100 < -1.6].index)\n",
        "test_scaled_df = test_scaled_df.drop(test_scaled_df[test_scaled_df.F2_N100 < -1.6].index)\n",
        "test_scaled_df = test_scaled_df.drop(test_scaled_df[test_scaled_df.F1_N100 < -1.6].index)\n",
        "test_scaled_df = test_scaled_df.drop(test_scaled_df[test_scaled_df.FC1_N100 < -1.6].index)\n",
        "test_scaled_df = test_scaled_df.drop(test_scaled_df[test_scaled_df.Fz_P200 < -1.6].index)\n",
        "test_scaled_df = test_scaled_df.drop(test_scaled_df[test_scaled_df.FCz_P200 < -1.6].index)\n",
        "test_scaled_df = test_scaled_df.drop(test_scaled_df[test_scaled_df.Cz_P200 < -1.6].index)\n",
        "test_scaled_df = test_scaled_df.drop(test_scaled_df[test_scaled_df.FC3_P200 < -1.6].index)\n",
        "test_scaled_df = test_scaled_df.drop(test_scaled_df[test_scaled_df.FC4_P200 < -1.6].index)\n",
        "test_scaled_df = test_scaled_df.drop(test_scaled_df[test_scaled_df.C3_P200 < -1.6].index)\n",
        "test_scaled_df = test_scaled_df.drop(test_scaled_df[test_scaled_df.C4_P200 < -1.6].index)\n",
        "test_scaled_df = test_scaled_df.drop(test_scaled_df[test_scaled_df.CP3_P200 < -1.6].index)\n",
        "test_scaled_df = test_scaled_df.drop(test_scaled_df[test_scaled_df.CP4_P200 < -1.6].index)\n",
        "test_scaled_df = test_scaled_df.drop(test_scaled_df[test_scaled_df.AFz_P200 < -1.6].index)\n",
        "test_scaled_df = test_scaled_df.drop(test_scaled_df[test_scaled_df.F2_P200 < -1.6].index)\n",
        "test_scaled_df = test_scaled_df.drop(test_scaled_df[test_scaled_df.F1_P200 < -1.6].index)\n",
        "test_scaled_df = test_scaled_df.drop(test_scaled_df[test_scaled_df.FC1_P200 < -1.6].index)"
      ],
      "execution_count": 0,
      "outputs": []
    },
    {
      "cell_type": "code",
      "metadata": {
        "id": "zSHWypoo5Ij_",
        "colab_type": "code",
        "colab": {}
      },
      "source": [
        "train7.to_csv('/content/gdrive/My Drive/eeg/train_mergedTrial.csv',sep=',', na_rep='NaN')\n",
        "val2.to_csv('/content/gdrive/My Drive/eeg/val_mergedTrial.csv',sep=',', na_rep='NaN')\n",
        "test_scaled_df.to_csv('/content/gdrive/My Drive/eeg/test_mergedTrial.csv',sep=',', na_rep='NaN')"
      ],
      "execution_count": 0,
      "outputs": []
    },
    {
      "cell_type": "code",
      "metadata": {
        "id": "rnSbnSGeTSdl",
        "colab_type": "code",
        "colab": {}
      },
      "source": [
        "train_scaled_df = train"
      ],
      "execution_count": 0,
      "outputs": []
    },
    {
      "cell_type": "code",
      "metadata": {
        "id": "IIX2ssI3O7D0",
        "colab_type": "code",
        "colab": {}
      },
      "source": [
        "train['Fz_N100']=pd.to_numeric(train['Fz_N100'], errors='coerce')\n",
        "train['FCz_N100']=pd.to_numeric(train['FCz_N100'], errors='coerce')\n",
        "train['Cz_N100']=pd.to_numeric(train['Cz_N100'], errors='coerce')\n",
        "train['FC3_N100']=pd.to_numeric(train['FC3_N100'], errors='coerce')\n",
        "train['FC4_N100']=pd.to_numeric(train['FC4_N100'], errors='coerce')\n",
        "train['C3_N100']=pd.to_numeric(train['C3_N100'], errors='coerce')\n",
        "train['C4_N100']=pd.to_numeric(train['C4_N100'], errors='coerce')\n",
        "train['CP3_N100']=pd.to_numeric(train['CP3_N100'], errors='coerce')\n",
        "train['CP4_N100']=pd.to_numeric(train['CP4_N100'], errors='coerce')\n",
        "train['AFz_N100']=pd.to_numeric(train['AFz_N100'], errors='coerce')\n",
        "train['F2_N100']=pd.to_numeric(train['F2_N100'], errors='coerce')\n",
        "train['F1_N100']=pd.to_numeric(train['F1_N100'], errors='coerce')\n",
        "train['FC1_N100']=pd.to_numeric(train['FC1_N100'], errors='coerce')\n",
        "train['Fz_P200']=pd.to_numeric(train['Fz_P200'], errors='coerce')\n",
        "train['FCz_P200']=pd.to_numeric(train['FCz_P200'], errors='coerce')\n",
        "train['Cz_P200']=pd.to_numeric(train['Cz_P200'], errors='coerce')\n",
        "train['FC3_P200']=pd.to_numeric(train['FC3_P200'], errors='coerce')\n",
        "train['FC4_P200']=pd.to_numeric(train['FC4_P200'], errors='coerce')\n",
        "train['C3_P200']=pd.to_numeric(train['C3_P200'], errors='coerce')\n",
        "train['C4_P200']=pd.to_numeric(train['C4_P200'], errors='coerce')\n",
        "train['CP3_P200']=pd.to_numeric(train['CP3_P200'], errors='coerce')\n",
        "train['CP4_P200']=pd.to_numeric(train['CP4_P200'], errors='coerce')\n",
        "train['AFz_P200']=pd.to_numeric(train['AFz_P200'], errors='coerce')\n",
        "train['F2_P200']=pd.to_numeric(train['F2_P200'], errors='coerce')\n",
        "train['F1_P200']=pd.to_numeric(train['F1_P200'], errors='coerce')\n",
        "train['FC1_P200']=pd.to_numeric(train['FC1_P200'], errors='coerce')"
      ],
      "execution_count": 0,
      "outputs": []
    },
    {
      "cell_type": "code",
      "metadata": {
        "id": "Euwav-lZPFM0",
        "colab_type": "code",
        "outputId": "d8cbe3d4-2fc3-422c-f4a5-99cb2f9af281",
        "colab": {
          "base_uri": "https://localhost:8080/",
          "height": 540
        }
      },
      "source": [
        "train.dtypes"
      ],
      "execution_count": 0,
      "outputs": [
        {
          "output_type": "execute_result",
          "data": {
            "text/plain": [
              "Fz_N100     float64\n",
              "FCz_N100    float64\n",
              "Cz_N100     float64\n",
              "FC3_N100    float64\n",
              "FC4_N100    float64\n",
              "C3_N100     float64\n",
              "C4_N100     float64\n",
              "CP3_N100    float64\n",
              "CP4_N100    float64\n",
              "AFz_N100    float64\n",
              "F2_N100     float64\n",
              "F1_N100     float64\n",
              "FC1_N100    float64\n",
              "Fz_P200     float64\n",
              "FCz_P200    float64\n",
              "Cz_P200     float64\n",
              "FC3_P200    float64\n",
              "FC4_P200    float64\n",
              "C3_P200     float64\n",
              "C4_P200     float64\n",
              "CP3_P200    float64\n",
              "CP4_P200    float64\n",
              "AFz_P200    float64\n",
              "F2_P200     float64\n",
              "F1_P200     float64\n",
              "FC1_P200    float64\n",
              "group       float64\n",
              "dtype: object"
            ]
          },
          "metadata": {
            "tags": []
          },
          "execution_count": 30
        }
      ]
    },
    {
      "cell_type": "code",
      "metadata": {
        "id": "xQ7nyqMtScmA",
        "colab_type": "code",
        "colab": {}
      },
      "source": [
        "train_scaled_df.to_csv('/content/gdrive/My Drive/eeg/train_mergedTrial.csv',sep=',', na_rep='NaN')"
      ],
      "execution_count": 0,
      "outputs": []
    },
    {
      "cell_type": "code",
      "metadata": {
        "id": "suTdIJxS7J4F",
        "colab_type": "code",
        "colab": {}
      },
      "source": [
        "LABEL_COLUMN = 'group'\n",
        "LABELS = [0, 1]\n",
        "\n",
        "CSV_COLUMNS = ['group', 'Fz_N100', 'FCz_N100', 'Cz_N100', 'FC3_N100', 'FC4_N100', 'C3_N100', 'C4_N100', 'CP3_N100', 'CP4_N100', 'AFz_N100', 'F2_N100', 'F1_N100', 'FC1_N100', 'Fz_P200', 'FCz_P200',\n",
        "       'Cz_P200', 'FC3_P200', 'FC4_P200', 'C3_P200', 'C4_P200', 'CP3_P200',\n",
        "       'CP4_P200', 'AFz_P200', 'F2_P200', 'F1_P200', 'FC1_P200']\n",
        "\n",
        "def get_dataset(file_path, **kwargs):\n",
        "  dataset = tf.data.experimental.make_csv_dataset(\n",
        "      file_path,\n",
        "      batch_size=64, \n",
        "      label_name=LABEL_COLUMN,\n",
        "      na_value=\"?\",\n",
        "      num_epochs=1,\n",
        "      ignore_errors=True, \n",
        "      **kwargs)\n",
        "  return dataset\n",
        "\n",
        "train_dataset = get_dataset('train_mergedTrial.csv', select_columns=CSV_COLUMNS)\n",
        "#val_dataset = get_dataset('val_mergedTrial.csv', select_columns=CSV_COLUMNS)\n",
        "#test_dataset = get_dataset('test_mergedTrial.csv', select_columns=CSV_COLUMNS)"
      ],
      "execution_count": 0,
      "outputs": []
    },
    {
      "cell_type": "code",
      "metadata": {
        "id": "izhR8SyV5Qyu",
        "colab_type": "code",
        "colab": {}
      },
      "source": [
        "class PackNumericFeatures(object):\n",
        "  def __init__(self, names):\n",
        "    self.names = names\n",
        "\n",
        "  def __call__(self, features, labels):\n",
        "    numeric_features = [features.pop(name) for name in self.names]\n",
        "    numeric_features = [tf.cast(feat, tf.float32) for feat in numeric_features]\n",
        "    numeric_features = tf.stack(numeric_features, axis=-1)\n",
        "    features['numeric'] = numeric_features\n",
        "\n",
        "    return features, labels"
      ],
      "execution_count": 0,
      "outputs": []
    },
    {
      "cell_type": "code",
      "metadata": {
        "id": "07xonGNc-tAA",
        "colab_type": "code",
        "colab": {}
      },
      "source": [
        "NUMERIC_FEATURES = ['Fz_N100', 'FCz_N100', 'Cz_N100', 'FC3_N100', 'FC4_N100', 'C3_N100', 'C4_N100', 'CP3_N100', 'CP4_N100', 'AFz_N100', 'F2_N100', 'F1_N100', 'FC1_N100', 'Fz_P200', 'FCz_P200',\n",
        "       'Cz_P200', 'FC3_P200', 'FC4_P200', 'C3_P200', 'C4_P200', 'CP3_P200',\n",
        "       'CP4_P200', 'AFz_P200', 'F2_P200', 'F1_P200', 'FC1_P200']\n",
        "\n",
        "train_data = train_dataset.map(\n",
        "    PackNumericFeatures(NUMERIC_FEATURES))\n",
        "val_data = val_dataset.map(\n",
        "    PackNumericFeatures(NUMERIC_FEATURES))\n",
        "test_data = test_dataset.map(\n",
        "    PackNumericFeatures(NUMERIC_FEATURES))"
      ],
      "execution_count": 0,
      "outputs": []
    },
    {
      "cell_type": "code",
      "metadata": {
        "id": "KA4zDrFM61NP",
        "colab_type": "code",
        "outputId": "d665a7af-cbf8-4d57-8c7f-1da56e8b5a0a",
        "colab": {
          "base_uri": "https://localhost:8080/",
          "height": 294
        }
      },
      "source": [
        "import pandas as pd\n",
        "desc = pd.read_csv('train_mergedTrial.csv').describe()\n",
        "desc"
      ],
      "execution_count": 0,
      "outputs": [
        {
          "output_type": "execute_result",
          "data": {
            "text/html": [
              "<div>\n",
              "<style scoped>\n",
              "    .dataframe tbody tr th:only-of-type {\n",
              "        vertical-align: middle;\n",
              "    }\n",
              "\n",
              "    .dataframe tbody tr th {\n",
              "        vertical-align: top;\n",
              "    }\n",
              "\n",
              "    .dataframe thead th {\n",
              "        text-align: right;\n",
              "    }\n",
              "</style>\n",
              "<table border=\"1\" class=\"dataframe\">\n",
              "  <thead>\n",
              "    <tr style=\"text-align: right;\">\n",
              "      <th></th>\n",
              "      <th>group</th>\n",
              "    </tr>\n",
              "  </thead>\n",
              "  <tbody>\n",
              "    <tr>\n",
              "      <th>count</th>\n",
              "      <td>2.297000e+04</td>\n",
              "    </tr>\n",
              "    <tr>\n",
              "      <th>mean</th>\n",
              "      <td>-1.605572e+15</td>\n",
              "    </tr>\n",
              "    <tr>\n",
              "      <th>std</th>\n",
              "      <td>1.216612e+17</td>\n",
              "    </tr>\n",
              "    <tr>\n",
              "      <th>min</th>\n",
              "      <td>-9.220000e+18</td>\n",
              "    </tr>\n",
              "    <tr>\n",
              "      <th>25%</th>\n",
              "      <td>0.000000e+00</td>\n",
              "    </tr>\n",
              "    <tr>\n",
              "      <th>50%</th>\n",
              "      <td>1.000000e+00</td>\n",
              "    </tr>\n",
              "    <tr>\n",
              "      <th>75%</th>\n",
              "      <td>1.000000e+00</td>\n",
              "    </tr>\n",
              "    <tr>\n",
              "      <th>max</th>\n",
              "      <td>1.000000e+00</td>\n",
              "    </tr>\n",
              "  </tbody>\n",
              "</table>\n",
              "</div>"
            ],
            "text/plain": [
              "              group\n",
              "count  2.297000e+04\n",
              "mean  -1.605572e+15\n",
              "std    1.216612e+17\n",
              "min   -9.220000e+18\n",
              "25%    0.000000e+00\n",
              "50%    1.000000e+00\n",
              "75%    1.000000e+00\n",
              "max    1.000000e+00"
            ]
          },
          "metadata": {
            "tags": []
          },
          "execution_count": 13
        }
      ]
    },
    {
      "cell_type": "code",
      "metadata": {
        "id": "Gk4UKxcR63HB",
        "colab_type": "code",
        "outputId": "e4f99041-272b-4922-91dd-30667f8990d9",
        "colab": {
          "base_uri": "https://localhost:8080/",
          "height": 760
        }
      },
      "source": [
        "MEAN = np.array(desc.T['mean'])\n",
        "STD = np.array(desc.T['std'])"
      ],
      "execution_count": 0,
      "outputs": [
        {
          "output_type": "error",
          "ename": "KeyError",
          "evalue": "ignored",
          "traceback": [
            "\u001b[0;31m---------------------------------------------------------------------------\u001b[0m",
            "\u001b[0;31mKeyError\u001b[0m                                  Traceback (most recent call last)",
            "\u001b[0;32m/usr/local/lib/python3.6/dist-packages/pandas/core/indexes/base.py\u001b[0m in \u001b[0;36mget_loc\u001b[0;34m(self, key, method, tolerance)\u001b[0m\n\u001b[1;32m   2896\u001b[0m             \u001b[0;32mtry\u001b[0m\u001b[0;34m:\u001b[0m\u001b[0;34m\u001b[0m\u001b[0;34m\u001b[0m\u001b[0m\n\u001b[0;32m-> 2897\u001b[0;31m                 \u001b[0;32mreturn\u001b[0m \u001b[0mself\u001b[0m\u001b[0;34m.\u001b[0m\u001b[0m_engine\u001b[0m\u001b[0;34m.\u001b[0m\u001b[0mget_loc\u001b[0m\u001b[0;34m(\u001b[0m\u001b[0mkey\u001b[0m\u001b[0;34m)\u001b[0m\u001b[0;34m\u001b[0m\u001b[0;34m\u001b[0m\u001b[0m\n\u001b[0m\u001b[1;32m   2898\u001b[0m             \u001b[0;32mexcept\u001b[0m \u001b[0mKeyError\u001b[0m\u001b[0;34m:\u001b[0m\u001b[0;34m\u001b[0m\u001b[0;34m\u001b[0m\u001b[0m\n",
            "\u001b[0;32mpandas/_libs/index.pyx\u001b[0m in \u001b[0;36mpandas._libs.index.IndexEngine.get_loc\u001b[0;34m()\u001b[0m\n",
            "\u001b[0;32mpandas/_libs/index.pyx\u001b[0m in \u001b[0;36mpandas._libs.index.IndexEngine.get_loc\u001b[0;34m()\u001b[0m\n",
            "\u001b[0;32mpandas/_libs/hashtable_class_helper.pxi\u001b[0m in \u001b[0;36mpandas._libs.hashtable.PyObjectHashTable.get_item\u001b[0;34m()\u001b[0m\n",
            "\u001b[0;32mpandas/_libs/hashtable_class_helper.pxi\u001b[0m in \u001b[0;36mpandas._libs.hashtable.PyObjectHashTable.get_item\u001b[0;34m()\u001b[0m\n",
            "\u001b[0;31mKeyError\u001b[0m: 'mean'",
            "\nDuring handling of the above exception, another exception occurred:\n",
            "\u001b[0;31mKeyError\u001b[0m                                  Traceback (most recent call last)",
            "\u001b[0;32m<ipython-input-11-6fc8feb2bcf5>\u001b[0m in \u001b[0;36m<module>\u001b[0;34m()\u001b[0m\n\u001b[0;32m----> 1\u001b[0;31m \u001b[0mMEAN\u001b[0m \u001b[0;34m=\u001b[0m \u001b[0mnp\u001b[0m\u001b[0;34m.\u001b[0m\u001b[0marray\u001b[0m\u001b[0;34m(\u001b[0m\u001b[0mdesc\u001b[0m\u001b[0;34m.\u001b[0m\u001b[0mT\u001b[0m\u001b[0;34m[\u001b[0m\u001b[0;34m'mean'\u001b[0m\u001b[0;34m]\u001b[0m\u001b[0;34m)\u001b[0m\u001b[0;34m\u001b[0m\u001b[0;34m\u001b[0m\u001b[0m\n\u001b[0m\u001b[1;32m      2\u001b[0m \u001b[0mSTD\u001b[0m \u001b[0;34m=\u001b[0m \u001b[0mnp\u001b[0m\u001b[0;34m.\u001b[0m\u001b[0marray\u001b[0m\u001b[0;34m(\u001b[0m\u001b[0mdesc\u001b[0m\u001b[0;34m.\u001b[0m\u001b[0mT\u001b[0m\u001b[0;34m[\u001b[0m\u001b[0;34m'std'\u001b[0m\u001b[0;34m]\u001b[0m\u001b[0;34m)\u001b[0m\u001b[0;34m\u001b[0m\u001b[0;34m\u001b[0m\u001b[0m\n",
            "\u001b[0;32m/usr/local/lib/python3.6/dist-packages/pandas/core/frame.py\u001b[0m in \u001b[0;36m__getitem__\u001b[0;34m(self, key)\u001b[0m\n\u001b[1;32m   2993\u001b[0m             \u001b[0;32mif\u001b[0m \u001b[0mself\u001b[0m\u001b[0;34m.\u001b[0m\u001b[0mcolumns\u001b[0m\u001b[0;34m.\u001b[0m\u001b[0mnlevels\u001b[0m \u001b[0;34m>\u001b[0m \u001b[0;36m1\u001b[0m\u001b[0;34m:\u001b[0m\u001b[0;34m\u001b[0m\u001b[0;34m\u001b[0m\u001b[0m\n\u001b[1;32m   2994\u001b[0m                 \u001b[0;32mreturn\u001b[0m \u001b[0mself\u001b[0m\u001b[0;34m.\u001b[0m\u001b[0m_getitem_multilevel\u001b[0m\u001b[0;34m(\u001b[0m\u001b[0mkey\u001b[0m\u001b[0;34m)\u001b[0m\u001b[0;34m\u001b[0m\u001b[0;34m\u001b[0m\u001b[0m\n\u001b[0;32m-> 2995\u001b[0;31m             \u001b[0mindexer\u001b[0m \u001b[0;34m=\u001b[0m \u001b[0mself\u001b[0m\u001b[0;34m.\u001b[0m\u001b[0mcolumns\u001b[0m\u001b[0;34m.\u001b[0m\u001b[0mget_loc\u001b[0m\u001b[0;34m(\u001b[0m\u001b[0mkey\u001b[0m\u001b[0;34m)\u001b[0m\u001b[0;34m\u001b[0m\u001b[0;34m\u001b[0m\u001b[0m\n\u001b[0m\u001b[1;32m   2996\u001b[0m             \u001b[0;32mif\u001b[0m \u001b[0mis_integer\u001b[0m\u001b[0;34m(\u001b[0m\u001b[0mindexer\u001b[0m\u001b[0;34m)\u001b[0m\u001b[0;34m:\u001b[0m\u001b[0;34m\u001b[0m\u001b[0;34m\u001b[0m\u001b[0m\n\u001b[1;32m   2997\u001b[0m                 \u001b[0mindexer\u001b[0m \u001b[0;34m=\u001b[0m \u001b[0;34m[\u001b[0m\u001b[0mindexer\u001b[0m\u001b[0;34m]\u001b[0m\u001b[0;34m\u001b[0m\u001b[0;34m\u001b[0m\u001b[0m\n",
            "\u001b[0;32m/usr/local/lib/python3.6/dist-packages/pandas/core/indexes/base.py\u001b[0m in \u001b[0;36mget_loc\u001b[0;34m(self, key, method, tolerance)\u001b[0m\n\u001b[1;32m   2897\u001b[0m                 \u001b[0;32mreturn\u001b[0m \u001b[0mself\u001b[0m\u001b[0;34m.\u001b[0m\u001b[0m_engine\u001b[0m\u001b[0;34m.\u001b[0m\u001b[0mget_loc\u001b[0m\u001b[0;34m(\u001b[0m\u001b[0mkey\u001b[0m\u001b[0;34m)\u001b[0m\u001b[0;34m\u001b[0m\u001b[0;34m\u001b[0m\u001b[0m\n\u001b[1;32m   2898\u001b[0m             \u001b[0;32mexcept\u001b[0m \u001b[0mKeyError\u001b[0m\u001b[0;34m:\u001b[0m\u001b[0;34m\u001b[0m\u001b[0;34m\u001b[0m\u001b[0m\n\u001b[0;32m-> 2899\u001b[0;31m                 \u001b[0;32mreturn\u001b[0m \u001b[0mself\u001b[0m\u001b[0;34m.\u001b[0m\u001b[0m_engine\u001b[0m\u001b[0;34m.\u001b[0m\u001b[0mget_loc\u001b[0m\u001b[0;34m(\u001b[0m\u001b[0mself\u001b[0m\u001b[0;34m.\u001b[0m\u001b[0m_maybe_cast_indexer\u001b[0m\u001b[0;34m(\u001b[0m\u001b[0mkey\u001b[0m\u001b[0;34m)\u001b[0m\u001b[0;34m)\u001b[0m\u001b[0;34m\u001b[0m\u001b[0;34m\u001b[0m\u001b[0m\n\u001b[0m\u001b[1;32m   2900\u001b[0m         \u001b[0mindexer\u001b[0m \u001b[0;34m=\u001b[0m \u001b[0mself\u001b[0m\u001b[0;34m.\u001b[0m\u001b[0mget_indexer\u001b[0m\u001b[0;34m(\u001b[0m\u001b[0;34m[\u001b[0m\u001b[0mkey\u001b[0m\u001b[0;34m]\u001b[0m\u001b[0;34m,\u001b[0m \u001b[0mmethod\u001b[0m\u001b[0;34m=\u001b[0m\u001b[0mmethod\u001b[0m\u001b[0;34m,\u001b[0m \u001b[0mtolerance\u001b[0m\u001b[0;34m=\u001b[0m\u001b[0mtolerance\u001b[0m\u001b[0;34m)\u001b[0m\u001b[0;34m\u001b[0m\u001b[0;34m\u001b[0m\u001b[0m\n\u001b[1;32m   2901\u001b[0m         \u001b[0;32mif\u001b[0m \u001b[0mindexer\u001b[0m\u001b[0;34m.\u001b[0m\u001b[0mndim\u001b[0m \u001b[0;34m>\u001b[0m \u001b[0;36m1\u001b[0m \u001b[0;32mor\u001b[0m \u001b[0mindexer\u001b[0m\u001b[0;34m.\u001b[0m\u001b[0msize\u001b[0m \u001b[0;34m>\u001b[0m \u001b[0;36m1\u001b[0m\u001b[0;34m:\u001b[0m\u001b[0;34m\u001b[0m\u001b[0;34m\u001b[0m\u001b[0m\n",
            "\u001b[0;32mpandas/_libs/index.pyx\u001b[0m in \u001b[0;36mpandas._libs.index.IndexEngine.get_loc\u001b[0;34m()\u001b[0m\n",
            "\u001b[0;32mpandas/_libs/index.pyx\u001b[0m in \u001b[0;36mpandas._libs.index.IndexEngine.get_loc\u001b[0;34m()\u001b[0m\n",
            "\u001b[0;32mpandas/_libs/hashtable_class_helper.pxi\u001b[0m in \u001b[0;36mpandas._libs.hashtable.PyObjectHashTable.get_item\u001b[0;34m()\u001b[0m\n",
            "\u001b[0;32mpandas/_libs/hashtable_class_helper.pxi\u001b[0m in \u001b[0;36mpandas._libs.hashtable.PyObjectHashTable.get_item\u001b[0;34m()\u001b[0m\n",
            "\u001b[0;31mKeyError\u001b[0m: 'mean'"
          ]
        }
      ]
    },
    {
      "cell_type": "code",
      "metadata": {
        "id": "3Mptq_Rv-8n8",
        "colab_type": "code",
        "colab": {}
      },
      "source": [
        "def normalize_numeric_data(data, mean, std):\n",
        "  # Center the data\n",
        "  return (data-mean)/std"
      ],
      "execution_count": 0,
      "outputs": []
    },
    {
      "cell_type": "code",
      "metadata": {
        "id": "CJFXDl21--R9",
        "colab_type": "code",
        "outputId": "a83e6db5-ace0-4891-d1cf-e578bec2b58f",
        "colab": {
          "base_uri": "https://localhost:8080/",
          "height": 243
        }
      },
      "source": [
        "normalizer = functools.partial(normalize_numeric_data, mean=MEAN, std=STD)\n",
        "\n",
        "numeric_column = tf.feature_column.numeric_column('numeric', normalizer_fn=normalizer, shape=[len(NUMERIC_FEATURES)])\n",
        "numeric_columns = [numeric_column]\n",
        "numeric_column"
      ],
      "execution_count": 0,
      "outputs": [
        {
          "output_type": "execute_result",
          "data": {
            "text/plain": [
              "NumericColumn(key='numeric', shape=(26,), default_value=None, dtype=tf.float32, normalizer_fn=functools.partial(<function normalize_numeric_data at 0x7f50acd8f730>, mean=array([-0.01243559, -0.00803872, -0.011698  , -0.00471342, -0.00237302,\n",
              "       -0.00626926, -0.00545566, -0.00462404, -0.00906485, -0.00811541,\n",
              "       -0.0103949 , -0.01033872, -0.00600052, -0.02020323, -0.0128271 ,\n",
              "       -0.01022397, -0.02060554, -0.01312964, -0.00943665, -0.02316213,\n",
              "       -0.01285475, -0.02216351, -0.01406619, -0.01956183, -0.02228778,\n",
              "       -0.01962287]), std=array([0.56779755, 0.56791596, 0.57180552, 0.57511876, 0.57224327,\n",
              "       0.58033903, 0.5811331 , 0.58816061, 0.58767912, 0.57824792,\n",
              "       0.56636021, 0.57581838, 0.57506221, 0.56333974, 0.56482208,\n",
              "       0.5748124 , 0.56635739, 0.57535259, 0.57141738, 0.57101995,\n",
              "       0.584565  , 0.59053464, 0.57900786, 0.56321356, 0.56844722,\n",
              "       0.56577178])))"
            ]
          },
          "metadata": {
            "tags": []
          },
          "execution_count": 30
        }
      ]
    },
    {
      "cell_type": "code",
      "metadata": {
        "id": "ecmCU8jk_AGV",
        "colab_type": "code",
        "outputId": "364942ae-b979-4b3c-c13f-318e8c6b929c",
        "colab": {
          "base_uri": "https://localhost:8080/",
          "height": 279
        }
      },
      "source": [
        "example_batch, labels_batch = next(iter(train_data)) \n",
        "example_batch['numeric']"
      ],
      "execution_count": 0,
      "outputs": [
        {
          "output_type": "execute_result",
          "data": {
            "text/plain": [
              "<tf.Tensor: id=562, shape=(64, 26), dtype=float32, numpy=\n",
              "array([[-0.7457384 , -0.78612477, -0.7762234 , ...,  0.69552815,\n",
              "         0.35387397,  0.27683   ],\n",
              "       [-0.38951   , -0.59271   , -0.3957547 , ...,  0.67800665,\n",
              "         0.8766633 ,  1.1251273 ],\n",
              "       [-0.08191638,  0.05965451,  0.07082377, ..., -0.27876827,\n",
              "        -0.1792596 , -0.38868898],\n",
              "       ...,\n",
              "       [-0.33705893, -0.8515986 , -0.9029986 , ...,  0.48257664,\n",
              "         0.46479192,  0.41171452],\n",
              "       [ 0.7392534 ,  0.6045928 ,  0.61968595, ...,  1.0482213 ,\n",
              "         0.94180113,  1.0591943 ],\n",
              "       [ 0.09127454,  0.7336309 ,  1.1251847 , ...,  0.68585324,\n",
              "         0.8220097 ,  1.4135492 ]], dtype=float32)>"
            ]
          },
          "metadata": {
            "tags": []
          },
          "execution_count": 31
        }
      ]
    },
    {
      "cell_type": "code",
      "metadata": {
        "id": "xRov_nW0_BtX",
        "colab_type": "code",
        "colab": {}
      },
      "source": [
        "numeric_layer = tf.keras.layers.DenseFeatures(numeric_columns)"
      ],
      "execution_count": 0,
      "outputs": []
    },
    {
      "cell_type": "code",
      "metadata": {
        "id": "-oXV8Ces_Did",
        "colab_type": "code",
        "colab": {}
      },
      "source": [
        "#trial = list(range(1,101))\n",
        "CATEGORIES = {'condition': [1, 2, 3]}"
      ],
      "execution_count": 0,
      "outputs": []
    },
    {
      "cell_type": "code",
      "metadata": {
        "id": "Nj0Vx4ZY_Ijo",
        "colab_type": "code",
        "colab": {}
      },
      "source": [
        "categorical_columns = []\n",
        "for feature, vocab in CATEGORIES.items():\n",
        "  cat_col = tf.feature_column.categorical_column_with_vocabulary_list(\n",
        "        key=feature, vocabulary_list=vocab)\n",
        "  categorical_columns.append(tf.feature_column.indicator_column(cat_col))"
      ],
      "execution_count": 0,
      "outputs": []
    },
    {
      "cell_type": "code",
      "metadata": {
        "id": "SGveL92S_JD8",
        "colab_type": "code",
        "colab": {}
      },
      "source": [
        "categorical_layer = tf.keras.layers.DenseFeatures(categorical_columns)"
      ],
      "execution_count": 0,
      "outputs": []
    },
    {
      "cell_type": "code",
      "metadata": {
        "id": "Ryia6HlP_KrN",
        "colab_type": "code",
        "colab": {}
      },
      "source": [
        "preprocessing_layer = tf.keras.layers.DenseFeatures(categorical_columns+numeric_columns) #+numeric_columns"
      ],
      "execution_count": 0,
      "outputs": []
    },
    {
      "cell_type": "code",
      "metadata": {
        "id": "I4UzEuPn_MMR",
        "colab_type": "code",
        "colab": {}
      },
      "source": [
        "model = tf.keras.Sequential([\n",
        "  preprocessing_layer,\n",
        "  tf.keras.layers.Dense(128, activation='relu'),\n",
        "  tf.keras.layers.Dense(128, activation='relu'),\n",
        "  tf.keras.layers.Dense(128, activation='relu'),\n",
        "  tf.keras.layers.Dense(128, activation='relu'),\n",
        "  tf.keras.layers.Dense(1, activation='sigmoid'),\n",
        "])\n",
        "\n",
        "model.compile(\n",
        "    loss='binary_crossentropy',\n",
        "    optimizer='adam',\n",
        "    metrics=['accuracy'])"
      ],
      "execution_count": 0,
      "outputs": []
    },
    {
      "cell_type": "code",
      "metadata": {
        "id": "QY1za6xV_OGZ",
        "colab_type": "code",
        "outputId": "c3d2ed01-2f2b-4d19-cede-84bdbd883579",
        "colab": {
          "base_uri": "https://localhost:8080/",
          "height": 36
        }
      },
      "source": [
        "checkpoint_path = \"model4/cp.ckpt\"\n",
        "checkpoint_dir = os.path.dirname(checkpoint_path)\n",
        "\n",
        "# 체크포인트 콜백 만들기\n",
        "cp_callback = tf.keras.callbacks.ModelCheckpoint(\n",
        "    checkpoint_path, verbose=1, save_weights_only=True,\n",
        "\n",
        "    period=20)"
      ],
      "execution_count": 0,
      "outputs": [
        {
          "output_type": "stream",
          "text": [
            "WARNING:tensorflow:`period` argument is deprecated. Please use `save_freq` to specify the frequency in number of samples seen.\n"
          ],
          "name": "stdout"
        }
      ]
    },
    {
      "cell_type": "code",
      "metadata": {
        "id": "_HT0kZXD_Qv7",
        "colab_type": "code",
        "outputId": "155546d1-55c0-430a-f689-b313c90ecae1",
        "colab": {
          "base_uri": "https://localhost:8080/",
          "height": 1000
        }
      },
      "source": [
        "model.fit(train_data, epochs=60, callbacks = [cp_callback], validation_data=val_data)"
      ],
      "execution_count": 0,
      "outputs": [
        {
          "output_type": "stream",
          "text": [
            "Epoch 1/60\n",
            "180/180 [==============================] - 2s 10ms/step - loss: 0.0785 - acc: 0.9722 - val_loss: 0.0000e+00 - val_acc: 0.0000e+00\n",
            "Epoch 2/60\n",
            "180/180 [==============================] - 1s 7ms/step - loss: 0.0803 - acc: 0.9695 - val_loss: 3.1430 - val_acc: 0.5544\n",
            "Epoch 3/60\n",
            "180/180 [==============================] - 1s 6ms/step - loss: 0.0698 - acc: 0.9749 - val_loss: 3.3729 - val_acc: 0.5458\n",
            "Epoch 4/60\n",
            "180/180 [==============================] - 1s 6ms/step - loss: 0.0689 - acc: 0.9747 - val_loss: 3.3220 - val_acc: 0.5348\n",
            "Epoch 5/60\n",
            "180/180 [==============================] - 1s 6ms/step - loss: 0.0737 - acc: 0.9711 - val_loss: 3.0938 - val_acc: 0.5599\n",
            "Epoch 6/60\n",
            "180/180 [==============================] - 1s 7ms/step - loss: 0.1134 - acc: 0.9570 - val_loss: 3.0107 - val_acc: 0.5450\n",
            "Epoch 7/60\n",
            "180/180 [==============================] - 1s 6ms/step - loss: 0.0874 - acc: 0.9707 - val_loss: 3.1095 - val_acc: 0.5513\n",
            "Epoch 8/60\n",
            "180/180 [==============================] - 1s 7ms/step - loss: 0.0623 - acc: 0.9785 - val_loss: 3.2797 - val_acc: 0.5583\n",
            "Epoch 9/60\n",
            "180/180 [==============================] - 1s 6ms/step - loss: 0.0498 - acc: 0.9849 - val_loss: 3.4141 - val_acc: 0.5677\n",
            "Epoch 10/60\n",
            "180/180 [==============================] - 1s 6ms/step - loss: 0.0627 - acc: 0.9773 - val_loss: 3.1030 - val_acc: 0.5685\n",
            "Epoch 11/60\n",
            "180/180 [==============================] - 1s 6ms/step - loss: 0.0523 - acc: 0.9819 - val_loss: 3.4295 - val_acc: 0.5576\n",
            "Epoch 12/60\n",
            "180/180 [==============================] - 1s 6ms/step - loss: 0.0659 - acc: 0.9761 - val_loss: 3.4616 - val_acc: 0.5865\n",
            "Epoch 13/60\n",
            "180/180 [==============================] - 1s 6ms/step - loss: 0.0716 - acc: 0.9771 - val_loss: 3.5340 - val_acc: 0.5576\n",
            "Epoch 14/60\n",
            "180/180 [==============================] - 1s 6ms/step - loss: 0.0730 - acc: 0.9752 - val_loss: 3.3063 - val_acc: 0.5638\n",
            "Epoch 15/60\n",
            "180/180 [==============================] - 1s 6ms/step - loss: 0.0658 - acc: 0.9774 - val_loss: 3.1584 - val_acc: 0.5724\n",
            "Epoch 16/60\n",
            "180/180 [==============================] - 1s 6ms/step - loss: 0.0763 - acc: 0.9731 - val_loss: 3.1467 - val_acc: 0.5717\n",
            "Epoch 17/60\n",
            "180/180 [==============================] - 1s 6ms/step - loss: 0.0603 - acc: 0.9799 - val_loss: 3.5920 - val_acc: 0.5458\n",
            "Epoch 18/60\n",
            "180/180 [==============================] - 1s 6ms/step - loss: 0.0619 - acc: 0.9784 - val_loss: 3.3452 - val_acc: 0.5599\n",
            "Epoch 19/60\n",
            "180/180 [==============================] - 1s 6ms/step - loss: 0.0654 - acc: 0.9783 - val_loss: 3.5656 - val_acc: 0.5889\n",
            "Epoch 20/60\n",
            "10/20 [==============>...............] - ETA: 0s - loss: 0.0404 - acc: 0.9859\n",
            "Epoch 00020: saving model to model4/cp.ckpt\n",
            "180/180 [==============================] - 1s 6ms/step - loss: 0.0465 - acc: 0.9839 - val_loss: 3.7989 - val_acc: 0.5685\n",
            "Epoch 21/60\n",
            "180/180 [==============================] - 1s 6ms/step - loss: 0.0420 - acc: 0.9872 - val_loss: 3.7045 - val_acc: 0.5764\n",
            "Epoch 22/60\n",
            "180/180 [==============================] - 1s 6ms/step - loss: 0.0406 - acc: 0.9863 - val_loss: 3.6963 - val_acc: 0.5615\n",
            "Epoch 23/60\n",
            "180/180 [==============================] - 1s 6ms/step - loss: 0.0660 - acc: 0.9775 - val_loss: 3.6992 - val_acc: 0.5779\n",
            "Epoch 24/60\n",
            "180/180 [==============================] - 1s 6ms/step - loss: 0.0855 - acc: 0.9700 - val_loss: 3.4692 - val_acc: 0.5693\n",
            "Epoch 25/60\n",
            "180/180 [==============================] - 1s 6ms/step - loss: 0.0536 - acc: 0.9798 - val_loss: 3.3322 - val_acc: 0.5748\n",
            "Epoch 26/60\n",
            "180/180 [==============================] - 1s 6ms/step - loss: 0.0419 - acc: 0.9868 - val_loss: 3.6811 - val_acc: 0.5419\n",
            "Epoch 27/60\n",
            "180/180 [==============================] - 1s 6ms/step - loss: 0.0518 - acc: 0.9823 - val_loss: 3.5898 - val_acc: 0.5740\n",
            "Epoch 28/60\n",
            "180/180 [==============================] - 1s 6ms/step - loss: 0.0532 - acc: 0.9816 - val_loss: 3.5254 - val_acc: 0.5466\n",
            "Epoch 29/60\n",
            "180/180 [==============================] - 1s 6ms/step - loss: 0.0511 - acc: 0.9830 - val_loss: 3.7131 - val_acc: 0.5450\n",
            "Epoch 30/60\n",
            "180/180 [==============================] - 1s 7ms/step - loss: 0.0538 - acc: 0.9820 - val_loss: 3.5200 - val_acc: 0.5576\n",
            "Epoch 31/60\n",
            "180/180 [==============================] - 1s 7ms/step - loss: 0.0546 - acc: 0.9815 - val_loss: 3.4930 - val_acc: 0.5670\n",
            "Epoch 32/60\n",
            "180/180 [==============================] - 1s 6ms/step - loss: 0.0566 - acc: 0.9800 - val_loss: 3.7271 - val_acc: 0.5638\n",
            "Epoch 33/60\n",
            "180/180 [==============================] - 1s 7ms/step - loss: 0.0511 - acc: 0.9825 - val_loss: 3.4933 - val_acc: 0.5638\n",
            "Epoch 34/60\n",
            "180/180 [==============================] - 1s 6ms/step - loss: 0.0547 - acc: 0.9810 - val_loss: 3.5445 - val_acc: 0.5560\n",
            "Epoch 35/60\n",
            "180/180 [==============================] - 1s 6ms/step - loss: 0.0426 - acc: 0.9861 - val_loss: 3.6672 - val_acc: 0.5709\n",
            "Epoch 36/60\n",
            "180/180 [==============================] - 1s 6ms/step - loss: 0.0467 - acc: 0.9835 - val_loss: 3.6263 - val_acc: 0.5771\n",
            "Epoch 37/60\n",
            "180/180 [==============================] - 1s 6ms/step - loss: 0.0340 - acc: 0.9889 - val_loss: 3.6124 - val_acc: 0.5779\n",
            "Epoch 38/60\n",
            "180/180 [==============================] - 1s 6ms/step - loss: 0.0316 - acc: 0.9896 - val_loss: 3.6970 - val_acc: 0.5607\n",
            "Epoch 39/60\n",
            "180/180 [==============================] - 1s 6ms/step - loss: 0.0210 - acc: 0.9936 - val_loss: 3.8148 - val_acc: 0.5732\n",
            "Epoch 40/60\n",
            "19/20 [===========================>..] - ETA: 0s - loss: 0.0370 - acc: 0.9877\n",
            "Epoch 00040: saving model to model4/cp.ckpt\n",
            "180/180 [==============================] - 1s 6ms/step - loss: 0.0548 - acc: 0.9808 - val_loss: 3.7071 - val_acc: 0.5474\n",
            "Epoch 41/60\n",
            "180/180 [==============================] - 1s 7ms/step - loss: 0.0724 - acc: 0.9751 - val_loss: 3.8423 - val_acc: 0.5795\n",
            "Epoch 42/60\n",
            "180/180 [==============================] - 1s 6ms/step - loss: 0.0625 - acc: 0.9807 - val_loss: 3.6335 - val_acc: 0.5850\n",
            "Epoch 43/60\n",
            "180/180 [==============================] - 1s 6ms/step - loss: 0.0526 - acc: 0.9810 - val_loss: 3.4766 - val_acc: 0.5764\n",
            "Epoch 44/60\n",
            "180/180 [==============================] - 1s 6ms/step - loss: 0.0471 - acc: 0.9839 - val_loss: 3.4216 - val_acc: 0.5771\n",
            "Epoch 45/60\n",
            "180/180 [==============================] - 1s 6ms/step - loss: 0.0360 - acc: 0.9898 - val_loss: 3.4614 - val_acc: 0.5764\n",
            "Epoch 46/60\n",
            "180/180 [==============================] - 1s 6ms/step - loss: 0.0238 - acc: 0.9931 - val_loss: 3.8513 - val_acc: 0.5677\n",
            "Epoch 47/60\n",
            "180/180 [==============================] - 1s 6ms/step - loss: 0.0396 - acc: 0.9876 - val_loss: 3.7310 - val_acc: 0.5709\n",
            "Epoch 48/60\n",
            "180/180 [==============================] - 1s 6ms/step - loss: 0.0412 - acc: 0.9862 - val_loss: 3.8432 - val_acc: 0.5717\n",
            "Epoch 49/60\n",
            "180/180 [==============================] - 1s 6ms/step - loss: 0.0564 - acc: 0.9793 - val_loss: 3.6993 - val_acc: 0.5717\n",
            "Epoch 50/60\n",
            "180/180 [==============================] - 1s 6ms/step - loss: 0.0485 - acc: 0.9842 - val_loss: 3.7019 - val_acc: 0.5693\n",
            "Epoch 51/60\n",
            "180/180 [==============================] - 1s 6ms/step - loss: 0.0395 - acc: 0.9872 - val_loss: 3.7550 - val_acc: 0.5654\n",
            "Epoch 52/60\n",
            "180/180 [==============================] - 1s 6ms/step - loss: 0.0317 - acc: 0.9894 - val_loss: 3.6326 - val_acc: 0.5803\n",
            "Epoch 53/60\n",
            "180/180 [==============================] - 1s 6ms/step - loss: 0.0200 - acc: 0.9934 - val_loss: 3.7929 - val_acc: 0.5740\n",
            "Epoch 54/60\n",
            "180/180 [==============================] - 1s 6ms/step - loss: 0.0304 - acc: 0.9891 - val_loss: 4.0905 - val_acc: 0.5850\n",
            "Epoch 55/60\n",
            "180/180 [==============================] - 1s 6ms/step - loss: 0.0531 - acc: 0.9812 - val_loss: 3.8493 - val_acc: 0.5599\n",
            "Epoch 56/60\n",
            "180/180 [==============================] - 1s 7ms/step - loss: 0.0702 - acc: 0.9757 - val_loss: 3.6056 - val_acc: 0.5576\n",
            "Epoch 57/60\n",
            "180/180 [==============================] - 1s 6ms/step - loss: 0.0612 - acc: 0.9784 - val_loss: 3.5601 - val_acc: 0.5529\n",
            "Epoch 58/60\n",
            "180/180 [==============================] - 1s 6ms/step - loss: 0.0507 - acc: 0.9815 - val_loss: 3.3804 - val_acc: 0.5685\n",
            "Epoch 59/60\n",
            "180/180 [==============================] - 1s 6ms/step - loss: 0.0289 - acc: 0.9907 - val_loss: 3.6740 - val_acc: 0.5630\n",
            "Epoch 60/60\n",
            "11/20 [===============>..............] - ETA: 0s - loss: 0.0243 - acc: 0.9872\n",
            "Epoch 00060: saving model to model4/cp.ckpt\n",
            "180/180 [==============================] - 1s 7ms/step - loss: 0.0182 - acc: 0.9953 - val_loss: 3.6664 - val_acc: 0.5724\n"
          ],
          "name": "stdout"
        },
        {
          "output_type": "execute_result",
          "data": {
            "text/plain": [
              "<tensorflow.python.keras.callbacks.History at 0x7f50fc4be198>"
            ]
          },
          "metadata": {
            "tags": []
          },
          "execution_count": 44
        }
      ]
    },
    {
      "cell_type": "code",
      "metadata": {
        "id": "3fEWIXMn_SaN",
        "colab_type": "code",
        "outputId": "0bc18e32-93b0-4a04-b0fb-d4ada60cc312",
        "colab": {
          "base_uri": "https://localhost:8080/",
          "height": 92
        }
      },
      "source": [
        "test_loss, test_accuracy = model.evaluate(test_data)\n",
        "\n",
        "print('\\n\\nTest Loss {}, Test Accuracy {}'.format(test_loss, test_accuracy))"
      ],
      "execution_count": 0,
      "outputs": [
        {
          "output_type": "stream",
          "text": [
            "51/51 [==============================] - 0s 7ms/step - loss: 4.2954 - acc: 0.5549\n",
            "\n",
            "\n",
            "Test Loss 4.295360270668478, Test Accuracy 0.5548628568649292\n"
          ],
          "name": "stdout"
        }
      ]
    },
    {
      "cell_type": "code",
      "metadata": {
        "id": "QvXoyA2u_Ufc",
        "colab_type": "code",
        "outputId": "c951a39b-d616-43a3-bb5b-f5d861e0d1ff",
        "colab": {
          "base_uri": "https://localhost:8080/",
          "height": 56
        }
      },
      "source": [
        "model.add(tf.keras.layers.Dropout(0.3))\n",
        "train_data.shuffle(30000)"
      ],
      "execution_count": 0,
      "outputs": [
        {
          "output_type": "execute_result",
          "data": {
            "text/plain": [
              "<DatasetV1Adapter shapes: (OrderedDict([(condition, (?,)), (numeric, (?, 26))]), (?,)), types: (OrderedDict([(condition, tf.int32), (numeric, tf.float32)]), tf.int32)>"
            ]
          },
          "metadata": {
            "tags": []
          },
          "execution_count": 43
        }
      ]
    }
  ]
}