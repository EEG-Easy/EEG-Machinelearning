{
  "nbformat": 4,
  "nbformat_minor": 0,
  "metadata": {
    "colab": {
      "name": "N100,P200+Robust+augmentation",
      "provenance": [],
      "authorship_tag": "ABX9TyNUNJTKJ9m3cVU6nZY1CSZq",
      "include_colab_link": true
    },
    "kernelspec": {
      "name": "python3",
      "display_name": "Python 3"
    },
    "accelerator": "TPU"
  },
  "cells": [
    {
      "cell_type": "markdown",
      "metadata": {
        "id": "view-in-github",
        "colab_type": "text"
      },
      "source": [
        "<a href=\"https://colab.research.google.com/github/EEG-Easy/EEG-Machinelearning/blob/master/2020-2Project/2_%EB%94%A5%EB%9F%AC%EB%8B%9D/N100%2CP200%2BRobust%2Baugmentation.ipynb\" target=\"_parent\"><img src=\"https://colab.research.google.com/assets/colab-badge.svg\" alt=\"Open In Colab\"/></a>"
      ]
    },
    {
      "cell_type": "code",
      "metadata": {
        "id": "234qT8s5Cl2z",
        "colab_type": "code",
        "outputId": "86cbeec4-b9c7-4c1d-c8e5-59321bf760c6",
        "colab": {
          "base_uri": "https://localhost:8080/",
          "height": 65
        }
      },
      "source": [
        "from __future__ import absolute_import, division, print_function, unicode_literals\n",
        "import tensorflow as tf\n",
        "from __future__ import absolute_import, division, print_function, unicode_literals\n",
        "import functools\n",
        "\n",
        "import tensorflow as tf\n",
        "tf.enable_eager_execution()\n",
        "from tensorflow import keras\n",
        "import os\n",
        "\n",
        "import numpy as np\n",
        "import pandas as pd\n",
        "\n",
        "import sklearn\n",
        "from sklearn.model_selection import train_test_split\n",
        "from sklearn.preprocessing import StandardScaler\n",
        "from sklearn.preprocessing import RobustScaler\n",
        "\n",
        "tf.keras.backend.clear_session()"
      ],
      "execution_count": 0,
      "outputs": [
        {
          "output_type": "display_data",
          "data": {
            "text/html": [
              "<p style=\"color: red;\">\n",
              "The default version of TensorFlow in Colab will soon switch to TensorFlow 2.x.<br>\n",
              "We recommend you <a href=\"https://www.tensorflow.org/guide/migrate\" target=\"_blank\">upgrade</a> now \n",
              "or ensure your notebook will continue to use TensorFlow 1.x via the <code>%tensorflow_version 1.x</code> magic:\n",
              "<a href=\"https://colab.research.google.com/notebooks/tensorflow_version.ipynb\" target=\"_blank\">more info</a>.</p>\n"
            ],
            "text/plain": [
              "<IPython.core.display.HTML object>"
            ]
          },
          "metadata": {
            "tags": []
          }
        }
      ]
    },
    {
      "cell_type": "code",
      "metadata": {
        "id": "rXzMRQwcCtNo",
        "colab_type": "code",
        "outputId": "70e6dea0-0b1c-4d6f-a6e4-34beb4fecd6b",
        "colab": {
          "base_uri": "https://localhost:8080/",
          "height": 131
        }
      },
      "source": [
        "from google.colab import drive\n",
        "\n",
        "drive.mount('/content/gdrive')"
      ],
      "execution_count": 0,
      "outputs": [
        {
          "output_type": "stream",
          "text": [
            "Go to this URL in a browser: https://accounts.google.com/o/oauth2/auth?client_id=947318989803-6bn6qk8qdgf4n4g3pfee6491hc0brc4i.apps.googleusercontent.com&redirect_uri=urn%3aietf%3awg%3aoauth%3a2.0%3aoob&response_type=code&scope=email%20https%3a%2f%2fwww.googleapis.com%2fauth%2fdocs.test%20https%3a%2f%2fwww.googleapis.com%2fauth%2fdrive%20https%3a%2f%2fwww.googleapis.com%2fauth%2fdrive.photos.readonly%20https%3a%2f%2fwww.googleapis.com%2fauth%2fpeopleapi.readonly\n",
            "\n",
            "Enter your authorization code:\n",
            "··········\n",
            "Mounted at /content/gdrive\n"
          ],
          "name": "stdout"
        }
      ]
    },
    {
      "cell_type": "code",
      "metadata": {
        "id": "hy_iMlvgC0tC",
        "colab_type": "code",
        "outputId": "9162bebd-f700-4c5c-ea8a-ff960a93b082",
        "colab": {
          "base_uri": "https://localhost:8080/",
          "height": 36
        }
      },
      "source": [
        "cd /content/gdrive/My Drive/eeg2"
      ],
      "execution_count": 0,
      "outputs": [
        {
          "output_type": "stream",
          "text": [
            "/content/gdrive/My Drive/eeg2\n"
          ],
          "name": "stdout"
        }
      ]
    },
    {
      "cell_type": "code",
      "metadata": {
        "id": "zq20dc0oSagq",
        "colab_type": "code",
        "colab": {}
      },
      "source": [
        "EEG_df = pd.read_csv('mergedTrialData_augmented.csv')"
      ],
      "execution_count": 0,
      "outputs": []
    },
    {
      "cell_type": "code",
      "metadata": {
        "id": "1upIGockWD0A",
        "colab_type": "code",
        "colab": {}
      },
      "source": [
        "EEG_df = EEG_df.dropna()"
      ],
      "execution_count": 0,
      "outputs": []
    },
    {
      "cell_type": "code",
      "metadata": {
        "id": "2zYNCuXWSilR",
        "colab_type": "code",
        "colab": {}
      },
      "source": [
        "train, test = train_test_split(EEG_df, test_size=0.2, random_state=123)"
      ],
      "execution_count": 0,
      "outputs": []
    },
    {
      "cell_type": "code",
      "metadata": {
        "id": "GgjznkLOSoEP",
        "colab_type": "code",
        "colab": {}
      },
      "source": [
        "train, val = train_test_split(train, test_size=0.1, random_state=123)"
      ],
      "execution_count": 0,
      "outputs": []
    },
    {
      "cell_type": "code",
      "metadata": {
        "id": "PE_Py3_RTCCA",
        "colab_type": "code",
        "colab": {}
      },
      "source": [
        "train.to_csv('/content/gdrive/My Drive/eeg/train_mergedTrial_origin.csv',sep=',', na_rep='NaN')\n",
        "val.to_csv('/content/gdrive/My Drive/eeg/val_mergedTrial_origin.csv',sep=',', na_rep='NaN')\n",
        "test.to_csv('/content/gdrive/My Drive/eeg/test_mergedTrial_origin.csv',sep=',', na_rep='NaN')"
      ],
      "execution_count": 0,
      "outputs": []
    },
    {
      "cell_type": "code",
      "metadata": {
        "id": "-KmO4FqFaMPp",
        "colab_type": "code",
        "colab": {}
      },
      "source": [
        "train = pd.read_csv('train_mergedTrial_origin.csv')\n",
        "val = pd.read_csv('val_mergedTrial_origin.csv')\n",
        "test = pd.read_csv('test_mergedTrial_origin.csv')"
      ],
      "execution_count": 0,
      "outputs": []
    },
    {
      "cell_type": "code",
      "metadata": {
        "id": "9R6mCZjOTu4c",
        "colab_type": "code",
        "colab": {}
      },
      "source": [
        "group_train=np.array(train['group'])\n",
        "subject_train=np.array(train['subject'])\n",
        "trial_train=np.array(train['trial'])\n",
        "condition_train=np.array(train['condition'])\n",
        "\n",
        "train_scaling = train.drop(['group', 'Unnamed: 0', 'subject', 'trial', 'condition'], axis=1)"
      ],
      "execution_count": 0,
      "outputs": []
    },
    {
      "cell_type": "code",
      "metadata": {
        "id": "pzrVJ7qNUDrd",
        "colab_type": "code",
        "colab": {}
      },
      "source": [
        "group_val=np.array(val['group'])\n",
        "subject_val=np.array(val['subject'])\n",
        "trial_val=np.array(val['trial'])\n",
        "condition_val=np.array(val['condition'])\n",
        "\n",
        "val_scaling = val.drop(['group', 'Unnamed: 0', 'subject', 'trial', 'condition'], axis=1)"
      ],
      "execution_count": 0,
      "outputs": []
    },
    {
      "cell_type": "code",
      "metadata": {
        "id": "X61uEfVzUOxq",
        "colab_type": "code",
        "colab": {}
      },
      "source": [
        "group_test=np.array(test['group'])\n",
        "subject_test=np.array(test['subject'])\n",
        "trial_test=np.array(test['trial'])\n",
        "condition_test=np.array(test['condition'])\n",
        "\n",
        "test_scaling = test.drop(['group', 'Unnamed: 0', 'subject', 'trial', 'condition'], axis=1)"
      ],
      "execution_count": 0,
      "outputs": []
    },
    {
      "cell_type": "code",
      "metadata": {
        "id": "fRMumfROUVHH",
        "colab_type": "code",
        "colab": {}
      },
      "source": [
        "scaler = RobustScaler()"
      ],
      "execution_count": 0,
      "outputs": []
    },
    {
      "cell_type": "code",
      "metadata": {
        "id": "zcePCxj4UXJD",
        "colab_type": "code",
        "colab": {}
      },
      "source": [
        "scaler.fit(train_scaling) \n",
        "\n",
        "train_scaled = scaler.transform(train_scaling)\n",
        "val_scaled = scaler.transform(val_scaling)\n",
        "test_scaled = scaler.transform(test_scaling)\n",
        "\n",
        "train_scaled_df = pd.DataFrame(train_scaled)\n",
        "val_scaled_df = pd.DataFrame(val_scaled)\n",
        "test_scaled_df = pd.DataFrame(test_scaled)"
      ],
      "execution_count": 0,
      "outputs": []
    },
    {
      "cell_type": "code",
      "metadata": {
        "id": "sbA2P-F_Uf-M",
        "colab_type": "code",
        "outputId": "aaf79428-420d-42f0-babd-a8e7a5cc6204",
        "colab": {
          "base_uri": "https://localhost:8080/",
          "height": 596
        }
      },
      "source": [
        "train_scaled_df.columns = ['Fz_N100', 'FCz_N100', 'Cz_N100', 'FC3_N100', 'FC4_N100', 'C3_N100', 'C4_N100', 'CP3_N100', 'CP4_N100', 'AFz_N100', 'F2_N100', 'F1_N100', 'FC1_N100', 'Fz_P200', 'FCz_P200',\n",
        "       'Cz_P200', 'FC3_P200', 'FC4_P200', 'C3_P200', 'C4_P200', 'CP3_P200',\n",
        "       'CP4_P200', 'AFz_P200', 'F2_P200', 'F1_P200', 'FC1_P200']\n",
        "\n",
        "group_train = group_train.astype(int)\n",
        "subject_train = subject_train.astype(int)\n",
        "condition_train = condition_train.astype(int)\n",
        "trial_train = trial_train.astype(int)\n",
        "\n",
        "train_scaled_df['group'] = group_train\n",
        "train_scaled_df['subject'] = subject_train\n",
        "train_scaled_df['condition'] = condition_train\n",
        "train_scaled_df['trial'] = trial_train\n",
        "\n",
        "train_scaled_df.dtypes"
      ],
      "execution_count": 0,
      "outputs": [
        {
          "output_type": "execute_result",
          "data": {
            "text/plain": [
              "Fz_N100      float64\n",
              "FCz_N100     float64\n",
              "Cz_N100      float64\n",
              "FC3_N100     float64\n",
              "FC4_N100     float64\n",
              "C3_N100      float64\n",
              "C4_N100      float64\n",
              "CP3_N100     float64\n",
              "CP4_N100     float64\n",
              "AFz_N100     float64\n",
              "F2_N100      float64\n",
              "F1_N100      float64\n",
              "FC1_N100     float64\n",
              "Fz_P200      float64\n",
              "FCz_P200     float64\n",
              "Cz_P200      float64\n",
              "FC3_P200     float64\n",
              "FC4_P200     float64\n",
              "C3_P200      float64\n",
              "C4_P200      float64\n",
              "CP3_P200     float64\n",
              "CP4_P200     float64\n",
              "AFz_P200     float64\n",
              "F2_P200      float64\n",
              "F1_P200      float64\n",
              "FC1_P200     float64\n",
              "group          int64\n",
              "subject        int64\n",
              "condition      int64\n",
              "trial          int64\n",
              "dtype: object"
            ]
          },
          "metadata": {
            "tags": []
          },
          "execution_count": 111
        }
      ]
    },
    {
      "cell_type": "code",
      "metadata": {
        "id": "MjefXmcWt23R",
        "colab_type": "code",
        "outputId": "3cc88cfb-e204-4eac-d23b-d57269d94e88",
        "colab": {
          "base_uri": "https://localhost:8080/",
          "height": 596
        }
      },
      "source": [
        "train_scaling.columns = ['Fz_N100', 'FCz_N100', 'Cz_N100', 'FC3_N100', 'FC4_N100', 'C3_N100', 'C4_N100', 'CP3_N100', 'CP4_N100', 'AFz_N100', 'F2_N100', 'F1_N100', 'FC1_N100', 'Fz_P200', 'FCz_P200',\n",
        "       'Cz_P200', 'FC3_P200', 'FC4_P200', 'C3_P200', 'C4_P200', 'CP3_P200',\n",
        "       'CP4_P200', 'AFz_P200', 'F2_P200', 'F1_P200', 'FC1_P200']\n",
        "\n",
        "group_train = group_train.astype(int)\n",
        "subject_train = subject_train.astype(int)\n",
        "condition_train = condition_train.astype(int)\n",
        "trial_train = trial_train.astype(int)\n",
        "\n",
        "train_scaling['group'] = group_train\n",
        "train_scaling['subject'] = subject_train\n",
        "train_scaling['condition'] = condition_train\n",
        "train_scaling['trial'] = trial_train\n",
        "\n",
        "train_scaling.dtypes"
      ],
      "execution_count": 0,
      "outputs": [
        {
          "output_type": "execute_result",
          "data": {
            "text/plain": [
              "Fz_N100      float64\n",
              "FCz_N100     float64\n",
              "Cz_N100      float64\n",
              "FC3_N100     float64\n",
              "FC4_N100     float64\n",
              "C3_N100      float64\n",
              "C4_N100      float64\n",
              "CP3_N100     float64\n",
              "CP4_N100     float64\n",
              "AFz_N100     float64\n",
              "F2_N100      float64\n",
              "F1_N100      float64\n",
              "FC1_N100     float64\n",
              "Fz_P200      float64\n",
              "FCz_P200     float64\n",
              "Cz_P200      float64\n",
              "FC3_P200     float64\n",
              "FC4_P200     float64\n",
              "C3_P200      float64\n",
              "C4_P200      float64\n",
              "CP3_P200     float64\n",
              "CP4_P200     float64\n",
              "AFz_P200     float64\n",
              "F2_P200      float64\n",
              "F1_P200      float64\n",
              "FC1_P200     float64\n",
              "group          int64\n",
              "subject        int64\n",
              "condition      int64\n",
              "trial          int64\n",
              "dtype: object"
            ]
          },
          "metadata": {
            "tags": []
          },
          "execution_count": 20
        }
      ]
    },
    {
      "cell_type": "code",
      "metadata": {
        "id": "ZcAb9Fs4Uscr",
        "colab_type": "code",
        "outputId": "fbbd8b70-21f5-4d54-ded1-de0a63898607",
        "colab": {
          "base_uri": "https://localhost:8080/",
          "height": 596
        }
      },
      "source": [
        "val_scaled_df.columns = ['Fz_N100', 'FCz_N100', 'Cz_N100', 'FC3_N100', 'FC4_N100', 'C3_N100', 'C4_N100', 'CP3_N100', 'CP4_N100', 'AFz_N100', 'F2_N100', 'F1_N100', 'FC1_N100', 'Fz_P200', 'FCz_P200',\n",
        "       'Cz_P200', 'FC3_P200', 'FC4_P200', 'C3_P200', 'C4_P200', 'CP3_P200',\n",
        "       'CP4_P200', 'AFz_P200', 'F2_P200', 'F1_P200', 'FC1_P200']\n",
        "\n",
        "group_val = group_val.astype(int)\n",
        "subject_val = subject_val.astype(int)\n",
        "condition_val = condition_val.astype(int)\n",
        "trial_val = trial_val.astype(int)\n",
        "\n",
        "val_scaled_df['group'] = group_val\n",
        "val_scaled_df['subject'] = subject_val\n",
        "val_scaled_df['condition'] = condition_val\n",
        "val_scaled_df['trial'] = trial_val\n",
        "\n",
        "val_scaled_df.dtypes"
      ],
      "execution_count": 0,
      "outputs": [
        {
          "output_type": "execute_result",
          "data": {
            "text/plain": [
              "Fz_N100      float64\n",
              "FCz_N100     float64\n",
              "Cz_N100      float64\n",
              "FC3_N100     float64\n",
              "FC4_N100     float64\n",
              "C3_N100      float64\n",
              "C4_N100      float64\n",
              "CP3_N100     float64\n",
              "CP4_N100     float64\n",
              "AFz_N100     float64\n",
              "F2_N100      float64\n",
              "F1_N100      float64\n",
              "FC1_N100     float64\n",
              "Fz_P200      float64\n",
              "FCz_P200     float64\n",
              "Cz_P200      float64\n",
              "FC3_P200     float64\n",
              "FC4_P200     float64\n",
              "C3_P200      float64\n",
              "C4_P200      float64\n",
              "CP3_P200     float64\n",
              "CP4_P200     float64\n",
              "AFz_P200     float64\n",
              "F2_P200      float64\n",
              "F1_P200      float64\n",
              "FC1_P200     float64\n",
              "group          int64\n",
              "subject        int64\n",
              "condition      int64\n",
              "trial          int64\n",
              "dtype: object"
            ]
          },
          "metadata": {
            "tags": []
          },
          "execution_count": 112
        }
      ]
    },
    {
      "cell_type": "code",
      "metadata": {
        "id": "2fQ7U4ejuVdQ",
        "colab_type": "code",
        "outputId": "1424ed37-fa2c-41e5-fa3a-88e1146c7b8f",
        "colab": {
          "base_uri": "https://localhost:8080/",
          "height": 596
        }
      },
      "source": [
        "val_scaling.columns = ['Fz_N100', 'FCz_N100', 'Cz_N100', 'FC3_N100', 'FC4_N100', 'C3_N100', 'C4_N100', 'CP3_N100', 'CP4_N100', 'AFz_N100', 'F2_N100', 'F1_N100', 'FC1_N100', 'Fz_P200', 'FCz_P200',\n",
        "       'Cz_P200', 'FC3_P200', 'FC4_P200', 'C3_P200', 'C4_P200', 'CP3_P200',\n",
        "       'CP4_P200', 'AFz_P200', 'F2_P200', 'F1_P200', 'FC1_P200']\n",
        "\n",
        "group_val = group_val.astype(int)\n",
        "subject_val = subject_val.astype(int)\n",
        "condition_val = condition_val.astype(int)\n",
        "trial_val = trial_val.astype(int)\n",
        "\n",
        "val_scaling['group'] = group_val\n",
        "val_scaling['subject'] = subject_val\n",
        "val_scaling['condition'] = condition_val\n",
        "val_scaling['trial'] = trial_val\n",
        "\n",
        "val_scaling.dtypes"
      ],
      "execution_count": 0,
      "outputs": [
        {
          "output_type": "execute_result",
          "data": {
            "text/plain": [
              "Fz_N100      float64\n",
              "FCz_N100     float64\n",
              "Cz_N100      float64\n",
              "FC3_N100     float64\n",
              "FC4_N100     float64\n",
              "C3_N100      float64\n",
              "C4_N100      float64\n",
              "CP3_N100     float64\n",
              "CP4_N100     float64\n",
              "AFz_N100     float64\n",
              "F2_N100      float64\n",
              "F1_N100      float64\n",
              "FC1_N100     float64\n",
              "Fz_P200      float64\n",
              "FCz_P200     float64\n",
              "Cz_P200      float64\n",
              "FC3_P200     float64\n",
              "FC4_P200     float64\n",
              "C3_P200      float64\n",
              "C4_P200      float64\n",
              "CP3_P200     float64\n",
              "CP4_P200     float64\n",
              "AFz_P200     float64\n",
              "F2_P200      float64\n",
              "F1_P200      float64\n",
              "FC1_P200     float64\n",
              "group          int64\n",
              "subject        int64\n",
              "condition      int64\n",
              "trial          int64\n",
              "dtype: object"
            ]
          },
          "metadata": {
            "tags": []
          },
          "execution_count": 14
        }
      ]
    },
    {
      "cell_type": "code",
      "metadata": {
        "id": "Epr5wYtlU3s9",
        "colab_type": "code",
        "outputId": "9065656f-8d80-44d1-ebad-5a8159f60d09",
        "colab": {
          "base_uri": "https://localhost:8080/",
          "height": 596
        }
      },
      "source": [
        "test_scaled_df.columns = ['Fz_N100', 'FCz_N100', 'Cz_N100', 'FC3_N100', 'FC4_N100', 'C3_N100', 'C4_N100', 'CP3_N100', 'CP4_N100', 'AFz_N100', 'F2_N100', 'F1_N100', 'FC1_N100', 'Fz_P200', 'FCz_P200',\n",
        "       'Cz_P200', 'FC3_P200', 'FC4_P200', 'C3_P200', 'C4_P200', 'CP3_P200',\n",
        "       'CP4_P200', 'AFz_P200', 'F2_P200', 'F1_P200', 'FC1_P200']\n",
        "\n",
        "group_test = group_test.astype(int)\n",
        "subject_test = subject_test.astype(int)\n",
        "condition_test = condition_test.astype(int)\n",
        "trial_test = trial_test.astype(int)\n",
        "\n",
        "test_scaled_df['group'] = group_test\n",
        "test_scaled_df['subject'] = subject_test\n",
        "test_scaled_df['condition'] = condition_test\n",
        "test_scaled_df['trial'] = trial_test\n",
        "\n",
        "test_scaled_df.dtypes"
      ],
      "execution_count": 0,
      "outputs": [
        {
          "output_type": "execute_result",
          "data": {
            "text/plain": [
              "Fz_N100      float64\n",
              "FCz_N100     float64\n",
              "Cz_N100      float64\n",
              "FC3_N100     float64\n",
              "FC4_N100     float64\n",
              "C3_N100      float64\n",
              "C4_N100      float64\n",
              "CP3_N100     float64\n",
              "CP4_N100     float64\n",
              "AFz_N100     float64\n",
              "F2_N100      float64\n",
              "F1_N100      float64\n",
              "FC1_N100     float64\n",
              "Fz_P200      float64\n",
              "FCz_P200     float64\n",
              "Cz_P200      float64\n",
              "FC3_P200     float64\n",
              "FC4_P200     float64\n",
              "C3_P200      float64\n",
              "C4_P200      float64\n",
              "CP3_P200     float64\n",
              "CP4_P200     float64\n",
              "AFz_P200     float64\n",
              "F2_P200      float64\n",
              "F1_P200      float64\n",
              "FC1_P200     float64\n",
              "group          int64\n",
              "subject        int64\n",
              "condition      int64\n",
              "trial          int64\n",
              "dtype: object"
            ]
          },
          "metadata": {
            "tags": []
          },
          "execution_count": 113
        }
      ]
    },
    {
      "cell_type": "code",
      "metadata": {
        "id": "VGdwPjpFueUs",
        "colab_type": "code",
        "outputId": "4c89cb59-c384-4124-e7dd-b514181cf945",
        "colab": {
          "base_uri": "https://localhost:8080/",
          "height": 596
        }
      },
      "source": [
        "test_scaling.columns = ['Fz_N100', 'FCz_N100', 'Cz_N100', 'FC3_N100', 'FC4_N100', 'C3_N100', 'C4_N100', 'CP3_N100', 'CP4_N100', 'AFz_N100', 'F2_N100', 'F1_N100', 'FC1_N100', 'Fz_P200', 'FCz_P200',\n",
        "       'Cz_P200', 'FC3_P200', 'FC4_P200', 'C3_P200', 'C4_P200', 'CP3_P200',\n",
        "       'CP4_P200', 'AFz_P200', 'F2_P200', 'F1_P200', 'FC1_P200']\n",
        "\n",
        "group_test = group_test.astype(int)\n",
        "subject_test = subject_test.astype(int)\n",
        "condition_test = condition_test.astype(int)\n",
        "trial_test = trial_test.astype(int)\n",
        "\n",
        "test_scaling['group'] = group_test\n",
        "test_scaling['subject'] = subject_test\n",
        "test_scaling['condition'] = condition_test\n",
        "test_scaling['trial'] = trial_test\n",
        "\n",
        "test_scaling.dtypes"
      ],
      "execution_count": 0,
      "outputs": [
        {
          "output_type": "execute_result",
          "data": {
            "text/plain": [
              "Fz_N100      float64\n",
              "FCz_N100     float64\n",
              "Cz_N100      float64\n",
              "FC3_N100     float64\n",
              "FC4_N100     float64\n",
              "C3_N100      float64\n",
              "C4_N100      float64\n",
              "CP3_N100     float64\n",
              "CP4_N100     float64\n",
              "AFz_N100     float64\n",
              "F2_N100      float64\n",
              "F1_N100      float64\n",
              "FC1_N100     float64\n",
              "Fz_P200      float64\n",
              "FCz_P200     float64\n",
              "Cz_P200      float64\n",
              "FC3_P200     float64\n",
              "FC4_P200     float64\n",
              "C3_P200      float64\n",
              "C4_P200      float64\n",
              "CP3_P200     float64\n",
              "CP4_P200     float64\n",
              "AFz_P200     float64\n",
              "F2_P200      float64\n",
              "F1_P200      float64\n",
              "FC1_P200     float64\n",
              "group          int64\n",
              "subject        int64\n",
              "condition      int64\n",
              "trial          int64\n",
              "dtype: object"
            ]
          },
          "metadata": {
            "tags": []
          },
          "execution_count": 15
        }
      ]
    },
    {
      "cell_type": "code",
      "metadata": {
        "id": "JO4nt-ZNU9L0",
        "colab_type": "code",
        "outputId": "e4363fc3-99c2-4508-ae45-cfbd82efb127",
        "colab": {
          "base_uri": "https://localhost:8080/",
          "height": 596
        }
      },
      "source": [
        "train_scaled_df.quantile(q=0.975, interpolation='midpoint')"
      ],
      "execution_count": 0,
      "outputs": [
        {
          "output_type": "execute_result",
          "data": {
            "text/plain": [
              "Fz_N100       1.748467\n",
              "FCz_N100      1.689921\n",
              "Cz_N100       1.668515\n",
              "FC3_N100      1.729027\n",
              "FC4_N100      1.733970\n",
              "C3_N100       1.697883\n",
              "C4_N100       1.715381\n",
              "CP3_N100      1.686507\n",
              "CP4_N100      1.727217\n",
              "AFz_N100      1.928428\n",
              "F2_N100       1.807640\n",
              "F1_N100       1.793929\n",
              "FC1_N100      1.716060\n",
              "Fz_P200       1.885391\n",
              "FCz_P200      1.836464\n",
              "Cz_P200       1.857180\n",
              "FC3_P200      1.828843\n",
              "FC4_P200      1.839651\n",
              "C3_P200       1.799327\n",
              "C4_P200       1.783815\n",
              "CP3_P200      1.795872\n",
              "CP4_P200      1.818561\n",
              "AFz_P200      2.142033\n",
              "F2_P200       1.937779\n",
              "F1_P200       1.892622\n",
              "FC1_P200      1.823584\n",
              "group         1.000000\n",
              "subject      79.000000\n",
              "condition     3.000000\n",
              "trial        97.000000\n",
              "Name: 0.975, dtype: float64"
            ]
          },
          "metadata": {
            "tags": []
          },
          "execution_count": 74
        }
      ]
    },
    {
      "cell_type": "code",
      "metadata": {
        "id": "aQrqHAT7VCcm",
        "colab_type": "code",
        "colab": {}
      },
      "source": [
        "train_scaled_df = train_scaled_df.drop(train_scaled_df[train_scaled_df.Fz_N100 > 1.748467].index)\n",
        "train_scaled_df = train_scaled_df.drop(train_scaled_df[train_scaled_df.FCz_N100 > 1.689921].index)\n",
        "train_scaled_df = train_scaled_df.drop(train_scaled_df[train_scaled_df.Cz_N100 > 1.668515].index)\n",
        "train_scaled_df = train_scaled_df.drop(train_scaled_df[train_scaled_df.FC3_N100 > 1.729027].index)\n",
        "train_scaled_df = train_scaled_df.drop(train_scaled_df[train_scaled_df.FC4_N100 > 1.733970].index)\n",
        "train_scaled_df = train_scaled_df.drop(train_scaled_df[train_scaled_df.C3_N100 > 1.697883].index)\n",
        "train_scaled_df = train_scaled_df.drop(train_scaled_df[train_scaled_df.C4_N100 > 1.677140].index)\n",
        "train_scaled_df = train_scaled_df.drop(train_scaled_df[train_scaled_df.CP3_N100 > 1.715381].index)\n",
        "train_scaled_df = train_scaled_df.drop(train_scaled_df[train_scaled_df.CP4_N100 > 1.727217].index)\n",
        "train_scaled_df = train_scaled_df.drop(train_scaled_df[train_scaled_df.AFz_N100 > 1.928428].index)\n",
        "train_scaled_df = train_scaled_df.drop(train_scaled_df[train_scaled_df.F2_N100 > 1.807640].index)\n",
        "train_scaled_df = train_scaled_df.drop(train_scaled_df[train_scaled_df.F1_N100 > 1.793929].index)\n",
        "train_scaled_df = train_scaled_df.drop(train_scaled_df[train_scaled_df.FC1_N100 > 1.716060].index)\n",
        "train_scaled_df = train_scaled_df.drop(train_scaled_df[train_scaled_df.Fz_P200 > 1.885391].index)\n",
        "train_scaled_df = train_scaled_df.drop(train_scaled_df[train_scaled_df.FCz_P200 > 1.836464].index)\n",
        "train_scaled_df = train_scaled_df.drop(train_scaled_df[train_scaled_df.Cz_P200 > 1.857180].index)\n",
        "train_scaled_df = train_scaled_df.drop(train_scaled_df[train_scaled_df.FC3_P200 > 1.828843].index)\n",
        "train_scaled_df = train_scaled_df.drop(train_scaled_df[train_scaled_df.FC4_P200 > 1.839651].index)\n",
        "train_scaled_df = train_scaled_df.drop(train_scaled_df[train_scaled_df.C3_P200 > 1.799327].index)\n",
        "train_scaled_df = train_scaled_df.drop(train_scaled_df[train_scaled_df.C4_P200 > 1.783815].index)\n",
        "train_scaled_df = train_scaled_df.drop(train_scaled_df[train_scaled_df.CP3_P200 > 1.795872].index)\n",
        "train_scaled_df = train_scaled_df.drop(train_scaled_df[train_scaled_df.CP4_P200 > 1.818561].index)\n",
        "train_scaled_df = train_scaled_df.drop(train_scaled_df[train_scaled_df.AFz_P200 > 2.142033].index)\n",
        "train_scaled_df = train_scaled_df.drop(train_scaled_df[train_scaled_df.F2_P200 > 1.937779].index)\n",
        "train_scaled_df = train_scaled_df.drop(train_scaled_df[train_scaled_df.F1_P200 > 1.892622].index)\n",
        "train_scaled_df = train_scaled_df.drop(train_scaled_df[train_scaled_df.FC1_P200 > 1.823584].index)"
      ],
      "execution_count": 0,
      "outputs": []
    },
    {
      "cell_type": "code",
      "metadata": {
        "id": "jKcbyk0EVHfb",
        "colab_type": "code",
        "colab": {}
      },
      "source": [
        "val_scaled_df = val_scaled_df.drop(val_scaled_df[val_scaled_df.Fz_N100 > 1.748467].index)\n",
        "val_scaled_df = val_scaled_df.drop(val_scaled_df[val_scaled_df.FCz_N100 > 1.689921].index)\n",
        "val_scaled_df = val_scaled_df.drop(val_scaled_df[val_scaled_df.Cz_N100 > 1.668515].index)\n",
        "val_scaled_df = val_scaled_df.drop(val_scaled_df[val_scaled_df.FC3_N100 > 1.729027].index)\n",
        "val_scaled_df = val_scaled_df.drop(val_scaled_df[val_scaled_df.FC4_N100 > 1.733970].index)\n",
        "val_scaled_df = val_scaled_df.drop(val_scaled_df[val_scaled_df.C3_N100 > 1.697883].index)\n",
        "val_scaled_df = val_scaled_df.drop(val_scaled_df[val_scaled_df.C4_N100 > 1.677140].index)\n",
        "val_scaled_df = val_scaled_df.drop(val_scaled_df[val_scaled_df.CP3_N100 > 1.715381].index)\n",
        "val_scaled_df = val_scaled_df.drop(val_scaled_df[val_scaled_df.CP4_N100 > 1.727217].index)\n",
        "val_scaled_df = val_scaled_df.drop(val_scaled_df[val_scaled_df.AFz_N100 > 1.928428].index)\n",
        "val_scaled_df = val_scaled_df.drop(val_scaled_df[val_scaled_df.F2_N100 > 1.807640].index)\n",
        "val_scaled_df = val_scaled_df.drop(val_scaled_df[val_scaled_df.F1_N100 > 1.793929].index)\n",
        "val_scaled_df = val_scaled_df.drop(val_scaled_df[val_scaled_df.FC1_N100 > 1.716060].index)\n",
        "val_scaled_df = val_scaled_df.drop(val_scaled_df[val_scaled_df.Fz_P200 > 1.885391].index)\n",
        "val_scaled_df = val_scaled_df.drop(val_scaled_df[val_scaled_df.FCz_P200 > 1.836464].index)\n",
        "val_scaled_df = val_scaled_df.drop(val_scaled_df[val_scaled_df.Cz_P200 > 1.857180].index)\n",
        "val_scaled_df = val_scaled_df.drop(val_scaled_df[val_scaled_df.FC3_P200 > 1.828843].index)\n",
        "val_scaled_df = val_scaled_df.drop(val_scaled_df[val_scaled_df.FC4_P200 > 1.839651].index)\n",
        "val_scaled_df = val_scaled_df.drop(val_scaled_df[val_scaled_df.C3_P200 > 1.799327].index)\n",
        "val_scaled_df = val_scaled_df.drop(val_scaled_df[val_scaled_df.C4_P200 > 1.783815].index)\n",
        "val_scaled_df = val_scaled_df.drop(val_scaled_df[val_scaled_df.CP3_P200 > 1.795872].index)\n",
        "val_scaled_df = val_scaled_df.drop(val_scaled_df[val_scaled_df.CP4_P200 > 1.818561].index)\n",
        "val_scaled_df = val_scaled_df.drop(val_scaled_df[val_scaled_df.AFz_P200 > 2.142033].index)\n",
        "val_scaled_df = val_scaled_df.drop(val_scaled_df[val_scaled_df.F2_P200 > 1.937779].index)\n",
        "val_scaled_df = val_scaled_df.drop(val_scaled_df[val_scaled_df.F1_P200 > 1.892622].index)\n",
        "val_scaled_df = val_scaled_df.drop(val_scaled_df[val_scaled_df.FC1_P200 > 1.823584].index)"
      ],
      "execution_count": 0,
      "outputs": []
    },
    {
      "cell_type": "code",
      "metadata": {
        "id": "kRCI05DNfNWE",
        "colab_type": "code",
        "colab": {}
      },
      "source": [
        "test_scaled_df = test_scaled_df.drop(test_scaled_df[test_scaled_df.Fz_N100 > 1.748467].index)\n",
        "test_scaled_df = test_scaled_df.drop(test_scaled_df[test_scaled_df.FCz_N100 > 1.689921].index)\n",
        "test_scaled_df = test_scaled_df.drop(test_scaled_df[test_scaled_df.Cz_N100 > 1.668515].index)\n",
        "test_scaled_df = test_scaled_df.drop(test_scaled_df[test_scaled_df.FC3_N100 > 1.729027].index)\n",
        "test_scaled_df = test_scaled_df.drop(test_scaled_df[test_scaled_df.FC4_N100 > 1.733970].index)\n",
        "test_scaled_df = test_scaled_df.drop(test_scaled_df[test_scaled_df.C3_N100 > 1.697883].index)\n",
        "test_scaled_df = test_scaled_df.drop(test_scaled_df[test_scaled_df.C4_N100 > 1.677140].index)\n",
        "test_scaled_df = test_scaled_df.drop(test_scaled_df[test_scaled_df.CP3_N100 > 1.715381].index)\n",
        "test_scaled_df = test_scaled_df.drop(test_scaled_df[test_scaled_df.CP4_N100 > 1.727217].index)\n",
        "test_scaled_df = test_scaled_df.drop(test_scaled_df[test_scaled_df.AFz_N100 > 1.928428].index)\n",
        "test_scaled_df = test_scaled_df.drop(test_scaled_df[test_scaled_df.F2_N100 > 1.807640].index)\n",
        "test_scaled_df = test_scaled_df.drop(test_scaled_df[test_scaled_df.F1_N100 > 1.793929].index)\n",
        "test_scaled_df = test_scaled_df.drop(test_scaled_df[test_scaled_df.FC1_N100 > 1.716060].index)\n",
        "test_scaled_df = test_scaled_df.drop(test_scaled_df[test_scaled_df.Fz_P200 > 1.885391].index)\n",
        "test_scaled_df = test_scaled_df.drop(test_scaled_df[test_scaled_df.FCz_P200 > 1.836464].index)\n",
        "test_scaled_df = test_scaled_df.drop(test_scaled_df[test_scaled_df.Cz_P200 > 1.857180].index)\n",
        "test_scaled_df = test_scaled_df.drop(test_scaled_df[test_scaled_df.FC3_P200 > 1.828843].index)\n",
        "test_scaled_df = test_scaled_df.drop(test_scaled_df[test_scaled_df.FC4_P200 > 1.839651].index)\n",
        "test_scaled_df = test_scaled_df.drop(test_scaled_df[test_scaled_df.C3_P200 > 1.799327].index)\n",
        "test_scaled_df = test_scaled_df.drop(test_scaled_df[test_scaled_df.C4_P200 > 1.783815].index)\n",
        "test_scaled_df = test_scaled_df.drop(test_scaled_df[test_scaled_df.CP3_P200 > 1.795872].index)\n",
        "test_scaled_df = test_scaled_df.drop(test_scaled_df[test_scaled_df.CP4_P200 > 1.818561].index)\n",
        "test_scaled_df = test_scaled_df.drop(test_scaled_df[test_scaled_df.AFz_P200 > 2.142033].index)\n",
        "test_scaled_df = test_scaled_df.drop(test_scaled_df[test_scaled_df.F2_P200 > 1.937779].index)\n",
        "test_scaled_df = test_scaled_df.drop(test_scaled_df[test_scaled_df.F1_P200 > 1.892622].index)\n",
        "test_scaled_df = test_scaled_df.drop(test_scaled_df[test_scaled_df.FC1_P200 > 1.823584].index)"
      ],
      "execution_count": 0,
      "outputs": []
    },
    {
      "cell_type": "code",
      "metadata": {
        "id": "wNMrpRosVABx",
        "colab_type": "code",
        "outputId": "bf048e2b-d031-4bb0-e9e3-b1a6c195d170",
        "colab": {
          "base_uri": "https://localhost:8080/",
          "height": 596
        }
      },
      "source": [
        "train_scaled_df.quantile(q=0.025, interpolation='midpoint')"
      ],
      "execution_count": 0,
      "outputs": [
        {
          "output_type": "execute_result",
          "data": {
            "text/plain": [
              "Fz_N100     -1.738891\n",
              "FCz_N100    -1.705561\n",
              "Cz_N100     -1.711619\n",
              "FC3_N100    -1.716951\n",
              "FC4_N100    -1.726990\n",
              "C3_N100     -1.699823\n",
              "C4_N100     -1.760270\n",
              "CP3_N100    -1.726380\n",
              "CP4_N100    -1.724324\n",
              "AFz_N100    -1.836171\n",
              "F2_N100     -1.776702\n",
              "F1_N100     -1.777223\n",
              "FC1_N100    -1.694940\n",
              "Fz_P200     -1.684487\n",
              "FCz_P200    -1.629823\n",
              "Cz_P200     -1.636451\n",
              "FC3_P200    -1.649932\n",
              "FC4_P200    -1.661502\n",
              "C3_P200     -1.643474\n",
              "C4_P200     -1.638973\n",
              "CP3_P200    -1.640473\n",
              "CP4_P200    -1.683999\n",
              "AFz_P200    -1.758643\n",
              "F2_P200     -1.660906\n",
              "F1_P200     -1.676224\n",
              "FC1_P200    -1.598271\n",
              "group        0.000000\n",
              "subject      2.000000\n",
              "condition    1.000000\n",
              "trial        3.000000\n",
              "Name: 0.025, dtype: float64"
            ]
          },
          "metadata": {
            "tags": []
          },
          "execution_count": 76
        }
      ]
    },
    {
      "cell_type": "code",
      "metadata": {
        "id": "e79Fp076VFcT",
        "colab_type": "code",
        "colab": {}
      },
      "source": [
        "train_scaled_df = train_scaled_df.drop(train_scaled_df[train_scaled_df.Fz_N100 < -1.738891].index)\n",
        "train_scaled_df = train_scaled_df.drop(train_scaled_df[train_scaled_df.FCz_N100 < -1.705561].index)\n",
        "train_scaled_df = train_scaled_df.drop(train_scaled_df[train_scaled_df.Cz_N100 < -1.711619].index)\n",
        "train_scaled_df = train_scaled_df.drop(train_scaled_df[train_scaled_df.FC3_N100 < -1.716951].index)\n",
        "train_scaled_df = train_scaled_df.drop(train_scaled_df[train_scaled_df.FC4_N100 < -1.726990].index)\n",
        "train_scaled_df = train_scaled_df.drop(train_scaled_df[train_scaled_df.C3_N100 < -1.699823].index)\n",
        "train_scaled_df = train_scaled_df.drop(train_scaled_df[train_scaled_df.C4_N100 < -1.760270].index)\n",
        "train_scaled_df = train_scaled_df.drop(train_scaled_df[train_scaled_df.CP3_N100 < -1.726380].index)\n",
        "train_scaled_df = train_scaled_df.drop(train_scaled_df[train_scaled_df.CP4_N100 < -1.724324].index)\n",
        "train_scaled_df = train_scaled_df.drop(train_scaled_df[train_scaled_df.AFz_N100 < -1.836171].index)\n",
        "train_scaled_df = train_scaled_df.drop(train_scaled_df[train_scaled_df.F2_N100 < -1.776702].index)\n",
        "train_scaled_df = train_scaled_df.drop(train_scaled_df[train_scaled_df.F1_N100 < -1.777223].index)\n",
        "train_scaled_df = train_scaled_df.drop(train_scaled_df[train_scaled_df.FC1_N100 < -1.694940].index)\n",
        "train_scaled_df = train_scaled_df.drop(train_scaled_df[train_scaled_df.Fz_P200 < -1.684487].index)\n",
        "train_scaled_df = train_scaled_df.drop(train_scaled_df[train_scaled_df.FCz_P200 < -1.629823].index)\n",
        "train_scaled_df = train_scaled_df.drop(train_scaled_df[train_scaled_df.Cz_P200 < -1.636451].index)\n",
        "train_scaled_df = train_scaled_df.drop(train_scaled_df[train_scaled_df.FC3_P200 < -1.649932].index)\n",
        "train_scaled_df = train_scaled_df.drop(train_scaled_df[train_scaled_df.FC4_P200 < -1.661502].index)\n",
        "train_scaled_df = train_scaled_df.drop(train_scaled_df[train_scaled_df.C3_P200 < -1.643474].index)\n",
        "train_scaled_df = train_scaled_df.drop(train_scaled_df[train_scaled_df.C4_P200 < -1.638973].index)\n",
        "train_scaled_df = train_scaled_df.drop(train_scaled_df[train_scaled_df.CP3_P200 < -1.640473].index)\n",
        "train_scaled_df = train_scaled_df.drop(train_scaled_df[train_scaled_df.CP4_P200 < -1.683999].index)\n",
        "train_scaled_df = train_scaled_df.drop(train_scaled_df[train_scaled_df.AFz_P200 < -1.758643].index)\n",
        "train_scaled_df = train_scaled_df.drop(train_scaled_df[train_scaled_df.F2_P200 < -1.660906].index)\n",
        "train_scaled_df = train_scaled_df.drop(train_scaled_df[train_scaled_df.F1_P200 < -1.676224].index)\n",
        "train_scaled_df = train_scaled_df.drop(train_scaled_df[train_scaled_df.FC1_P200 < -1.598271].index)"
      ],
      "execution_count": 0,
      "outputs": []
    },
    {
      "cell_type": "code",
      "metadata": {
        "id": "UhGg0pCcVMSL",
        "colab_type": "code",
        "colab": {}
      },
      "source": [
        "val_scaled_df = val_scaled_df.drop(val_scaled_df[val_scaled_df.Fz_N100 < -1.738891].index)\n",
        "val_scaled_df = val_scaled_df.drop(val_scaled_df[val_scaled_df.FCz_N100 < -1.705561].index)\n",
        "val_scaled_df = val_scaled_df.drop(val_scaled_df[val_scaled_df.Cz_N100 < -1.711619].index)\n",
        "val_scaled_df = val_scaled_df.drop(val_scaled_df[val_scaled_df.FC3_N100 < -1.716951].index)\n",
        "val_scaled_df = val_scaled_df.drop(val_scaled_df[val_scaled_df.FC4_N100 < -1.726990].index)\n",
        "val_scaled_df = val_scaled_df.drop(val_scaled_df[val_scaled_df.C3_N100 < -1.699823].index)\n",
        "val_scaled_df = val_scaled_df.drop(val_scaled_df[val_scaled_df.C4_N100 < -1.760270].index)\n",
        "val_scaled_df = val_scaled_df.drop(val_scaled_df[val_scaled_df.CP3_N100 < -1.726380].index)\n",
        "val_scaled_df = val_scaled_df.drop(val_scaled_df[val_scaled_df.CP4_N100 < -1.724324].index)\n",
        "val_scaled_df = val_scaled_df.drop(val_scaled_df[val_scaled_df.AFz_N100 < -1.836171].index)\n",
        "val_scaled_df = val_scaled_df.drop(val_scaled_df[val_scaled_df.F2_N100 < -1.776702].index)\n",
        "val_scaled_df = val_scaled_df.drop(val_scaled_df[val_scaled_df.F1_N100 < -1.777223].index)\n",
        "val_scaled_df = val_scaled_df.drop(val_scaled_df[val_scaled_df.FC1_N100 < -1.694940].index)\n",
        "val_scaled_df = val_scaled_df.drop(val_scaled_df[val_scaled_df.Fz_P200 < -1.684487].index)\n",
        "val_scaled_df = val_scaled_df.drop(val_scaled_df[val_scaled_df.FCz_P200 < -1.629823].index)\n",
        "val_scaled_df = val_scaled_df.drop(val_scaled_df[val_scaled_df.Cz_P200 < -1.636451].index)\n",
        "val_scaled_df = val_scaled_df.drop(val_scaled_df[val_scaled_df.FC3_P200 < -1.649932].index)\n",
        "val_scaled_df = val_scaled_df.drop(val_scaled_df[val_scaled_df.FC4_P200 < -1.661502].index)\n",
        "val_scaled_df = val_scaled_df.drop(val_scaled_df[val_scaled_df.C3_P200 < -1.643474].index)\n",
        "val_scaled_df = val_scaled_df.drop(val_scaled_df[val_scaled_df.C4_P200 < -1.638973].index)\n",
        "val_scaled_df = val_scaled_df.drop(val_scaled_df[val_scaled_df.CP3_P200 < -1.640473].index)\n",
        "val_scaled_df = val_scaled_df.drop(val_scaled_df[val_scaled_df.CP4_P200 < -1.683999].index)\n",
        "val_scaled_df = val_scaled_df.drop(val_scaled_df[val_scaled_df.AFz_P200 < -1.758643].index)\n",
        "val_scaled_df = val_scaled_df.drop(val_scaled_df[val_scaled_df.F2_P200 < -1.660906].index)\n",
        "val_scaled_df = val_scaled_df.drop(val_scaled_df[val_scaled_df.F1_P200 < -1.676224].index)\n",
        "val_scaled_df = val_scaled_df.drop(val_scaled_df[val_scaled_df.FC1_P200 < -1.598271].index)"
      ],
      "execution_count": 0,
      "outputs": []
    },
    {
      "cell_type": "code",
      "metadata": {
        "id": "1x3pu_4KfPBO",
        "colab_type": "code",
        "colab": {}
      },
      "source": [
        "test_scaled_df = test_scaled_df.drop(test_scaled_df[test_scaled_df.Fz_N100 < -1.738891].index)\n",
        "test_scaled_df = test_scaled_df.drop(test_scaled_df[test_scaled_df.FCz_N100 < -1.705561].index)\n",
        "test_scaled_df = test_scaled_df.drop(test_scaled_df[test_scaled_df.Cz_N100 < -1.711619].index)\n",
        "test_scaled_df = test_scaled_df.drop(test_scaled_df[test_scaled_df.FC3_N100 < -1.716951].index)\n",
        "test_scaled_df = test_scaled_df.drop(test_scaled_df[test_scaled_df.FC4_N100 < -1.726990].index)\n",
        "test_scaled_df = test_scaled_df.drop(test_scaled_df[test_scaled_df.C3_N100 < -1.699823].index)\n",
        "test_scaled_df = test_scaled_df.drop(test_scaled_df[test_scaled_df.C4_N100 < -1.760270].index)\n",
        "test_scaled_df = test_scaled_df.drop(test_scaled_df[test_scaled_df.CP3_N100 < -1.726380].index)\n",
        "test_scaled_df = test_scaled_df.drop(test_scaled_df[test_scaled_df.CP4_N100 < -1.724324].index)\n",
        "test_scaled_df = test_scaled_df.drop(test_scaled_df[test_scaled_df.AFz_N100 < -1.836171].index)\n",
        "test_scaled_df = test_scaled_df.drop(test_scaled_df[test_scaled_df.F2_N100 < -1.776702].index)\n",
        "test_scaled_df = test_scaled_df.drop(test_scaled_df[test_scaled_df.F1_N100 < -1.777223].index)\n",
        "test_scaled_df = test_scaled_df.drop(test_scaled_df[test_scaled_df.FC1_N100 < -1.694940].index)\n",
        "test_scaled_df = test_scaled_df.drop(test_scaled_df[test_scaled_df.Fz_P200 < -1.684487].index)\n",
        "test_scaled_df = test_scaled_df.drop(test_scaled_df[test_scaled_df.FCz_P200 < -1.629823].index)\n",
        "test_scaled_df = test_scaled_df.drop(test_scaled_df[test_scaled_df.Cz_P200 < -1.636451].index)\n",
        "test_scaled_df = test_scaled_df.drop(test_scaled_df[test_scaled_df.FC3_P200 < -1.649932].index)\n",
        "test_scaled_df = test_scaled_df.drop(test_scaled_df[test_scaled_df.FC4_P200 < -1.661502].index)\n",
        "test_scaled_df = test_scaled_df.drop(test_scaled_df[test_scaled_df.C3_P200 < -1.643474].index)\n",
        "test_scaled_df = test_scaled_df.drop(test_scaled_df[test_scaled_df.C4_P200 < -1.638973].index)\n",
        "test_scaled_df = test_scaled_df.drop(test_scaled_df[test_scaled_df.CP3_P200 < -1.640473].index)\n",
        "test_scaled_df = test_scaled_df.drop(test_scaled_df[test_scaled_df.CP4_P200 < -1.683999].index)\n",
        "test_scaled_df = test_scaled_df.drop(test_scaled_df[test_scaled_df.AFz_P200 < -1.758643].index)\n",
        "test_scaled_df = test_scaled_df.drop(test_scaled_df[test_scaled_df.F2_P200 < -1.660906].index)\n",
        "test_scaled_df = test_scaled_df.drop(test_scaled_df[test_scaled_df.F1_P200 < -1.676224].index)\n",
        "test_scaled_df = test_scaled_df.drop(test_scaled_df[test_scaled_df.FC1_P200 < -1.598271].index)"
      ],
      "execution_count": 0,
      "outputs": []
    },
    {
      "cell_type": "code",
      "metadata": {
        "id": "HLrtYRF5VN2m",
        "colab_type": "code",
        "colab": {}
      },
      "source": [
        "train_scaled_df.to_csv('/content/gdrive/My Drive/eeg/train_mergedTrial.csv',sep=',', na_rep='NaN')\n",
        "val_scaled_df.to_csv('/content/gdrive/My Drive/eeg/val_mergedTrial.csv',sep=',', na_rep='NaN')\n",
        "test_scaled_df.to_csv('/content/gdrive/My Drive/eeg/test_mergedTrial.csv',sep=',', na_rep='NaN')"
      ],
      "execution_count": 0,
      "outputs": []
    },
    {
      "cell_type": "code",
      "metadata": {
        "id": "Nlbbkn5Quo4N",
        "colab_type": "code",
        "colab": {}
      },
      "source": [
        "train_scaling.to_csv('/content/gdrive/My Drive/eeg/train_mergedTrial.csv',sep=',', na_rep='NaN')\n",
        "val_scaling.to_csv('/content/gdrive/My Drive/eeg/val_mergedTrial.csv',sep=',', na_rep='NaN')\n",
        "test_scaling.to_csv('/content/gdrive/My Drive/eeg/test_mergedTrial.csv',sep=',', na_rep='NaN')"
      ],
      "execution_count": 0,
      "outputs": []
    },
    {
      "cell_type": "code",
      "metadata": {
        "id": "smTnaDz0u8ld",
        "colab_type": "code",
        "outputId": "0f8f42d7-82ca-4ca8-fed3-a3c93243d071",
        "colab": {
          "base_uri": "https://localhost:8080/",
          "height": 222
        }
      },
      "source": [
        "train_scaling.head(5)"
      ],
      "execution_count": 0,
      "outputs": [
        {
          "output_type": "execute_result",
          "data": {
            "text/html": [
              "<div>\n",
              "<style scoped>\n",
              "    .dataframe tbody tr th:only-of-type {\n",
              "        vertical-align: middle;\n",
              "    }\n",
              "\n",
              "    .dataframe tbody tr th {\n",
              "        vertical-align: top;\n",
              "    }\n",
              "\n",
              "    .dataframe thead th {\n",
              "        text-align: right;\n",
              "    }\n",
              "</style>\n",
              "<table border=\"1\" class=\"dataframe\">\n",
              "  <thead>\n",
              "    <tr style=\"text-align: right;\">\n",
              "      <th></th>\n",
              "      <th>Fz_N100</th>\n",
              "      <th>FCz_N100</th>\n",
              "      <th>Cz_N100</th>\n",
              "      <th>FC3_N100</th>\n",
              "      <th>FC4_N100</th>\n",
              "      <th>C3_N100</th>\n",
              "      <th>C4_N100</th>\n",
              "      <th>CP3_N100</th>\n",
              "      <th>CP4_N100</th>\n",
              "      <th>AFz_N100</th>\n",
              "      <th>F2_N100</th>\n",
              "      <th>F1_N100</th>\n",
              "      <th>FC1_N100</th>\n",
              "      <th>Fz_P200</th>\n",
              "      <th>FCz_P200</th>\n",
              "      <th>Cz_P200</th>\n",
              "      <th>FC3_P200</th>\n",
              "      <th>FC4_P200</th>\n",
              "      <th>C3_P200</th>\n",
              "      <th>C4_P200</th>\n",
              "      <th>CP3_P200</th>\n",
              "      <th>CP4_P200</th>\n",
              "      <th>AFz_P200</th>\n",
              "      <th>F2_P200</th>\n",
              "      <th>F1_P200</th>\n",
              "      <th>FC1_P200</th>\n",
              "      <th>group</th>\n",
              "      <th>subject</th>\n",
              "      <th>condition</th>\n",
              "      <th>trial</th>\n",
              "    </tr>\n",
              "  </thead>\n",
              "  <tbody>\n",
              "    <tr>\n",
              "      <th>0</th>\n",
              "      <td>-12.985667</td>\n",
              "      <td>-12.362233</td>\n",
              "      <td>-6.131243</td>\n",
              "      <td>-8.811114</td>\n",
              "      <td>-9.646814</td>\n",
              "      <td>-12.180952</td>\n",
              "      <td>-9.683467</td>\n",
              "      <td>-8.037148</td>\n",
              "      <td>-15.539267</td>\n",
              "      <td>-12.236586</td>\n",
              "      <td>-6.620838</td>\n",
              "      <td>-10.318881</td>\n",
              "      <td>-13.945400</td>\n",
              "      <td>-8.132095</td>\n",
              "      <td>-15.819122</td>\n",
              "      <td>-19.312480</td>\n",
              "      <td>-4.593095</td>\n",
              "      <td>-9.237022</td>\n",
              "      <td>-10.979585</td>\n",
              "      <td>-11.375812</td>\n",
              "      <td>-10.878110</td>\n",
              "      <td>-18.166254</td>\n",
              "      <td>-7.783249</td>\n",
              "      <td>-11.009888</td>\n",
              "      <td>-9.824595</td>\n",
              "      <td>-14.207180</td>\n",
              "      <td>1</td>\n",
              "      <td>39</td>\n",
              "      <td>2</td>\n",
              "      <td>64</td>\n",
              "    </tr>\n",
              "    <tr>\n",
              "      <th>1</th>\n",
              "      <td>11.996914</td>\n",
              "      <td>16.329176</td>\n",
              "      <td>13.912481</td>\n",
              "      <td>11.015129</td>\n",
              "      <td>8.948700</td>\n",
              "      <td>8.830076</td>\n",
              "      <td>2.421329</td>\n",
              "      <td>7.685348</td>\n",
              "      <td>15.222252</td>\n",
              "      <td>10.898395</td>\n",
              "      <td>11.546386</td>\n",
              "      <td>9.838271</td>\n",
              "      <td>14.560229</td>\n",
              "      <td>-11.542610</td>\n",
              "      <td>-10.999171</td>\n",
              "      <td>-16.582588</td>\n",
              "      <td>-6.466876</td>\n",
              "      <td>-9.358468</td>\n",
              "      <td>-10.538429</td>\n",
              "      <td>-16.962932</td>\n",
              "      <td>-15.279776</td>\n",
              "      <td>-5.784651</td>\n",
              "      <td>-4.940063</td>\n",
              "      <td>-7.331412</td>\n",
              "      <td>-10.332122</td>\n",
              "      <td>-10.450337</td>\n",
              "      <td>0</td>\n",
              "      <td>61</td>\n",
              "      <td>3</td>\n",
              "      <td>69</td>\n",
              "    </tr>\n",
              "    <tr>\n",
              "      <th>2</th>\n",
              "      <td>-1.363514</td>\n",
              "      <td>1.189838</td>\n",
              "      <td>2.404429</td>\n",
              "      <td>3.929333</td>\n",
              "      <td>4.837171</td>\n",
              "      <td>4.033981</td>\n",
              "      <td>5.518090</td>\n",
              "      <td>0.388024</td>\n",
              "      <td>4.965157</td>\n",
              "      <td>4.275162</td>\n",
              "      <td>5.119871</td>\n",
              "      <td>3.215405</td>\n",
              "      <td>4.957538</td>\n",
              "      <td>-7.237956</td>\n",
              "      <td>-4.467939</td>\n",
              "      <td>-4.065022</td>\n",
              "      <td>-2.854402</td>\n",
              "      <td>-4.094624</td>\n",
              "      <td>-2.906085</td>\n",
              "      <td>-2.609559</td>\n",
              "      <td>-7.025795</td>\n",
              "      <td>-1.325263</td>\n",
              "      <td>-4.320766</td>\n",
              "      <td>-1.745937</td>\n",
              "      <td>-2.724822</td>\n",
              "      <td>-1.913429</td>\n",
              "      <td>1</td>\n",
              "      <td>25</td>\n",
              "      <td>3</td>\n",
              "      <td>27</td>\n",
              "    </tr>\n",
              "    <tr>\n",
              "      <th>3</th>\n",
              "      <td>3.649905</td>\n",
              "      <td>7.091414</td>\n",
              "      <td>9.856014</td>\n",
              "      <td>10.241333</td>\n",
              "      <td>3.015324</td>\n",
              "      <td>11.708790</td>\n",
              "      <td>7.676338</td>\n",
              "      <td>9.167619</td>\n",
              "      <td>9.796410</td>\n",
              "      <td>4.091070</td>\n",
              "      <td>4.795325</td>\n",
              "      <td>4.550119</td>\n",
              "      <td>8.398262</td>\n",
              "      <td>3.890332</td>\n",
              "      <td>3.141061</td>\n",
              "      <td>5.587812</td>\n",
              "      <td>5.569534</td>\n",
              "      <td>-2.053024</td>\n",
              "      <td>-0.961554</td>\n",
              "      <td>6.639832</td>\n",
              "      <td>4.946788</td>\n",
              "      <td>4.964717</td>\n",
              "      <td>1.670088</td>\n",
              "      <td>3.409288</td>\n",
              "      <td>2.173476</td>\n",
              "      <td>4.314239</td>\n",
              "      <td>0</td>\n",
              "      <td>6</td>\n",
              "      <td>3</td>\n",
              "      <td>62</td>\n",
              "    </tr>\n",
              "    <tr>\n",
              "      <th>4</th>\n",
              "      <td>1.408276</td>\n",
              "      <td>8.256195</td>\n",
              "      <td>4.470129</td>\n",
              "      <td>2.339181</td>\n",
              "      <td>2.943938</td>\n",
              "      <td>2.949300</td>\n",
              "      <td>3.025052</td>\n",
              "      <td>4.303433</td>\n",
              "      <td>3.470781</td>\n",
              "      <td>-9.187995</td>\n",
              "      <td>0.989052</td>\n",
              "      <td>2.240938</td>\n",
              "      <td>8.858433</td>\n",
              "      <td>9.323737</td>\n",
              "      <td>16.891068</td>\n",
              "      <td>11.820841</td>\n",
              "      <td>6.242593</td>\n",
              "      <td>10.419715</td>\n",
              "      <td>9.102268</td>\n",
              "      <td>6.927815</td>\n",
              "      <td>11.791295</td>\n",
              "      <td>10.101061</td>\n",
              "      <td>2.855439</td>\n",
              "      <td>8.519332</td>\n",
              "      <td>8.898137</td>\n",
              "      <td>21.384293</td>\n",
              "      <td>0</td>\n",
              "      <td>13</td>\n",
              "      <td>2</td>\n",
              "      <td>4</td>\n",
              "    </tr>\n",
              "  </tbody>\n",
              "</table>\n",
              "</div>"
            ],
            "text/plain": [
              "     Fz_N100   FCz_N100    Cz_N100   FC3_N100  ...  group  subject  condition  trial\n",
              "0 -12.985667 -12.362233  -6.131243  -8.811114  ...      1       39          2     64\n",
              "1  11.996914  16.329176  13.912481  11.015129  ...      0       61          3     69\n",
              "2  -1.363514   1.189838   2.404429   3.929333  ...      1       25          3     27\n",
              "3   3.649905   7.091414   9.856014  10.241333  ...      0        6          3     62\n",
              "4   1.408276   8.256195   4.470129   2.339181  ...      0       13          2      4\n",
              "\n",
              "[5 rows x 30 columns]"
            ]
          },
          "metadata": {
            "tags": []
          },
          "execution_count": 22
        }
      ]
    },
    {
      "cell_type": "code",
      "metadata": {
        "id": "V93yFo60Dzz7",
        "colab_type": "code",
        "colab": {}
      },
      "source": [
        "LABEL_COLUMN = 'group'\n",
        "LABELS = [0, 1]\n",
        "\n",
        "CSV_COLUMNS = ['condition','Fz_N100', 'FCz_N100', 'Cz_N100', 'FC3_N100', 'FC4_N100', 'C3_N100', 'C4_N100', 'CP3_N100', 'CP4_N100', 'AFz_N100', 'F2_N100', 'F1_N100', 'FC1_N100', 'Fz_P200', 'FCz_P200',\n",
        "       'Cz_P200', 'FC3_P200', 'FC4_P200', 'C3_P200', 'C4_P200', 'CP3_P200',\n",
        "       'CP4_P200', 'AFz_P200', 'F2_P200', 'F1_P200', 'FC1_P200', 'group']\n",
        "\n",
        "def get_dataset(file_path, **kwargs):\n",
        "  dataset = tf.data.experimental.make_csv_dataset(\n",
        "      file_path,\n",
        "      batch_size=64, \n",
        "      label_name=LABEL_COLUMN,\n",
        "      na_value=\"?\",\n",
        "      num_epochs=1,\n",
        "      ignore_errors=True, \n",
        "      **kwargs)\n",
        "  return dataset\n",
        "\n",
        "val_dataset = get_dataset('val_mergedTrial_origin.csv', select_columns=CSV_COLUMNS)\n",
        "test_dataset = get_dataset('test_mergedTrial_origin.csv', select_columns=CSV_COLUMNS)"
      ],
      "execution_count": 0,
      "outputs": []
    },
    {
      "cell_type": "code",
      "metadata": {
        "id": "dKuKi100HvCb",
        "colab_type": "code",
        "colab": {}
      },
      "source": [
        "LABEL_COLUMN = 'group'\n",
        "LABELS = [0, 1]\n",
        "\n",
        "CSV_COLUMNS = ['condition','Fz_N100', 'FCz_N100', 'Cz_N100', 'FC3_N100', 'FC4_N100', 'C3_N100', 'C4_N100', 'CP3_N100', 'CP4_N100', 'AFz_N100', 'F2_N100', 'F1_N100', 'FC1_N100', 'Fz_P200', 'FCz_P200',\n",
        "       'Cz_P200', 'FC3_P200', 'FC4_P200', 'C3_P200', 'C4_P200', 'CP3_P200',\n",
        "       'CP4_P200', 'AFz_P200', 'F2_P200', 'F1_P200', 'FC1_P200', 'group']\n",
        "\n",
        "def get_dataset(file_path, **kwargs):\n",
        "  dataset = tf.data.experimental.make_csv_dataset(\n",
        "      file_path,\n",
        "      batch_size=64, \n",
        "      label_name=LABEL_COLUMN,\n",
        "      na_value=\"?\",\n",
        "      num_epochs=1,\n",
        "      ignore_errors=True, \n",
        "      **kwargs)\n",
        "  return dataset\n",
        "\n",
        "train_dataset = get_dataset('train_mergedTrial_origin.csv', select_columns=CSV_COLUMNS)"
      ],
      "execution_count": 0,
      "outputs": []
    },
    {
      "cell_type": "code",
      "metadata": {
        "id": "Gc3BUFMAH_L9",
        "colab_type": "code",
        "colab": {}
      },
      "source": [
        "class PackNumericFeatures(object):\n",
        "  def __init__(self, names):\n",
        "    self.names = names\n",
        "\n",
        "  def __call__(self, features, labels):\n",
        "    numeric_features = [features.pop(name) for name in self.names]\n",
        "    numeric_features = [tf.cast(feat, tf.float32) for feat in numeric_features]\n",
        "    numeric_features = tf.stack(numeric_features, axis=-1)\n",
        "    features['numeric'] = numeric_features\n",
        "\n",
        "    return features, labels"
      ],
      "execution_count": 0,
      "outputs": []
    },
    {
      "cell_type": "code",
      "metadata": {
        "id": "kT9cE2qMIHfJ",
        "colab_type": "code",
        "colab": {}
      },
      "source": [
        "NUMERIC_FEATURES = ['Fz_N100', 'FCz_N100', 'Cz_N100', 'FC3_N100', 'FC4_N100', 'C3_N100', 'C4_N100', 'CP3_N100', 'CP4_N100', 'AFz_N100', 'F2_N100', 'F1_N100', 'FC1_N100', 'Fz_P200', 'FCz_P200',\n",
        "       'Cz_P200', 'FC3_P200', 'FC4_P200', 'C3_P200', 'C4_P200', 'CP3_P200',\n",
        "       'CP4_P200', 'AFz_P200', 'F2_P200', 'F1_P200', 'FC1_P200']\n",
        "\n",
        "train_data = train_dataset.map(\n",
        "    PackNumericFeatures(NUMERIC_FEATURES))\n",
        "val_data = val_dataset.map(\n",
        "    PackNumericFeatures(NUMERIC_FEATURES))\n",
        "test_data = test_dataset.map(\n",
        "    PackNumericFeatures(NUMERIC_FEATURES))"
      ],
      "execution_count": 0,
      "outputs": []
    },
    {
      "cell_type": "code",
      "metadata": {
        "id": "LqFEcbFJIKST",
        "colab_type": "code",
        "outputId": "7363aa28-fdbd-42d2-a4fa-4a96543a3548",
        "colab": {
          "base_uri": "https://localhost:8080/",
          "height": 314
        }
      },
      "source": [
        "import pandas as pd\n",
        "desc = pd.read_csv('train_mergedTrial_origin.csv')[NUMERIC_FEATURES].describe()\n",
        "desc"
      ],
      "execution_count": 0,
      "outputs": [
        {
          "output_type": "execute_result",
          "data": {
            "text/html": [
              "<div>\n",
              "<style scoped>\n",
              "    .dataframe tbody tr th:only-of-type {\n",
              "        vertical-align: middle;\n",
              "    }\n",
              "\n",
              "    .dataframe tbody tr th {\n",
              "        vertical-align: top;\n",
              "    }\n",
              "\n",
              "    .dataframe thead th {\n",
              "        text-align: right;\n",
              "    }\n",
              "</style>\n",
              "<table border=\"1\" class=\"dataframe\">\n",
              "  <thead>\n",
              "    <tr style=\"text-align: right;\">\n",
              "      <th></th>\n",
              "      <th>Fz_N100</th>\n",
              "      <th>FCz_N100</th>\n",
              "      <th>Cz_N100</th>\n",
              "      <th>FC3_N100</th>\n",
              "      <th>FC4_N100</th>\n",
              "      <th>C3_N100</th>\n",
              "      <th>C4_N100</th>\n",
              "      <th>CP3_N100</th>\n",
              "      <th>CP4_N100</th>\n",
              "      <th>AFz_N100</th>\n",
              "      <th>F2_N100</th>\n",
              "      <th>F1_N100</th>\n",
              "      <th>FC1_N100</th>\n",
              "      <th>Fz_P200</th>\n",
              "      <th>FCz_P200</th>\n",
              "      <th>Cz_P200</th>\n",
              "      <th>FC3_P200</th>\n",
              "      <th>FC4_P200</th>\n",
              "      <th>C3_P200</th>\n",
              "      <th>C4_P200</th>\n",
              "      <th>CP3_P200</th>\n",
              "      <th>CP4_P200</th>\n",
              "      <th>AFz_P200</th>\n",
              "      <th>F2_P200</th>\n",
              "      <th>F1_P200</th>\n",
              "      <th>FC1_P200</th>\n",
              "    </tr>\n",
              "  </thead>\n",
              "  <tbody>\n",
              "    <tr>\n",
              "      <th>count</th>\n",
              "      <td>16703.000000</td>\n",
              "      <td>16703.000000</td>\n",
              "      <td>16703.000000</td>\n",
              "      <td>16703.000000</td>\n",
              "      <td>16703.000000</td>\n",
              "      <td>16703.000000</td>\n",
              "      <td>16703.000000</td>\n",
              "      <td>16703.000000</td>\n",
              "      <td>16703.000000</td>\n",
              "      <td>16703.000000</td>\n",
              "      <td>16703.000000</td>\n",
              "      <td>16703.000000</td>\n",
              "      <td>16703.000000</td>\n",
              "      <td>16703.000000</td>\n",
              "      <td>16703.000000</td>\n",
              "      <td>16703.000000</td>\n",
              "      <td>16703.000000</td>\n",
              "      <td>16703.000000</td>\n",
              "      <td>16703.000000</td>\n",
              "      <td>16703.000000</td>\n",
              "      <td>16703.000000</td>\n",
              "      <td>16703.000000</td>\n",
              "      <td>16703.000000</td>\n",
              "      <td>16703.000000</td>\n",
              "      <td>16703.000000</td>\n",
              "      <td>16703.000000</td>\n",
              "    </tr>\n",
              "    <tr>\n",
              "      <th>mean</th>\n",
              "      <td>-2.525303</td>\n",
              "      <td>-2.613579</td>\n",
              "      <td>-2.106671</td>\n",
              "      <td>-1.969703</td>\n",
              "      <td>-2.256795</td>\n",
              "      <td>-1.415205</td>\n",
              "      <td>-1.959013</td>\n",
              "      <td>-1.068262</td>\n",
              "      <td>-1.491707</td>\n",
              "      <td>-1.986999</td>\n",
              "      <td>-2.447728</td>\n",
              "      <td>-2.397629</td>\n",
              "      <td>-2.333060</td>\n",
              "      <td>3.001726</td>\n",
              "      <td>3.632817</td>\n",
              "      <td>3.771687</td>\n",
              "      <td>3.258306</td>\n",
              "      <td>2.750630</td>\n",
              "      <td>3.499993</td>\n",
              "      <td>2.626981</td>\n",
              "      <td>2.777602</td>\n",
              "      <td>2.157644</td>\n",
              "      <td>2.543955</td>\n",
              "      <td>2.867722</td>\n",
              "      <td>3.031043</td>\n",
              "      <td>3.656094</td>\n",
              "    </tr>\n",
              "    <tr>\n",
              "      <th>std</th>\n",
              "      <td>11.316723</td>\n",
              "      <td>11.316389</td>\n",
              "      <td>11.158228</td>\n",
              "      <td>10.205253</td>\n",
              "      <td>10.312596</td>\n",
              "      <td>9.878243</td>\n",
              "      <td>9.887129</td>\n",
              "      <td>10.155149</td>\n",
              "      <td>10.341387</td>\n",
              "      <td>11.543443</td>\n",
              "      <td>11.066701</td>\n",
              "      <td>11.125565</td>\n",
              "      <td>10.957449</td>\n",
              "      <td>12.132685</td>\n",
              "      <td>11.768891</td>\n",
              "      <td>11.345529</td>\n",
              "      <td>10.827920</td>\n",
              "      <td>10.879530</td>\n",
              "      <td>10.155369</td>\n",
              "      <td>10.089978</td>\n",
              "      <td>10.231071</td>\n",
              "      <td>10.466832</td>\n",
              "      <td>13.033812</td>\n",
              "      <td>11.885192</td>\n",
              "      <td>11.836380</td>\n",
              "      <td>11.489501</td>\n",
              "    </tr>\n",
              "    <tr>\n",
              "      <th>min</th>\n",
              "      <td>-197.817248</td>\n",
              "      <td>-179.469433</td>\n",
              "      <td>-141.061514</td>\n",
              "      <td>-164.167086</td>\n",
              "      <td>-161.387852</td>\n",
              "      <td>-142.934395</td>\n",
              "      <td>-151.778157</td>\n",
              "      <td>-120.872019</td>\n",
              "      <td>-123.835667</td>\n",
              "      <td>-221.538662</td>\n",
              "      <td>-199.884805</td>\n",
              "      <td>-214.030395</td>\n",
              "      <td>-161.738105</td>\n",
              "      <td>-181.483458</td>\n",
              "      <td>-158.785858</td>\n",
              "      <td>-124.502324</td>\n",
              "      <td>-151.238885</td>\n",
              "      <td>-156.919273</td>\n",
              "      <td>-124.371871</td>\n",
              "      <td>-146.196817</td>\n",
              "      <td>-94.882810</td>\n",
              "      <td>-114.739890</td>\n",
              "      <td>-207.949871</td>\n",
              "      <td>-191.191851</td>\n",
              "      <td>-201.414898</td>\n",
              "      <td>-146.560273</td>\n",
              "    </tr>\n",
              "    <tr>\n",
              "      <th>25%</th>\n",
              "      <td>-8.714983</td>\n",
              "      <td>-9.174995</td>\n",
              "      <td>-8.556895</td>\n",
              "      <td>-7.567340</td>\n",
              "      <td>-8.026810</td>\n",
              "      <td>-6.988671</td>\n",
              "      <td>-7.622131</td>\n",
              "      <td>-6.786531</td>\n",
              "      <td>-7.418976</td>\n",
              "      <td>-7.660967</td>\n",
              "      <td>-8.427350</td>\n",
              "      <td>-8.329243</td>\n",
              "      <td>-8.539788</td>\n",
              "      <td>-3.658822</td>\n",
              "      <td>-3.254124</td>\n",
              "      <td>-2.891545</td>\n",
              "      <td>-2.854294</td>\n",
              "      <td>-3.308950</td>\n",
              "      <td>-2.384450</td>\n",
              "      <td>-3.378813</td>\n",
              "      <td>-3.209355</td>\n",
              "      <td>-3.936087</td>\n",
              "      <td>-3.710676</td>\n",
              "      <td>-3.631148</td>\n",
              "      <td>-3.417643</td>\n",
              "      <td>-3.020706</td>\n",
              "    </tr>\n",
              "    <tr>\n",
              "      <th>50%</th>\n",
              "      <td>-2.507638</td>\n",
              "      <td>-2.553557</td>\n",
              "      <td>-1.967333</td>\n",
              "      <td>-1.975781</td>\n",
              "      <td>-2.301910</td>\n",
              "      <td>-1.386414</td>\n",
              "      <td>-1.991419</td>\n",
              "      <td>-1.077657</td>\n",
              "      <td>-1.543686</td>\n",
              "      <td>-2.135748</td>\n",
              "      <td>-2.450519</td>\n",
              "      <td>-2.355814</td>\n",
              "      <td>-2.308943</td>\n",
              "      <td>2.530227</td>\n",
              "      <td>3.204756</td>\n",
              "      <td>3.360534</td>\n",
              "      <td>2.918917</td>\n",
              "      <td>2.345927</td>\n",
              "      <td>3.127544</td>\n",
              "      <td>2.412195</td>\n",
              "      <td>2.527939</td>\n",
              "      <td>1.972390</td>\n",
              "      <td>1.855363</td>\n",
              "      <td>2.376432</td>\n",
              "      <td>2.636015</td>\n",
              "      <td>3.260310</td>\n",
              "    </tr>\n",
              "    <tr>\n",
              "      <th>75%</th>\n",
              "      <td>3.481448</td>\n",
              "      <td>3.806250</td>\n",
              "      <td>4.463257</td>\n",
              "      <td>3.725079</td>\n",
              "      <td>3.406176</td>\n",
              "      <td>4.164333</td>\n",
              "      <td>3.625362</td>\n",
              "      <td>4.730669</td>\n",
              "      <td>4.344412</td>\n",
              "      <td>3.258595</td>\n",
              "      <td>3.384710</td>\n",
              "      <td>3.392669</td>\n",
              "      <td>3.803005</td>\n",
              "      <td>9.087441</td>\n",
              "      <td>10.128899</td>\n",
              "      <td>10.180066</td>\n",
              "      <td>8.926022</td>\n",
              "      <td>8.422624</td>\n",
              "      <td>9.100570</td>\n",
              "      <td>8.223409</td>\n",
              "      <td>8.473971</td>\n",
              "      <td>7.840426</td>\n",
              "      <td>7.871380</td>\n",
              "      <td>8.690945</td>\n",
              "      <td>8.932676</td>\n",
              "      <td>9.776309</td>\n",
              "    </tr>\n",
              "    <tr>\n",
              "      <th>max</th>\n",
              "      <td>221.755286</td>\n",
              "      <td>135.361219</td>\n",
              "      <td>104.134148</td>\n",
              "      <td>153.502805</td>\n",
              "      <td>201.487352</td>\n",
              "      <td>117.279348</td>\n",
              "      <td>124.829686</td>\n",
              "      <td>107.736352</td>\n",
              "      <td>105.240986</td>\n",
              "      <td>274.773381</td>\n",
              "      <td>191.741029</td>\n",
              "      <td>186.626962</td>\n",
              "      <td>138.573795</td>\n",
              "      <td>183.514119</td>\n",
              "      <td>109.671180</td>\n",
              "      <td>83.261293</td>\n",
              "      <td>143.738149</td>\n",
              "      <td>199.270702</td>\n",
              "      <td>108.261824</td>\n",
              "      <td>91.020702</td>\n",
              "      <td>97.518366</td>\n",
              "      <td>107.263620</td>\n",
              "      <td>230.602858</td>\n",
              "      <td>155.303346</td>\n",
              "      <td>167.900780</td>\n",
              "      <td>187.208756</td>\n",
              "    </tr>\n",
              "  </tbody>\n",
              "</table>\n",
              "</div>"
            ],
            "text/plain": [
              "            Fz_N100      FCz_N100  ...       F1_P200      FC1_P200\n",
              "count  16703.000000  16703.000000  ...  16703.000000  16703.000000\n",
              "mean      -2.525303     -2.613579  ...      3.031043      3.656094\n",
              "std       11.316723     11.316389  ...     11.836380     11.489501\n",
              "min     -197.817248   -179.469433  ...   -201.414898   -146.560273\n",
              "25%       -8.714983     -9.174995  ...     -3.417643     -3.020706\n",
              "50%       -2.507638     -2.553557  ...      2.636015      3.260310\n",
              "75%        3.481448      3.806250  ...      8.932676      9.776309\n",
              "max      221.755286    135.361219  ...    167.900780    187.208756\n",
              "\n",
              "[8 rows x 26 columns]"
            ]
          },
          "metadata": {
            "tags": []
          },
          "execution_count": 17
        }
      ]
    },
    {
      "cell_type": "code",
      "metadata": {
        "id": "Yd7CWx4DIU0I",
        "colab_type": "code",
        "colab": {}
      },
      "source": [
        "MEAN = np.array(desc.T['mean'])\n",
        "STD = np.array(desc.T['std'])"
      ],
      "execution_count": 0,
      "outputs": []
    },
    {
      "cell_type": "code",
      "metadata": {
        "id": "1UDsomSZIXSJ",
        "colab_type": "code",
        "colab": {}
      },
      "source": [
        "def normalize_numeric_data(data, mean, std):\n",
        "  # Center the data\n",
        "  return (data-mean)/std"
      ],
      "execution_count": 0,
      "outputs": []
    },
    {
      "cell_type": "code",
      "metadata": {
        "id": "ZVe4vzncIZdp",
        "colab_type": "code",
        "outputId": "f17e2d11-1870-449d-e055-ee490fd68980",
        "colab": {
          "base_uri": "https://localhost:8080/",
          "height": 243
        }
      },
      "source": [
        "normalizer = functools.partial(normalize_numeric_data, mean=MEAN, std=STD)\n",
        "\n",
        "numeric_column = tf.feature_column.numeric_column('numeric', normalizer_fn=normalizer, shape=[len(NUMERIC_FEATURES)])\n",
        "numeric_columns = [numeric_column]\n",
        "numeric_column"
      ],
      "execution_count": 0,
      "outputs": [
        {
          "output_type": "execute_result",
          "data": {
            "text/plain": [
              "NumericColumn(key='numeric', shape=(26,), default_value=None, dtype=tf.float32, normalizer_fn=functools.partial(<function normalize_numeric_data at 0x7fe6294ece18>, mean=array([-2.5253031 , -2.61357892, -2.10667134, -1.96970271, -2.25679524,\n",
              "       -1.41520538, -1.95901312, -1.06826222, -1.49170741, -1.9869987 ,\n",
              "       -2.44772791, -2.39762899, -2.33306008,  3.00172582,  3.63281711,\n",
              "        3.77168664,  3.25830623,  2.7506302 ,  3.49999284,  2.62698068,\n",
              "        2.77760212,  2.15764393,  2.54395513,  2.86772165,  3.03104261,\n",
              "        3.65609372]), std=array([11.31672326, 11.3163893 , 11.15822782, 10.2052526 , 10.31259615,\n",
              "        9.8782431 ,  9.88712944, 10.15514879, 10.3413868 , 11.54344286,\n",
              "       11.0667008 , 11.12556519, 10.95744897, 12.13268497, 11.7688906 ,\n",
              "       11.3455292 , 10.82792017, 10.87953041, 10.15536926, 10.08997828,\n",
              "       10.23107057, 10.46683194, 13.03381188, 11.88519246, 11.83638004,\n",
              "       11.48950104])))"
            ]
          },
          "metadata": {
            "tags": []
          },
          "execution_count": 20
        }
      ]
    },
    {
      "cell_type": "code",
      "metadata": {
        "id": "Sd-WCNa5IbZz",
        "colab_type": "code",
        "outputId": "0863c933-8a5e-4943-be1e-709b7056c2cb",
        "colab": {
          "base_uri": "https://localhost:8080/",
          "height": 279
        }
      },
      "source": [
        "example_batch, labels_batch = next(iter(train_data)) \n",
        "example_batch['numeric']"
      ],
      "execution_count": 0,
      "outputs": [
        {
          "output_type": "execute_result",
          "data": {
            "text/plain": [
              "<tf.Tensor: id=1724, shape=(64, 26), dtype=float32, numpy=\n",
              "array([[ -3.6718476,  -5.5042715, -11.114681 , ..., -19.527609 ,\n",
              "        -22.73045  , -11.268454 ],\n",
              "       [ -9.9253   ,  -5.380838 ,   4.602757 , ..., -16.734821 ,\n",
              "        -11.279758 , -15.3401785],\n",
              "       [ -6.0515285,  -8.885433 , -11.299705 , ...,  -5.491929 ,\n",
              "         -2.3349829,  -2.8745878],\n",
              "       ...,\n",
              "       [ -2.4313953,  -6.6754427,  -1.4968572, ...,  13.16892  ,\n",
              "         18.357954 ,  14.649198 ],\n",
              "       [-12.472881 , -13.6479   , -13.047628 , ...,  -7.2997537,\n",
              "         -8.066141 ,  -7.4770827],\n",
              "       [  3.6309762,   4.7091284,   4.9892907, ...,   7.79469  ,\n",
              "          8.684188 ,  10.971015 ]], dtype=float32)>"
            ]
          },
          "metadata": {
            "tags": []
          },
          "execution_count": 21
        }
      ]
    },
    {
      "cell_type": "code",
      "metadata": {
        "id": "ehFjGVLiId3u",
        "colab_type": "code",
        "colab": {}
      },
      "source": [
        "numeric_layer = tf.keras.layers.DenseFeatures(numeric_columns)"
      ],
      "execution_count": 0,
      "outputs": []
    },
    {
      "cell_type": "code",
      "metadata": {
        "id": "AzV-jmyypRGd",
        "colab_type": "code",
        "colab": {}
      },
      "source": [
        "CATEGORIES = {'condition': [1,2,3]}"
      ],
      "execution_count": 0,
      "outputs": []
    },
    {
      "cell_type": "code",
      "metadata": {
        "id": "G0u6aDWlpcLe",
        "colab_type": "code",
        "colab": {}
      },
      "source": [
        "categorical_columns = []\n",
        "for feature, vocab in CATEGORIES.items():\n",
        "  cat_col = tf.feature_column.categorical_column_with_vocabulary_list(\n",
        "        key=feature, vocabulary_list=vocab)\n",
        "  categorical_columns.append(tf.feature_column.indicator_column(cat_col))"
      ],
      "execution_count": 0,
      "outputs": []
    },
    {
      "cell_type": "code",
      "metadata": {
        "id": "jd06TAdwpgfK",
        "colab_type": "code",
        "colab": {}
      },
      "source": [
        "categorical_layer = tf.keras.layers.DenseFeatures(categorical_columns)"
      ],
      "execution_count": 0,
      "outputs": []
    },
    {
      "cell_type": "code",
      "metadata": {
        "id": "4AAwCLseImD5",
        "colab_type": "code",
        "colab": {}
      },
      "source": [
        "preprocessing_layer = tf.keras.layers.DenseFeatures(categorical_columns+numeric_columns)"
      ],
      "execution_count": 0,
      "outputs": []
    },
    {
      "cell_type": "code",
      "metadata": {
        "id": "N5IKD6TuInt_",
        "colab_type": "code",
        "colab": {}
      },
      "source": [
        "model = tf.keras.Sequential([\n",
        "  preprocessing_layer,\n",
        "  tf.keras.layers.Dense(256, activation='relu'),\n",
        "  tf.keras.layers.Dense(256, activation='relu'),\n",
        "  tf.keras.layers.Dense(256, activation='relu'),\n",
        "  tf.keras.layers.Dense(256, activation='relu'),\n",
        "  tf.keras.layers.Dense(1, activation='sigmoid'),\n",
        "])\n",
        "\n",
        "model.compile(\n",
        "    loss='binary_crossentropy',\n",
        "    optimizer='adam',\n",
        "    metrics=['accuracy'])"
      ],
      "execution_count": 0,
      "outputs": []
    },
    {
      "cell_type": "code",
      "metadata": {
        "id": "IgqrIGq-IpvJ",
        "colab_type": "code",
        "outputId": "fbc7cda9-9a77-46bf-bc86-3b9b5fa0ee5b",
        "colab": {
          "base_uri": "https://localhost:8080/",
          "height": 36
        }
      },
      "source": [
        "checkpoint_path = \"model1/cp.ckpt\"\n",
        "checkpoint_dir = os.path.dirname(checkpoint_path)\n",
        "\n",
        "# 체크포인트 콜백 만들기\n",
        "cp_callback = tf.keras.callbacks.ModelCheckpoint(\n",
        "    checkpoint_path, verbose=1, save_weights_only=True,\n",
        "\n",
        "    period=50)"
      ],
      "execution_count": 0,
      "outputs": [
        {
          "output_type": "stream",
          "text": [
            "WARNING:tensorflow:`period` argument is deprecated. Please use `save_freq` to specify the frequency in number of samples seen.\n"
          ],
          "name": "stdout"
        }
      ]
    },
    {
      "cell_type": "code",
      "metadata": {
        "id": "yeNvo54aIsAk",
        "colab_type": "code",
        "outputId": "09a4897b-527c-4a7f-b23f-7cca5bcc6b83",
        "colab": {
          "base_uri": "https://localhost:8080/",
          "height": 1000
        }
      },
      "source": [
        "model.fit(train_data, epochs=100, callbacks = [cp_callback], validation_data=val_data)"
      ],
      "execution_count": 0,
      "outputs": [
        {
          "output_type": "stream",
          "text": [
            "Epoch 1/100\n",
            "261/261 [==============================] - 5s 18ms/step - loss: 0.6654 - acc: 0.6055 - val_loss: 0.0000e+00 - val_acc: 0.0000e+00\n",
            "Epoch 2/100\n",
            "261/261 [==============================] - 3s 10ms/step - loss: 0.6546 - acc: 0.6119 - val_loss: 0.6659 - val_acc: 0.5870\n",
            "Epoch 3/100\n",
            "261/261 [==============================] - 3s 10ms/step - loss: 0.6473 - acc: 0.6188 - val_loss: 0.6596 - val_acc: 0.5934\n",
            "Epoch 4/100\n",
            "261/261 [==============================] - 3s 10ms/step - loss: 0.6395 - acc: 0.6289 - val_loss: 0.6591 - val_acc: 0.6004\n",
            "Epoch 5/100\n",
            "261/261 [==============================] - 3s 10ms/step - loss: 0.6308 - acc: 0.6366 - val_loss: 0.6589 - val_acc: 0.5945\n",
            "Epoch 6/100\n",
            "261/261 [==============================] - 3s 10ms/step - loss: 0.6214 - acc: 0.6462 - val_loss: 0.6630 - val_acc: 0.5875\n",
            "Epoch 7/100\n",
            "261/261 [==============================] - 3s 10ms/step - loss: 0.6110 - acc: 0.6564 - val_loss: 0.6699 - val_acc: 0.5864\n",
            "Epoch 8/100\n",
            "261/261 [==============================] - 3s 10ms/step - loss: 0.5989 - acc: 0.6659 - val_loss: 0.6777 - val_acc: 0.5886\n",
            "Epoch 9/100\n",
            "261/261 [==============================] - 3s 11ms/step - loss: 0.5853 - acc: 0.6792 - val_loss: 0.6905 - val_acc: 0.5864\n",
            "Epoch 10/100\n",
            "261/261 [==============================] - 3s 10ms/step - loss: 0.5678 - acc: 0.6920 - val_loss: 0.6965 - val_acc: 0.5977\n",
            "Epoch 11/100\n",
            "261/261 [==============================] - 3s 10ms/step - loss: 0.5479 - acc: 0.7084 - val_loss: 0.7114 - val_acc: 0.5854\n",
            "Epoch 12/100\n",
            "261/261 [==============================] - 3s 10ms/step - loss: 0.5306 - acc: 0.7183 - val_loss: 0.7625 - val_acc: 0.5870\n",
            "Epoch 13/100\n",
            "261/261 [==============================] - 3s 10ms/step - loss: 0.5044 - acc: 0.7319 - val_loss: 0.7647 - val_acc: 0.5778\n",
            "Epoch 14/100\n",
            "261/261 [==============================] - 3s 10ms/step - loss: 0.4768 - acc: 0.7514 - val_loss: 0.8054 - val_acc: 0.5681\n",
            "Epoch 15/100\n",
            "261/261 [==============================] - 3s 10ms/step - loss: 0.4620 - acc: 0.7608 - val_loss: 0.8702 - val_acc: 0.5687\n",
            "Epoch 16/100\n",
            "261/261 [==============================] - 3s 10ms/step - loss: 0.4438 - acc: 0.7686 - val_loss: 0.9153 - val_acc: 0.5670\n",
            "Epoch 17/100\n",
            "261/261 [==============================] - 3s 10ms/step - loss: 0.4160 - acc: 0.7853 - val_loss: 1.0032 - val_acc: 0.5563\n",
            "Epoch 18/100\n",
            "261/261 [==============================] - 3s 10ms/step - loss: 0.4068 - acc: 0.7943 - val_loss: 1.0993 - val_acc: 0.5708\n",
            "Epoch 19/100\n",
            "261/261 [==============================] - 3s 10ms/step - loss: 0.3815 - acc: 0.8114 - val_loss: 1.1622 - val_acc: 0.5870\n",
            "Epoch 20/100\n",
            "261/261 [==============================] - 2s 9ms/step - loss: 0.3639 - acc: 0.8211 - val_loss: 1.3855 - val_acc: 0.5907\n",
            "Epoch 21/100\n",
            "261/261 [==============================] - 3s 10ms/step - loss: 0.3571 - acc: 0.8272 - val_loss: 1.3315 - val_acc: 0.5800\n",
            "Epoch 22/100\n",
            "261/261 [==============================] - 3s 10ms/step - loss: 0.3337 - acc: 0.8421 - val_loss: 1.3916 - val_acc: 0.5784\n",
            "Epoch 23/100\n",
            "261/261 [==============================] - 3s 10ms/step - loss: 0.3056 - acc: 0.8558 - val_loss: 1.5272 - val_acc: 0.5886\n",
            "Epoch 24/100\n",
            "261/261 [==============================] - 3s 10ms/step - loss: 0.2998 - acc: 0.8599 - val_loss: 1.4631 - val_acc: 0.5945\n",
            "Epoch 25/100\n",
            "261/261 [==============================] - 3s 10ms/step - loss: 0.2741 - acc: 0.8734 - val_loss: 1.6100 - val_acc: 0.5859\n",
            "Epoch 26/100\n",
            "261/261 [==============================] - 3s 10ms/step - loss: 0.2600 - acc: 0.8785 - val_loss: 1.7061 - val_acc: 0.5859\n",
            "Epoch 27/100\n",
            "261/261 [==============================] - 3s 10ms/step - loss: 0.2588 - acc: 0.8816 - val_loss: 1.6299 - val_acc: 0.5864\n",
            "Epoch 28/100\n",
            "261/261 [==============================] - 3s 10ms/step - loss: 0.2372 - acc: 0.8916 - val_loss: 1.7027 - val_acc: 0.5843\n",
            "Epoch 29/100\n",
            "261/261 [==============================] - 3s 10ms/step - loss: 0.2381 - acc: 0.8926 - val_loss: 1.8370 - val_acc: 0.5816\n",
            "Epoch 30/100\n",
            "261/261 [==============================] - 3s 10ms/step - loss: 0.2433 - acc: 0.8936 - val_loss: 1.9012 - val_acc: 0.5816\n",
            "Epoch 31/100\n",
            "261/261 [==============================] - 3s 10ms/step - loss: 0.2039 - acc: 0.9106 - val_loss: 2.0407 - val_acc: 0.5897\n",
            "Epoch 32/100\n",
            "261/261 [==============================] - 3s 10ms/step - loss: 0.1978 - acc: 0.9152 - val_loss: 2.2083 - val_acc: 0.5692\n",
            "Epoch 33/100\n",
            "261/261 [==============================] - 3s 10ms/step - loss: 0.1795 - acc: 0.9240 - val_loss: 2.1789 - val_acc: 0.5740\n",
            "Epoch 34/100\n",
            "261/261 [==============================] - 2s 9ms/step - loss: 0.1817 - acc: 0.9253 - val_loss: 2.3569 - val_acc: 0.5848\n",
            "Epoch 35/100\n",
            "261/261 [==============================] - 3s 10ms/step - loss: 0.1808 - acc: 0.9244 - val_loss: 2.1740 - val_acc: 0.6015\n",
            "Epoch 36/100\n",
            "261/261 [==============================] - 3s 10ms/step - loss: 0.1648 - acc: 0.9326 - val_loss: 2.5231 - val_acc: 0.6058\n",
            "Epoch 37/100\n",
            "261/261 [==============================] - 3s 10ms/step - loss: 0.1627 - acc: 0.9317 - val_loss: 2.5622 - val_acc: 0.5977\n",
            "Epoch 38/100\n",
            "261/261 [==============================] - 3s 10ms/step - loss: 0.1521 - acc: 0.9397 - val_loss: 2.6500 - val_acc: 0.5967\n",
            "Epoch 39/100\n",
            "261/261 [==============================] - 3s 10ms/step - loss: 0.1572 - acc: 0.9353 - val_loss: 2.6620 - val_acc: 0.5934\n",
            "Epoch 40/100\n",
            "261/261 [==============================] - 2s 9ms/step - loss: 0.1420 - acc: 0.9423 - val_loss: 2.6348 - val_acc: 0.5875\n",
            "Epoch 41/100\n",
            "261/261 [==============================] - 3s 10ms/step - loss: 0.1303 - acc: 0.9477 - val_loss: 2.8832 - val_acc: 0.5924\n",
            "Epoch 42/100\n",
            "261/261 [==============================] - 3s 10ms/step - loss: 0.1237 - acc: 0.9515 - val_loss: 2.9935 - val_acc: 0.5956\n",
            "Epoch 43/100\n",
            "261/261 [==============================] - 3s 10ms/step - loss: 0.1346 - acc: 0.9469 - val_loss: 2.9454 - val_acc: 0.5972\n",
            "Epoch 44/100\n",
            "261/261 [==============================] - 3s 10ms/step - loss: 0.1249 - acc: 0.9503 - val_loss: 2.5903 - val_acc: 0.6020\n",
            "Epoch 45/100\n",
            "261/261 [==============================] - 3s 10ms/step - loss: 0.1288 - acc: 0.9494 - val_loss: 2.9207 - val_acc: 0.5875\n",
            "Epoch 46/100\n",
            "261/261 [==============================] - 3s 10ms/step - loss: 0.1129 - acc: 0.9572 - val_loss: 3.1396 - val_acc: 0.5891\n",
            "Epoch 47/100\n",
            "261/261 [==============================] - 3s 10ms/step - loss: 0.1215 - acc: 0.9529 - val_loss: 2.7742 - val_acc: 0.6047\n",
            "Epoch 48/100\n",
            "261/261 [==============================] - 3s 10ms/step - loss: 0.1176 - acc: 0.9552 - val_loss: 3.1177 - val_acc: 0.5859\n",
            "Epoch 49/100\n",
            "261/261 [==============================] - 3s 10ms/step - loss: 0.1089 - acc: 0.9582 - val_loss: 2.9408 - val_acc: 0.5950\n",
            "Epoch 50/100\n",
            "25/30 [========================>.....] - ETA: 0s - loss: 0.0970 - acc: 0.9594\n",
            "Epoch 00050: saving model to model1/cp.ckpt\n",
            "261/261 [==============================] - 3s 11ms/step - loss: 0.1159 - acc: 0.9551 - val_loss: 2.8247 - val_acc: 0.5859\n",
            "Epoch 51/100\n",
            "261/261 [==============================] - 3s 11ms/step - loss: 0.1118 - acc: 0.9593 - val_loss: 2.9232 - val_acc: 0.5950\n",
            "Epoch 52/100\n",
            "261/261 [==============================] - 3s 11ms/step - loss: 0.0915 - acc: 0.9661 - val_loss: 2.8725 - val_acc: 0.5961\n",
            "Epoch 53/100\n",
            "261/261 [==============================] - 3s 10ms/step - loss: 0.0938 - acc: 0.9646 - val_loss: 2.9790 - val_acc: 0.5961\n",
            "Epoch 54/100\n",
            "261/261 [==============================] - 3s 10ms/step - loss: 0.0878 - acc: 0.9679 - val_loss: 3.0827 - val_acc: 0.6101\n",
            "Epoch 55/100\n",
            "261/261 [==============================] - 3s 10ms/step - loss: 0.1089 - acc: 0.9604 - val_loss: 2.9395 - val_acc: 0.5907\n",
            "Epoch 56/100\n",
            "261/261 [==============================] - 3s 10ms/step - loss: 0.0856 - acc: 0.9688 - val_loss: 2.9810 - val_acc: 0.5983\n",
            "Epoch 57/100\n",
            "261/261 [==============================] - 3s 11ms/step - loss: 0.0768 - acc: 0.9726 - val_loss: 3.3547 - val_acc: 0.6107\n",
            "Epoch 58/100\n",
            "261/261 [==============================] - 3s 10ms/step - loss: 0.0912 - acc: 0.9669 - val_loss: 3.1293 - val_acc: 0.5891\n",
            "Epoch 59/100\n",
            "261/261 [==============================] - 3s 10ms/step - loss: 0.1004 - acc: 0.9649 - val_loss: 3.0579 - val_acc: 0.5897\n",
            "Epoch 60/100\n",
            "261/261 [==============================] - 3s 10ms/step - loss: 0.0881 - acc: 0.9679 - val_loss: 3.0330 - val_acc: 0.6053\n",
            "Epoch 61/100\n",
            "261/261 [==============================] - 3s 10ms/step - loss: 0.0842 - acc: 0.9697 - val_loss: 2.9352 - val_acc: 0.6107\n",
            "Epoch 62/100\n",
            "261/261 [==============================] - 3s 10ms/step - loss: 0.0650 - acc: 0.9774 - val_loss: 3.0403 - val_acc: 0.6134\n",
            "Epoch 63/100\n",
            "261/261 [==============================] - 3s 10ms/step - loss: 0.0579 - acc: 0.9786 - val_loss: 3.2075 - val_acc: 0.6128\n",
            "Epoch 64/100\n",
            "261/261 [==============================] - 3s 10ms/step - loss: 0.0756 - acc: 0.9717 - val_loss: 3.0226 - val_acc: 0.6037\n",
            "Epoch 65/100\n",
            "261/261 [==============================] - 3s 10ms/step - loss: 0.0818 - acc: 0.9689 - val_loss: 2.8944 - val_acc: 0.5870\n",
            "Epoch 66/100\n",
            "261/261 [==============================] - 3s 10ms/step - loss: 0.0867 - acc: 0.9676 - val_loss: 2.9095 - val_acc: 0.6080\n",
            "Epoch 67/100\n",
            "261/261 [==============================] - 3s 10ms/step - loss: 0.0782 - acc: 0.9740 - val_loss: 2.9270 - val_acc: 0.5988\n",
            "Epoch 68/100\n",
            "261/261 [==============================] - 3s 10ms/step - loss: 0.0828 - acc: 0.9696 - val_loss: 2.6883 - val_acc: 0.6112\n",
            "Epoch 69/100\n",
            "261/261 [==============================] - 3s 11ms/step - loss: 0.0676 - acc: 0.9767 - val_loss: 3.1530 - val_acc: 0.6026\n",
            "Epoch 70/100\n",
            "261/261 [==============================] - 3s 10ms/step - loss: 0.0543 - acc: 0.9807 - val_loss: 3.2254 - val_acc: 0.5994\n",
            "Epoch 71/100\n",
            "261/261 [==============================] - 3s 10ms/step - loss: 0.0570 - acc: 0.9790 - val_loss: 3.1184 - val_acc: 0.5956\n",
            "Epoch 72/100\n",
            "261/261 [==============================] - 3s 10ms/step - loss: 0.0633 - acc: 0.9774 - val_loss: 3.1642 - val_acc: 0.5977\n",
            "Epoch 73/100\n",
            "261/261 [==============================] - 3s 10ms/step - loss: 0.0732 - acc: 0.9737 - val_loss: 2.9608 - val_acc: 0.6047\n",
            "Epoch 74/100\n",
            "261/261 [==============================] - 3s 10ms/step - loss: 0.0743 - acc: 0.9726 - val_loss: 3.0107 - val_acc: 0.6037\n",
            "Epoch 75/100\n",
            "261/261 [==============================] - 3s 10ms/step - loss: 0.0678 - acc: 0.9772 - val_loss: 3.1991 - val_acc: 0.5902\n",
            "Epoch 76/100\n",
            "261/261 [==============================] - 3s 10ms/step - loss: 0.0796 - acc: 0.9711 - val_loss: 2.7744 - val_acc: 0.6064\n",
            "Epoch 77/100\n",
            "261/261 [==============================] - 3s 10ms/step - loss: 0.0583 - acc: 0.9807 - val_loss: 3.0133 - val_acc: 0.5988\n",
            "Epoch 78/100\n",
            "261/261 [==============================] - 3s 10ms/step - loss: 0.0590 - acc: 0.9801 - val_loss: 3.1975 - val_acc: 0.6107\n",
            "Epoch 79/100\n",
            "261/261 [==============================] - 3s 10ms/step - loss: 0.0685 - acc: 0.9765 - val_loss: 2.9719 - val_acc: 0.5977\n",
            "Epoch 80/100\n",
            "261/261 [==============================] - 3s 10ms/step - loss: 0.0582 - acc: 0.9792 - val_loss: 3.0232 - val_acc: 0.5929\n",
            "Epoch 81/100\n",
            "261/261 [==============================] - 3s 10ms/step - loss: 0.0759 - acc: 0.9737 - val_loss: 2.8021 - val_acc: 0.5891\n",
            "Epoch 82/100\n",
            "261/261 [==============================] - 3s 10ms/step - loss: 0.0493 - acc: 0.9831 - val_loss: 3.0323 - val_acc: 0.6053\n",
            "Epoch 83/100\n",
            "261/261 [==============================] - 3s 10ms/step - loss: 0.0646 - acc: 0.9775 - val_loss: 2.8416 - val_acc: 0.6058\n",
            "Epoch 84/100\n",
            "261/261 [==============================] - 3s 10ms/step - loss: 0.0626 - acc: 0.9787 - val_loss: 2.9108 - val_acc: 0.6010\n",
            "Epoch 85/100\n",
            "261/261 [==============================] - 3s 10ms/step - loss: 0.0512 - acc: 0.9831 - val_loss: 2.9502 - val_acc: 0.5961\n",
            "Epoch 86/100\n",
            "261/261 [==============================] - 3s 10ms/step - loss: 0.0496 - acc: 0.9830 - val_loss: 2.9912 - val_acc: 0.5983\n",
            "Epoch 87/100\n",
            "261/261 [==============================] - 3s 10ms/step - loss: 0.0514 - acc: 0.9829 - val_loss: 2.9783 - val_acc: 0.6090\n",
            "Epoch 88/100\n",
            "261/261 [==============================] - 3s 10ms/step - loss: 0.0373 - acc: 0.9872 - val_loss: 3.1638 - val_acc: 0.6004\n",
            "Epoch 89/100\n",
            "261/261 [==============================] - 3s 10ms/step - loss: 0.0759 - acc: 0.9742 - val_loss: 2.9878 - val_acc: 0.5832\n",
            "Epoch 90/100\n",
            "261/261 [==============================] - 3s 10ms/step - loss: 0.0633 - acc: 0.9777 - val_loss: 2.9400 - val_acc: 0.5789\n",
            "Epoch 91/100\n",
            "261/261 [==============================] - 3s 10ms/step - loss: 0.0704 - acc: 0.9780 - val_loss: 2.7220 - val_acc: 0.5988\n",
            "Epoch 92/100\n",
            "261/261 [==============================] - 3s 10ms/step - loss: 0.0549 - acc: 0.9823 - val_loss: 2.8413 - val_acc: 0.5913\n",
            "Epoch 93/100\n",
            "261/261 [==============================] - 3s 11ms/step - loss: 0.0346 - acc: 0.9887 - val_loss: 3.0655 - val_acc: 0.5902\n",
            "Epoch 94/100\n",
            "261/261 [==============================] - 3s 11ms/step - loss: 0.0273 - acc: 0.9919 - val_loss: 3.1860 - val_acc: 0.5816\n",
            "Epoch 95/100\n",
            "261/261 [==============================] - 3s 10ms/step - loss: 0.0507 - acc: 0.9826 - val_loss: 3.0603 - val_acc: 0.5837\n",
            "Epoch 96/100\n",
            "261/261 [==============================] - 3s 10ms/step - loss: 0.0775 - acc: 0.9749 - val_loss: 2.9378 - val_acc: 0.5891\n",
            "Epoch 97/100\n",
            "261/261 [==============================] - 3s 10ms/step - loss: 0.0555 - acc: 0.9807 - val_loss: 2.7655 - val_acc: 0.5859\n",
            "Epoch 98/100\n",
            "261/261 [==============================] - 3s 10ms/step - loss: 0.0417 - acc: 0.9864 - val_loss: 3.0145 - val_acc: 0.5757\n",
            "Epoch 99/100\n",
            "261/261 [==============================] - 3s 10ms/step - loss: 0.0466 - acc: 0.9859 - val_loss: 3.0466 - val_acc: 0.5929\n",
            "Epoch 100/100\n",
            "24/30 [=======================>......] - ETA: 0s - loss: 0.0416 - acc: 0.9876\n",
            "Epoch 00100: saving model to model1/cp.ckpt\n",
            "261/261 [==============================] - 3s 10ms/step - loss: 0.0464 - acc: 0.9844 - val_loss: 2.9913 - val_acc: 0.5827\n"
          ],
          "name": "stdout"
        },
        {
          "output_type": "execute_result",
          "data": {
            "text/plain": [
              "<tensorflow.python.keras.callbacks.History at 0x7fe62898ceb8>"
            ]
          },
          "metadata": {
            "tags": []
          },
          "execution_count": 33
        }
      ]
    },
    {
      "cell_type": "code",
      "metadata": {
        "id": "OW7sKfyJSCV5",
        "colab_type": "code",
        "outputId": "286f007e-4e3c-490d-b3d7-a0c29cd40ea1",
        "colab": {
          "base_uri": "https://localhost:8080/",
          "height": 92
        }
      },
      "source": [
        "test_loss, test_accuracy = model.evaluate(test_data)\n",
        "\n",
        "print('\\n\\nTest Loss {}, Test Accuracy {}'.format(test_loss, test_accuracy))"
      ],
      "execution_count": 0,
      "outputs": [
        {
          "output_type": "stream",
          "text": [
            "73/73 [==============================] - 1s 9ms/step - loss: 3.0570 - acc: 0.5798\n",
            "\n",
            "\n",
            "Test Loss 3.057044955149089, Test Accuracy 0.5798319578170776\n"
          ],
          "name": "stdout"
        }
      ]
    },
    {
      "cell_type": "code",
      "metadata": {
        "id": "r7UuI3RlSIyk",
        "colab_type": "code",
        "colab": {}
      },
      "source": [
        "model.add(tf.keras.layers.Dropout(0.3))\n",
        "train_data.shuffle(30000)"
      ],
      "execution_count": 0,
      "outputs": []
    }
  ]
}