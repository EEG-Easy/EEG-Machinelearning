{
  "nbformat": 4,
  "nbformat_minor": 0,
  "metadata": {
    "colab": {
      "name": "P300Tensor",
      "provenance": [],
      "collapsed_sections": []
    },
    "kernelspec": {
      "name": "python3",
      "display_name": "Python 3"
    },
    "accelerator": "TPU"
  },
  "cells": [
    {
      "cell_type": "code",
      "metadata": {
        "id": "d4FPvqGLjcRY",
        "colab_type": "code",
        "colab": {}
      },
      "source": [
        "from __future__ import absolute_import, division, print_function, unicode_literals\n",
        "import functools\n",
        "\n",
        "import numpy as np\n",
        "from sklearn.model_selection import train_test_split\n",
        "import tensorflow as tf\n",
        "tf.enable_eager_execution()"
      ],
      "execution_count": 0,
      "outputs": []
    },
    {
      "cell_type": "code",
      "metadata": {
        "id": "gd8WGQoIjhTA",
        "colab_type": "code",
        "colab": {
          "base_uri": "https://localhost:8080/",
          "height": 36
        },
        "outputId": "0c8a21a3-f026-4881-ee1a-0e512a15acd2"
      },
      "source": [
        "from google.colab import drive\n",
        "\n",
        "drive.mount('/content/gdrive')"
      ],
      "execution_count": 2,
      "outputs": [
        {
          "output_type": "stream",
          "text": [
            "Drive already mounted at /content/gdrive; to attempt to forcibly remount, call drive.mount(\"/content/gdrive\", force_remount=True).\n"
          ],
          "name": "stdout"
        }
      ]
    },
    {
      "cell_type": "code",
      "metadata": {
        "id": "hErDMaQfjp_I",
        "colab_type": "code",
        "colab": {
          "base_uri": "https://localhost:8080/",
          "height": 36
        },
        "outputId": "981a3a47-19f6-4fac-c0cc-0204e2b82a67"
      },
      "source": [
        "cd /content/gdrive/My Drive/eeg"
      ],
      "execution_count": 3,
      "outputs": [
        {
          "output_type": "stream",
          "text": [
            "/content/gdrive/My Drive/eeg\n"
          ],
          "name": "stdout"
        }
      ]
    },
    {
      "cell_type": "code",
      "metadata": {
        "id": "9FmIJEHljslF",
        "colab_type": "code",
        "colab": {
          "base_uri": "https://localhost:8080/",
          "height": 93
        },
        "outputId": "2a6e8e4d-f5e8-4168-93c8-7d9d150f9c47"
      },
      "source": [
        "LABEL_COLUMN = 'group'\n",
        "LABELS = [0, 1]\n",
        "\n",
        "CSV_COLUMNS = ['condition','group', 'F1_P300', 'FC3_P300', 'FC1_P300', 'AFz_P300', 'Fz_P300', 'F2_P300', 'FCz_P300']\n",
        "\n",
        "def get_dataset(file_path, **kwargs):\n",
        "  dataset = tf.data.experimental.make_csv_dataset(\n",
        "      file_path,\n",
        "      batch_size=5, # Artificially small to make examples easier to show.\n",
        "      label_name=LABEL_COLUMN,\n",
        "      na_value=\"?\",\n",
        "      num_epochs=1,\n",
        "      ignore_errors=True, \n",
        "      **kwargs)\n",
        "  return dataset\n",
        "\n",
        "temp_dataset = get_dataset('P300.csv', select_columns=CSV_COLUMNS)"
      ],
      "execution_count": 4,
      "outputs": [
        {
          "output_type": "stream",
          "text": [
            "WARNING:tensorflow:From /usr/local/lib/python3.6/dist-packages/tensorflow_core/python/data/experimental/ops/readers.py:540: parallel_interleave (from tensorflow.python.data.experimental.ops.interleave_ops) is deprecated and will be removed in a future version.\n",
            "Instructions for updating:\n",
            "Use `tf.data.Dataset.interleave(map_func, cycle_length, block_length, num_parallel_calls=tf.data.experimental.AUTOTUNE)` instead. If sloppy execution is desired, use `tf.data.Options.experimental_determinstic`.\n"
          ],
          "name": "stdout"
        }
      ]
    },
    {
      "cell_type": "code",
      "metadata": {
        "id": "fFhWw6tSjzBN",
        "colab_type": "code",
        "colab": {}
      },
      "source": [
        "def pack(features, label):\n",
        "  return tf.stack(list(features.values()), axis=-1), label"
      ],
      "execution_count": 0,
      "outputs": []
    },
    {
      "cell_type": "code",
      "metadata": {
        "id": "KmjbL2nwj6DB",
        "colab_type": "code",
        "colab": {}
      },
      "source": [
        "class PackNumericFeatures(object):\n",
        "  def __init__(self, names):\n",
        "    self.names = names\n",
        "\n",
        "  def __call__(self, features, labels):\n",
        "    numeric_features = [features.pop(name) for name in self.names]\n",
        "    numeric_features = [tf.cast(feat, tf.float32) for feat in numeric_features]\n",
        "    numeric_features = tf.stack(numeric_features, axis=-1)\n",
        "    features['numeric'] = numeric_features\n",
        "\n",
        "    return features, labels"
      ],
      "execution_count": 0,
      "outputs": []
    },
    {
      "cell_type": "code",
      "metadata": {
        "id": "H5I1mY-HzO-y",
        "colab_type": "code",
        "colab": {}
      },
      "source": [
        "NUMERIC_FEATURES = ['F1_P300', 'FC3_P300', 'FC1_P300', 'AFz_P300', 'Fz_P300', 'F2_P300', 'FCz_P300']\n",
        "\n",
        "packed_data = temp_dataset.map(\n",
        "    PackNumericFeatures(NUMERIC_FEATURES))"
      ],
      "execution_count": 0,
      "outputs": []
    },
    {
      "cell_type": "code",
      "metadata": {
        "id": "FvytIFhIj_Uj",
        "colab_type": "code",
        "colab": {
          "base_uri": "https://localhost:8080/",
          "height": 294
        },
        "outputId": "b5dbb463-6ab4-4139-97ff-7880cc194bad"
      },
      "source": [
        "import pandas as pd\n",
        "desc = pd.read_csv('P300.csv')[NUMERIC_FEATURES].describe()\n",
        "desc"
      ],
      "execution_count": 8,
      "outputs": [
        {
          "output_type": "execute_result",
          "data": {
            "text/html": [
              "<div>\n",
              "<style scoped>\n",
              "    .dataframe tbody tr th:only-of-type {\n",
              "        vertical-align: middle;\n",
              "    }\n",
              "\n",
              "    .dataframe tbody tr th {\n",
              "        vertical-align: top;\n",
              "    }\n",
              "\n",
              "    .dataframe thead th {\n",
              "        text-align: right;\n",
              "    }\n",
              "</style>\n",
              "<table border=\"1\" class=\"dataframe\">\n",
              "  <thead>\n",
              "    <tr style=\"text-align: right;\">\n",
              "      <th></th>\n",
              "      <th>F1_P300</th>\n",
              "      <th>FC3_P300</th>\n",
              "      <th>FC1_P300</th>\n",
              "      <th>AFz_P300</th>\n",
              "      <th>Fz_P300</th>\n",
              "      <th>F2_P300</th>\n",
              "      <th>FCz_P300</th>\n",
              "    </tr>\n",
              "  </thead>\n",
              "  <tbody>\n",
              "    <tr>\n",
              "      <th>count</th>\n",
              "      <td>23201.000000</td>\n",
              "      <td>23201.000000</td>\n",
              "      <td>23201.000000</td>\n",
              "      <td>23201.000000</td>\n",
              "      <td>23201.000000</td>\n",
              "      <td>23201.000000</td>\n",
              "      <td>23201.000000</td>\n",
              "    </tr>\n",
              "    <tr>\n",
              "      <th>mean</th>\n",
              "      <td>19.722599</td>\n",
              "      <td>18.564421</td>\n",
              "      <td>19.582112</td>\n",
              "      <td>20.168327</td>\n",
              "      <td>19.900291</td>\n",
              "      <td>19.858939</td>\n",
              "      <td>20.044320</td>\n",
              "    </tr>\n",
              "    <tr>\n",
              "      <th>std</th>\n",
              "      <td>18.002531</td>\n",
              "      <td>15.529080</td>\n",
              "      <td>15.462320</td>\n",
              "      <td>23.876658</td>\n",
              "      <td>18.482256</td>\n",
              "      <td>18.600639</td>\n",
              "      <td>15.257639</td>\n",
              "    </tr>\n",
              "    <tr>\n",
              "      <th>min</th>\n",
              "      <td>-119.649000</td>\n",
              "      <td>-87.207500</td>\n",
              "      <td>-77.728000</td>\n",
              "      <td>-142.750100</td>\n",
              "      <td>-100.263600</td>\n",
              "      <td>-104.256000</td>\n",
              "      <td>-78.394800</td>\n",
              "    </tr>\n",
              "    <tr>\n",
              "      <th>25%</th>\n",
              "      <td>9.915700</td>\n",
              "      <td>9.835500</td>\n",
              "      <td>10.551400</td>\n",
              "      <td>9.224200</td>\n",
              "      <td>9.959800</td>\n",
              "      <td>9.995100</td>\n",
              "      <td>10.826100</td>\n",
              "    </tr>\n",
              "    <tr>\n",
              "      <th>50%</th>\n",
              "      <td>17.040000</td>\n",
              "      <td>16.424000</td>\n",
              "      <td>17.647100</td>\n",
              "      <td>16.134000</td>\n",
              "      <td>17.293200</td>\n",
              "      <td>17.018100</td>\n",
              "      <td>18.199700</td>\n",
              "    </tr>\n",
              "    <tr>\n",
              "      <th>75%</th>\n",
              "      <td>25.739100</td>\n",
              "      <td>24.372600</td>\n",
              "      <td>25.947700</td>\n",
              "      <td>24.895200</td>\n",
              "      <td>26.063100</td>\n",
              "      <td>25.670200</td>\n",
              "      <td>26.756300</td>\n",
              "    </tr>\n",
              "    <tr>\n",
              "      <th>max</th>\n",
              "      <td>298.626800</td>\n",
              "      <td>314.085100</td>\n",
              "      <td>392.577000</td>\n",
              "      <td>418.276700</td>\n",
              "      <td>302.859700</td>\n",
              "      <td>278.659200</td>\n",
              "      <td>236.622000</td>\n",
              "    </tr>\n",
              "  </tbody>\n",
              "</table>\n",
              "</div>"
            ],
            "text/plain": [
              "            F1_P300      FC3_P300  ...       F2_P300      FCz_P300\n",
              "count  23201.000000  23201.000000  ...  23201.000000  23201.000000\n",
              "mean      19.722599     18.564421  ...     19.858939     20.044320\n",
              "std       18.002531     15.529080  ...     18.600639     15.257639\n",
              "min     -119.649000    -87.207500  ...   -104.256000    -78.394800\n",
              "25%        9.915700      9.835500  ...      9.995100     10.826100\n",
              "50%       17.040000     16.424000  ...     17.018100     18.199700\n",
              "75%       25.739100     24.372600  ...     25.670200     26.756300\n",
              "max      298.626800    314.085100  ...    278.659200    236.622000\n",
              "\n",
              "[8 rows x 7 columns]"
            ]
          },
          "metadata": {
            "tags": []
          },
          "execution_count": 8
        }
      ]
    },
    {
      "cell_type": "code",
      "metadata": {
        "id": "kELBXZsF0NIi",
        "colab_type": "code",
        "colab": {}
      },
      "source": [
        "MEAN = np.array(desc.T['mean'])\n",
        "STD = np.array(desc.T['std'])"
      ],
      "execution_count": 0,
      "outputs": []
    },
    {
      "cell_type": "code",
      "metadata": {
        "id": "gNLZonWz0Tzc",
        "colab_type": "code",
        "colab": {}
      },
      "source": [
        "def normalize_numeric_data(data, mean, std):\n",
        "  # Center the data\n",
        "  return (data-mean)/std\n"
      ],
      "execution_count": 0,
      "outputs": []
    },
    {
      "cell_type": "code",
      "metadata": {
        "id": "tf4ZyzwL0V8v",
        "colab_type": "code",
        "colab": {
          "base_uri": "https://localhost:8080/",
          "height": 93
        },
        "outputId": "9ab0e08d-0401-4750-bf9c-b7e6fc63e4d4"
      },
      "source": [
        "normalizer = functools.partial(normalize_numeric_data, mean=MEAN, std=STD)\n",
        "\n",
        "numeric_column = tf.feature_column.numeric_column('numeric', normalizer_fn=normalizer, shape=[len(NUMERIC_FEATURES)])\n",
        "numeric_columns = [numeric_column]\n",
        "numeric_column"
      ],
      "execution_count": 11,
      "outputs": [
        {
          "output_type": "execute_result",
          "data": {
            "text/plain": [
              "NumericColumn(key='numeric', shape=(7,), default_value=None, dtype=tf.float32, normalizer_fn=functools.partial(<function normalize_numeric_data at 0x7f4d94ec8b70>, mean=array([19.72259939, 18.56442063, 19.58211167, 20.16832704, 19.90029093,\n",
              "       19.85893852, 20.04432009]), std=array([18.00253096, 15.52908046, 15.4623197 , 23.87665776, 18.48225643,\n",
              "       18.60063883, 15.25763941])))"
            ]
          },
          "metadata": {
            "tags": []
          },
          "execution_count": 11
        }
      ]
    },
    {
      "cell_type": "code",
      "metadata": {
        "id": "bLHovp-M0rET",
        "colab_type": "code",
        "colab": {
          "base_uri": "https://localhost:8080/",
          "height": 148
        },
        "outputId": "c72817fc-4fdd-4e2e-c663-fa733fd8b5d5"
      },
      "source": [
        "example_batch, labels_batch = next(iter(packed_data)) \n",
        "example_batch['numeric']"
      ],
      "execution_count": 12,
      "outputs": [
        {
          "output_type": "execute_result",
          "data": {
            "text/plain": [
              "<tf.Tensor: id=96, shape=(5, 7), dtype=float32, numpy=\n",
              "array([[24.0825, 18.3535, 30.2719, 47.655 , 19.7046, 29.1978, 17.8254],\n",
              "       [35.929 , 33.9416, 32.2931, 24.8124, 31.2819, 24.8625, 41.3216],\n",
              "       [ 1.5433, 14.4786,  8.0098,  8.4749, 14.2307, 10.4456, 12.1196],\n",
              "       [28.1762, 28.0287, 27.9261, 26.0855, 31.5575, 31.9241, 36.2192],\n",
              "       [ 9.2698,  6.5928,  2.2152,  1.5559,  5.4011,  8.1458,  3.6442]],\n",
              "      dtype=float32)>"
            ]
          },
          "metadata": {
            "tags": []
          },
          "execution_count": 12
        }
      ]
    },
    {
      "cell_type": "code",
      "metadata": {
        "id": "T8aPePy-0egH",
        "colab_type": "code",
        "colab": {
          "base_uri": "https://localhost:8080/",
          "height": 204
        },
        "outputId": "bc0aecf9-c217-47fe-f05f-2ab05d2884eb"
      },
      "source": [
        "numeric_layer = tf.keras.layers.DenseFeatures(numeric_columns)\n",
        "numeric_layer(example_batch).numpy()"
      ],
      "execution_count": 13,
      "outputs": [
        {
          "output_type": "execute_result",
          "data": {
            "text/plain": [
              "array([[ 0.24218269, -0.01358228,  0.69134444,  1.1511943 , -0.0105881 ,\n",
              "         0.5020721 , -0.14543007],\n",
              "       [ 0.9002291 ,  0.99021834,  0.82206213,  0.19450267,  0.6158128 ,\n",
              "         0.2689994 ,  1.394533  ],\n",
              "       [-1.009819  , -0.26310775, -0.7484202 , -0.48974305, -0.30675864,\n",
              "        -0.5060761 , -0.5193935 ],\n",
              "       [ 0.4695785 ,  0.6094552 ,  0.5396337 ,  0.24782252,  0.6307244 ,\n",
              "         0.64864236,  1.0601169 ],\n",
              "       [-0.5806294 , -0.7709163 , -1.1231763 , -0.77952397, -0.7844925 ,\n",
              "        -0.629717  , -1.0748792 ]], dtype=float32)"
            ]
          },
          "metadata": {
            "tags": []
          },
          "execution_count": 13
        }
      ]
    },
    {
      "cell_type": "code",
      "metadata": {
        "id": "zGhB6uk6340G",
        "colab_type": "code",
        "colab": {}
      },
      "source": [
        "CATEGORIES = {'condition': [1, 2, 3]}"
      ],
      "execution_count": 0,
      "outputs": []
    },
    {
      "cell_type": "code",
      "metadata": {
        "id": "KBbfXidU4KA9",
        "colab_type": "code",
        "colab": {}
      },
      "source": [
        "categorical_columns = []\n",
        "for feature, vocab in CATEGORIES.items():\n",
        "  cat_col = tf.feature_column.categorical_column_with_vocabulary_list(\n",
        "        key=feature, vocabulary_list=vocab)\n",
        "  categorical_columns.append(tf.feature_column.indicator_column(cat_col))"
      ],
      "execution_count": 0,
      "outputs": []
    },
    {
      "cell_type": "code",
      "metadata": {
        "id": "xkXWLtoF4OAs",
        "colab_type": "code",
        "colab": {
          "base_uri": "https://localhost:8080/",
          "height": 168
        },
        "outputId": "9af0f397-1712-4359-c67b-bd95cea1221f"
      },
      "source": [
        "categorical_layer = tf.keras.layers.DenseFeatures(categorical_columns)\n",
        "print(categorical_layer(example_batch).numpy()[0])"
      ],
      "execution_count": 16,
      "outputs": [
        {
          "output_type": "stream",
          "text": [
            "WARNING:tensorflow:From /usr/local/lib/python3.6/dist-packages/tensorflow_core/python/feature_column/feature_column_v2.py:4271: IndicatorColumn._variable_shape (from tensorflow.python.feature_column.feature_column_v2) is deprecated and will be removed in a future version.\n",
            "Instructions for updating:\n",
            "The old _FeatureColumn APIs are being deprecated. Please use the new FeatureColumn APIs instead.\n",
            "WARNING:tensorflow:From /usr/local/lib/python3.6/dist-packages/tensorflow_core/python/feature_column/feature_column_v2.py:4326: VocabularyListCategoricalColumn._num_buckets (from tensorflow.python.feature_column.feature_column_v2) is deprecated and will be removed in a future version.\n",
            "Instructions for updating:\n",
            "The old _FeatureColumn APIs are being deprecated. Please use the new FeatureColumn APIs instead.\n",
            "[0. 0. 1.]\n"
          ],
          "name": "stdout"
        }
      ]
    },
    {
      "cell_type": "code",
      "metadata": {
        "id": "3x7mhBDA4UZ4",
        "colab_type": "code",
        "colab": {}
      },
      "source": [
        "preprocessing_layer = tf.keras.layers.DenseFeatures(categorical_columns+numeric_columns)"
      ],
      "execution_count": 0,
      "outputs": []
    },
    {
      "cell_type": "code",
      "metadata": {
        "id": "ITrPfJ2M4Xrm",
        "colab_type": "code",
        "colab": {}
      },
      "source": [
        "model = tf.keras.Sequential([\n",
        "  preprocessing_layer,\n",
        "  tf.keras.layers.Dense(256, activation='relu'),\n",
        "  tf.keras.layers.Dense(256, activation='relu'),\n",
        "  tf.keras.layers.Dense(256, activation='relu'),\n",
        "  tf.keras.layers.Dense(256, activation='relu'),\n",
        "  tf.keras.layers.Dense(1, activation='sigmoid'),\n",
        "])\n",
        "\n",
        "model.compile(\n",
        "    loss='binary_crossentropy',\n",
        "    optimizer='adam',\n",
        "    metrics=['accuracy'])"
      ],
      "execution_count": 0,
      "outputs": []
    },
    {
      "cell_type": "code",
      "metadata": {
        "id": "NTArxYhim5J_",
        "colab_type": "code",
        "colab": {}
      },
      "source": [
        "train_data = packed_data.shuffle(8000)\n",
        "test_data = packed_data.shuffle(200)"
      ],
      "execution_count": 0,
      "outputs": []
    },
    {
      "cell_type": "code",
      "metadata": {
        "id": "sGDkwMY5m9uE",
        "colab_type": "code",
        "colab": {
          "base_uri": "https://localhost:8080/",
          "height": 859
        },
        "outputId": "093b78d0-ac7e-4f39-c86f-87b3211fbe27"
      },
      "source": [
        "model.fit(train_data, epochs=20)"
      ],
      "execution_count": 22,
      "outputs": [
        {
          "output_type": "stream",
          "text": [
            "Epoch 1/20\n",
            "WARNING:tensorflow:From /usr/local/lib/python3.6/dist-packages/tensorflow_core/python/ops/nn_impl.py:183: where (from tensorflow.python.ops.array_ops) is deprecated and will be removed in a future version.\n",
            "Instructions for updating:\n",
            "Use tf.where in 2.0, which has the same broadcast rule as np.where\n",
            "4641/4641 [==============================] - 33s 7ms/step - loss: 0.6732 - acc: 0.6025\n",
            "Epoch 2/20\n",
            "4641/4641 [==============================] - 18s 4ms/step - loss: 0.6681 - acc: 0.6032\n",
            "Epoch 3/20\n",
            "4641/4641 [==============================] - 17s 4ms/step - loss: 0.6643 - acc: 0.6067\n",
            "Epoch 4/20\n",
            "4641/4641 [==============================] - 17s 4ms/step - loss: 0.6625 - acc: 0.6083\n",
            "Epoch 5/20\n",
            "4641/4641 [==============================] - 18s 4ms/step - loss: 0.6593 - acc: 0.6126\n",
            "Epoch 6/20\n",
            "4641/4641 [==============================] - 18s 4ms/step - loss: 0.6568 - acc: 0.6144\n",
            "Epoch 7/20\n",
            "4641/4641 [==============================] - 18s 4ms/step - loss: 0.6544 - acc: 0.6168\n",
            "Epoch 8/20\n",
            "4641/4641 [==============================] - 18s 4ms/step - loss: 0.6525 - acc: 0.6200\n",
            "Epoch 9/20\n",
            "4641/4641 [==============================] - 17s 4ms/step - loss: 0.6507 - acc: 0.6200\n",
            "Epoch 10/20\n",
            "4641/4641 [==============================] - 17s 4ms/step - loss: 0.6487 - acc: 0.6212\n",
            "Epoch 11/20\n",
            "4641/4641 [==============================] - 17s 4ms/step - loss: 0.6465 - acc: 0.6235\n",
            "Epoch 12/20\n",
            "4641/4641 [==============================] - 17s 4ms/step - loss: 0.6454 - acc: 0.6248\n",
            "Epoch 13/20\n",
            "4641/4641 [==============================] - 18s 4ms/step - loss: 0.6423 - acc: 0.6252\n",
            "Epoch 14/20\n",
            "4641/4641 [==============================] - 18s 4ms/step - loss: 0.6398 - acc: 0.6279\n",
            "Epoch 15/20\n",
            "4641/4641 [==============================] - 19s 4ms/step - loss: 0.6403 - acc: 0.6274\n",
            "Epoch 16/20\n",
            "4641/4641 [==============================] - 19s 4ms/step - loss: 0.6360 - acc: 0.6296\n",
            "Epoch 17/20\n",
            "4641/4641 [==============================] - 18s 4ms/step - loss: 0.6374 - acc: 0.6332\n",
            "Epoch 18/20\n",
            "4641/4641 [==============================] - 18s 4ms/step - loss: 0.6321 - acc: 0.6356\n",
            "Epoch 19/20\n",
            "4641/4641 [==============================] - 19s 4ms/step - loss: 0.6329 - acc: 0.6374\n",
            "Epoch 20/20\n",
            "4641/4641 [==============================] - 18s 4ms/step - loss: 0.6281 - acc: 0.6360\n"
          ],
          "name": "stdout"
        },
        {
          "output_type": "execute_result",
          "data": {
            "text/plain": [
              "<tensorflow.python.keras.callbacks.History at 0x7f4d94e08080>"
            ]
          },
          "metadata": {
            "tags": []
          },
          "execution_count": 22
        }
      ]
    },
    {
      "cell_type": "code",
      "metadata": {
        "id": "QsfUBokrkHhJ",
        "colab_type": "code",
        "colab": {
          "base_uri": "https://localhost:8080/",
          "height": 92
        },
        "outputId": "9fea50ea-ad73-4846-9caf-abe219191d0b"
      },
      "source": [
        "test_loss, test_accuracy = model.evaluate(test_data)\n",
        "\n",
        "print('\\n\\nTest Loss {}, Test Accuracy {}'.format(test_loss, test_accuracy))"
      ],
      "execution_count": 23,
      "outputs": [
        {
          "output_type": "stream",
          "text": [
            "4641/4641 [==============================] - 21s 4ms/step - loss: 0.6267 - acc: 0.6403\n",
            "\n",
            "\n",
            "Test Loss 0.626742870241654, Test Accuracy 0.6403172016143799\n"
          ],
          "name": "stdout"
        }
      ]
    },
    {
      "cell_type": "code",
      "metadata": {
        "id": "IDCieuvTpCw1",
        "colab_type": "code",
        "colab": {}
      },
      "source": [
        ""
      ],
      "execution_count": 0,
      "outputs": []
    }
  ]
}